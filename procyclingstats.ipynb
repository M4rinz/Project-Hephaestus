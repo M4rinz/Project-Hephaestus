{
 "cells": [
  {
   "cell_type": "markdown",
   "metadata": {},
   "source": [
    "# Uso di `procyclingstats`\n",
    "Notebook per provare a usare questo pacchetto. By Andrea"
   ]
  },
  {
   "cell_type": "markdown",
   "metadata": {},
   "source": [
    "## Autoreload\n",
    "\n",
    "Autoreload allows the notebook to dynamically load code: if we update some helper functions *outside* of the notebook, we do not need to reload the notebook."
   ]
  },
  {
   "cell_type": "code",
   "execution_count": 1,
   "metadata": {},
   "outputs": [],
   "source": [
    "%load_ext autoreload\n",
    "%autoreload 2"
   ]
  },
  {
   "cell_type": "markdown",
   "metadata": {},
   "source": [
    "## Imports"
   ]
  },
  {
   "cell_type": "code",
   "execution_count": 2,
   "metadata": {},
   "outputs": [],
   "source": [
    "import numpy as np\n",
    "import pandas as pd\n",
    "import matplotlib.pyplot as plt\n",
    "import seaborn as sns\n",
    "import tqdm\n",
    "\n",
    "import re\n",
    "\n",
    "# Import procyclingstats library\n",
    "import procyclingstats as pcs\n",
    "\n",
    "import os\n",
    "import sys\n",
    "sys.path.append('../dataset/')"
   ]
  },
  {
   "cell_type": "code",
   "execution_count": 3,
   "metadata": {},
   "outputs": [],
   "source": [
    "cyclist_df = pd.read_csv(os.path.join('dataset','cyclists.csv'))\n",
    "races_df = pd.read_csv(os.path.join('dataset','races.csv'))"
   ]
  },
  {
   "cell_type": "markdown",
   "metadata": {},
   "source": [
    "## Library usage"
   ]
  },
  {
   "cell_type": "markdown",
   "metadata": {},
   "source": [
    "Let's try to use the library"
   ]
  },
  {
   "cell_type": "markdown",
   "metadata": {},
   "source": [
    "### Cyclists"
   ]
  },
  {
   "cell_type": "code",
   "execution_count": 4,
   "metadata": {},
   "outputs": [
    {
     "data": {
      "text/html": [
       "<div>\n",
       "<style scoped>\n",
       "    .dataframe tbody tr th:only-of-type {\n",
       "        vertical-align: middle;\n",
       "    }\n",
       "\n",
       "    .dataframe tbody tr th {\n",
       "        vertical-align: top;\n",
       "    }\n",
       "\n",
       "    .dataframe thead th {\n",
       "        text-align: right;\n",
       "    }\n",
       "</style>\n",
       "<table border=\"1\" class=\"dataframe\">\n",
       "  <thead>\n",
       "    <tr style=\"text-align: right;\">\n",
       "      <th></th>\n",
       "      <th>_url</th>\n",
       "      <th>name</th>\n",
       "      <th>birth_year</th>\n",
       "      <th>weight</th>\n",
       "      <th>height</th>\n",
       "      <th>nationality</th>\n",
       "    </tr>\n",
       "  </thead>\n",
       "  <tbody>\n",
       "    <tr>\n",
       "      <th>0</th>\n",
       "      <td>bruno-surra</td>\n",
       "      <td>Bruno  Surra</td>\n",
       "      <td>1964.0</td>\n",
       "      <td>NaN</td>\n",
       "      <td>NaN</td>\n",
       "      <td>Italy</td>\n",
       "    </tr>\n",
       "    <tr>\n",
       "      <th>1</th>\n",
       "      <td>gerard-rue</td>\n",
       "      <td>Gérard  Rué</td>\n",
       "      <td>1965.0</td>\n",
       "      <td>74.0</td>\n",
       "      <td>182.0</td>\n",
       "      <td>France</td>\n",
       "    </tr>\n",
       "    <tr>\n",
       "      <th>2</th>\n",
       "      <td>jan-maas</td>\n",
       "      <td>Jan  Maas</td>\n",
       "      <td>1996.0</td>\n",
       "      <td>69.0</td>\n",
       "      <td>189.0</td>\n",
       "      <td>Netherlands</td>\n",
       "    </tr>\n",
       "    <tr>\n",
       "      <th>3</th>\n",
       "      <td>nathan-van-hooydonck</td>\n",
       "      <td>Nathan Van Hooydonck</td>\n",
       "      <td>1995.0</td>\n",
       "      <td>78.0</td>\n",
       "      <td>192.0</td>\n",
       "      <td>Belgium</td>\n",
       "    </tr>\n",
       "    <tr>\n",
       "      <th>4</th>\n",
       "      <td>jose-felix-parra</td>\n",
       "      <td>José Félix  Parra</td>\n",
       "      <td>1997.0</td>\n",
       "      <td>55.0</td>\n",
       "      <td>171.0</td>\n",
       "      <td>Spain</td>\n",
       "    </tr>\n",
       "  </tbody>\n",
       "</table>\n",
       "</div>"
      ],
      "text/plain": [
       "                   _url                  name  birth_year  weight  height  \\\n",
       "0           bruno-surra          Bruno  Surra      1964.0     NaN     NaN   \n",
       "1            gerard-rue           Gérard  Rué      1965.0    74.0   182.0   \n",
       "2              jan-maas             Jan  Maas      1996.0    69.0   189.0   \n",
       "3  nathan-van-hooydonck  Nathan Van Hooydonck      1995.0    78.0   192.0   \n",
       "4      jose-felix-parra     José Félix  Parra      1997.0    55.0   171.0   \n",
       "\n",
       "   nationality  \n",
       "0        Italy  \n",
       "1       France  \n",
       "2  Netherlands  \n",
       "3      Belgium  \n",
       "4        Spain  "
      ]
     },
     "execution_count": 4,
     "metadata": {},
     "output_type": "execute_result"
    }
   ],
   "source": [
    "cyclist_df.head()"
   ]
  },
  {
   "cell_type": "markdown",
   "metadata": {},
   "source": [
    "This is an example of an error that might occur when using the scraping tool"
   ]
  },
  {
   "cell_type": "code",
   "execution_count": 5,
   "metadata": {},
   "outputs": [
    {
     "ename": "AttributeError",
     "evalue": "'NoneType' object has no attribute 'text'",
     "output_type": "error",
     "traceback": [
      "\u001b[0;31m---------------------------------------------------------------------------\u001b[0m",
      "\u001b[0;31mAttributeError\u001b[0m                            Traceback (most recent call last)",
      "File \u001b[0;32m~/anaconda3/envs/DM-env/lib/python3.12/site-packages/procyclingstats/rider_scraper.py:95\u001b[0m, in \u001b[0;36mRider.height\u001b[0;34m(self)\u001b[0m\n\u001b[1;32m     94\u001b[0m     height_html \u001b[38;5;241m=\u001b[39m \u001b[38;5;28mself\u001b[39m\u001b[38;5;241m.\u001b[39mhtml\u001b[38;5;241m.\u001b[39mcss_first(\u001b[38;5;124m\"\u001b[39m\u001b[38;5;124m.rdr-info-cont > span > span\u001b[39m\u001b[38;5;124m\"\u001b[39m)\n\u001b[0;32m---> 95\u001b[0m     \u001b[38;5;28;01mreturn\u001b[39;00m \u001b[38;5;28mfloat\u001b[39m(\u001b[43mheight_html\u001b[49m\u001b[38;5;241;43m.\u001b[39;49m\u001b[43mtext\u001b[49m()\u001b[38;5;241m.\u001b[39msplit(\u001b[38;5;124m\"\u001b[39m\u001b[38;5;124m \u001b[39m\u001b[38;5;124m\"\u001b[39m)[\u001b[38;5;241m1\u001b[39m])\n\u001b[1;32m     96\u001b[0m \u001b[38;5;66;03m# special layout\u001b[39;00m\n",
      "\u001b[0;31mAttributeError\u001b[0m: 'NoneType' object has no attribute 'text'",
      "\nDuring handling of the above exception, another exception occurred:\n",
      "\u001b[0;31mAttributeError\u001b[0m                            Traceback (most recent call last)",
      "Cell \u001b[0;32mIn[5], line 1\u001b[0m\n\u001b[0;32m----> 1\u001b[0m \u001b[38;5;28;43mgetattr\u001b[39;49m\u001b[43m(\u001b[49m\u001b[43mpcs\u001b[49m\u001b[38;5;241;43m.\u001b[39;49m\u001b[43mRider\u001b[49m\u001b[43m(\u001b[49m\u001b[38;5;124;43mf\u001b[39;49m\u001b[38;5;124;43m\"\u001b[39;49m\u001b[38;5;124;43mrider/\u001b[39;49m\u001b[38;5;132;43;01m{\u001b[39;49;00m\u001b[43mcyclist_df\u001b[49m\u001b[38;5;241;43m.\u001b[39;49m\u001b[43mloc\u001b[49m\u001b[43m[\u001b[49m\u001b[38;5;241;43m0\u001b[39;49m\u001b[43m,\u001b[49m\u001b[38;5;124;43m\"\u001b[39;49m\u001b[38;5;124;43m_url\u001b[39;49m\u001b[38;5;124;43m\"\u001b[39;49m\u001b[43m]\u001b[49m\u001b[38;5;132;43;01m}\u001b[39;49;00m\u001b[38;5;124;43m\"\u001b[39;49m\u001b[43m)\u001b[49m\u001b[43m,\u001b[49m\u001b[38;5;124;43m'\u001b[39;49m\u001b[38;5;124;43mheight\u001b[39;49m\u001b[38;5;124;43m'\u001b[39;49m\u001b[43m)\u001b[49m\u001b[43m(\u001b[49m\u001b[43m)\u001b[49m\n",
      "File \u001b[0;32m~/anaconda3/envs/DM-env/lib/python3.12/site-packages/procyclingstats/rider_scraper.py:100\u001b[0m, in \u001b[0;36mRider.height\u001b[0;34m(self)\u001b[0m\n\u001b[1;32m     97\u001b[0m \u001b[38;5;28;01mexcept\u001b[39;00m (\u001b[38;5;167;01mAttributeError\u001b[39;00m, \u001b[38;5;167;01mIndexError\u001b[39;00m):\n\u001b[1;32m     98\u001b[0m     height_html \u001b[38;5;241m=\u001b[39m \u001b[38;5;28mself\u001b[39m\u001b[38;5;241m.\u001b[39mhtml\u001b[38;5;241m.\u001b[39mcss_first(\n\u001b[1;32m     99\u001b[0m         \u001b[38;5;124m\"\u001b[39m\u001b[38;5;124m.rdr-info-cont > span > span > span\u001b[39m\u001b[38;5;124m\"\u001b[39m)\n\u001b[0;32m--> 100\u001b[0m     \u001b[38;5;28;01mreturn\u001b[39;00m \u001b[38;5;28mfloat\u001b[39m(\u001b[43mheight_html\u001b[49m\u001b[38;5;241;43m.\u001b[39;49m\u001b[43mtext\u001b[49m()\u001b[38;5;241m.\u001b[39msplit(\u001b[38;5;124m\"\u001b[39m\u001b[38;5;124m \u001b[39m\u001b[38;5;124m\"\u001b[39m)[\u001b[38;5;241m1\u001b[39m])\n",
      "\u001b[0;31mAttributeError\u001b[0m: 'NoneType' object has no attribute 'text'"
     ]
    }
   ],
   "source": [
    "getattr(pcs.Rider(f\"rider/{cyclist_df.loc[0,\"_url\"]}\"),'height')()"
   ]
  },
  {
   "cell_type": "markdown",
   "metadata": {},
   "source": [
    "Let's try to augment the dataset using new information about the cyclists, scraped from [procyclingstats](https://www.procyclingstats.com/). \n",
    "\n",
    "The `procyclingstats` library allows to create a `Rider` object, whose constructor needs the URL of the desired cyclist, so that the corresponding data from the web page can be scraped. One retrieves data such as date of birth, weight etc of the cyclist just by calling method of the object."
   ]
  },
  {
   "cell_type": "markdown",
   "metadata": {},
   "source": [
    "With the next cell of code we try to retrieve data from the web, to augment the dataset.\n",
    "\n",
    "The function `safe_getattr` is needed because if a feature (e.g. weight) is not present in the webpage, the method that retrieves it (in the previous example `.weight()`) raises an unhandled exception. We want to return a NaN for missing data instead.\n",
    "\n",
    "We loop through all the rows in the dataframe, and for each cyclist we first try to retrieve the data from the dataset. If it's missing we call the corresponding scraping methods. This is to reduce the computational burden. The approach is justified by the fact that on preliminary exploration we saw that the data is consistent, there shouldn't be errors to correct. So we can copy over the values that are there."
   ]
  },
  {
   "cell_type": "code",
   "execution_count": 10,
   "metadata": {},
   "outputs": [
    {
     "name": "stderr",
     "output_type": "stream",
     "text": [
      "  0%|          | 0/6134 [00:00<?, ?it/s]"
     ]
    },
    {
     "name": "stderr",
     "output_type": "stream",
     "text": [
      "100%|██████████| 6134/6134 [24:49<00:00,  4.12it/s]  \n"
     ]
    }
   ],
   "source": [
    "new_cyclists = []\n",
    "\n",
    "# Helper function to handle exceptions\n",
    "def safe_getattr(obj, attr, fun:callable = lambda x: x):\n",
    "    try:\n",
    "        return fun(getattr(obj, attr)())\n",
    "    # AttributeError: the attribute (e.g. height) is not in the website\n",
    "    # IndexError: trying to convert the weight into a number, but the weight is nan (because it's not in the website)\n",
    "    # ValueError: is risen because bascally the pcs.Rider object is trying to convert the string 'available' (which is what is scraped by the website)\n",
    "    #               into a month of the year. But of course is not in the list of months, so a ValueError is risen\n",
    "    except (IndexError, AttributeError, ValueError):\n",
    "        return np.nan\n",
    "\n",
    "\n",
    "def width_height_mistaken(scraped_weight, height) -> bool:\n",
    "    return scraped_weight*100 == height\n",
    "\n",
    "for i in tqdm.tqdm(range(cyclist_df.shape[0])):\n",
    "    url = cyclist_df.loc[i, \"_url\"]\n",
    "    # This try block is for actually scraping the rider\n",
    "    try:\n",
    "        ciclista = pcs.Rider(f\"rider/{url}\")\n",
    "\n",
    "        # WIP!!!\n",
    "        storico_punti = ciclista.points_per_season_history()\n",
    "        tot_punti = 0\n",
    "        n_gare = len(storico_punti)\n",
    "        for dizio in storico_punti:\n",
    "            tot_punti += dizio['points']\n",
    "\n",
    "\n",
    "        # If we have the values in our dataframe we use that, otherwise we scrape procyclingstats\n",
    "        nome = ' '.join(cyclist_df.loc[i,'name'].split()) if not pd.isna(cyclist_df.loc[i,'name']) else ' '.join(ciclista.name().split())\n",
    "        data_nascita = cyclist_df.loc[i,'birth_year'] if not pd.isna(cyclist_df.loc[i,'birth_year']) else safe_getattr(ciclista, 'birthdate', lambda str: str[:4])\n",
    "        height = cyclist_df.loc[i,'height'] if not pd.isna(cyclist_df.loc[i,'height']) else safe_getattr(ciclista, 'height', lambda x: x*100)\n",
    "        # Sometimes the scraper confuses the height for the weight, when it's not there...\n",
    "        scraped_weight = safe_getattr(ciclista, 'weight')\n",
    "        weight = cyclist_df.loc[i,'weight'] if not pd.isna(cyclist_df.loc[i,'weight']) else scraped_weight if not width_height_mistaken(scraped_weight, height) else np.nan\n",
    "        nazionalita = cyclist_df.loc[i,'nationality'] if not pd.isna(cyclist_df.loc[i,'nationality']) else safe_getattr(ciclista, 'nationality')\n",
    "    except ValueError:\n",
    "        # If we don't find the cyclist on procyclingstats we basically copy the row from our dataframe\n",
    "        #pass\n",
    "        nome = ' '.join(cyclist_df.loc[i,'name'].split())\n",
    "        data_nascita = cyclist_df.loc[i,'birth_year']\n",
    "        weight = cyclist_df.loc[i,'weight'] \n",
    "        height = cyclist_df.loc[i,'height']\n",
    "        nazionalita = cyclist_df.loc[i,'nationality']\n",
    "\n",
    "    cyclist_new_data = {\n",
    "        '_url': url,\n",
    "        'name': nome,\n",
    "        'birth_year': data_nascita,\n",
    "        'weight': weight,\n",
    "        'height': height,\n",
    "        'nationality': nazionalita,\n",
    "        'points_total': tot_punti,\n",
    "        'tot_seasons_attended': n_gare\n",
    "    }    \n",
    "    new_cyclists.append(cyclist_new_data)\n",
    "    \n",
    "\n",
    "    \n",
    "\n"
   ]
  },
  {
   "cell_type": "markdown",
   "metadata": {},
   "source": [
    "We create the new dataframe"
   ]
  },
  {
   "cell_type": "code",
   "execution_count": 14,
   "metadata": {},
   "outputs": [
    {
     "data": {
      "text/html": [
       "<div>\n",
       "<style scoped>\n",
       "    .dataframe tbody tr th:only-of-type {\n",
       "        vertical-align: middle;\n",
       "    }\n",
       "\n",
       "    .dataframe tbody tr th {\n",
       "        vertical-align: top;\n",
       "    }\n",
       "\n",
       "    .dataframe thead th {\n",
       "        text-align: right;\n",
       "    }\n",
       "</style>\n",
       "<table border=\"1\" class=\"dataframe\">\n",
       "  <thead>\n",
       "    <tr style=\"text-align: right;\">\n",
       "      <th></th>\n",
       "      <th>_url</th>\n",
       "      <th>name</th>\n",
       "      <th>birth_year</th>\n",
       "      <th>weight</th>\n",
       "      <th>height</th>\n",
       "      <th>nationality</th>\n",
       "    </tr>\n",
       "  </thead>\n",
       "  <tbody>\n",
       "    <tr>\n",
       "      <th>0</th>\n",
       "      <td>bruno-surra</td>\n",
       "      <td>Bruno Surra</td>\n",
       "      <td>1964.0</td>\n",
       "      <td>NaN</td>\n",
       "      <td>NaN</td>\n",
       "      <td>Italy</td>\n",
       "    </tr>\n",
       "    <tr>\n",
       "      <th>1</th>\n",
       "      <td>gerard-rue</td>\n",
       "      <td>Gérard Rué</td>\n",
       "      <td>1965.0</td>\n",
       "      <td>74.0</td>\n",
       "      <td>182.0</td>\n",
       "      <td>France</td>\n",
       "    </tr>\n",
       "    <tr>\n",
       "      <th>2</th>\n",
       "      <td>jan-maas</td>\n",
       "      <td>Jan Maas</td>\n",
       "      <td>1996.0</td>\n",
       "      <td>69.0</td>\n",
       "      <td>189.0</td>\n",
       "      <td>Netherlands</td>\n",
       "    </tr>\n",
       "    <tr>\n",
       "      <th>3</th>\n",
       "      <td>nathan-van-hooydonck</td>\n",
       "      <td>Nathan Van Hooydonck</td>\n",
       "      <td>1995.0</td>\n",
       "      <td>78.0</td>\n",
       "      <td>192.0</td>\n",
       "      <td>Belgium</td>\n",
       "    </tr>\n",
       "    <tr>\n",
       "      <th>4</th>\n",
       "      <td>jose-felix-parra</td>\n",
       "      <td>José Félix Parra</td>\n",
       "      <td>1997.0</td>\n",
       "      <td>55.0</td>\n",
       "      <td>171.0</td>\n",
       "      <td>Spain</td>\n",
       "    </tr>\n",
       "  </tbody>\n",
       "</table>\n",
       "</div>"
      ],
      "text/plain": [
       "                   _url                  name  birth_year  weight  height  \\\n",
       "0           bruno-surra           Bruno Surra      1964.0     NaN     NaN   \n",
       "1            gerard-rue            Gérard Rué      1965.0    74.0   182.0   \n",
       "2              jan-maas              Jan Maas      1996.0    69.0   189.0   \n",
       "3  nathan-van-hooydonck  Nathan Van Hooydonck      1995.0    78.0   192.0   \n",
       "4      jose-felix-parra      José Félix Parra      1997.0    55.0   171.0   \n",
       "\n",
       "   nationality  \n",
       "0        Italy  \n",
       "1       France  \n",
       "2  Netherlands  \n",
       "3      Belgium  \n",
       "4        Spain  "
      ]
     },
     "execution_count": 14,
     "metadata": {},
     "output_type": "execute_result"
    }
   ],
   "source": [
    "new_cyclist_df = pd.DataFrame(new_cyclists)\n",
    "new_cyclist_df.head()"
   ]
  },
  {
   "cell_type": "code",
   "execution_count": 15,
   "metadata": {},
   "outputs": [
    {
     "name": "stdout",
     "output_type": "stream",
     "text": [
      "<class 'pandas.core.frame.DataFrame'>\n",
      "RangeIndex: 6134 entries, 0 to 6133\n",
      "Data columns (total 6 columns):\n",
      " #   Column       Non-Null Count  Dtype  \n",
      "---  ------       --------------  -----  \n",
      " 0   _url         6134 non-null   object \n",
      " 1   name         6134 non-null   object \n",
      " 2   birth_year   6121 non-null   float64\n",
      " 3   weight       3150 non-null   float64\n",
      " 4   height       3143 non-null   float64\n",
      " 5   nationality  6133 non-null   object \n",
      "dtypes: float64(3), object(3)\n",
      "memory usage: 287.7+ KB\n"
     ]
    }
   ],
   "source": [
    "new_cyclist_df.info()"
   ]
  },
  {
   "cell_type": "code",
   "execution_count": 16,
   "metadata": {},
   "outputs": [
    {
     "name": "stdout",
     "output_type": "stream",
     "text": [
      "<class 'pandas.core.frame.DataFrame'>\n",
      "RangeIndex: 6134 entries, 0 to 6133\n",
      "Data columns (total 6 columns):\n",
      " #   Column       Non-Null Count  Dtype  \n",
      "---  ------       --------------  -----  \n",
      " 0   _url         6134 non-null   object \n",
      " 1   name         6134 non-null   object \n",
      " 2   birth_year   6121 non-null   float64\n",
      " 3   weight       3078 non-null   float64\n",
      " 4   height       3143 non-null   float64\n",
      " 5   nationality  6133 non-null   object \n",
      "dtypes: float64(3), object(3)\n",
      "memory usage: 287.7+ KB\n"
     ]
    }
   ],
   "source": [
    "cyclist_df.info()"
   ]
  },
  {
   "cell_type": "markdown",
   "metadata": {},
   "source": [
    "First, let's save the data that we scraped"
   ]
  },
  {
   "cell_type": "code",
   "execution_count": 17,
   "metadata": {},
   "outputs": [],
   "source": [
    "# Save the data in the new dataframe\n",
    "new_cyclist_df.to_csv(os.path.join('dataset','cyclists_new.csv'))"
   ]
  },
  {
   "cell_type": "markdown",
   "metadata": {},
   "source": [
    "At a first sight, it looks like we've been able to retrieve 72 cyclists' weights from scraping. But by investigating further, it's not the case."
   ]
  },
  {
   "cell_type": "markdown",
   "metadata": {},
   "source": [
    "Let's compare the new values that we obtained. Let's print some features of samples from which the weight was originally missing, but it's present in the dataframe"
   ]
  },
  {
   "cell_type": "code",
   "execution_count": 45,
   "metadata": {},
   "outputs": [
    {
     "data": {
      "text/html": [
       "<div>\n",
       "<style scoped>\n",
       "    .dataframe tbody tr th:only-of-type {\n",
       "        vertical-align: middle;\n",
       "    }\n",
       "\n",
       "    .dataframe tbody tr th {\n",
       "        vertical-align: top;\n",
       "    }\n",
       "\n",
       "    .dataframe thead th {\n",
       "        text-align: right;\n",
       "    }\n",
       "</style>\n",
       "<table border=\"1\" class=\"dataframe\">\n",
       "  <thead>\n",
       "    <tr style=\"text-align: right;\">\n",
       "      <th></th>\n",
       "      <th>_url</th>\n",
       "      <th>name</th>\n",
       "      <th>weight</th>\n",
       "      <th>height</th>\n",
       "    </tr>\n",
       "  </thead>\n",
       "  <tbody>\n",
       "    <tr>\n",
       "      <th>76</th>\n",
       "      <td>idar-andersen</td>\n",
       "      <td>Idar Andersen</td>\n",
       "      <td>1.82</td>\n",
       "      <td>182.0</td>\n",
       "    </tr>\n",
       "    <tr>\n",
       "      <th>219</th>\n",
       "      <td>thomas-bonnet</td>\n",
       "      <td>Thomas Bonnet</td>\n",
       "      <td>1.75</td>\n",
       "      <td>175.0</td>\n",
       "    </tr>\n",
       "    <tr>\n",
       "      <th>261</th>\n",
       "      <td>syver-waersted</td>\n",
       "      <td>Syver Wærsted</td>\n",
       "      <td>1.93</td>\n",
       "      <td>193.0</td>\n",
       "    </tr>\n",
       "    <tr>\n",
       "      <th>355</th>\n",
       "      <td>loe-van-belle</td>\n",
       "      <td>Loe van Belle</td>\n",
       "      <td>1.84</td>\n",
       "      <td>184.0</td>\n",
       "    </tr>\n",
       "    <tr>\n",
       "      <th>403</th>\n",
       "      <td>negasi-abreha</td>\n",
       "      <td>Negasi Haylu Abreha</td>\n",
       "      <td>1.86</td>\n",
       "      <td>186.0</td>\n",
       "    </tr>\n",
       "    <tr>\n",
       "      <th>...</th>\n",
       "      <td>...</td>\n",
       "      <td>...</td>\n",
       "      <td>...</td>\n",
       "      <td>...</td>\n",
       "    </tr>\n",
       "    <tr>\n",
       "      <th>5836</th>\n",
       "      <td>matheo-vercher</td>\n",
       "      <td>Mattéo Vercher</td>\n",
       "      <td>1.71</td>\n",
       "      <td>171.0</td>\n",
       "    </tr>\n",
       "    <tr>\n",
       "      <th>6033</th>\n",
       "      <td>erik-nordsaeter-resell</td>\n",
       "      <td>Erik Nordsæter Resell</td>\n",
       "      <td>1.92</td>\n",
       "      <td>192.0</td>\n",
       "    </tr>\n",
       "    <tr>\n",
       "      <th>6063</th>\n",
       "      <td>carlos-galarreta</td>\n",
       "      <td>Carlos Galarreta</td>\n",
       "      <td>1.74</td>\n",
       "      <td>174.0</td>\n",
       "    </tr>\n",
       "    <tr>\n",
       "      <th>6088</th>\n",
       "      <td>eric-antonio-fagundez</td>\n",
       "      <td>Eric Antonio Fagúndez</td>\n",
       "      <td>67.00</td>\n",
       "      <td>180.0</td>\n",
       "    </tr>\n",
       "    <tr>\n",
       "      <th>6124</th>\n",
       "      <td>henri-vandenabeele</td>\n",
       "      <td>Henri Vandenabeele</td>\n",
       "      <td>1.81</td>\n",
       "      <td>181.0</td>\n",
       "    </tr>\n",
       "  </tbody>\n",
       "</table>\n",
       "<p>72 rows × 4 columns</p>\n",
       "</div>"
      ],
      "text/plain": [
       "                        _url                   name  weight  height\n",
       "76             idar-andersen          Idar Andersen    1.82   182.0\n",
       "219            thomas-bonnet          Thomas Bonnet    1.75   175.0\n",
       "261           syver-waersted          Syver Wærsted    1.93   193.0\n",
       "355            loe-van-belle          Loe van Belle    1.84   184.0\n",
       "403            negasi-abreha    Negasi Haylu Abreha    1.86   186.0\n",
       "...                      ...                    ...     ...     ...\n",
       "5836          matheo-vercher         Mattéo Vercher    1.71   171.0\n",
       "6033  erik-nordsaeter-resell  Erik Nordsæter Resell    1.92   192.0\n",
       "6063        carlos-galarreta       Carlos Galarreta    1.74   174.0\n",
       "6088   eric-antonio-fagundez  Eric Antonio Fagúndez   67.00   180.0\n",
       "6124      henri-vandenabeele     Henri Vandenabeele    1.81   181.0\n",
       "\n",
       "[72 rows x 4 columns]"
      ]
     },
     "execution_count": 45,
     "metadata": {},
     "output_type": "execute_result"
    }
   ],
   "source": [
    "new_cyclist_df.loc[cyclist_df[\"weight\"].isna() & ~new_cyclist_df[\"weight\"].isna(), ['_url', 'name', 'weight', 'height']]"
   ]
  },
  {
   "cell_type": "markdown",
   "metadata": {},
   "source": [
    "These values are of course suspect"
   ]
  },
  {
   "cell_type": "code",
   "execution_count": 51,
   "metadata": {},
   "outputs": [
    {
     "data": {
      "text/plain": [
       "(70, (72,))"
      ]
     },
     "execution_count": 51,
     "metadata": {},
     "output_type": "execute_result"
    }
   ],
   "source": [
    "x = new_cyclist_df[cyclist_df[\"weight\"].isna() & ~new_cyclist_df[\"weight\"].isna()]['weight']*100 == new_cyclist_df[cyclist_df[\"weight\"].isna() & ~new_cyclist_df[\"weight\"].isna()]['height']\n",
    "x.sum(), x.shape"
   ]
  },
  {
   "cell_type": "markdown",
   "metadata": {},
   "source": [
    "Fof 70 out of 72 cases, the parser just mistook the height for the weight."
   ]
  },
  {
   "cell_type": "code",
   "execution_count": 58,
   "metadata": {},
   "outputs": [
    {
     "name": "stdout",
     "output_type": "stream",
     "text": [
      "1.82\n",
      "Trying to call height method raised the exception: 'NoneType' object has no attribute 'text'\n"
     ]
    }
   ],
   "source": [
    "idar_andersen = pcs.Rider(\"rider/idar-andersen\")\n",
    "print(idar_andersen.weight())\n",
    "try:\n",
    "    print(idar_andersen.height())\n",
    "except AttributeError as exc:\n",
    "    print(f\"Trying to call height method raised the exception: {exc}\")"
   ]
  },
  {
   "cell_type": "code",
   "execution_count": 59,
   "metadata": {},
   "outputs": [
    {
     "data": {
      "text/plain": [
       "_url            idar-andersen\n",
       "name           Idar  Andersen\n",
       "birth_year             1999.0\n",
       "weight                    NaN\n",
       "height                  182.0\n",
       "nationality            Norway\n",
       "Name: 76, dtype: object"
      ]
     },
     "execution_count": 59,
     "metadata": {},
     "output_type": "execute_result"
    }
   ],
   "source": [
    "cyclist_df.iloc[76]"
   ]
  },
  {
   "cell_type": "markdown",
   "metadata": {},
   "source": [
    "Indeed, it's the height."
   ]
  },
  {
   "cell_type": "markdown",
   "metadata": {},
   "source": [
    "### Races"
   ]
  },
  {
   "cell_type": "markdown",
   "metadata": {},
   "source": [
    "Let's see if we have more luck with the races"
   ]
  },
  {
   "cell_type": "code",
   "execution_count": 6,
   "metadata": {},
   "outputs": [
    {
     "data": {
      "text/html": [
       "<div>\n",
       "<style scoped>\n",
       "    .dataframe tbody tr th:only-of-type {\n",
       "        vertical-align: middle;\n",
       "    }\n",
       "\n",
       "    .dataframe tbody tr th {\n",
       "        vertical-align: top;\n",
       "    }\n",
       "\n",
       "    .dataframe thead th {\n",
       "        text-align: right;\n",
       "    }\n",
       "</style>\n",
       "<table border=\"1\" class=\"dataframe\">\n",
       "  <thead>\n",
       "    <tr style=\"text-align: right;\">\n",
       "      <th></th>\n",
       "      <th>_url</th>\n",
       "      <th>name</th>\n",
       "      <th>points</th>\n",
       "      <th>uci_points</th>\n",
       "      <th>length</th>\n",
       "      <th>climb_total</th>\n",
       "      <th>profile</th>\n",
       "      <th>startlist_quality</th>\n",
       "      <th>average_temperature</th>\n",
       "      <th>date</th>\n",
       "      <th>position</th>\n",
       "      <th>cyclist</th>\n",
       "      <th>cyclist_age</th>\n",
       "      <th>is_tarmac</th>\n",
       "      <th>is_cobbled</th>\n",
       "      <th>is_gravel</th>\n",
       "      <th>cyclist_team</th>\n",
       "      <th>delta</th>\n",
       "    </tr>\n",
       "  </thead>\n",
       "  <tbody>\n",
       "    <tr>\n",
       "      <th>0</th>\n",
       "      <td>tour-de-france/1978/stage-6</td>\n",
       "      <td>Tour de France</td>\n",
       "      <td>100.0</td>\n",
       "      <td>NaN</td>\n",
       "      <td>162000.0</td>\n",
       "      <td>1101.0</td>\n",
       "      <td>1.0</td>\n",
       "      <td>1241</td>\n",
       "      <td>NaN</td>\n",
       "      <td>1978-07-05 04:02:24</td>\n",
       "      <td>0</td>\n",
       "      <td>sean-kelly</td>\n",
       "      <td>22.0</td>\n",
       "      <td>True</td>\n",
       "      <td>False</td>\n",
       "      <td>False</td>\n",
       "      <td>vini-ricordi-pinarello-sidermec-1986</td>\n",
       "      <td>0.0</td>\n",
       "    </tr>\n",
       "    <tr>\n",
       "      <th>1</th>\n",
       "      <td>tour-de-france/1978/stage-6</td>\n",
       "      <td>Tour de France</td>\n",
       "      <td>100.0</td>\n",
       "      <td>NaN</td>\n",
       "      <td>162000.0</td>\n",
       "      <td>1101.0</td>\n",
       "      <td>1.0</td>\n",
       "      <td>1241</td>\n",
       "      <td>NaN</td>\n",
       "      <td>1978-07-05 04:02:24</td>\n",
       "      <td>1</td>\n",
       "      <td>gerrie-knetemann</td>\n",
       "      <td>27.0</td>\n",
       "      <td>True</td>\n",
       "      <td>False</td>\n",
       "      <td>False</td>\n",
       "      <td>norway-1987</td>\n",
       "      <td>0.0</td>\n",
       "    </tr>\n",
       "    <tr>\n",
       "      <th>2</th>\n",
       "      <td>tour-de-france/1978/stage-6</td>\n",
       "      <td>Tour de France</td>\n",
       "      <td>100.0</td>\n",
       "      <td>NaN</td>\n",
       "      <td>162000.0</td>\n",
       "      <td>1101.0</td>\n",
       "      <td>1.0</td>\n",
       "      <td>1241</td>\n",
       "      <td>NaN</td>\n",
       "      <td>1978-07-05 04:02:24</td>\n",
       "      <td>2</td>\n",
       "      <td>rene-bittinger</td>\n",
       "      <td>24.0</td>\n",
       "      <td>True</td>\n",
       "      <td>False</td>\n",
       "      <td>False</td>\n",
       "      <td>NaN</td>\n",
       "      <td>0.0</td>\n",
       "    </tr>\n",
       "    <tr>\n",
       "      <th>3</th>\n",
       "      <td>tour-de-france/1978/stage-6</td>\n",
       "      <td>Tour de France</td>\n",
       "      <td>100.0</td>\n",
       "      <td>NaN</td>\n",
       "      <td>162000.0</td>\n",
       "      <td>1101.0</td>\n",
       "      <td>1.0</td>\n",
       "      <td>1241</td>\n",
       "      <td>NaN</td>\n",
       "      <td>1978-07-05 04:02:24</td>\n",
       "      <td>3</td>\n",
       "      <td>joseph-bruyere</td>\n",
       "      <td>30.0</td>\n",
       "      <td>True</td>\n",
       "      <td>False</td>\n",
       "      <td>False</td>\n",
       "      <td>navigare-blue-storm-1993</td>\n",
       "      <td>0.0</td>\n",
       "    </tr>\n",
       "    <tr>\n",
       "      <th>4</th>\n",
       "      <td>tour-de-france/1978/stage-6</td>\n",
       "      <td>Tour de France</td>\n",
       "      <td>100.0</td>\n",
       "      <td>NaN</td>\n",
       "      <td>162000.0</td>\n",
       "      <td>1101.0</td>\n",
       "      <td>1.0</td>\n",
       "      <td>1241</td>\n",
       "      <td>NaN</td>\n",
       "      <td>1978-07-05 04:02:24</td>\n",
       "      <td>4</td>\n",
       "      <td>sven-ake-nilsson</td>\n",
       "      <td>27.0</td>\n",
       "      <td>True</td>\n",
       "      <td>False</td>\n",
       "      <td>False</td>\n",
       "      <td>spain-1991</td>\n",
       "      <td>0.0</td>\n",
       "    </tr>\n",
       "  </tbody>\n",
       "</table>\n",
       "</div>"
      ],
      "text/plain": [
       "                          _url            name  points  uci_points    length  \\\n",
       "0  tour-de-france/1978/stage-6  Tour de France   100.0         NaN  162000.0   \n",
       "1  tour-de-france/1978/stage-6  Tour de France   100.0         NaN  162000.0   \n",
       "2  tour-de-france/1978/stage-6  Tour de France   100.0         NaN  162000.0   \n",
       "3  tour-de-france/1978/stage-6  Tour de France   100.0         NaN  162000.0   \n",
       "4  tour-de-france/1978/stage-6  Tour de France   100.0         NaN  162000.0   \n",
       "\n",
       "   climb_total  profile  startlist_quality  average_temperature  \\\n",
       "0       1101.0      1.0               1241                  NaN   \n",
       "1       1101.0      1.0               1241                  NaN   \n",
       "2       1101.0      1.0               1241                  NaN   \n",
       "3       1101.0      1.0               1241                  NaN   \n",
       "4       1101.0      1.0               1241                  NaN   \n",
       "\n",
       "                  date  position           cyclist  cyclist_age  is_tarmac  \\\n",
       "0  1978-07-05 04:02:24         0        sean-kelly         22.0       True   \n",
       "1  1978-07-05 04:02:24         1  gerrie-knetemann         27.0       True   \n",
       "2  1978-07-05 04:02:24         2    rene-bittinger         24.0       True   \n",
       "3  1978-07-05 04:02:24         3    joseph-bruyere         30.0       True   \n",
       "4  1978-07-05 04:02:24         4  sven-ake-nilsson         27.0       True   \n",
       "\n",
       "   is_cobbled  is_gravel                          cyclist_team  delta  \n",
       "0       False      False  vini-ricordi-pinarello-sidermec-1986    0.0  \n",
       "1       False      False                           norway-1987    0.0  \n",
       "2       False      False                                   NaN    0.0  \n",
       "3       False      False              navigare-blue-storm-1993    0.0  \n",
       "4       False      False                            spain-1991    0.0  "
      ]
     },
     "execution_count": 6,
     "metadata": {},
     "output_type": "execute_result"
    }
   ],
   "source": [
    "races_df.head()"
   ]
  },
  {
   "cell_type": "markdown",
   "metadata": {},
   "source": [
    "Allora, consideriamo `race = pcs.Stage(f\"race/{races_df.loc[i, '_url']}\")`. Consideriamo le cose più facili da parsare e recuperare:\n",
    "- `race.profile_icon()` è `races_df.loc[i, 'profile']`\n",
    "- `race.race_startlist_quality_score()` è `races_df.loc[0, 'startlist_quality']`, ma non manca nessun valore in questa colonna\n",
    "- `race.uci_points_scale()` è `races_df[i, 'uci_points']`\n",
    "- `race.avg_temperature()` è `races_df[i, 'average_temperature']`\n",
    "- `race.vertical_meters()` è `races_df[i, 'climb_total']`\n",
    "- `race.distance()` è `races_df.loc[i, 'length']`, ma quest'ulltima è in Km mentre la prima è in metri\n",
    "- `race.date()` è la prima parte di `races_df.loc[i, 'date']` \n"
   ]
  },
  {
   "cell_type": "markdown",
   "metadata": {},
   "source": [
    "What we do:\n",
    "- We keep the columns of the dataframe which are complete (i.e. the URL, the name, the terrain,...)\n",
    "- We use the points and UCI points from procyclingstats. We overwrite those of the dataframe. This is because they're *are relative to the cyclist, not to the race!* \n",
    "- If the point/UCI point is 0, we set it to NaN, because 0 encodes missing values for the scraper\n",
    "- for `age`,`climb_total`, `profile`, `average_temperature` we first try to look into the dataframe, if there is a NaN we scrape\n",
    "\n",
    "\n",
    "\n",
    "**OSS**: I teams di procyclingstats sono completamente diversi da quelli del dataset"
   ]
  },
  {
   "cell_type": "markdown",
   "metadata": {},
   "source": [
    "The following block is taken from `Andrea_data_understanding.ipynb`, and basically identifies which races are the same, but have different names in the `name` column. This is checked by comparing the races' `_url`s. \n",
    "\n",
    "It also creates a dictionary in which the keys are names of the races (a representative for the equivalence class), and the values are the different names that refer to the same race as the corresponding key."
   ]
  },
  {
   "cell_type": "code",
   "execution_count": 7,
   "metadata": {},
   "outputs": [],
   "source": [
    "from utility.data_understanding import check_if_same\n",
    "from itertools import combinations\n",
    "\n",
    "# List with all the race names\n",
    "race_names = np.sort(races_df['name'].unique())\n",
    "\n",
    "# Initialize a list to store pairs of races that are actually the same\n",
    "same_races = []\n",
    "# And a dictionary in which the different values correspond to different names for\n",
    "# the same race (the race denoted by the key)\n",
    "same_races_dict = {}\n",
    "\n",
    "# Iterate through all pairs of race names\n",
    "for i in range(len(race_names)):\n",
    "    for j in range(i + 1, len(race_names)):\n",
    "        race1 = race_names[i]\n",
    "        race2 = race_names[j]\n",
    "        # Use the check_if_same function to compare the races\n",
    "        try:\n",
    "            same, _, _ = check_if_same(race1, race2, races_df=races_df)\n",
    "            if same:\n",
    "                same_races.append((race1, race2))\n",
    "                \n",
    "                # Find the representative name\n",
    "                representative = None\n",
    "                for key in same_races_dict:\n",
    "                    if race1 in same_races_dict[key] or race2 in same_races_dict[key]:\n",
    "                        representative = key\n",
    "                        break\n",
    "                \n",
    "                if representative is None:\n",
    "                    representative = race1\n",
    "                \n",
    "                # Add the races to the dictionary\n",
    "                if representative not in same_races_dict:\n",
    "                    same_races_dict[representative] = [race1, race2]\n",
    "                else:\n",
    "                    if race1 not in same_races_dict[representative]:\n",
    "                        same_races_dict[representative].append(race1)\n",
    "                    if race2 not in same_races_dict[representative]:\n",
    "                        same_races_dict[representative].append(race2)\n",
    "        except TypeError:\n",
    "            print(f\"Caught error at races {race_names[i]} and {race_names[j]}\")\n",
    "\n",
    "# Final check\n",
    "for key in same_races_dict.keys():\n",
    "    # Check if all the aliases stored in the dictionary are also in the list of pairs of same races\n",
    "    v = all([pair in same_races for pair in combinations(same_races_dict[key], 2)])\n",
    "    if not v:\n",
    "        print(f\"Error with {key}\")\n",
    "        break\n",
    "\n",
    "assert v, \"There is some problem\""
   ]
  },
  {
   "cell_type": "code",
   "execution_count": 8,
   "metadata": {},
   "outputs": [
    {
     "name": "stderr",
     "output_type": "stream",
     "text": [
      "  0%|          | 0/1000 [00:00<?, ?it/s]"
     ]
    },
    {
     "name": "stderr",
     "output_type": "stream",
     "text": [
      "100%|██████████| 1000/1000 [00:09<00:00, 102.30it/s]\n"
     ]
    }
   ],
   "source": [
    "new_races = []\n",
    "\n",
    "TRUE_RANGE = races_df.shape[0]\n",
    "FALSE_RANGE = 1000\n",
    "\n",
    "# Helper function to handle exceptions\n",
    "def safe_getattr(obj, attr, fun:callable=lambda x: x):\n",
    "    try:\n",
    "        return fun(getattr(obj, attr)())\n",
    "    except (IndexError, AttributeError, ValueError):\n",
    "        return np.nan\n",
    "    \n",
    "\n",
    "def name_returner(dictionary:dict[str,list[str]], val_to_find:str) -> str|float:\n",
    "    for key, val in dictionary.items():\n",
    "        if val_to_find in val:\n",
    "            return key\n",
    "    # Well... Turns out that in the dictionary there isn't really everything...\n",
    "    return val_to_find #np.nan\n",
    "\n",
    "prev_url = None\n",
    "for i in tqdm.tqdm(range(FALSE_RANGE)):\n",
    "    url = races_df.loc[i, '_url']\n",
    "\n",
    "    # We process only the different URLs\n",
    "    if url == prev_url:\n",
    "        continue\n",
    "\n",
    "    try:\n",
    "        tappa = pcs.Stage(f\"race/{url}\")\n",
    "        same_url_races = races_df[races_df['_url'] == url]\n",
    "\n",
    "        ## Non-cyclist oriented\n",
    "        elevazione = races_df.loc[i, 'climb_total'] if not pd.isna(races_df.loc[i, 'climb_total']) else safe_getattr(tappa, 'vertical_meters')\n",
    "        # In our dataset missing profile is treated as NaN, while the scraper treats them as 0\n",
    "        profilo = races_df.loc[i, 'profile'] if not pd.isna(races_df.loc[i, 'profile']) else safe_getattr(tappa, 'profile_icon', lambda profile: np.float64(profile[1]) if np.float64(profile[1] != 0) else np.nan)\n",
    "        # If the temperature isn't there then tappa.avg_temperature() is None. None becomes NaN in the dataframe\n",
    "        avgtemp = races_df.loc[i, 'average_temperature'] if not pd.isna(races_df.loc[i, 'average_temperature']) else safe_getattr(tappa, 'avg_temperature')\n",
    "\n",
    "        for idx, row in same_url_races.iterrows():\n",
    "            posizione, url_ciclista = races_df.loc[idx, ['position', 'cyclist']]\n",
    "\n",
    "            ## Cyclist-oriented\n",
    "            lista = tappa.results('rider_url', 'age', 'pcs_points', 'uci_points', 'team_url')   \n",
    "            diz_valori_ciclista = lista[posizione]  # Luckily the values in lista are in the same order as that of the races_df\n",
    "            # I take the initiative, and correct the points (and UCI-points)!\n",
    "            # In our dataset missing points are treated as NaN, while the scraper treats them as 0\n",
    "            punti = diz_valori_ciclista.get('pcs_points', np.nan) if diz_valori_ciclista.get('pcs_points', np.nan) != 0 else np.nan\n",
    "            # In our dataset missing UCI points are treated as NaN, while the scraper treats them as 0\n",
    "            punti_uci = diz_valori_ciclista.get('uci_points', np.nan) if diz_valori_ciclista.get('uci_points', np.nan) != 0 else np.nan\n",
    "            eta = races_df.loc[idx, 'cyclist_age'] if not pd.isna(races_df.loc[idx, 'cyclist_age']) else diz_valori_ciclista.get('age', np.nan)\n",
    "    \n",
    "            # The teams in the dataset are completely different from those of pcs...\n",
    "            team = races_df.loc[idx, 'cyclist_team'] if not races_df.loc[idx, 'cyclist_team'] else diz_valori_ciclista.get('team_url', np.nan)     \n",
    "\n",
    "            # And now let's create the new entry\n",
    "            race_new_data = {\n",
    "                '_url': url,\n",
    "                'name': ' '.join(name_returner(same_races_dict, races_df.loc[i, 'name']).split()),\n",
    "                'points': punti,\n",
    "                'uci_points': punti_uci,\n",
    "                'length': races_df.loc[i, 'length'],\n",
    "                'climb_total': elevazione,\n",
    "                'profile': profilo,\n",
    "                'startlist_quality': races_df.loc[i, 'startlist_quality'],\n",
    "                'average_temperature': avgtemp,\n",
    "                'date': races_df.loc[i, 'date'],\n",
    "                'position': posizione,\n",
    "                'cyclist': url_ciclista,\n",
    "                'cyclist_age': eta,\n",
    "                # Until we know how to get these...\n",
    "                'is_tarmac': races_df.loc[i, 'is_tarmac'],\n",
    "                'is_cobbled': races_df.loc[i, 'is_cobbled'], # ... as if they weren't all False...\n",
    "                'is_gravel': races_df.loc[i, 'is_gravel'],\n",
    "                'cyclist_team': team,\n",
    "                'delta': races_df.loc[i, 'delta']\n",
    "            }\n",
    "            new_races.append(race_new_data)       \n",
    "\n",
    "        # Update url\n",
    "        prev_url = url\n",
    "    except ValueError:\n",
    "        print(f\"Encountered error at url {url}, iteration {i}\")"
   ]
  },
  {
   "cell_type": "code",
   "execution_count": 13,
   "metadata": {},
   "outputs": [
    {
     "data": {
      "text/plain": [
       "((1075, 18), (1075, 18))"
      ]
     },
     "execution_count": 13,
     "metadata": {},
     "output_type": "execute_result"
    }
   ],
   "source": [
    "reduced_new_races_df = pd.DataFrame(new_races)\n",
    "reduced_races_df = races_df[:reduced_new_races_df.shape[0]]\n",
    "reduced_new_races_df.shape, reduced_races_df.shape"
   ]
  },
  {
   "cell_type": "code",
   "execution_count": 14,
   "metadata": {},
   "outputs": [
    {
     "data": {
      "text/plain": [
       "False"
      ]
     },
     "execution_count": 14,
     "metadata": {},
     "output_type": "execute_result"
    }
   ],
   "source": [
    "reduced_new_races_df.equals(reduced_races_df)"
   ]
  },
  {
   "cell_type": "markdown",
   "metadata": {},
   "source": [
    "Of course the two dataframes are not equal, because for sure `points`, `uci_points` and `cyclist_team` have been changed\n",
    "\n",
    "In fact, what we've discovered is that the `points` value gives the same points (those of the winner) to all the contenders of the stage, but in reality they've been awarded different points, according to the order of arrival."
   ]
  },
  {
   "cell_type": "code",
   "execution_count": 103,
   "metadata": {},
   "outputs": [
    {
     "data": {
      "text/html": [
       "<div>\n",
       "<style scoped>\n",
       "    .dataframe tbody tr th:only-of-type {\n",
       "        vertical-align: middle;\n",
       "    }\n",
       "\n",
       "    .dataframe tbody tr th {\n",
       "        vertical-align: top;\n",
       "    }\n",
       "\n",
       "    .dataframe thead th {\n",
       "        text-align: right;\n",
       "    }\n",
       "</style>\n",
       "<table border=\"1\" class=\"dataframe\">\n",
       "  <thead>\n",
       "    <tr style=\"text-align: right;\">\n",
       "      <th></th>\n",
       "      <th>_url</th>\n",
       "      <th>name</th>\n",
       "      <th>points</th>\n",
       "      <th>uci_points</th>\n",
       "      <th>length</th>\n",
       "      <th>climb_total</th>\n",
       "      <th>profile</th>\n",
       "      <th>startlist_quality</th>\n",
       "      <th>average_temperature</th>\n",
       "      <th>date</th>\n",
       "      <th>position</th>\n",
       "      <th>cyclist</th>\n",
       "      <th>cyclist_age</th>\n",
       "      <th>is_tarmac</th>\n",
       "      <th>is_cobbled</th>\n",
       "      <th>is_gravel</th>\n",
       "      <th>cyclist_team</th>\n",
       "      <th>delta</th>\n",
       "    </tr>\n",
       "  </thead>\n",
       "  <tbody>\n",
       "    <tr>\n",
       "      <th>0</th>\n",
       "      <td>tour-de-france/1978/stage-6</td>\n",
       "      <td>Tour de France</td>\n",
       "      <td>100.0</td>\n",
       "      <td>NaN</td>\n",
       "      <td>162000.0</td>\n",
       "      <td>1101.0</td>\n",
       "      <td>1.0</td>\n",
       "      <td>1241</td>\n",
       "      <td>NaN</td>\n",
       "      <td>1978-07-05 04:02:24</td>\n",
       "      <td>0</td>\n",
       "      <td>sean-kelly</td>\n",
       "      <td>22.0</td>\n",
       "      <td>True</td>\n",
       "      <td>False</td>\n",
       "      <td>False</td>\n",
       "      <td>team/flandria-velda-lano-1978</td>\n",
       "      <td>0.0</td>\n",
       "    </tr>\n",
       "    <tr>\n",
       "      <th>1</th>\n",
       "      <td>tour-de-france/1978/stage-6</td>\n",
       "      <td>Tour de France</td>\n",
       "      <td>70.0</td>\n",
       "      <td>NaN</td>\n",
       "      <td>162000.0</td>\n",
       "      <td>1101.0</td>\n",
       "      <td>1.0</td>\n",
       "      <td>1241</td>\n",
       "      <td>NaN</td>\n",
       "      <td>1978-07-05 04:02:24</td>\n",
       "      <td>1</td>\n",
       "      <td>gerrie-knetemann</td>\n",
       "      <td>27.0</td>\n",
       "      <td>True</td>\n",
       "      <td>False</td>\n",
       "      <td>False</td>\n",
       "      <td>team/ti-raleigh-mc-gregor-1978</td>\n",
       "      <td>0.0</td>\n",
       "    </tr>\n",
       "    <tr>\n",
       "      <th>2</th>\n",
       "      <td>tour-de-france/1978/stage-6</td>\n",
       "      <td>Tour de France</td>\n",
       "      <td>50.0</td>\n",
       "      <td>NaN</td>\n",
       "      <td>162000.0</td>\n",
       "      <td>1101.0</td>\n",
       "      <td>1.0</td>\n",
       "      <td>1241</td>\n",
       "      <td>NaN</td>\n",
       "      <td>1978-07-05 04:02:24</td>\n",
       "      <td>2</td>\n",
       "      <td>rene-bittinger</td>\n",
       "      <td>24.0</td>\n",
       "      <td>True</td>\n",
       "      <td>False</td>\n",
       "      <td>False</td>\n",
       "      <td>team/flandria-velda-lano-1978</td>\n",
       "      <td>0.0</td>\n",
       "    </tr>\n",
       "    <tr>\n",
       "      <th>3</th>\n",
       "      <td>tour-de-france/1978/stage-6</td>\n",
       "      <td>Tour de France</td>\n",
       "      <td>40.0</td>\n",
       "      <td>NaN</td>\n",
       "      <td>162000.0</td>\n",
       "      <td>1101.0</td>\n",
       "      <td>1.0</td>\n",
       "      <td>1241</td>\n",
       "      <td>NaN</td>\n",
       "      <td>1978-07-05 04:02:24</td>\n",
       "      <td>3</td>\n",
       "      <td>joseph-bruyere</td>\n",
       "      <td>30.0</td>\n",
       "      <td>True</td>\n",
       "      <td>False</td>\n",
       "      <td>False</td>\n",
       "      <td>team/c-a-1978</td>\n",
       "      <td>0.0</td>\n",
       "    </tr>\n",
       "    <tr>\n",
       "      <th>4</th>\n",
       "      <td>tour-de-france/1978/stage-6</td>\n",
       "      <td>Tour de France</td>\n",
       "      <td>32.0</td>\n",
       "      <td>NaN</td>\n",
       "      <td>162000.0</td>\n",
       "      <td>1101.0</td>\n",
       "      <td>1.0</td>\n",
       "      <td>1241</td>\n",
       "      <td>NaN</td>\n",
       "      <td>1978-07-05 04:02:24</td>\n",
       "      <td>4</td>\n",
       "      <td>sven-ake-nilsson</td>\n",
       "      <td>27.0</td>\n",
       "      <td>True</td>\n",
       "      <td>False</td>\n",
       "      <td>False</td>\n",
       "      <td>team/miko-mercier-1978</td>\n",
       "      <td>0.0</td>\n",
       "    </tr>\n",
       "  </tbody>\n",
       "</table>\n",
       "</div>"
      ],
      "text/plain": [
       "                          _url            name  points  uci_points    length  \\\n",
       "0  tour-de-france/1978/stage-6  Tour de France   100.0         NaN  162000.0   \n",
       "1  tour-de-france/1978/stage-6  Tour de France    70.0         NaN  162000.0   \n",
       "2  tour-de-france/1978/stage-6  Tour de France    50.0         NaN  162000.0   \n",
       "3  tour-de-france/1978/stage-6  Tour de France    40.0         NaN  162000.0   \n",
       "4  tour-de-france/1978/stage-6  Tour de France    32.0         NaN  162000.0   \n",
       "\n",
       "   climb_total  profile  startlist_quality  average_temperature  \\\n",
       "0       1101.0      1.0               1241                  NaN   \n",
       "1       1101.0      1.0               1241                  NaN   \n",
       "2       1101.0      1.0               1241                  NaN   \n",
       "3       1101.0      1.0               1241                  NaN   \n",
       "4       1101.0      1.0               1241                  NaN   \n",
       "\n",
       "                  date  position           cyclist  cyclist_age  is_tarmac  \\\n",
       "0  1978-07-05 04:02:24         0        sean-kelly         22.0       True   \n",
       "1  1978-07-05 04:02:24         1  gerrie-knetemann         27.0       True   \n",
       "2  1978-07-05 04:02:24         2    rene-bittinger         24.0       True   \n",
       "3  1978-07-05 04:02:24         3    joseph-bruyere         30.0       True   \n",
       "4  1978-07-05 04:02:24         4  sven-ake-nilsson         27.0       True   \n",
       "\n",
       "   is_cobbled  is_gravel                    cyclist_team  delta  \n",
       "0       False      False   team/flandria-velda-lano-1978    0.0  \n",
       "1       False      False  team/ti-raleigh-mc-gregor-1978    0.0  \n",
       "2       False      False   team/flandria-velda-lano-1978    0.0  \n",
       "3       False      False                   team/c-a-1978    0.0  \n",
       "4       False      False          team/miko-mercier-1978    0.0  "
      ]
     },
     "execution_count": 103,
     "metadata": {},
     "output_type": "execute_result"
    }
   ],
   "source": [
    "reduced_new_races_df.head()"
   ]
  },
  {
   "cell_type": "code",
   "execution_count": 104,
   "metadata": {},
   "outputs": [
    {
     "name": "stdout",
     "output_type": "stream",
     "text": [
      "<class 'pandas.core.frame.DataFrame'>\n",
      "RangeIndex: 1075 entries, 0 to 1074\n",
      "Data columns (total 18 columns):\n",
      " #   Column               Non-Null Count  Dtype  \n",
      "---  ------               --------------  -----  \n",
      " 0   _url                 1075 non-null   object \n",
      " 1   name                 1075 non-null   object \n",
      " 2   points               110 non-null    float64\n",
      " 3   uci_points           23 non-null     float64\n",
      " 4   length               1075 non-null   float64\n",
      " 5   climb_total          956 non-null    float64\n",
      " 6   profile              1075 non-null   float64\n",
      " 7   startlist_quality    1075 non-null   int64  \n",
      " 8   average_temperature  164 non-null    float64\n",
      " 9   date                 1075 non-null   object \n",
      " 10  position             1075 non-null   int64  \n",
      " 11  cyclist              1075 non-null   object \n",
      " 12  cyclist_age          1075 non-null   float64\n",
      " 13  is_tarmac            1075 non-null   bool   \n",
      " 14  is_cobbled           1075 non-null   bool   \n",
      " 15  is_gravel            1075 non-null   bool   \n",
      " 16  cyclist_team         1075 non-null   object \n",
      " 17  delta                1075 non-null   float64\n",
      "dtypes: bool(3), float64(8), int64(2), object(5)\n",
      "memory usage: 129.3+ KB\n"
     ]
    }
   ],
   "source": [
    "reduced_new_races_df.info()"
   ]
  },
  {
   "cell_type": "code",
   "execution_count": 105,
   "metadata": {},
   "outputs": [
    {
     "data": {
      "text/html": [
       "<div>\n",
       "<style scoped>\n",
       "    .dataframe tbody tr th:only-of-type {\n",
       "        vertical-align: middle;\n",
       "    }\n",
       "\n",
       "    .dataframe tbody tr th {\n",
       "        vertical-align: top;\n",
       "    }\n",
       "\n",
       "    .dataframe thead th {\n",
       "        text-align: right;\n",
       "    }\n",
       "</style>\n",
       "<table border=\"1\" class=\"dataframe\">\n",
       "  <thead>\n",
       "    <tr style=\"text-align: right;\">\n",
       "      <th></th>\n",
       "      <th>_url</th>\n",
       "      <th>name</th>\n",
       "      <th>points</th>\n",
       "      <th>uci_points</th>\n",
       "      <th>length</th>\n",
       "      <th>climb_total</th>\n",
       "      <th>profile</th>\n",
       "      <th>startlist_quality</th>\n",
       "      <th>average_temperature</th>\n",
       "      <th>date</th>\n",
       "      <th>position</th>\n",
       "      <th>cyclist</th>\n",
       "      <th>cyclist_age</th>\n",
       "      <th>is_tarmac</th>\n",
       "      <th>is_cobbled</th>\n",
       "      <th>is_gravel</th>\n",
       "      <th>cyclist_team</th>\n",
       "      <th>delta</th>\n",
       "    </tr>\n",
       "  </thead>\n",
       "  <tbody>\n",
       "    <tr>\n",
       "      <th>0</th>\n",
       "      <td>tour-de-france/1978/stage-6</td>\n",
       "      <td>Tour de France</td>\n",
       "      <td>100.0</td>\n",
       "      <td>NaN</td>\n",
       "      <td>162000.0</td>\n",
       "      <td>1101.0</td>\n",
       "      <td>1.0</td>\n",
       "      <td>1241</td>\n",
       "      <td>NaN</td>\n",
       "      <td>1978-07-05 04:02:24</td>\n",
       "      <td>0</td>\n",
       "      <td>sean-kelly</td>\n",
       "      <td>22.0</td>\n",
       "      <td>True</td>\n",
       "      <td>False</td>\n",
       "      <td>False</td>\n",
       "      <td>vini-ricordi-pinarello-sidermec-1986</td>\n",
       "      <td>0.0</td>\n",
       "    </tr>\n",
       "    <tr>\n",
       "      <th>1</th>\n",
       "      <td>tour-de-france/1978/stage-6</td>\n",
       "      <td>Tour de France</td>\n",
       "      <td>100.0</td>\n",
       "      <td>NaN</td>\n",
       "      <td>162000.0</td>\n",
       "      <td>1101.0</td>\n",
       "      <td>1.0</td>\n",
       "      <td>1241</td>\n",
       "      <td>NaN</td>\n",
       "      <td>1978-07-05 04:02:24</td>\n",
       "      <td>1</td>\n",
       "      <td>gerrie-knetemann</td>\n",
       "      <td>27.0</td>\n",
       "      <td>True</td>\n",
       "      <td>False</td>\n",
       "      <td>False</td>\n",
       "      <td>norway-1987</td>\n",
       "      <td>0.0</td>\n",
       "    </tr>\n",
       "    <tr>\n",
       "      <th>2</th>\n",
       "      <td>tour-de-france/1978/stage-6</td>\n",
       "      <td>Tour de France</td>\n",
       "      <td>100.0</td>\n",
       "      <td>NaN</td>\n",
       "      <td>162000.0</td>\n",
       "      <td>1101.0</td>\n",
       "      <td>1.0</td>\n",
       "      <td>1241</td>\n",
       "      <td>NaN</td>\n",
       "      <td>1978-07-05 04:02:24</td>\n",
       "      <td>2</td>\n",
       "      <td>rene-bittinger</td>\n",
       "      <td>24.0</td>\n",
       "      <td>True</td>\n",
       "      <td>False</td>\n",
       "      <td>False</td>\n",
       "      <td>NaN</td>\n",
       "      <td>0.0</td>\n",
       "    </tr>\n",
       "    <tr>\n",
       "      <th>3</th>\n",
       "      <td>tour-de-france/1978/stage-6</td>\n",
       "      <td>Tour de France</td>\n",
       "      <td>100.0</td>\n",
       "      <td>NaN</td>\n",
       "      <td>162000.0</td>\n",
       "      <td>1101.0</td>\n",
       "      <td>1.0</td>\n",
       "      <td>1241</td>\n",
       "      <td>NaN</td>\n",
       "      <td>1978-07-05 04:02:24</td>\n",
       "      <td>3</td>\n",
       "      <td>joseph-bruyere</td>\n",
       "      <td>30.0</td>\n",
       "      <td>True</td>\n",
       "      <td>False</td>\n",
       "      <td>False</td>\n",
       "      <td>navigare-blue-storm-1993</td>\n",
       "      <td>0.0</td>\n",
       "    </tr>\n",
       "    <tr>\n",
       "      <th>4</th>\n",
       "      <td>tour-de-france/1978/stage-6</td>\n",
       "      <td>Tour de France</td>\n",
       "      <td>100.0</td>\n",
       "      <td>NaN</td>\n",
       "      <td>162000.0</td>\n",
       "      <td>1101.0</td>\n",
       "      <td>1.0</td>\n",
       "      <td>1241</td>\n",
       "      <td>NaN</td>\n",
       "      <td>1978-07-05 04:02:24</td>\n",
       "      <td>4</td>\n",
       "      <td>sven-ake-nilsson</td>\n",
       "      <td>27.0</td>\n",
       "      <td>True</td>\n",
       "      <td>False</td>\n",
       "      <td>False</td>\n",
       "      <td>spain-1991</td>\n",
       "      <td>0.0</td>\n",
       "    </tr>\n",
       "  </tbody>\n",
       "</table>\n",
       "</div>"
      ],
      "text/plain": [
       "                          _url            name  points  uci_points    length  \\\n",
       "0  tour-de-france/1978/stage-6  Tour de France   100.0         NaN  162000.0   \n",
       "1  tour-de-france/1978/stage-6  Tour de France   100.0         NaN  162000.0   \n",
       "2  tour-de-france/1978/stage-6  Tour de France   100.0         NaN  162000.0   \n",
       "3  tour-de-france/1978/stage-6  Tour de France   100.0         NaN  162000.0   \n",
       "4  tour-de-france/1978/stage-6  Tour de France   100.0         NaN  162000.0   \n",
       "\n",
       "   climb_total  profile  startlist_quality  average_temperature  \\\n",
       "0       1101.0      1.0               1241                  NaN   \n",
       "1       1101.0      1.0               1241                  NaN   \n",
       "2       1101.0      1.0               1241                  NaN   \n",
       "3       1101.0      1.0               1241                  NaN   \n",
       "4       1101.0      1.0               1241                  NaN   \n",
       "\n",
       "                  date  position           cyclist  cyclist_age  is_tarmac  \\\n",
       "0  1978-07-05 04:02:24         0        sean-kelly         22.0       True   \n",
       "1  1978-07-05 04:02:24         1  gerrie-knetemann         27.0       True   \n",
       "2  1978-07-05 04:02:24         2    rene-bittinger         24.0       True   \n",
       "3  1978-07-05 04:02:24         3    joseph-bruyere         30.0       True   \n",
       "4  1978-07-05 04:02:24         4  sven-ake-nilsson         27.0       True   \n",
       "\n",
       "   is_cobbled  is_gravel                          cyclist_team  delta  \n",
       "0       False      False  vini-ricordi-pinarello-sidermec-1986    0.0  \n",
       "1       False      False                           norway-1987    0.0  \n",
       "2       False      False                                   NaN    0.0  \n",
       "3       False      False              navigare-blue-storm-1993    0.0  \n",
       "4       False      False                            spain-1991    0.0  "
      ]
     },
     "execution_count": 105,
     "metadata": {},
     "output_type": "execute_result"
    }
   ],
   "source": [
    "reduced_races_df.head()"
   ]
  },
  {
   "cell_type": "code",
   "execution_count": 106,
   "metadata": {},
   "outputs": [
    {
     "name": "stdout",
     "output_type": "stream",
     "text": [
      "<class 'pandas.core.frame.DataFrame'>\n",
      "RangeIndex: 1000 entries, 0 to 999\n",
      "Data columns (total 18 columns):\n",
      " #   Column               Non-Null Count  Dtype  \n",
      "---  ------               --------------  -----  \n",
      " 0   _url                 1000 non-null   object \n",
      " 1   name                 1000 non-null   object \n",
      " 2   points               1000 non-null   float64\n",
      " 3   uci_points           679 non-null    float64\n",
      " 4   length               1000 non-null   float64\n",
      " 5   climb_total          881 non-null    float64\n",
      " 6   profile              881 non-null    float64\n",
      " 7   startlist_quality    1000 non-null   int64  \n",
      " 8   average_temperature  164 non-null    float64\n",
      " 9   date                 1000 non-null   object \n",
      " 10  position             1000 non-null   int64  \n",
      " 11  cyclist              1000 non-null   object \n",
      " 12  cyclist_age          1000 non-null   float64\n",
      " 13  is_tarmac            1000 non-null   bool   \n",
      " 14  is_cobbled           1000 non-null   bool   \n",
      " 15  is_gravel            1000 non-null   bool   \n",
      " 16  cyclist_team         754 non-null    object \n",
      " 17  delta                1000 non-null   float64\n",
      "dtypes: bool(3), float64(8), int64(2), object(5)\n",
      "memory usage: 120.2+ KB\n"
     ]
    }
   ],
   "source": [
    "reduced_races_df.info()"
   ]
  },
  {
   "cell_type": "markdown",
   "metadata": {},
   "source": [
    "---"
   ]
  },
  {
   "cell_type": "code",
   "execution_count": 22,
   "metadata": {},
   "outputs": [
    {
     "data": {
      "text/plain": [
       "True"
      ]
     },
     "execution_count": 22,
     "metadata": {},
     "output_type": "execute_result"
    }
   ],
   "source": [
    "# checking format of the date\n",
    "all(reduced_new_races_df['date'].apply(lambda data: bool(re.match(r\"\\d{4}-\\d{2}-\\d{2} \\d{2}:\\d{2}:\\d{2}\",data))))"
   ]
  },
  {
   "cell_type": "code",
   "execution_count": 16,
   "metadata": {},
   "outputs": [
    {
     "name": "stdout",
     "output_type": "stream",
     "text": [
      "Columns _url are equal across the two datasets: True\n",
      "Columns name are equal across the two datasets: False\n",
      "Columns points are equal across the two datasets: False\n",
      "Columns uci_points are equal across the two datasets: False\n",
      "Columns length are equal across the two datasets: True\n",
      "Columns climb_total are equal across the two datasets: True\n",
      "Columns profile are equal across the two datasets: True\n",
      "Columns startlist_quality are equal across the two datasets: True\n",
      "Columns average_temperature are equal across the two datasets: True\n",
      "Columns date are equal across the two datasets: False\n",
      "Columns position are equal across the two datasets: True\n",
      "Columns cyclist are equal across the two datasets: True\n",
      "Columns cyclist_age are equal across the two datasets: True\n",
      "Columns is_tarmac are equal across the two datasets: True\n",
      "Columns is_cobbled are equal across the two datasets: True\n",
      "Columns is_gravel are equal across the two datasets: True\n",
      "Columns cyclist_team are equal across the two datasets: False\n",
      "Columns delta are equal across the two datasets: False\n"
     ]
    }
   ],
   "source": [
    "for col in reduced_new_races_df.columns:\n",
    "    truth1 = all(reduced_new_races_df[col] == reduced_races_df[col])\n",
    "    diversi = reduced_new_races_df[col] != reduced_races_df[col]\n",
    "    truth2_1 = pd.isna(reduced_new_races_df.loc[diversi, col]).all() \n",
    "    truth2_2 = pd.isna(reduced_races_df.loc[diversi, col]).all() \n",
    "    truth = truth1 or (truth2_1 and truth2_2)\n",
    "    print(f\"Columns {col} are equal across the two datasets: {truth}\")"
   ]
  },
  {
   "cell_type": "code",
   "execution_count": 23,
   "metadata": {},
   "outputs": [
    {
     "data": {
      "text/plain": [
       "(array([ 1.,  5., nan,  3.,  2.]), array([ 1.,  5., nan,  3.,  2.]))"
      ]
     },
     "execution_count": 23,
     "metadata": {},
     "output_type": "execute_result"
    }
   ],
   "source": [
    "reduced_new_races_df['profile'].unique(), reduced_races_df['profile'].unique()"
   ]
  },
  {
   "cell_type": "code",
   "execution_count": 24,
   "metadata": {},
   "outputs": [],
   "source": [
    "colonna = 'profile'"
   ]
  },
  {
   "cell_type": "code",
   "execution_count": 25,
   "metadata": {},
   "outputs": [
    {
     "data": {
      "text/plain": [
       "119"
      ]
     },
     "execution_count": 25,
     "metadata": {},
     "output_type": "execute_result"
    }
   ],
   "source": [
    "reduced_races_df[colonna].isna().sum()"
   ]
  },
  {
   "cell_type": "code",
   "execution_count": 197,
   "metadata": {},
   "outputs": [
    {
     "data": {
      "text/plain": [
       "0      False\n",
       "1      False\n",
       "2      False\n",
       "3      False\n",
       "4      False\n",
       "       ...  \n",
       "995    False\n",
       "996    False\n",
       "997    False\n",
       "998    False\n",
       "999    False\n",
       "Name: profile, Length: 1000, dtype: bool"
      ]
     },
     "execution_count": 197,
     "metadata": {},
     "output_type": "execute_result"
    }
   ],
   "source": [
    "diversi = reduced_new_races_df[colonna] != reduced_races_df[colonna]\n",
    "#reduced_new_races_df.loc[diversi, colonna]\n",
    "diversi"
   ]
  },
  {
   "cell_type": "code",
   "execution_count": 201,
   "metadata": {},
   "outputs": [
    {
     "data": {
      "text/plain": [
       "119"
      ]
     },
     "execution_count": 201,
     "metadata": {},
     "output_type": "execute_result"
    }
   ],
   "source": [
    "diversi.sum()"
   ]
  },
  {
   "cell_type": "code",
   "execution_count": 190,
   "metadata": {},
   "outputs": [
    {
     "data": {
      "text/plain": [
       "_url                   volta-a-catalunya/2018/stage-7\n",
       "name                       Volta Ciclista a Catalunya\n",
       "points                                           50.0\n",
       "uci_points                                       50.0\n",
       "length                                       154800.0\n",
       "climb_total                                    2008.0\n",
       "profile                                           2.0\n",
       "startlist_quality                                 659\n",
       "average_temperature                               NaN\n",
       "date                              2018-03-25 03:29:45\n",
       "position                                           37\n",
       "cyclist                        sindre-skjoestad-lunke\n",
       "cyclist_age                                      25.0\n",
       "is_tarmac                                        True\n",
       "is_cobbled                                      False\n",
       "is_gravel                                       False\n",
       "cyclist_team                             ireland-2005\n",
       "delta                                           101.0\n",
       "Name: 999, dtype: object"
      ]
     },
     "execution_count": 190,
     "metadata": {},
     "output_type": "execute_result"
    }
   ],
   "source": [
    "reduced_races_df.loc[999]"
   ]
  },
  {
   "cell_type": "code",
   "execution_count": null,
   "metadata": {},
   "outputs": [],
   "source": []
  },
  {
   "cell_type": "code",
   "execution_count": 191,
   "metadata": {},
   "outputs": [
    {
     "data": {
      "text/plain": [
       "_url                   volta-a-catalunya/2018/stage-7\n",
       "name                       Volta Ciclista a Catalunya\n",
       "points                                              0\n",
       "uci_points                                        NaN\n",
       "length                                       154800.0\n",
       "climb_total                                    2008.0\n",
       "profile                                           2.0\n",
       "startlist_quality                                 659\n",
       "average_temperature                               NaN\n",
       "date                              2018-03-25 03:29:45\n",
       "position                                           37\n",
       "cyclist                        sindre-skjoestad-lunke\n",
       "cyclist_age                                      25.0\n",
       "is_tarmac                                        True\n",
       "is_cobbled                                      False\n",
       "is_gravel                                       False\n",
       "cyclist_team                team/fortuneo-samsic-2018\n",
       "delta                                           101.0\n",
       "Name: 999, dtype: object"
      ]
     },
     "execution_count": 191,
     "metadata": {},
     "output_type": "execute_result"
    }
   ],
   "source": [
    "reduced_new_races_df.loc[999]"
   ]
  },
  {
   "cell_type": "markdown",
   "metadata": {},
   "source": [
    "---"
   ]
  }
 ],
 "metadata": {
  "kernelspec": {
   "display_name": "DM-env",
   "language": "python",
   "name": "python3"
  },
  "language_info": {
   "codemirror_mode": {
    "name": "ipython",
    "version": 3
   },
   "file_extension": ".py",
   "mimetype": "text/x-python",
   "name": "python",
   "nbconvert_exporter": "python",
   "pygments_lexer": "ipython3",
   "version": "3.12.6"
  }
 },
 "nbformat": 4,
 "nbformat_minor": 2
}
