{
 "cells": [
  {
   "cell_type": "markdown",
   "metadata": {},
   "source": [
    "# Data Cleaning"
   ]
  },
  {
   "cell_type": "markdown",
   "metadata": {},
   "source": [
    "This notebook is supposed to be runned once to obtain a cleaned dataset to use in the next steps of the projects"
   ]
  },
  {
   "cell_type": "code",
   "execution_count": 1,
   "metadata": {},
   "outputs": [],
   "source": [
    "%load_ext autoreload\n",
    "%autoreload 2"
   ]
  },
  {
   "cell_type": "code",
   "execution_count": 2,
   "metadata": {},
   "outputs": [],
   "source": [
    "import matplotlib.pyplot as plt\n",
    "import numpy as np\n",
    "import os\n",
    "import pandas as pd\n",
    "import re\n",
    "import seaborn as sns\n",
    "import sys\n",
    "from typing import Tuple\n",
    "from utility.dataset_cleaning import delta_based_dataset_cleaning, speed_based_dataset_cleaning\n",
    "\n",
    "sys.path.append('../dataset/')\n",
    "sys.path.append('../utility/')\n",
    "\n",
    "races_df = pd.read_csv(os.path.join('dataset','races_new.csv'))\n",
    "cyclists_df = pd.read_csv(os.path.join('dataset','cyclists_new.csv'))"
   ]
  },
  {
   "cell_type": "markdown",
   "metadata": {},
   "source": [
    "## Cyclists"
   ]
  },
  {
   "cell_type": "markdown",
   "metadata": {},
   "source": [
    "For the cyclists does't look like they have some strange values, but we can drop the name since we have no use for it if not count how many people named `x` there are, but this is probably a not so useful statistic"
   ]
  },
  {
   "cell_type": "code",
   "execution_count": 3,
   "metadata": {},
   "outputs": [],
   "source": [
    "#cyclists_df = cyclists_df.drop(columns=['name'])\n",
    "#for now we keep it..."
   ]
  },
  {
   "cell_type": "markdown",
   "metadata": {},
   "source": [
    "## Races"
   ]
  },
  {
   "cell_type": "markdown",
   "metadata": {},
   "source": [
    "For the races we have a bit more work to do"
   ]
  },
  {
   "cell_type": "markdown",
   "metadata": {},
   "source": [
    "### Delta"
   ]
  },
  {
   "cell_type": "markdown",
   "metadata": {},
   "source": [
    "The delta has already been discussed in an appropriate notebook so here we'll just report the cleaning process"
   ]
  },
  {
   "cell_type": "code",
   "execution_count": 4,
   "metadata": {},
   "outputs": [
    {
     "name": "stdout",
     "output_type": "stream",
     "text": [
      "removed lines 81591\n"
     ]
    }
   ],
   "source": [
    "initial_len = races_df.shape[0]\n",
    "races_df = delta_based_dataset_cleaning(races_df)\n",
    "final_len = races_df.shape[0]\n",
    "print(f\"removed lines {-final_len-(-initial_len)}\")"
   ]
  },
  {
   "cell_type": "markdown",
   "metadata": {},
   "source": [
    "### Speed"
   ]
  },
  {
   "cell_type": "markdown",
   "metadata": {},
   "source": [
    "during the exploration of the `average_speed` feature (a derived feature of `length` and `time`), we discovered some problems in some races.\n",
    "\n",
    "The specific races affected and the issues have been discussed in the `data_understanding_transformation` notebook, here we'll just report the cleaning process."
   ]
  },
  {
   "cell_type": "markdown",
   "metadata": {},
   "source": [
    "**OSS**: the `speed_based_dataset_cleaning` function needs the `procyclingstats` package!"
   ]
  },
  {
   "cell_type": "code",
   "execution_count": 5,
   "metadata": {},
   "outputs": [
    {
     "name": "stdout",
     "output_type": "stream",
     "text": [
      "Further removed 176 lines\n",
      "In total, removed 81767 lines\n"
     ]
    }
   ],
   "source": [
    "new_initial_len = races_df.shape[0]\n",
    "races_df = speed_based_dataset_cleaning(races_df)\n",
    "new_final_len = races_df.shape[0]\n",
    "print(f\"Further removed {-new_final_len-(-new_initial_len)} lines\")\n",
    "print(f\"In total, removed {-new_final_len-(-initial_len)} lines\")"
   ]
  },
  {
   "cell_type": "markdown",
   "metadata": {},
   "source": [
    "### Bad columns"
   ]
  },
  {
   "cell_type": "markdown",
   "metadata": {},
   "source": [
    "just a reminder of why these are not useful: `is_cobbled` is always false; `is_gravel` is always false; `cyclist_team` can change from year to year and there were some considerations about the fact that the name is just the name of the sponsor (so the team can be the same but with different name); `average_temperature` is almost always null; `Unnamed: 0` is a column created for error during the scraping"
   ]
  },
  {
   "cell_type": "code",
   "execution_count": 6,
   "metadata": {
    "vscode": {
     "languageId": "javascript"
    }
   },
   "outputs": [
    {
     "data": {
      "text/html": [
       "<div>\n",
       "<style scoped>\n",
       "    .dataframe tbody tr th:only-of-type {\n",
       "        vertical-align: middle;\n",
       "    }\n",
       "\n",
       "    .dataframe tbody tr th {\n",
       "        vertical-align: top;\n",
       "    }\n",
       "\n",
       "    .dataframe thead th {\n",
       "        text-align: right;\n",
       "    }\n",
       "</style>\n",
       "<table border=\"1\" class=\"dataframe\">\n",
       "  <thead>\n",
       "    <tr style=\"text-align: right;\">\n",
       "      <th></th>\n",
       "      <th>_url</th>\n",
       "      <th>name</th>\n",
       "      <th>stage_type</th>\n",
       "      <th>points</th>\n",
       "      <th>uci_points</th>\n",
       "      <th>length</th>\n",
       "      <th>climb_total</th>\n",
       "      <th>profile</th>\n",
       "      <th>startlist_quality</th>\n",
       "      <th>date</th>\n",
       "      <th>position</th>\n",
       "      <th>cyclist</th>\n",
       "      <th>cyclist_age</th>\n",
       "      <th>is_tarmac</th>\n",
       "      <th>delta</th>\n",
       "      <th>time</th>\n",
       "      <th>time_seconds</th>\n",
       "      <th>average_speed</th>\n",
       "    </tr>\n",
       "  </thead>\n",
       "  <tbody>\n",
       "    <tr>\n",
       "      <th>0</th>\n",
       "      <td>tour-de-france/1978/stage-6</td>\n",
       "      <td>Tour de France</td>\n",
       "      <td>RR</td>\n",
       "      <td>100.0</td>\n",
       "      <td>NaN</td>\n",
       "      <td>162000.0</td>\n",
       "      <td>1101.0</td>\n",
       "      <td>1.0</td>\n",
       "      <td>1241</td>\n",
       "      <td>1978-07-05</td>\n",
       "      <td>0</td>\n",
       "      <td>sean-kelly</td>\n",
       "      <td>22.0</td>\n",
       "      <td>True</td>\n",
       "      <td>0.0</td>\n",
       "      <td>04:02:24</td>\n",
       "      <td>14544</td>\n",
       "      <td>11.138614</td>\n",
       "    </tr>\n",
       "    <tr>\n",
       "      <th>1</th>\n",
       "      <td>tour-de-france/1978/stage-6</td>\n",
       "      <td>Tour de France</td>\n",
       "      <td>RR</td>\n",
       "      <td>70.0</td>\n",
       "      <td>NaN</td>\n",
       "      <td>162000.0</td>\n",
       "      <td>1101.0</td>\n",
       "      <td>1.0</td>\n",
       "      <td>1241</td>\n",
       "      <td>1978-07-05</td>\n",
       "      <td>1</td>\n",
       "      <td>gerrie-knetemann</td>\n",
       "      <td>27.0</td>\n",
       "      <td>True</td>\n",
       "      <td>0.0</td>\n",
       "      <td>04:02:24</td>\n",
       "      <td>14544</td>\n",
       "      <td>11.138614</td>\n",
       "    </tr>\n",
       "    <tr>\n",
       "      <th>2</th>\n",
       "      <td>tour-de-france/1978/stage-6</td>\n",
       "      <td>Tour de France</td>\n",
       "      <td>RR</td>\n",
       "      <td>50.0</td>\n",
       "      <td>NaN</td>\n",
       "      <td>162000.0</td>\n",
       "      <td>1101.0</td>\n",
       "      <td>1.0</td>\n",
       "      <td>1241</td>\n",
       "      <td>1978-07-05</td>\n",
       "      <td>2</td>\n",
       "      <td>rene-bittinger</td>\n",
       "      <td>24.0</td>\n",
       "      <td>True</td>\n",
       "      <td>0.0</td>\n",
       "      <td>04:02:24</td>\n",
       "      <td>14544</td>\n",
       "      <td>11.138614</td>\n",
       "    </tr>\n",
       "    <tr>\n",
       "      <th>3</th>\n",
       "      <td>tour-de-france/1978/stage-6</td>\n",
       "      <td>Tour de France</td>\n",
       "      <td>RR</td>\n",
       "      <td>40.0</td>\n",
       "      <td>NaN</td>\n",
       "      <td>162000.0</td>\n",
       "      <td>1101.0</td>\n",
       "      <td>1.0</td>\n",
       "      <td>1241</td>\n",
       "      <td>1978-07-05</td>\n",
       "      <td>3</td>\n",
       "      <td>joseph-bruyere</td>\n",
       "      <td>30.0</td>\n",
       "      <td>True</td>\n",
       "      <td>0.0</td>\n",
       "      <td>04:02:24</td>\n",
       "      <td>14544</td>\n",
       "      <td>11.138614</td>\n",
       "    </tr>\n",
       "    <tr>\n",
       "      <th>4</th>\n",
       "      <td>tour-de-france/1978/stage-6</td>\n",
       "      <td>Tour de France</td>\n",
       "      <td>RR</td>\n",
       "      <td>32.0</td>\n",
       "      <td>NaN</td>\n",
       "      <td>162000.0</td>\n",
       "      <td>1101.0</td>\n",
       "      <td>1.0</td>\n",
       "      <td>1241</td>\n",
       "      <td>1978-07-05</td>\n",
       "      <td>4</td>\n",
       "      <td>sven-ake-nilsson</td>\n",
       "      <td>27.0</td>\n",
       "      <td>True</td>\n",
       "      <td>0.0</td>\n",
       "      <td>04:02:24</td>\n",
       "      <td>14544</td>\n",
       "      <td>11.138614</td>\n",
       "    </tr>\n",
       "  </tbody>\n",
       "</table>\n",
       "</div>"
      ],
      "text/plain": [
       "                          _url            name stage_type  points  uci_points  \\\n",
       "0  tour-de-france/1978/stage-6  Tour de France         RR   100.0         NaN   \n",
       "1  tour-de-france/1978/stage-6  Tour de France         RR    70.0         NaN   \n",
       "2  tour-de-france/1978/stage-6  Tour de France         RR    50.0         NaN   \n",
       "3  tour-de-france/1978/stage-6  Tour de France         RR    40.0         NaN   \n",
       "4  tour-de-france/1978/stage-6  Tour de France         RR    32.0         NaN   \n",
       "\n",
       "     length  climb_total  profile  startlist_quality        date  position  \\\n",
       "0  162000.0       1101.0      1.0               1241  1978-07-05         0   \n",
       "1  162000.0       1101.0      1.0               1241  1978-07-05         1   \n",
       "2  162000.0       1101.0      1.0               1241  1978-07-05         2   \n",
       "3  162000.0       1101.0      1.0               1241  1978-07-05         3   \n",
       "4  162000.0       1101.0      1.0               1241  1978-07-05         4   \n",
       "\n",
       "            cyclist  cyclist_age  is_tarmac  delta      time  time_seconds  \\\n",
       "0        sean-kelly         22.0       True    0.0  04:02:24         14544   \n",
       "1  gerrie-knetemann         27.0       True    0.0  04:02:24         14544   \n",
       "2    rene-bittinger         24.0       True    0.0  04:02:24         14544   \n",
       "3    joseph-bruyere         30.0       True    0.0  04:02:24         14544   \n",
       "4  sven-ake-nilsson         27.0       True    0.0  04:02:24         14544   \n",
       "\n",
       "   average_speed  \n",
       "0      11.138614  \n",
       "1      11.138614  \n",
       "2      11.138614  \n",
       "3      11.138614  \n",
       "4      11.138614  "
      ]
     },
     "execution_count": 6,
     "metadata": {},
     "output_type": "execute_result"
    }
   ],
   "source": [
    "columns_to_drop = [\n",
    "    'is_cobbled',\n",
    "    'is_gravel',\n",
    "    'cyclist_team',\n",
    "    'average_temperature',\n",
    "    'Unnamed: 0',\n",
    "]\n",
    "races_df = races_df.drop(columns=columns_to_drop)\n",
    "races_df.head()"
   ]
  },
  {
   "cell_type": "markdown",
   "metadata": {},
   "source": [
    "### Recreating Name"
   ]
  },
  {
   "cell_type": "markdown",
   "metadata": {},
   "source": [
    "Here we assign the name in a correct way, i.e. a race has the same name each edition (stages will have the stage number appended this way different stages will be distinguishable)"
   ]
  },
  {
   "cell_type": "code",
   "execution_count": 7,
   "metadata": {},
   "outputs": [
    {
     "data": {
      "text/html": [
       "<div>\n",
       "<style scoped>\n",
       "    .dataframe tbody tr th:only-of-type {\n",
       "        vertical-align: middle;\n",
       "    }\n",
       "\n",
       "    .dataframe tbody tr th {\n",
       "        vertical-align: top;\n",
       "    }\n",
       "\n",
       "    .dataframe thead th {\n",
       "        text-align: right;\n",
       "    }\n",
       "</style>\n",
       "<table border=\"1\" class=\"dataframe\">\n",
       "  <thead>\n",
       "    <tr style=\"text-align: right;\">\n",
       "      <th></th>\n",
       "      <th>_url</th>\n",
       "      <th>name</th>\n",
       "      <th>stage</th>\n",
       "      <th>stage_type</th>\n",
       "      <th>points</th>\n",
       "      <th>uci_points</th>\n",
       "      <th>length</th>\n",
       "      <th>climb_total</th>\n",
       "      <th>profile</th>\n",
       "      <th>startlist_quality</th>\n",
       "      <th>date</th>\n",
       "      <th>position</th>\n",
       "      <th>cyclist</th>\n",
       "      <th>cyclist_age</th>\n",
       "      <th>is_tarmac</th>\n",
       "      <th>delta</th>\n",
       "      <th>time</th>\n",
       "      <th>time_seconds</th>\n",
       "      <th>average_speed</th>\n",
       "    </tr>\n",
       "  </thead>\n",
       "  <tbody>\n",
       "    <tr>\n",
       "      <th>0</th>\n",
       "      <td>tour-de-france/1978/stage-6</td>\n",
       "      <td>Tour de France</td>\n",
       "      <td>stage-6</td>\n",
       "      <td>RR</td>\n",
       "      <td>100.0</td>\n",
       "      <td>NaN</td>\n",
       "      <td>162000.0</td>\n",
       "      <td>1101.0</td>\n",
       "      <td>1.0</td>\n",
       "      <td>1241</td>\n",
       "      <td>1978-07-05</td>\n",
       "      <td>0</td>\n",
       "      <td>sean-kelly</td>\n",
       "      <td>22.0</td>\n",
       "      <td>True</td>\n",
       "      <td>0.0</td>\n",
       "      <td>04:02:24</td>\n",
       "      <td>14544</td>\n",
       "      <td>11.138614</td>\n",
       "    </tr>\n",
       "    <tr>\n",
       "      <th>1</th>\n",
       "      <td>tour-de-france/1978/stage-6</td>\n",
       "      <td>Tour de France</td>\n",
       "      <td>stage-6</td>\n",
       "      <td>RR</td>\n",
       "      <td>70.0</td>\n",
       "      <td>NaN</td>\n",
       "      <td>162000.0</td>\n",
       "      <td>1101.0</td>\n",
       "      <td>1.0</td>\n",
       "      <td>1241</td>\n",
       "      <td>1978-07-05</td>\n",
       "      <td>1</td>\n",
       "      <td>gerrie-knetemann</td>\n",
       "      <td>27.0</td>\n",
       "      <td>True</td>\n",
       "      <td>0.0</td>\n",
       "      <td>04:02:24</td>\n",
       "      <td>14544</td>\n",
       "      <td>11.138614</td>\n",
       "    </tr>\n",
       "    <tr>\n",
       "      <th>2</th>\n",
       "      <td>tour-de-france/1978/stage-6</td>\n",
       "      <td>Tour de France</td>\n",
       "      <td>stage-6</td>\n",
       "      <td>RR</td>\n",
       "      <td>50.0</td>\n",
       "      <td>NaN</td>\n",
       "      <td>162000.0</td>\n",
       "      <td>1101.0</td>\n",
       "      <td>1.0</td>\n",
       "      <td>1241</td>\n",
       "      <td>1978-07-05</td>\n",
       "      <td>2</td>\n",
       "      <td>rene-bittinger</td>\n",
       "      <td>24.0</td>\n",
       "      <td>True</td>\n",
       "      <td>0.0</td>\n",
       "      <td>04:02:24</td>\n",
       "      <td>14544</td>\n",
       "      <td>11.138614</td>\n",
       "    </tr>\n",
       "    <tr>\n",
       "      <th>3</th>\n",
       "      <td>tour-de-france/1978/stage-6</td>\n",
       "      <td>Tour de France</td>\n",
       "      <td>stage-6</td>\n",
       "      <td>RR</td>\n",
       "      <td>40.0</td>\n",
       "      <td>NaN</td>\n",
       "      <td>162000.0</td>\n",
       "      <td>1101.0</td>\n",
       "      <td>1.0</td>\n",
       "      <td>1241</td>\n",
       "      <td>1978-07-05</td>\n",
       "      <td>3</td>\n",
       "      <td>joseph-bruyere</td>\n",
       "      <td>30.0</td>\n",
       "      <td>True</td>\n",
       "      <td>0.0</td>\n",
       "      <td>04:02:24</td>\n",
       "      <td>14544</td>\n",
       "      <td>11.138614</td>\n",
       "    </tr>\n",
       "    <tr>\n",
       "      <th>4</th>\n",
       "      <td>tour-de-france/1978/stage-6</td>\n",
       "      <td>Tour de France</td>\n",
       "      <td>stage-6</td>\n",
       "      <td>RR</td>\n",
       "      <td>32.0</td>\n",
       "      <td>NaN</td>\n",
       "      <td>162000.0</td>\n",
       "      <td>1101.0</td>\n",
       "      <td>1.0</td>\n",
       "      <td>1241</td>\n",
       "      <td>1978-07-05</td>\n",
       "      <td>4</td>\n",
       "      <td>sven-ake-nilsson</td>\n",
       "      <td>27.0</td>\n",
       "      <td>True</td>\n",
       "      <td>0.0</td>\n",
       "      <td>04:02:24</td>\n",
       "      <td>14544</td>\n",
       "      <td>11.138614</td>\n",
       "    </tr>\n",
       "  </tbody>\n",
       "</table>\n",
       "</div>"
      ],
      "text/plain": [
       "                          _url            name    stage stage_type  points  \\\n",
       "0  tour-de-france/1978/stage-6  Tour de France  stage-6         RR   100.0   \n",
       "1  tour-de-france/1978/stage-6  Tour de France  stage-6         RR    70.0   \n",
       "2  tour-de-france/1978/stage-6  Tour de France  stage-6         RR    50.0   \n",
       "3  tour-de-france/1978/stage-6  Tour de France  stage-6         RR    40.0   \n",
       "4  tour-de-france/1978/stage-6  Tour de France  stage-6         RR    32.0   \n",
       "\n",
       "   uci_points    length  climb_total  profile  startlist_quality        date  \\\n",
       "0         NaN  162000.0       1101.0      1.0               1241  1978-07-05   \n",
       "1         NaN  162000.0       1101.0      1.0               1241  1978-07-05   \n",
       "2         NaN  162000.0       1101.0      1.0               1241  1978-07-05   \n",
       "3         NaN  162000.0       1101.0      1.0               1241  1978-07-05   \n",
       "4         NaN  162000.0       1101.0      1.0               1241  1978-07-05   \n",
       "\n",
       "   position           cyclist  cyclist_age  is_tarmac  delta      time  \\\n",
       "0         0        sean-kelly         22.0       True    0.0  04:02:24   \n",
       "1         1  gerrie-knetemann         27.0       True    0.0  04:02:24   \n",
       "2         2    rene-bittinger         24.0       True    0.0  04:02:24   \n",
       "3         3    joseph-bruyere         30.0       True    0.0  04:02:24   \n",
       "4         4  sven-ake-nilsson         27.0       True    0.0  04:02:24   \n",
       "\n",
       "   time_seconds  average_speed  \n",
       "0         14544      11.138614  \n",
       "1         14544      11.138614  \n",
       "2         14544      11.138614  \n",
       "3         14544      11.138614  \n",
       "4         14544      11.138614  "
      ]
     },
     "execution_count": 7,
     "metadata": {},
     "output_type": "execute_result"
    }
   ],
   "source": [
    "def get_name_stage(row) -> Tuple[str, str]:\n",
    "    array_of_info = row['_url'].split('/')\n",
    "    array_of_info[-1] = np.nan if array_of_info[-1] == 'result' else array_of_info[-1]\n",
    "    return array_of_info[0], array_of_info[-1]\n",
    "\n",
    "#define column name\n",
    "races_df['stage'] = races_df.apply(lambda row: get_name_stage(row)[1], axis=1)\n",
    "# move name column to the second position\n",
    "cols = list(races_df.columns)\n",
    "cols.insert(2, cols.pop(cols.index('stage')))\n",
    "races_df = races_df[cols]\n",
    "\n",
    "races_df.head()"
   ]
  },
  {
   "cell_type": "markdown",
   "metadata": {},
   "source": [
    "### Saving the Datasets"
   ]
  },
  {
   "cell_type": "code",
   "execution_count": 8,
   "metadata": {},
   "outputs": [],
   "source": [
    "races_df.to_csv(os.path.join('dataset', 'races_cleaned.csv'), index=False)\n",
    "cyclists_df.to_csv(os.path.join('dataset', 'cyclists_cleaned.csv'), index=False)"
   ]
  }
 ],
 "metadata": {
  "kernelspec": {
   "display_name": "DM-env",
   "language": "python",
   "name": "python3"
  },
  "language_info": {
   "codemirror_mode": {
    "name": "ipython",
    "version": 3
   },
   "file_extension": ".py",
   "mimetype": "text/x-python",
   "name": "python",
   "nbconvert_exporter": "python",
   "pygments_lexer": "ipython3",
   "version": "3.12.6"
  }
 },
 "nbformat": 4,
 "nbformat_minor": 2
}
