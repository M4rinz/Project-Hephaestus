{
 "cells": [
  {
   "cell_type": "markdown",
   "metadata": {},
   "source": [
    "# Hierarchical Clustering"
   ]
  },
  {
   "cell_type": "markdown",
   "metadata": {},
   "source": []
  },
  {
   "cell_type": "markdown",
   "metadata": {},
   "source": [
    "## Autoreload\n",
    "\n",
    "Autoreload allows the notebook to dynamically load code: if we update some helper functions *outside* of the notebook, we do not need to reload the notebook."
   ]
  },
  {
   "cell_type": "code",
   "execution_count": 2,
   "metadata": {},
   "outputs": [],
   "source": [
    "%load_ext autoreload\n",
    "%autoreload 2"
   ]
  },
  {
   "cell_type": "markdown",
   "metadata": {},
   "source": [
    "## Imports"
   ]
  },
  {
   "cell_type": "code",
   "execution_count": 3,
   "metadata": {},
   "outputs": [],
   "source": [
    "# Cornerstones:\n",
    "import numpy as np\n",
    "import pandas as pd\n",
    "# Fundamentals:\n",
    "import os\n",
    "import sys\n",
    "# Plotting\n",
    "import matplotlib.pyplot as plt\n",
    "import seaborn as sns\n",
    "# Scraping? Again??\n",
    "import procyclingstats as pcs\n",
    "\n",
    "\n",
    "# Imports more related to the clustering itself\n",
    "\n",
    "\n",
    "#from utility.data_understanding import *"
   ]
  },
  {
   "cell_type": "markdown",
   "metadata": {},
   "source": [
    "Global variables, constants, etc."
   ]
  },
  {
   "cell_type": "code",
   "execution_count": 4,
   "metadata": {},
   "outputs": [],
   "source": [
    "sys.path.append('../dataset/')\n",
    "sys.path.append('../utility/')\n",
    "\n",
    "# Global variables, constants\n",
    "IMAGE_DIR = '../images/'\n",
    "RANDOM_STATE = 42   # we define a random state to make the results reproducible\n",
    "RUN_SLOW_STUFF = True"
   ]
  },
  {
   "cell_type": "markdown",
   "metadata": {},
   "source": [
    "## Dataframes"
   ]
  },
  {
   "cell_type": "markdown",
   "metadata": {},
   "source": [
    "We've spent a lot of effort into engineering new features, understanding them, etc. Whether we've done this well and whether is enough it's a different story.\n",
    "\n",
    "The point here is that - after the understanding, engineering and transformation - we have some cleaned-up versions of the datasets."
   ]
  },
  {
   "cell_type": "code",
   "execution_count": 6,
   "metadata": {},
   "outputs": [],
   "source": [
    "cyclist_df = pd.read_csv('../dataset/cyclists_cleaned.csv')\n",
    "races_df = pd.read_csv('../dataset/races_cleaned.csv')"
   ]
  },
  {
   "cell_type": "code",
   "execution_count": 8,
   "metadata": {},
   "outputs": [
    {
     "data": {
      "text/plain": [
       "Index(['_url', 'name', 'birth_year', 'weight', 'height', 'nationality', 'bmi',\n",
       "       'race_count', 'experience_level', 'total_points', 'victories_by_points',\n",
       "       'average_position'],\n",
       "      dtype='object')"
      ]
     },
     "execution_count": 8,
     "metadata": {},
     "output_type": "execute_result"
    }
   ],
   "source": [
    "cyclist_df.columns"
   ]
  },
  {
   "cell_type": "code",
   "execution_count": 9,
   "metadata": {},
   "outputs": [
    {
     "data": {
      "text/plain": [
       "Index(['_url', 'name', 'stage', 'stage_type', 'points', 'uci_points', 'length',\n",
       "       'climb_total', 'profile', 'startlist_quality', 'date', 'position',\n",
       "       'cyclist', 'cyclist_age', 'is_tarmac', 'delta', 'time', 'steepness',\n",
       "       'season', 'is_staged', 'race_country', 'norm_points',\n",
       "       'age_performance_index', 'quality_adjusted_points', 'normalized_length',\n",
       "       'normalized_quality', 'normalized_steepness', 'profile_adjustment',\n",
       "       'stamina_index'],\n",
       "      dtype='object')"
      ]
     },
     "execution_count": 9,
     "metadata": {},
     "output_type": "execute_result"
    }
   ],
   "source": [
    "races_df.columns"
   ]
  },
  {
   "cell_type": "code",
   "execution_count": null,
   "metadata": {},
   "outputs": [],
   "source": []
  }
 ],
 "metadata": {
  "kernelspec": {
   "display_name": "DM-env",
   "language": "python",
   "name": "python3"
  },
  "language_info": {
   "codemirror_mode": {
    "name": "ipython",
    "version": 3
   },
   "file_extension": ".py",
   "mimetype": "text/x-python",
   "name": "python",
   "nbconvert_exporter": "python",
   "pygments_lexer": "ipython3",
   "version": "3.12.6"
  }
 },
 "nbformat": 4,
 "nbformat_minor": 2
}
