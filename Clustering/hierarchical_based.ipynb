{
 "cells": [
  {
   "cell_type": "markdown",
   "metadata": {},
   "source": [
    "# Hierarchical Clustering"
   ]
  },
  {
   "cell_type": "markdown",
   "metadata": {},
   "source": []
  },
  {
   "cell_type": "markdown",
   "metadata": {},
   "source": [
    "## Autoreload\n",
    "\n",
    "Autoreload allows the notebook to dynamically load code: if we update some helper functions *outside* of the notebook, we do not need to reload the notebook."
   ]
  },
  {
   "cell_type": "code",
   "execution_count": 8,
   "metadata": {},
   "outputs": [
    {
     "name": "stdout",
     "output_type": "stream",
     "text": [
      "The autoreload extension is already loaded. To reload it, use:\n",
      "  %reload_ext autoreload\n"
     ]
    }
   ],
   "source": [
    "%load_ext autoreload\n",
    "%autoreload 2"
   ]
  },
  {
   "cell_type": "markdown",
   "metadata": {},
   "source": [
    "## Imports"
   ]
  },
  {
   "cell_type": "code",
   "execution_count": 9,
   "metadata": {},
   "outputs": [],
   "source": [
    "# Cornerstones:\n",
    "import numpy as np\n",
    "import pandas as pd\n",
    "# Fundamentals:\n",
    "import os\n",
    "import sys\n",
    "# Plotting\n",
    "import matplotlib.pyplot as plt\n",
    "import seaborn as sns\n",
    "# Scraping? Again??\n",
    "import procyclingstats as pcs\n",
    "\n",
    "\n",
    "\n",
    "# Imports more related to the clustering itself\n",
    "\n",
    "\n",
    "# Otherwise nothing will be found\n",
    "sys.path.append(os.path.abspath(os.path.join('..')))\n",
    "#from utility.data_understanding import *"
   ]
  },
  {
   "cell_type": "markdown",
   "metadata": {},
   "source": [
    "Imports from our utilities:"
   ]
  },
  {
   "cell_type": "code",
   "execution_count": 10,
   "metadata": {},
   "outputs": [],
   "source": [
    "from utility.overall_utilities import save_plot"
   ]
  },
  {
   "cell_type": "markdown",
   "metadata": {},
   "source": [
    "Global variables, constants, etc."
   ]
  },
  {
   "cell_type": "code",
   "execution_count": 11,
   "metadata": {},
   "outputs": [],
   "source": [
    "sys.path.append('../dataset/')\n",
    "sys.path.append('../utility/')\n",
    "\n",
    "# Global variables, constants\n",
    "IMAGE_DIR = '../images/'\n",
    "RANDOM_STATE = 42   # we define a random state to make the results reproducible\n",
    "RUN_SLOW_STUFF = True"
   ]
  },
  {
   "cell_type": "markdown",
   "metadata": {},
   "source": [
    "## Dataframes"
   ]
  },
  {
   "cell_type": "markdown",
   "metadata": {},
   "source": [
    "We've spent a lot of effort into engineering new features, understanding them, etc. Whether we've done this well and whether is enough it's a different story.\n",
    "\n",
    "The point here is that - after the understanding, engineering and transformation - we have some cleaned-up versions of the datasets."
   ]
  },
  {
   "cell_type": "code",
   "execution_count": 12,
   "metadata": {},
   "outputs": [],
   "source": [
    "cyclist_df = pd.read_csv('../dataset/cyclists_cleaned.csv')\n",
    "races_df = pd.read_csv('../dataset/races_cleaned.csv')"
   ]
  },
  {
   "cell_type": "code",
   "execution_count": 13,
   "metadata": {},
   "outputs": [
    {
     "data": {
      "text/plain": [
       "Index(['_url', 'name', 'birth_year', 'weight', 'height', 'nationality', 'bmi',\n",
       "       'race_count', 'experience_level', 'total_points', 'victories_by_points',\n",
       "       'average_position', 'cyclist_age', 'avg_points_per_race',\n",
       "       'avg_speed_cyclist', 'cyclist', 'stamina_index'],\n",
       "      dtype='object')"
      ]
     },
     "execution_count": 13,
     "metadata": {},
     "output_type": "execute_result"
    }
   ],
   "source": [
    "cyclist_df.columns"
   ]
  },
  {
   "cell_type": "code",
   "execution_count": 14,
   "metadata": {},
   "outputs": [
    {
     "data": {
      "text/plain": [
       "Index(['_url', 'name', 'stage', 'stage_type', 'points', 'uci_points', 'length',\n",
       "       'climb_total', 'profile', 'startlist_quality', 'date', 'position',\n",
       "       'cyclist', 'cyclist_age', 'is_tarmac', 'delta', 'time', 'time_seconds',\n",
       "       'average_speed', 'steepness', 'season', 'is_staged', 'race_country',\n",
       "       'norm_points', 'age_performance_index', 'quality_adjusted_points',\n",
       "       'normalized_length', 'normalized_quality', 'normalized_steepness',\n",
       "       'normalized_time', 'stamina_index', 'season_name', 'length_category'],\n",
       "      dtype='object')"
      ]
     },
     "execution_count": 14,
     "metadata": {},
     "output_type": "execute_result"
    }
   ],
   "source": [
    "races_df.columns"
   ]
  },
  {
   "cell_type": "markdown",
   "metadata": {},
   "source": [
    "Now, that's *a lot* of features. Too many. Some features will be selected for the clustering. The selection of the candidate features should be guided by both the analysis of the interrelations among features (e.g. correlation), and by intuition (or, better, the will to test a \"working hypothesis\"). Both things come from understanding. That is, have a good grasp on the data."
   ]
  },
  {
   "cell_type": "code",
   "execution_count": null,
   "metadata": {},
   "outputs": [],
   "source": []
  }
 ],
 "metadata": {
  "kernelspec": {
   "display_name": "DM-env",
   "language": "python",
   "name": "python3"
  },
  "language_info": {
   "codemirror_mode": {
    "name": "ipython",
    "version": 3
   },
   "file_extension": ".py",
   "mimetype": "text/x-python",
   "name": "python",
   "nbconvert_exporter": "python",
   "pygments_lexer": "ipython3",
   "version": "3.12.6"
  }
 },
 "nbformat": 4,
 "nbformat_minor": 2
}
