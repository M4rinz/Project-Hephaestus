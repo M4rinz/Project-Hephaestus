{
 "cells": [
  {
   "cell_type": "markdown",
   "metadata": {},
   "source": [
    "I created a new notebook because the one with XGBoost was requiring too much ram, this one is built not to study the model but to be compared with the FBT in terms of f1 scores\n",
    "\n",
    "#NONOTEBOOK"
   ]
  },
  {
   "cell_type": "code",
   "execution_count": null,
   "metadata": {},
   "outputs": [],
   "source": [
    "# just to be shure we will retrain the final model\n",
    "import sys\n",
    "import os\n",
    "sys.path.append(os.path.abspath(os.path.join('..')))\n",
    "\n",
    "from xgboost import XGBClassifier # XGBoost classifier\n",
    "from itertools import product #for grid search\n",
    "from tqdm import tqdm # for progress bar\n",
    "from sklearn.metrics import classification_report, f1_score # for evaluation\n",
    "from utility.classification_utility import make_dataset_for_classification\n",
    "from imblearn.over_sampling import RandomOverSampler # for oversampling\n",
    "import json\n",
    "f1_macro = lambda x, y: f1_score(x, y, average='macro') # for our evaluation\n",
    "\n",
    "cyc_path = '../dataset/cyclists_cleaned.csv'\n",
    "races_path = '../dataset/races_cleaned.csv'\n",
    "print('Loading data...')\n",
    "dataset = make_dataset_for_classification(races_df=races_path, cyclists_df=cyc_path)\n",
    "\n",
    "with open('./XGB_rs_hyperparameters.json', 'r') as f:\n",
    "    hyperparameterStore = json.load(f)\n",
    "\n",
    "hyperparameterStore.sort(key=lambda x: x['score']['macro avg']['f1-score'], reverse=True)\n",
    "best_params = hyperparameterStore[0]\n",
    "\n",
    "TO_USE_COLS = [\n",
    "    # over time\n",
    "    'total_points', 'avg_points_per_race', \n",
    "    'average_position', 'avg_speed_cyclist',\n",
    "    'race_count',\n",
    "    'average_position_var',\n",
    "    # race related\n",
    "    'profile', \n",
    "    'startlist_quality', 'cyclist_age_rac', 'steepness', \n",
    "    'partecipants_number',\n",
    "    # cyclist related\n",
    "    'bmi',\n",
    "]\n",
    "\n",
    "tr_data = dataset[(dataset['date'] < '2019-01-01') & (dataset['date'] >= '1996-01-01')]\n",
    "tr_out = tr_data['target']\n",
    "tr_data = tr_data[TO_USE_COLS]\n",
    "\n",
    "val_data = dataset[(dataset['date'] >= '2019-01-01') & (dataset['date'] < '2022-01-01')]\n",
    "val_out = val_data['target']\n",
    "val_data = val_data[TO_USE_COLS]\n",
    "\n",
    "oversample = RandomOverSampler(\n",
    "    sampling_strategy={\n",
    "        0: 303478,\n",
    "        1: 180000, \n",
    "    },\n",
    "\n",
    "    random_state=42\n",
    ")\n",
    "tr_data, tr_out = oversample.fit_resample(tr_data, tr_out)\n",
    "tr_data = tr_data.reset_index(drop=True)\n",
    "tr_out = tr_out.reset_index(drop=True)\n"
   ]
  }
 ],
 "metadata": {
  "language_info": {
   "name": "python"
  }
 },
 "nbformat": 4,
 "nbformat_minor": 2
}
