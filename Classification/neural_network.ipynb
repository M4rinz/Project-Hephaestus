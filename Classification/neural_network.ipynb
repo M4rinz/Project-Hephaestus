{
 "cells": [
  {
   "cell_type": "code",
   "execution_count": 2,
   "metadata": {},
   "outputs": [
    {
     "name": "stdout",
     "output_type": "stream",
     "text": [
      "The autoreload extension is already loaded. To reload it, use:\n",
      "  %reload_ext autoreload\n"
     ]
    }
   ],
   "source": [
    "%load_ext autoreload\n",
    "%autoreload 2"
   ]
  },
  {
   "cell_type": "markdown",
   "metadata": {},
   "source": [
    "Using simpler models with the same results. Can this be considered a victory?"
   ]
  },
  {
   "cell_type": "code",
   "execution_count": 3,
   "metadata": {},
   "outputs": [
    {
     "name": "stderr",
     "output_type": "stream",
     "text": [
      "2025-01-01 23:02:16.683890: E external/local_xla/xla/stream_executor/cuda/cuda_fft.cc:477] Unable to register cuFFT factory: Attempting to register factory for plugin cuFFT when one has already been registered\n",
      "WARNING: All log messages before absl::InitializeLog() is called are written to STDERR\n",
      "E0000 00:00:1735768936.748135  195413 cuda_dnn.cc:8310] Unable to register cuDNN factory: Attempting to register factory for plugin cuDNN when one has already been registered\n",
      "E0000 00:00:1735768936.767060  195413 cuda_blas.cc:1418] Unable to register cuBLAS factory: Attempting to register factory for plugin cuBLAS when one has already been registered\n",
      "2025-01-01 23:02:16.907981: I tensorflow/core/platform/cpu_feature_guard.cc:210] This TensorFlow binary is optimized to use available CPU instructions in performance-critical operations.\n",
      "To enable the following instructions: AVX2 FMA, in other operations, rebuild TensorFlow with the appropriate compiler flags.\n"
     ]
    }
   ],
   "source": [
    "import sys\n",
    "import os\n",
    "import pandas as pd\n",
    "sys.path.append(os.path.abspath(os.path.join('..')))\n",
    "import numpy as np\n",
    "import tensorflow as tf\n",
    "from sklearn.preprocessing import StandardScaler\n",
    "from sklearn.ensemble import RandomForestClassifier\n",
    "from sklearn.model_selection import train_test_split, ParameterSampler\n",
    "from imblearn.over_sampling import RandomOverSampler # for oversampling\n",
    "from sklearn.metrics import classification_report\n",
    "\n",
    "from utility.classification_utility import *"
   ]
  },
  {
   "cell_type": "markdown",
   "metadata": {},
   "source": [
    "Let's start by building our beautiful dataset"
   ]
  },
  {
   "cell_type": "code",
   "execution_count": 4,
   "metadata": {},
   "outputs": [
    {
     "name": "stdout",
     "output_type": "stream",
     "text": [
      "100.00%  \n"
     ]
    }
   ],
   "source": [
    "cyc = '../dataset/cyclists_cleaned.csv'\n",
    "races = '../dataset/races_cleaned.csv'\n",
    "df = make_dataset_for_classification(races, cyc, make_stage_type=True)"
   ]
  },
  {
   "cell_type": "code",
   "execution_count": 5,
   "metadata": {},
   "outputs": [],
   "source": [
    "# dumb imputations\n",
    "df['height'] = df['height'].fillna(df['height'].mean())\n",
    "df['weight'] = df['weight'].fillna(df['weight'].mean())\n",
    "df['bmi'] = df['weight']/np.square(df['height']/100)\n",
    "df['cyclist_age_rac'] = df['cyclist_age_rac'].fillna(df['cyclist_age_rac'].mean())\n",
    "df['climb_total'] = df['climb_total'].fillna(df['length']*0.05) # could be differentiated by lengths\n",
    "df['steepness'] = df['length'] / df['climb_total']"
   ]
  },
  {
   "cell_type": "code",
   "execution_count": 6,
   "metadata": {},
   "outputs": [
    {
     "data": {
      "text/html": [
       "<style>#sk-container-id-1 {\n",
       "  /* Definition of color scheme common for light and dark mode */\n",
       "  --sklearn-color-text: #000;\n",
       "  --sklearn-color-text-muted: #666;\n",
       "  --sklearn-color-line: gray;\n",
       "  /* Definition of color scheme for unfitted estimators */\n",
       "  --sklearn-color-unfitted-level-0: #fff5e6;\n",
       "  --sklearn-color-unfitted-level-1: #f6e4d2;\n",
       "  --sklearn-color-unfitted-level-2: #ffe0b3;\n",
       "  --sklearn-color-unfitted-level-3: chocolate;\n",
       "  /* Definition of color scheme for fitted estimators */\n",
       "  --sklearn-color-fitted-level-0: #f0f8ff;\n",
       "  --sklearn-color-fitted-level-1: #d4ebff;\n",
       "  --sklearn-color-fitted-level-2: #b3dbfd;\n",
       "  --sklearn-color-fitted-level-3: cornflowerblue;\n",
       "\n",
       "  /* Specific color for light theme */\n",
       "  --sklearn-color-text-on-default-background: var(--sg-text-color, var(--theme-code-foreground, var(--jp-content-font-color1, black)));\n",
       "  --sklearn-color-background: var(--sg-background-color, var(--theme-background, var(--jp-layout-color0, white)));\n",
       "  --sklearn-color-border-box: var(--sg-text-color, var(--theme-code-foreground, var(--jp-content-font-color1, black)));\n",
       "  --sklearn-color-icon: #696969;\n",
       "\n",
       "  @media (prefers-color-scheme: dark) {\n",
       "    /* Redefinition of color scheme for dark theme */\n",
       "    --sklearn-color-text-on-default-background: var(--sg-text-color, var(--theme-code-foreground, var(--jp-content-font-color1, white)));\n",
       "    --sklearn-color-background: var(--sg-background-color, var(--theme-background, var(--jp-layout-color0, #111)));\n",
       "    --sklearn-color-border-box: var(--sg-text-color, var(--theme-code-foreground, var(--jp-content-font-color1, white)));\n",
       "    --sklearn-color-icon: #878787;\n",
       "  }\n",
       "}\n",
       "\n",
       "#sk-container-id-1 {\n",
       "  color: var(--sklearn-color-text);\n",
       "}\n",
       "\n",
       "#sk-container-id-1 pre {\n",
       "  padding: 0;\n",
       "}\n",
       "\n",
       "#sk-container-id-1 input.sk-hidden--visually {\n",
       "  border: 0;\n",
       "  clip: rect(1px 1px 1px 1px);\n",
       "  clip: rect(1px, 1px, 1px, 1px);\n",
       "  height: 1px;\n",
       "  margin: -1px;\n",
       "  overflow: hidden;\n",
       "  padding: 0;\n",
       "  position: absolute;\n",
       "  width: 1px;\n",
       "}\n",
       "\n",
       "#sk-container-id-1 div.sk-dashed-wrapped {\n",
       "  border: 1px dashed var(--sklearn-color-line);\n",
       "  margin: 0 0.4em 0.5em 0.4em;\n",
       "  box-sizing: border-box;\n",
       "  padding-bottom: 0.4em;\n",
       "  background-color: var(--sklearn-color-background);\n",
       "}\n",
       "\n",
       "#sk-container-id-1 div.sk-container {\n",
       "  /* jupyter's `normalize.less` sets `[hidden] { display: none; }`\n",
       "     but bootstrap.min.css set `[hidden] { display: none !important; }`\n",
       "     so we also need the `!important` here to be able to override the\n",
       "     default hidden behavior on the sphinx rendered scikit-learn.org.\n",
       "     See: https://github.com/scikit-learn/scikit-learn/issues/21755 */\n",
       "  display: inline-block !important;\n",
       "  position: relative;\n",
       "}\n",
       "\n",
       "#sk-container-id-1 div.sk-text-repr-fallback {\n",
       "  display: none;\n",
       "}\n",
       "\n",
       "div.sk-parallel-item,\n",
       "div.sk-serial,\n",
       "div.sk-item {\n",
       "  /* draw centered vertical line to link estimators */\n",
       "  background-image: linear-gradient(var(--sklearn-color-text-on-default-background), var(--sklearn-color-text-on-default-background));\n",
       "  background-size: 2px 100%;\n",
       "  background-repeat: no-repeat;\n",
       "  background-position: center center;\n",
       "}\n",
       "\n",
       "/* Parallel-specific style estimator block */\n",
       "\n",
       "#sk-container-id-1 div.sk-parallel-item::after {\n",
       "  content: \"\";\n",
       "  width: 100%;\n",
       "  border-bottom: 2px solid var(--sklearn-color-text-on-default-background);\n",
       "  flex-grow: 1;\n",
       "}\n",
       "\n",
       "#sk-container-id-1 div.sk-parallel {\n",
       "  display: flex;\n",
       "  align-items: stretch;\n",
       "  justify-content: center;\n",
       "  background-color: var(--sklearn-color-background);\n",
       "  position: relative;\n",
       "}\n",
       "\n",
       "#sk-container-id-1 div.sk-parallel-item {\n",
       "  display: flex;\n",
       "  flex-direction: column;\n",
       "}\n",
       "\n",
       "#sk-container-id-1 div.sk-parallel-item:first-child::after {\n",
       "  align-self: flex-end;\n",
       "  width: 50%;\n",
       "}\n",
       "\n",
       "#sk-container-id-1 div.sk-parallel-item:last-child::after {\n",
       "  align-self: flex-start;\n",
       "  width: 50%;\n",
       "}\n",
       "\n",
       "#sk-container-id-1 div.sk-parallel-item:only-child::after {\n",
       "  width: 0;\n",
       "}\n",
       "\n",
       "/* Serial-specific style estimator block */\n",
       "\n",
       "#sk-container-id-1 div.sk-serial {\n",
       "  display: flex;\n",
       "  flex-direction: column;\n",
       "  align-items: center;\n",
       "  background-color: var(--sklearn-color-background);\n",
       "  padding-right: 1em;\n",
       "  padding-left: 1em;\n",
       "}\n",
       "\n",
       "\n",
       "/* Toggleable style: style used for estimator/Pipeline/ColumnTransformer box that is\n",
       "clickable and can be expanded/collapsed.\n",
       "- Pipeline and ColumnTransformer use this feature and define the default style\n",
       "- Estimators will overwrite some part of the style using the `sk-estimator` class\n",
       "*/\n",
       "\n",
       "/* Pipeline and ColumnTransformer style (default) */\n",
       "\n",
       "#sk-container-id-1 div.sk-toggleable {\n",
       "  /* Default theme specific background. It is overwritten whether we have a\n",
       "  specific estimator or a Pipeline/ColumnTransformer */\n",
       "  background-color: var(--sklearn-color-background);\n",
       "}\n",
       "\n",
       "/* Toggleable label */\n",
       "#sk-container-id-1 label.sk-toggleable__label {\n",
       "  cursor: pointer;\n",
       "  display: flex;\n",
       "  width: 100%;\n",
       "  margin-bottom: 0;\n",
       "  padding: 0.5em;\n",
       "  box-sizing: border-box;\n",
       "  text-align: center;\n",
       "  align-items: start;\n",
       "  justify-content: space-between;\n",
       "  gap: 0.5em;\n",
       "}\n",
       "\n",
       "#sk-container-id-1 label.sk-toggleable__label .caption {\n",
       "  font-size: 0.6rem;\n",
       "  font-weight: lighter;\n",
       "  color: var(--sklearn-color-text-muted);\n",
       "}\n",
       "\n",
       "#sk-container-id-1 label.sk-toggleable__label-arrow:before {\n",
       "  /* Arrow on the left of the label */\n",
       "  content: \"▸\";\n",
       "  float: left;\n",
       "  margin-right: 0.25em;\n",
       "  color: var(--sklearn-color-icon);\n",
       "}\n",
       "\n",
       "#sk-container-id-1 label.sk-toggleable__label-arrow:hover:before {\n",
       "  color: var(--sklearn-color-text);\n",
       "}\n",
       "\n",
       "/* Toggleable content - dropdown */\n",
       "\n",
       "#sk-container-id-1 div.sk-toggleable__content {\n",
       "  max-height: 0;\n",
       "  max-width: 0;\n",
       "  overflow: hidden;\n",
       "  text-align: left;\n",
       "  /* unfitted */\n",
       "  background-color: var(--sklearn-color-unfitted-level-0);\n",
       "}\n",
       "\n",
       "#sk-container-id-1 div.sk-toggleable__content.fitted {\n",
       "  /* fitted */\n",
       "  background-color: var(--sklearn-color-fitted-level-0);\n",
       "}\n",
       "\n",
       "#sk-container-id-1 div.sk-toggleable__content pre {\n",
       "  margin: 0.2em;\n",
       "  border-radius: 0.25em;\n",
       "  color: var(--sklearn-color-text);\n",
       "  /* unfitted */\n",
       "  background-color: var(--sklearn-color-unfitted-level-0);\n",
       "}\n",
       "\n",
       "#sk-container-id-1 div.sk-toggleable__content.fitted pre {\n",
       "  /* unfitted */\n",
       "  background-color: var(--sklearn-color-fitted-level-0);\n",
       "}\n",
       "\n",
       "#sk-container-id-1 input.sk-toggleable__control:checked~div.sk-toggleable__content {\n",
       "  /* Expand drop-down */\n",
       "  max-height: 200px;\n",
       "  max-width: 100%;\n",
       "  overflow: auto;\n",
       "}\n",
       "\n",
       "#sk-container-id-1 input.sk-toggleable__control:checked~label.sk-toggleable__label-arrow:before {\n",
       "  content: \"▾\";\n",
       "}\n",
       "\n",
       "/* Pipeline/ColumnTransformer-specific style */\n",
       "\n",
       "#sk-container-id-1 div.sk-label input.sk-toggleable__control:checked~label.sk-toggleable__label {\n",
       "  color: var(--sklearn-color-text);\n",
       "  background-color: var(--sklearn-color-unfitted-level-2);\n",
       "}\n",
       "\n",
       "#sk-container-id-1 div.sk-label.fitted input.sk-toggleable__control:checked~label.sk-toggleable__label {\n",
       "  background-color: var(--sklearn-color-fitted-level-2);\n",
       "}\n",
       "\n",
       "/* Estimator-specific style */\n",
       "\n",
       "/* Colorize estimator box */\n",
       "#sk-container-id-1 div.sk-estimator input.sk-toggleable__control:checked~label.sk-toggleable__label {\n",
       "  /* unfitted */\n",
       "  background-color: var(--sklearn-color-unfitted-level-2);\n",
       "}\n",
       "\n",
       "#sk-container-id-1 div.sk-estimator.fitted input.sk-toggleable__control:checked~label.sk-toggleable__label {\n",
       "  /* fitted */\n",
       "  background-color: var(--sklearn-color-fitted-level-2);\n",
       "}\n",
       "\n",
       "#sk-container-id-1 div.sk-label label.sk-toggleable__label,\n",
       "#sk-container-id-1 div.sk-label label {\n",
       "  /* The background is the default theme color */\n",
       "  color: var(--sklearn-color-text-on-default-background);\n",
       "}\n",
       "\n",
       "/* On hover, darken the color of the background */\n",
       "#sk-container-id-1 div.sk-label:hover label.sk-toggleable__label {\n",
       "  color: var(--sklearn-color-text);\n",
       "  background-color: var(--sklearn-color-unfitted-level-2);\n",
       "}\n",
       "\n",
       "/* Label box, darken color on hover, fitted */\n",
       "#sk-container-id-1 div.sk-label.fitted:hover label.sk-toggleable__label.fitted {\n",
       "  color: var(--sklearn-color-text);\n",
       "  background-color: var(--sklearn-color-fitted-level-2);\n",
       "}\n",
       "\n",
       "/* Estimator label */\n",
       "\n",
       "#sk-container-id-1 div.sk-label label {\n",
       "  font-family: monospace;\n",
       "  font-weight: bold;\n",
       "  display: inline-block;\n",
       "  line-height: 1.2em;\n",
       "}\n",
       "\n",
       "#sk-container-id-1 div.sk-label-container {\n",
       "  text-align: center;\n",
       "}\n",
       "\n",
       "/* Estimator-specific */\n",
       "#sk-container-id-1 div.sk-estimator {\n",
       "  font-family: monospace;\n",
       "  border: 1px dotted var(--sklearn-color-border-box);\n",
       "  border-radius: 0.25em;\n",
       "  box-sizing: border-box;\n",
       "  margin-bottom: 0.5em;\n",
       "  /* unfitted */\n",
       "  background-color: var(--sklearn-color-unfitted-level-0);\n",
       "}\n",
       "\n",
       "#sk-container-id-1 div.sk-estimator.fitted {\n",
       "  /* fitted */\n",
       "  background-color: var(--sklearn-color-fitted-level-0);\n",
       "}\n",
       "\n",
       "/* on hover */\n",
       "#sk-container-id-1 div.sk-estimator:hover {\n",
       "  /* unfitted */\n",
       "  background-color: var(--sklearn-color-unfitted-level-2);\n",
       "}\n",
       "\n",
       "#sk-container-id-1 div.sk-estimator.fitted:hover {\n",
       "  /* fitted */\n",
       "  background-color: var(--sklearn-color-fitted-level-2);\n",
       "}\n",
       "\n",
       "/* Specification for estimator info (e.g. \"i\" and \"?\") */\n",
       "\n",
       "/* Common style for \"i\" and \"?\" */\n",
       "\n",
       ".sk-estimator-doc-link,\n",
       "a:link.sk-estimator-doc-link,\n",
       "a:visited.sk-estimator-doc-link {\n",
       "  float: right;\n",
       "  font-size: smaller;\n",
       "  line-height: 1em;\n",
       "  font-family: monospace;\n",
       "  background-color: var(--sklearn-color-background);\n",
       "  border-radius: 1em;\n",
       "  height: 1em;\n",
       "  width: 1em;\n",
       "  text-decoration: none !important;\n",
       "  margin-left: 0.5em;\n",
       "  text-align: center;\n",
       "  /* unfitted */\n",
       "  border: var(--sklearn-color-unfitted-level-1) 1pt solid;\n",
       "  color: var(--sklearn-color-unfitted-level-1);\n",
       "}\n",
       "\n",
       ".sk-estimator-doc-link.fitted,\n",
       "a:link.sk-estimator-doc-link.fitted,\n",
       "a:visited.sk-estimator-doc-link.fitted {\n",
       "  /* fitted */\n",
       "  border: var(--sklearn-color-fitted-level-1) 1pt solid;\n",
       "  color: var(--sklearn-color-fitted-level-1);\n",
       "}\n",
       "\n",
       "/* On hover */\n",
       "div.sk-estimator:hover .sk-estimator-doc-link:hover,\n",
       ".sk-estimator-doc-link:hover,\n",
       "div.sk-label-container:hover .sk-estimator-doc-link:hover,\n",
       ".sk-estimator-doc-link:hover {\n",
       "  /* unfitted */\n",
       "  background-color: var(--sklearn-color-unfitted-level-3);\n",
       "  color: var(--sklearn-color-background);\n",
       "  text-decoration: none;\n",
       "}\n",
       "\n",
       "div.sk-estimator.fitted:hover .sk-estimator-doc-link.fitted:hover,\n",
       ".sk-estimator-doc-link.fitted:hover,\n",
       "div.sk-label-container:hover .sk-estimator-doc-link.fitted:hover,\n",
       ".sk-estimator-doc-link.fitted:hover {\n",
       "  /* fitted */\n",
       "  background-color: var(--sklearn-color-fitted-level-3);\n",
       "  color: var(--sklearn-color-background);\n",
       "  text-decoration: none;\n",
       "}\n",
       "\n",
       "/* Span, style for the box shown on hovering the info icon */\n",
       ".sk-estimator-doc-link span {\n",
       "  display: none;\n",
       "  z-index: 9999;\n",
       "  position: relative;\n",
       "  font-weight: normal;\n",
       "  right: .2ex;\n",
       "  padding: .5ex;\n",
       "  margin: .5ex;\n",
       "  width: min-content;\n",
       "  min-width: 20ex;\n",
       "  max-width: 50ex;\n",
       "  color: var(--sklearn-color-text);\n",
       "  box-shadow: 2pt 2pt 4pt #999;\n",
       "  /* unfitted */\n",
       "  background: var(--sklearn-color-unfitted-level-0);\n",
       "  border: .5pt solid var(--sklearn-color-unfitted-level-3);\n",
       "}\n",
       "\n",
       ".sk-estimator-doc-link.fitted span {\n",
       "  /* fitted */\n",
       "  background: var(--sklearn-color-fitted-level-0);\n",
       "  border: var(--sklearn-color-fitted-level-3);\n",
       "}\n",
       "\n",
       ".sk-estimator-doc-link:hover span {\n",
       "  display: block;\n",
       "}\n",
       "\n",
       "/* \"?\"-specific style due to the `<a>` HTML tag */\n",
       "\n",
       "#sk-container-id-1 a.estimator_doc_link {\n",
       "  float: right;\n",
       "  font-size: 1rem;\n",
       "  line-height: 1em;\n",
       "  font-family: monospace;\n",
       "  background-color: var(--sklearn-color-background);\n",
       "  border-radius: 1rem;\n",
       "  height: 1rem;\n",
       "  width: 1rem;\n",
       "  text-decoration: none;\n",
       "  /* unfitted */\n",
       "  color: var(--sklearn-color-unfitted-level-1);\n",
       "  border: var(--sklearn-color-unfitted-level-1) 1pt solid;\n",
       "}\n",
       "\n",
       "#sk-container-id-1 a.estimator_doc_link.fitted {\n",
       "  /* fitted */\n",
       "  border: var(--sklearn-color-fitted-level-1) 1pt solid;\n",
       "  color: var(--sklearn-color-fitted-level-1);\n",
       "}\n",
       "\n",
       "/* On hover */\n",
       "#sk-container-id-1 a.estimator_doc_link:hover {\n",
       "  /* unfitted */\n",
       "  background-color: var(--sklearn-color-unfitted-level-3);\n",
       "  color: var(--sklearn-color-background);\n",
       "  text-decoration: none;\n",
       "}\n",
       "\n",
       "#sk-container-id-1 a.estimator_doc_link.fitted:hover {\n",
       "  /* fitted */\n",
       "  background-color: var(--sklearn-color-fitted-level-3);\n",
       "}\n",
       "</style><div id=\"sk-container-id-1\" class=\"sk-top-container\"><div class=\"sk-text-repr-fallback\"><pre>RandomForestClassifier(random_state=42)</pre><b>In a Jupyter environment, please rerun this cell to show the HTML representation or trust the notebook. <br />On GitHub, the HTML representation is unable to render, please try loading this page with nbviewer.org.</b></div><div class=\"sk-container\" hidden><div class=\"sk-item\"><div class=\"sk-estimator fitted sk-toggleable\"><input class=\"sk-toggleable__control sk-hidden--visually\" id=\"sk-estimator-id-1\" type=\"checkbox\" checked><label for=\"sk-estimator-id-1\" class=\"sk-toggleable__label fitted sk-toggleable__label-arrow\"><div><div>RandomForestClassifier</div></div><div><a class=\"sk-estimator-doc-link fitted\" rel=\"noreferrer\" target=\"_blank\" href=\"https://scikit-learn.org/1.6/modules/generated/sklearn.ensemble.RandomForestClassifier.html\">?<span>Documentation for RandomForestClassifier</span></a><span class=\"sk-estimator-doc-link fitted\">i<span>Fitted</span></span></div></label><div class=\"sk-toggleable__content fitted\"><pre>RandomForestClassifier(random_state=42)</pre></div> </div></div></div></div>"
      ],
      "text/plain": [
       "RandomForestClassifier(random_state=42)"
      ]
     },
     "execution_count": 6,
     "metadata": {},
     "output_type": "execute_result"
    }
   ],
   "source": [
    "# for profile, let's use the big stick\n",
    "# Features and target\n",
    "# Add a column 'is_ITT' where 1 indicates stage_type is 'ITT', 0 otherwise\n",
    "df['is_ITT'] = (df['stage_type'] == 'ITT').astype(int)\n",
    "df_filtered = df[['length', 'climb_total', 'steepness', 'average_speed', 'is_ITT', 'profile']].dropna()\n",
    "X = df_filtered[['length', 'climb_total', 'steepness', 'average_speed', 'is_ITT']]\n",
    "y = df_filtered['profile']\n",
    "\n",
    "# Split data\n",
    "X_train, X_test, y_train, y_test = train_test_split(X, y, test_size=0.2, random_state=42)\n",
    "\n",
    "# Train the model\n",
    "clf = RandomForestClassifier(random_state=42)\n",
    "clf.fit(X_train, y_train)"
   ]
  },
  {
   "cell_type": "code",
   "execution_count": 7,
   "metadata": {},
   "outputs": [
    {
     "name": "stdout",
     "output_type": "stream",
     "text": [
      "Accuracy: 0.9991312777770783\n",
      "Feature importance: [0.21644605 0.27903885 0.30263699 0.20187812 0.        ]\n"
     ]
    }
   ],
   "source": [
    "# TODO: test the model\n",
    "y_pred = clf.predict(X_test)\n",
    "print(f\"Accuracy: {np.mean(y_pred == y_test)}\")\n",
    "print(f\"Feature importance: {clf.feature_importances_}\")"
   ]
  },
  {
   "cell_type": "markdown",
   "metadata": {},
   "source": [
    "Well.. this might mean that the inferences over the climb total and the length were quite accurate"
   ]
  },
  {
   "cell_type": "code",
   "execution_count": 8,
   "metadata": {},
   "outputs": [],
   "source": [
    "# Predict missing profiles\n",
    "missing_profiles = df[df['profile'].isna()]\n",
    "df.loc[missing_profiles.index, 'profile'] = clf.predict(missing_profiles[['length', 'climb_total', 'steepness', 'average_speed', 'is_ITT']])"
   ]
  },
  {
   "cell_type": "code",
   "execution_count": 9,
   "metadata": {},
   "outputs": [],
   "source": [
    "TO_USE_COLS = [\n",
    "    # over time\n",
    "    'total_points',\n",
    "    'avg_points_per_race', \n",
    "    'average_position',\n",
    "    'avg_speed_cyclist', \n",
    "    'mean_stamina_index',\n",
    "    'race_count',\n",
    "    # race related\n",
    "    'length',\n",
    "    'climb_total', \n",
    "    'profile', \n",
    "    'startlist_quality', \n",
    "    'cyclist_age_rac', \n",
    "    'steepness', \n",
    "    'is_tarmac', \n",
    "    'stage_type',\n",
    "    # cyclist related\n",
    "    # 'height',\n",
    "    # 'weight',\n",
    "    'bmi',\n",
    "    'home_game',\n",
    "    # for the split\n",
    "    'date',\n",
    "    'target'\n",
    "]\n",
    "\n",
    "df_to_use = df[TO_USE_COLS]"
   ]
  },
  {
   "cell_type": "code",
   "execution_count": 10,
   "metadata": {},
   "outputs": [],
   "source": [
    "df_tr, df_vl, df_ts = get_data_split(df_to_use)\n",
    "\n",
    "df_tr = df_tr.drop(columns=['date'])\n",
    "df_vl = df_vl.drop(columns=['date'])\n",
    "df_ts = df_ts.drop(columns=['date'])\n",
    "\n",
    "X_tr, y_tr = split_features_target(df_tr)\n",
    "X_vl, y_vl = split_features_target(df_vl)\n",
    "X_ts, y_ts = split_features_target(df_ts)"
   ]
  },
  {
   "cell_type": "markdown",
   "metadata": {},
   "source": [
    "Normalize the features before predicting"
   ]
  },
  {
   "cell_type": "code",
   "execution_count": 11,
   "metadata": {},
   "outputs": [],
   "source": [
    "scal = StandardScaler()\n",
    "X_tr = scal.fit_transform(X_tr)\n",
    "X_vl = scal.transform(X_vl)\n",
    "X_ts = scal.transform(X_ts)"
   ]
  },
  {
   "cell_type": "markdown",
   "metadata": {},
   "source": [
    "Let's build this model"
   ]
  },
  {
   "cell_type": "code",
   "execution_count": 11,
   "metadata": {},
   "outputs": [
    {
     "name": "stderr",
     "output_type": "stream",
     "text": [
      "2025-01-01 21:40:31.233749: E external/local_xla/xla/stream_executor/cuda/cuda_driver.cc:152] failed call to cuInit: INTERNAL: CUDA error: Failed call to cuInit: UNKNOWN ERROR (303)\n"
     ]
    }
   ],
   "source": [
    "model = tf.keras.models.Sequential([\n",
    "    tf.keras.layers.Input(shape=(X_tr.shape[1],)),\n",
    "    tf.keras.layers.Dense(64, activation='relu'),\n",
    "    tf.keras.layers.Dense(32, activation='relu'),\n",
    "    # tf.keras.layers.Dense(64, activation='relu'),\n",
    "    tf.keras.layers.Dense(1, activation='sigmoid')\n",
    "])\n",
    "\n",
    "optimizer = tf.keras.optimizers.Adam()\n",
    "\n",
    "early_stopping = tf.keras.callbacks.EarlyStopping(\n",
    "    monitor='val_loss',  # Metric to monitor (validation recall)\n",
    "    patience=6,            # Number of epochs with no improvement before stopping\n",
    "    mode='max',            # We want to maximize recall\n",
    "    restore_best_weights=True  # Restore the model weights from the epoch with the best recall\n",
    ")\n",
    "\n",
    "\n",
    "model.compile(optimizer=optimizer, loss='binary_crossentropy', metrics=[\n",
    "    'accuracy',\n",
    "    'recall'\n",
    "    ])"
   ]
  },
  {
   "cell_type": "markdown",
   "metadata": {},
   "source": [
    "Now fit it"
   ]
  },
  {
   "cell_type": "code",
   "execution_count": 12,
   "metadata": {},
   "outputs": [
    {
     "name": "stdout",
     "output_type": "stream",
     "text": [
      "Epoch 1/10\n",
      "5550/5550 - 17s - 3ms/step - accuracy: 0.8577 - loss: 0.3597 - recall: 0.0898 - val_accuracy: 0.8626 - val_loss: 0.3374 - val_recall: 0.1284\n",
      "Epoch 2/10\n",
      "5550/5550 - 13s - 2ms/step - accuracy: 0.8595 - loss: 0.3535 - recall: 0.1144 - val_accuracy: 0.8648 - val_loss: 0.3342 - val_recall: 0.1900\n",
      "Epoch 3/10\n",
      "5550/5550 - 13s - 2ms/step - accuracy: 0.8603 - loss: 0.3520 - recall: 0.1212 - val_accuracy: 0.8635 - val_loss: 0.3354 - val_recall: 0.1388\n",
      "Epoch 4/10\n",
      "5550/5550 - 13s - 2ms/step - accuracy: 0.8610 - loss: 0.3508 - recall: 0.1292 - val_accuracy: 0.8634 - val_loss: 0.3361 - val_recall: 0.1961\n",
      "Epoch 5/10\n",
      "5550/5550 - 13s - 2ms/step - accuracy: 0.8610 - loss: 0.3500 - recall: 0.1313 - val_accuracy: 0.8646 - val_loss: 0.3323 - val_recall: 0.1765\n",
      "Epoch 6/10\n",
      "5550/5550 - 13s - 2ms/step - accuracy: 0.8615 - loss: 0.3491 - recall: 0.1360 - val_accuracy: 0.8642 - val_loss: 0.3338 - val_recall: 0.1788\n",
      "Epoch 7/10\n",
      "5550/5550 - 13s - 2ms/step - accuracy: 0.8614 - loss: 0.3484 - recall: 0.1386 - val_accuracy: 0.8652 - val_loss: 0.3337 - val_recall: 0.2062\n"
     ]
    }
   ],
   "source": [
    "history = model.fit(\n",
    "    X_tr, y_tr, \n",
    "    validation_data=(X_vl, y_vl), \n",
    "    epochs=10, \n",
    "    batch_size=64,\n",
    "    verbose=2,\n",
    "    callbacks=[early_stopping]\n",
    ")"
   ]
  },
  {
   "cell_type": "code",
   "execution_count": 13,
   "metadata": {},
   "outputs": [
    {
     "name": "stdout",
     "output_type": "stream",
     "text": [
      "\u001b[1m1359/1359\u001b[0m \u001b[32m━━━━━━━━━━━━━━━━━━━━\u001b[0m\u001b[37m\u001b[0m \u001b[1m2s\u001b[0m 1ms/step\n",
      "              precision    recall  f1-score   support\n",
      "\n",
      "       False       0.87      0.99      0.92     37243\n",
      "        True       0.60      0.13      0.21      6237\n",
      "\n",
      "    accuracy                           0.86     43480\n",
      "   macro avg       0.73      0.56      0.57     43480\n",
      "weighted avg       0.83      0.86      0.82     43480\n",
      "\n"
     ]
    }
   ],
   "source": [
    "val_pred = model.predict(X_vl)\n",
    "val_pred = (val_pred > 0.5).astype(int)\n",
    "print(classification_report(y_vl, val_pred))"
   ]
  },
  {
   "cell_type": "code",
   "execution_count": 14,
   "metadata": {},
   "outputs": [],
   "source": [
    "def build_model(num_layers=2, num_units=64, optimizer='adam', activation='relu', dropout=0.2):\n",
    "    model = tf.keras.models.Sequential()\n",
    "    model.add(tf.keras.layers.Dense(num_units, activation=activation, input_shape=(X_tr.shape[1],)))\n",
    "    model.add(tf.keras.layers.Dropout(dropout))\n",
    "    \n",
    "    for _ in range(num_layers - 1):\n",
    "        model.add(tf.keras.layers.Dense(num_units, activation=activation))\n",
    "        model.add(tf.keras.layers.Dropout(dropout))\n",
    "    \n",
    "    model.add(tf.keras.layers.Dense(1, activation='sigmoid'))\n",
    "\n",
    "    dict_learning = {\n",
    "    'adam': tf.keras.optimizers.Adam(),\n",
    "    'sgd': tf.keras.optimizers.SGD(),\n",
    "    'lion': tf.keras.optimizers.Lion()\n",
    "    }\n",
    "    \n",
    "    optimizer = dict_learning[optimizer]\n",
    "    \n",
    "    model.compile(optimizer=optimizer, loss='binary_crossentropy', metrics=['accuracy', 'recall'])\n",
    "    return model\n",
    "\n",
    "param_grid = {\n",
    "    'num_layers': [1, 2],\n",
    "    'num_units': [32, 64],\n",
    "    'optimizer': ['adam', 'sgd', 'lion'],\n",
    "    'activation': ['relu', 'tanh'],\n",
    "    'batch_size': [16, 32, 64],\n",
    "    'epochs': [5],\n",
    "}"
   ]
  },
  {
   "cell_type": "markdown",
   "metadata": {},
   "source": [
    "This proto grid search has already been ran over various parameters. Without verbosity. Won't be uploading on git a long version of the last."
   ]
  },
  {
   "cell_type": "code",
   "execution_count": 19,
   "metadata": {},
   "outputs": [
    {
     "name": "stdout",
     "output_type": "stream",
     "text": [
      "Training model with parameters: {'optimizer': 'sgd', 'num_units': 64, 'num_layers': 1, 'epochs': 5, 'batch_size': 16, 'activation': 'relu'}\n",
      "Epoch 1/5\n"
     ]
    },
    {
     "name": "stderr",
     "output_type": "stream",
     "text": [
      "/home/yuri/anaconda3/envs/hlt/lib/python3.11/site-packages/keras/src/layers/core/dense.py:87: UserWarning: Do not pass an `input_shape`/`input_dim` argument to a layer. When using Sequential models, prefer using an `Input(shape)` object as the first layer in the model instead.\n",
      "  super().__init__(activity_regularizer=activity_regularizer, **kwargs)\n"
     ]
    },
    {
     "name": "stdout",
     "output_type": "stream",
     "text": [
      "22197/22197 - 25s - 1ms/step - accuracy: 0.8564 - loss: 0.3647 - recall: 0.0610 - val_accuracy: 0.8622 - val_loss: 0.3405 - val_recall: 0.1400\n",
      "Epoch 2/5\n",
      "22197/22197 - 28s - 1ms/step - accuracy: 0.8584 - loss: 0.3567 - recall: 0.0962 - val_accuracy: 0.8644 - val_loss: 0.3381 - val_recall: 0.1623\n",
      "Epoch 3/5\n",
      "22197/22197 - 27s - 1ms/step - accuracy: 0.8587 - loss: 0.3555 - recall: 0.1020 - val_accuracy: 0.8647 - val_loss: 0.3373 - val_recall: 0.1698\n",
      "Epoch 4/5\n",
      "22197/22197 - 30s - 1ms/step - accuracy: 0.8589 - loss: 0.3549 - recall: 0.1023 - val_accuracy: 0.8644 - val_loss: 0.3365 - val_recall: 0.1571\n",
      "Epoch 5/5\n",
      "22197/22197 - 28s - 1ms/step - accuracy: 0.8588 - loss: 0.3543 - recall: 0.1023 - val_accuracy: 0.8641 - val_loss: 0.3365 - val_recall: 0.1730\n",
      "\u001b[1m1359/1359\u001b[0m \u001b[32m━━━━━━━━━━━━━━━━━━━━\u001b[0m\u001b[37m\u001b[0m \u001b[1m1s\u001b[0m 565us/step\n",
      "Training model with parameters: {'optimizer': 'lion', 'num_units': 32, 'num_layers': 1, 'epochs': 5, 'batch_size': 64, 'activation': 'tanh'}\n",
      "Epoch 1/5\n"
     ]
    },
    {
     "name": "stderr",
     "output_type": "stream",
     "text": [
      "/home/yuri/anaconda3/envs/hlt/lib/python3.11/site-packages/keras/src/layers/core/dense.py:87: UserWarning: Do not pass an `input_shape`/`input_dim` argument to a layer. When using Sequential models, prefer using an `Input(shape)` object as the first layer in the model instead.\n",
      "  super().__init__(activity_regularizer=activity_regularizer, **kwargs)\n"
     ]
    },
    {
     "name": "stdout",
     "output_type": "stream",
     "text": [
      "5550/5550 - 7s - 1ms/step - accuracy: 0.8548 - loss: 0.3665 - recall: 0.0956 - val_accuracy: 0.8607 - val_loss: 0.3416 - val_recall: 0.2254\n",
      "Epoch 2/5\n",
      "5550/5550 - 7s - 1ms/step - accuracy: 0.8590 - loss: 0.3561 - recall: 0.1081 - val_accuracy: 0.8629 - val_loss: 0.3380 - val_recall: 0.1621\n",
      "Epoch 3/5\n",
      "5550/5550 - 7s - 1ms/step - accuracy: 0.8591 - loss: 0.3554 - recall: 0.1125 - val_accuracy: 0.8636 - val_loss: 0.3380 - val_recall: 0.1445\n",
      "Epoch 4/5\n",
      "5550/5550 - 7s - 1ms/step - accuracy: 0.8592 - loss: 0.3552 - recall: 0.1139 - val_accuracy: 0.8632 - val_loss: 0.3394 - val_recall: 0.2011\n",
      "Epoch 5/5\n",
      "5550/5550 - 6s - 1ms/step - accuracy: 0.8594 - loss: 0.3548 - recall: 0.1159 - val_accuracy: 0.8634 - val_loss: 0.3376 - val_recall: 0.1642\n",
      "\u001b[1m1359/1359\u001b[0m \u001b[32m━━━━━━━━━━━━━━━━━━━━\u001b[0m\u001b[37m\u001b[0m \u001b[1m1s\u001b[0m 644us/step\n",
      "Training model with parameters: {'optimizer': 'adam', 'num_units': 32, 'num_layers': 2, 'epochs': 5, 'batch_size': 32, 'activation': 'relu'}\n",
      "Epoch 1/5\n"
     ]
    },
    {
     "name": "stderr",
     "output_type": "stream",
     "text": [
      "/home/yuri/anaconda3/envs/hlt/lib/python3.11/site-packages/keras/src/layers/core/dense.py:87: UserWarning: Do not pass an `input_shape`/`input_dim` argument to a layer. When using Sequential models, prefer using an `Input(shape)` object as the first layer in the model instead.\n",
      "  super().__init__(activity_regularizer=activity_regularizer, **kwargs)\n"
     ]
    },
    {
     "name": "stdout",
     "output_type": "stream",
     "text": [
      "11099/11099 - 17s - 2ms/step - accuracy: 0.8567 - loss: 0.3614 - recall: 0.0931 - val_accuracy: 0.8629 - val_loss: 0.3399 - val_recall: 0.2096\n",
      "Epoch 2/5\n",
      "11099/11099 - 15s - 1ms/step - accuracy: 0.8597 - loss: 0.3544 - recall: 0.1159 - val_accuracy: 0.8629 - val_loss: 0.3364 - val_recall: 0.1951\n",
      "Epoch 3/5\n",
      "11099/11099 - 16s - 1ms/step - accuracy: 0.8598 - loss: 0.3527 - recall: 0.1203 - val_accuracy: 0.8644 - val_loss: 0.3356 - val_recall: 0.1618\n",
      "Epoch 4/5\n",
      "11099/11099 - 15s - 1ms/step - accuracy: 0.8604 - loss: 0.3515 - recall: 0.1252 - val_accuracy: 0.8655 - val_loss: 0.3348 - val_recall: 0.2161\n",
      "Epoch 5/5\n",
      "11099/11099 - 14s - 1ms/step - accuracy: 0.8610 - loss: 0.3507 - recall: 0.1291 - val_accuracy: 0.8643 - val_loss: 0.3349 - val_recall: 0.1725\n",
      "\u001b[1m1359/1359\u001b[0m \u001b[32m━━━━━━━━━━━━━━━━━━━━\u001b[0m\u001b[37m\u001b[0m \u001b[1m1s\u001b[0m 725us/step\n",
      "Training model with parameters: {'optimizer': 'adam', 'num_units': 32, 'num_layers': 1, 'epochs': 5, 'batch_size': 16, 'activation': 'relu'}\n",
      "Epoch 1/5\n"
     ]
    },
    {
     "name": "stderr",
     "output_type": "stream",
     "text": [
      "/home/yuri/anaconda3/envs/hlt/lib/python3.11/site-packages/keras/src/layers/core/dense.py:87: UserWarning: Do not pass an `input_shape`/`input_dim` argument to a layer. When using Sequential models, prefer using an `Input(shape)` object as the first layer in the model instead.\n",
      "  super().__init__(activity_regularizer=activity_regularizer, **kwargs)\n"
     ]
    },
    {
     "name": "stdout",
     "output_type": "stream",
     "text": [
      "22197/22197 - 29s - 1ms/step - accuracy: 0.8574 - loss: 0.3600 - recall: 0.0919 - val_accuracy: 0.8633 - val_loss: 0.3383 - val_recall: 0.1760\n",
      "Epoch 2/5\n",
      "22197/22197 - 27s - 1ms/step - accuracy: 0.8586 - loss: 0.3557 - recall: 0.1021 - val_accuracy: 0.8640 - val_loss: 0.3367 - val_recall: 0.1764\n",
      "Epoch 3/5\n",
      "22197/22197 - 30s - 1ms/step - accuracy: 0.8591 - loss: 0.3547 - recall: 0.1068 - val_accuracy: 0.8632 - val_loss: 0.3382 - val_recall: 0.2131\n",
      "Epoch 4/5\n",
      "22197/22197 - 29s - 1ms/step - accuracy: 0.8594 - loss: 0.3540 - recall: 0.1107 - val_accuracy: 0.8640 - val_loss: 0.3368 - val_recall: 0.1669\n",
      "Epoch 5/5\n",
      "22197/22197 - 26s - 1ms/step - accuracy: 0.8597 - loss: 0.3535 - recall: 0.1113 - val_accuracy: 0.8632 - val_loss: 0.3357 - val_recall: 0.1772\n",
      "\u001b[1m1359/1359\u001b[0m \u001b[32m━━━━━━━━━━━━━━━━━━━━\u001b[0m\u001b[37m\u001b[0m \u001b[1m1s\u001b[0m 647us/step\n",
      "Training model with parameters: {'optimizer': 'sgd', 'num_units': 64, 'num_layers': 1, 'epochs': 5, 'batch_size': 64, 'activation': 'relu'}\n",
      "Epoch 1/5\n"
     ]
    },
    {
     "name": "stderr",
     "output_type": "stream",
     "text": [
      "/home/yuri/anaconda3/envs/hlt/lib/python3.11/site-packages/keras/src/layers/core/dense.py:87: UserWarning: Do not pass an `input_shape`/`input_dim` argument to a layer. When using Sequential models, prefer using an `Input(shape)` object as the first layer in the model instead.\n",
      "  super().__init__(activity_regularizer=activity_regularizer, **kwargs)\n"
     ]
    },
    {
     "name": "stdout",
     "output_type": "stream",
     "text": [
      "5550/5550 - 7s - 1ms/step - accuracy: 0.8550 - loss: 0.3767 - recall: 0.0395 - val_accuracy: 0.8612 - val_loss: 0.3498 - val_recall: 0.0823\n",
      "Epoch 2/5\n",
      "5550/5550 - 6s - 1ms/step - accuracy: 0.8571 - loss: 0.3627 - recall: 0.0618 - val_accuracy: 0.8623 - val_loss: 0.3445 - val_recall: 0.1015\n",
      "Epoch 3/5\n",
      "5550/5550 - 6s - 1ms/step - accuracy: 0.8575 - loss: 0.3595 - recall: 0.0746 - val_accuracy: 0.8628 - val_loss: 0.3418 - val_recall: 0.1523\n",
      "Epoch 4/5\n",
      "5550/5550 - 6s - 1ms/step - accuracy: 0.8580 - loss: 0.3580 - recall: 0.0848 - val_accuracy: 0.8628 - val_loss: 0.3409 - val_recall: 0.1554\n",
      "Epoch 5/5\n",
      "5550/5550 - 6s - 1ms/step - accuracy: 0.8583 - loss: 0.3571 - recall: 0.0898 - val_accuracy: 0.8634 - val_loss: 0.3403 - val_recall: 0.1579\n",
      "\u001b[1m1359/1359\u001b[0m \u001b[32m━━━━━━━━━━━━━━━━━━━━\u001b[0m\u001b[37m\u001b[0m \u001b[1m1s\u001b[0m 737us/step\n"
     ]
    }
   ],
   "source": [
    "param_list = list(ParameterSampler(param_grid, n_iter=5, random_state=42))\n",
    "\n",
    "for params in param_list:\n",
    "    print(f\"Training model with parameters: {params}\")\n",
    "    model = build_model(params['num_layers'], params['num_units'], params['optimizer'], params['activation'])\n",
    "    history = model.fit(\n",
    "        X_tr, y_tr, \n",
    "        validation_data=(X_vl, y_vl), \n",
    "        epochs=params['epochs'], \n",
    "        batch_size=params['batch_size'],\n",
    "        verbose=2,\n",
    "        # callbacks=[early_stopping]\n",
    "    )\n",
    "    val_pred = model.predict(X_vl)\n",
    "    val_pred = (val_pred > 0.5).astype(int)\n",
    "    # write metrics and params in a file\n",
    "    with open('model_eval.txt', 'a') as f:\n",
    "        f.write(f\"Parameters: {params}\\n\")\n",
    "        f.write(classification_report(y_vl, val_pred))\n",
    "        f.write('\\n\\n')\n",
    "        f.write('\\n\\n')\n"
   ]
  },
  {
   "cell_type": "markdown",
   "metadata": {},
   "source": [
    "Nothing much changes between these different hyperparameters. Maybe the answer lies elsewhere, like in regularization: oversampling and dropout?"
   ]
  },
  {
   "cell_type": "code",
   "execution_count": 15,
   "metadata": {},
   "outputs": [],
   "source": [
    "param_grid = {\n",
    "    'dropout': [0.2, 0.5],\n",
    "    'num_layers': [1, 2],\n",
    "    'num_units': [32, 64],\n",
    "    'optimizer': ['adam'],\n",
    "    'activation': ['relu'],\n",
    "    'batch_size': [64],\n",
    "    'epochs': [5],\n",
    "}"
   ]
  },
  {
   "cell_type": "code",
   "execution_count": 16,
   "metadata": {},
   "outputs": [
    {
     "name": "stdout",
     "output_type": "stream",
     "text": [
      "Training model with parameters: {'optimizer': 'adam', 'num_units': 32, 'num_layers': 1, 'epochs': 5, 'dropout': 0.2, 'batch_size': 64, 'activation': 'relu'}\n"
     ]
    },
    {
     "name": "stderr",
     "output_type": "stream",
     "text": [
      "/home/yuri/anaconda3/envs/hlt/lib/python3.11/site-packages/keras/src/layers/core/dense.py:87: UserWarning: Do not pass an `input_shape`/`input_dim` argument to a layer. When using Sequential models, prefer using an `Input(shape)` object as the first layer in the model instead.\n",
      "  super().__init__(activity_regularizer=activity_regularizer, **kwargs)\n",
      "2025-01-01 23:05:15.535287: E external/local_xla/xla/stream_executor/cuda/cuda_driver.cc:152] failed call to cuInit: INTERNAL: CUDA error: Failed call to cuInit: UNKNOWN ERROR (303)\n"
     ]
    },
    {
     "name": "stdout",
     "output_type": "stream",
     "text": [
      "Epoch 1/5\n",
      "9484/9484 - 13s - 1ms/step - accuracy: 0.6852 - loss: 0.5932 - recall: 0.6917 - val_accuracy: 0.7055 - val_loss: 0.5770 - val_recall: 0.7314\n",
      "Epoch 2/5\n",
      "9484/9484 - 12s - 1ms/step - accuracy: 0.6939 - loss: 0.5831 - recall: 0.7026 - val_accuracy: 0.7170 - val_loss: 0.5596 - val_recall: 0.7236\n",
      "Epoch 3/5\n",
      "9484/9484 - 12s - 1ms/step - accuracy: 0.6955 - loss: 0.5816 - recall: 0.7055 - val_accuracy: 0.7078 - val_loss: 0.5745 - val_recall: 0.7409\n",
      "Epoch 4/5\n",
      "9484/9484 - 12s - 1ms/step - accuracy: 0.6959 - loss: 0.5810 - recall: 0.7052 - val_accuracy: 0.7084 - val_loss: 0.5689 - val_recall: 0.7414\n",
      "Epoch 5/5\n",
      "9484/9484 - 12s - 1ms/step - accuracy: 0.6960 - loss: 0.5799 - recall: 0.7058 - val_accuracy: 0.7132 - val_loss: 0.5597 - val_recall: 0.7343\n",
      "\u001b[1m1359/1359\u001b[0m \u001b[32m━━━━━━━━━━━━━━━━━━━━\u001b[0m\u001b[37m\u001b[0m \u001b[1m1s\u001b[0m 590us/step\n",
      "Training model with parameters: {'optimizer': 'adam', 'num_units': 64, 'num_layers': 1, 'epochs': 5, 'dropout': 0.2, 'batch_size': 64, 'activation': 'relu'}\n",
      "Epoch 1/5\n"
     ]
    },
    {
     "name": "stderr",
     "output_type": "stream",
     "text": [
      "/home/yuri/anaconda3/envs/hlt/lib/python3.11/site-packages/keras/src/layers/core/dense.py:87: UserWarning: Do not pass an `input_shape`/`input_dim` argument to a layer. When using Sequential models, prefer using an `Input(shape)` object as the first layer in the model instead.\n",
      "  super().__init__(activity_regularizer=activity_regularizer, **kwargs)\n"
     ]
    },
    {
     "name": "stdout",
     "output_type": "stream",
     "text": [
      "9484/9484 - 13s - 1ms/step - accuracy: 0.6899 - loss: 0.5871 - recall: 0.6920 - val_accuracy: 0.7039 - val_loss: 0.5778 - val_recall: 0.7396\n",
      "Epoch 2/5\n",
      "9484/9484 - 13s - 1ms/step - accuracy: 0.6959 - loss: 0.5803 - recall: 0.7027 - val_accuracy: 0.6917 - val_loss: 0.5933 - val_recall: 0.7585\n",
      "Epoch 3/5\n",
      "9484/9484 - 12s - 1ms/step - accuracy: 0.6973 - loss: 0.5781 - recall: 0.7050 - val_accuracy: 0.6889 - val_loss: 0.6010 - val_recall: 0.7662\n",
      "Epoch 4/5\n",
      "9484/9484 - 11s - 1ms/step - accuracy: 0.6986 - loss: 0.5768 - recall: 0.7052 - val_accuracy: 0.7292 - val_loss: 0.5431 - val_recall: 0.7233\n",
      "Epoch 5/5\n",
      "9484/9484 - 12s - 1ms/step - accuracy: 0.6990 - loss: 0.5762 - recall: 0.7058 - val_accuracy: 0.7253 - val_loss: 0.5455 - val_recall: 0.7186\n",
      "\u001b[1m1359/1359\u001b[0m \u001b[32m━━━━━━━━━━━━━━━━━━━━\u001b[0m\u001b[37m\u001b[0m \u001b[1m1s\u001b[0m 553us/step\n",
      "Training model with parameters: {'optimizer': 'adam', 'num_units': 32, 'num_layers': 2, 'epochs': 5, 'dropout': 0.2, 'batch_size': 64, 'activation': 'relu'}\n",
      "Epoch 1/5\n"
     ]
    },
    {
     "name": "stderr",
     "output_type": "stream",
     "text": [
      "/home/yuri/anaconda3/envs/hlt/lib/python3.11/site-packages/keras/src/layers/core/dense.py:87: UserWarning: Do not pass an `input_shape`/`input_dim` argument to a layer. When using Sequential models, prefer using an `Input(shape)` object as the first layer in the model instead.\n",
      "  super().__init__(activity_regularizer=activity_regularizer, **kwargs)\n"
     ]
    },
    {
     "name": "stdout",
     "output_type": "stream",
     "text": [
      "9484/9484 - 16s - 2ms/step - accuracy: 0.6867 - loss: 0.5924 - recall: 0.6848 - val_accuracy: 0.7253 - val_loss: 0.5632 - val_recall: 0.7156\n",
      "Epoch 2/5\n",
      "9484/9484 - 12s - 1ms/step - accuracy: 0.6955 - loss: 0.5817 - recall: 0.6883 - val_accuracy: 0.7292 - val_loss: 0.5593 - val_recall: 0.7160\n",
      "Epoch 3/5\n",
      "9484/9484 - 12s - 1ms/step - accuracy: 0.6974 - loss: 0.5795 - recall: 0.6896 - val_accuracy: 0.7242 - val_loss: 0.5684 - val_recall: 0.7228\n",
      "Epoch 4/5\n",
      "9484/9484 - 13s - 1ms/step - accuracy: 0.6980 - loss: 0.5783 - recall: 0.6890 - val_accuracy: 0.7463 - val_loss: 0.5378 - val_recall: 0.7048\n",
      "Epoch 5/5\n",
      "9484/9484 - 12s - 1ms/step - accuracy: 0.6994 - loss: 0.5774 - recall: 0.6902 - val_accuracy: 0.7423 - val_loss: 0.5352 - val_recall: 0.7059\n",
      "\u001b[1m1359/1359\u001b[0m \u001b[32m━━━━━━━━━━━━━━━━━━━━\u001b[0m\u001b[37m\u001b[0m \u001b[1m1s\u001b[0m 609us/step\n",
      "Training model with parameters: {'optimizer': 'adam', 'num_units': 64, 'num_layers': 2, 'epochs': 5, 'dropout': 0.2, 'batch_size': 64, 'activation': 'relu'}\n",
      "Epoch 1/5\n"
     ]
    },
    {
     "name": "stderr",
     "output_type": "stream",
     "text": [
      "/home/yuri/anaconda3/envs/hlt/lib/python3.11/site-packages/keras/src/layers/core/dense.py:87: UserWarning: Do not pass an `input_shape`/`input_dim` argument to a layer. When using Sequential models, prefer using an `Input(shape)` object as the first layer in the model instead.\n",
      "  super().__init__(activity_regularizer=activity_regularizer, **kwargs)\n"
     ]
    },
    {
     "name": "stdout",
     "output_type": "stream",
     "text": [
      "9484/9484 - 14s - 1ms/step - accuracy: 0.6912 - loss: 0.5857 - recall: 0.6889 - val_accuracy: 0.7133 - val_loss: 0.5629 - val_recall: 0.7257\n",
      "Epoch 2/5\n",
      "9484/9484 - 14s - 1ms/step - accuracy: 0.6983 - loss: 0.5769 - recall: 0.6975 - val_accuracy: 0.7214 - val_loss: 0.5790 - val_recall: 0.7300\n",
      "Epoch 3/5\n",
      "9484/9484 - 13s - 1ms/step - accuracy: 0.7005 - loss: 0.5741 - recall: 0.6971 - val_accuracy: 0.7181 - val_loss: 0.5672 - val_recall: 0.7337\n",
      "Epoch 4/5\n",
      "9484/9484 - 13s - 1ms/step - accuracy: 0.7015 - loss: 0.5724 - recall: 0.6981 - val_accuracy: 0.7084 - val_loss: 0.5762 - val_recall: 0.7464\n",
      "Epoch 5/5\n",
      "9484/9484 - 13s - 1ms/step - accuracy: 0.7028 - loss: 0.5710 - recall: 0.6992 - val_accuracy: 0.7336 - val_loss: 0.5438 - val_recall: 0.7226\n",
      "\u001b[1m1359/1359\u001b[0m \u001b[32m━━━━━━━━━━━━━━━━━━━━\u001b[0m\u001b[37m\u001b[0m \u001b[1m1s\u001b[0m 614us/step\n",
      "Training model with parameters: {'optimizer': 'adam', 'num_units': 32, 'num_layers': 1, 'epochs': 5, 'dropout': 0.5, 'batch_size': 64, 'activation': 'relu'}\n",
      "Epoch 1/5\n"
     ]
    },
    {
     "name": "stderr",
     "output_type": "stream",
     "text": [
      "/home/yuri/anaconda3/envs/hlt/lib/python3.11/site-packages/keras/src/layers/core/dense.py:87: UserWarning: Do not pass an `input_shape`/`input_dim` argument to a layer. When using Sequential models, prefer using an `Input(shape)` object as the first layer in the model instead.\n",
      "  super().__init__(activity_regularizer=activity_regularizer, **kwargs)\n"
     ]
    },
    {
     "name": "stdout",
     "output_type": "stream",
     "text": [
      "9484/9484 - 13s - 1ms/step - accuracy: 0.6857 - loss: 0.5920 - recall: 0.6913 - val_accuracy: 0.6881 - val_loss: 0.5935 - val_recall: 0.7553\n",
      "Epoch 2/5\n",
      "9484/9484 - 12s - 1ms/step - accuracy: 0.6937 - loss: 0.5832 - recall: 0.7029 - val_accuracy: 0.7068 - val_loss: 0.5712 - val_recall: 0.7406\n",
      "Epoch 3/5\n",
      "9484/9484 - 12s - 1ms/step - accuracy: 0.6952 - loss: 0.5813 - recall: 0.7060 - val_accuracy: 0.7060 - val_loss: 0.5732 - val_recall: 0.7420\n",
      "Epoch 4/5\n",
      "9484/9484 - 12s - 1ms/step - accuracy: 0.6955 - loss: 0.5804 - recall: 0.7060 - val_accuracy: 0.7063 - val_loss: 0.5716 - val_recall: 0.7452\n",
      "Epoch 5/5\n",
      "9484/9484 - 12s - 1ms/step - accuracy: 0.6962 - loss: 0.5796 - recall: 0.7068 - val_accuracy: 0.7235 - val_loss: 0.5520 - val_recall: 0.7303\n",
      "\u001b[1m1359/1359\u001b[0m \u001b[32m━━━━━━━━━━━━━━━━━━━━\u001b[0m\u001b[37m\u001b[0m \u001b[1m1s\u001b[0m 553us/step\n",
      "Training model with parameters: {'optimizer': 'adam', 'num_units': 64, 'num_layers': 1, 'epochs': 5, 'dropout': 0.5, 'batch_size': 64, 'activation': 'relu'}\n",
      "Epoch 1/5\n"
     ]
    },
    {
     "name": "stderr",
     "output_type": "stream",
     "text": [
      "/home/yuri/anaconda3/envs/hlt/lib/python3.11/site-packages/keras/src/layers/core/dense.py:87: UserWarning: Do not pass an `input_shape`/`input_dim` argument to a layer. When using Sequential models, prefer using an `Input(shape)` object as the first layer in the model instead.\n",
      "  super().__init__(activity_regularizer=activity_regularizer, **kwargs)\n"
     ]
    },
    {
     "name": "stdout",
     "output_type": "stream",
     "text": [
      "9484/9484 - 14s - 1ms/step - accuracy: 0.6895 - loss: 0.5874 - recall: 0.6937 - val_accuracy: 0.7118 - val_loss: 0.5657 - val_recall: 0.7377\n",
      "Epoch 2/5\n",
      "9484/9484 - 12s - 1ms/step - accuracy: 0.6964 - loss: 0.5797 - recall: 0.7023 - val_accuracy: 0.7345 - val_loss: 0.5405 - val_recall: 0.7108\n",
      "Epoch 3/5\n",
      "9484/9484 - 12s - 1ms/step - accuracy: 0.6981 - loss: 0.5777 - recall: 0.7041 - val_accuracy: 0.6979 - val_loss: 0.5846 - val_recall: 0.7513\n",
      "Epoch 4/5\n",
      "9484/9484 - 12s - 1ms/step - accuracy: 0.6987 - loss: 0.5766 - recall: 0.7054 - val_accuracy: 0.7245 - val_loss: 0.5474 - val_recall: 0.7241\n",
      "Epoch 5/5\n",
      "9484/9484 - 12s - 1ms/step - accuracy: 0.6988 - loss: 0.5759 - recall: 0.7059 - val_accuracy: 0.7285 - val_loss: 0.5448 - val_recall: 0.7207\n",
      "\u001b[1m1359/1359\u001b[0m \u001b[32m━━━━━━━━━━━━━━━━━━━━\u001b[0m\u001b[37m\u001b[0m \u001b[1m1s\u001b[0m 655us/step\n",
      "Training model with parameters: {'optimizer': 'adam', 'num_units': 32, 'num_layers': 2, 'epochs': 5, 'dropout': 0.5, 'batch_size': 64, 'activation': 'relu'}\n",
      "Epoch 1/5\n"
     ]
    },
    {
     "name": "stderr",
     "output_type": "stream",
     "text": [
      "/home/yuri/anaconda3/envs/hlt/lib/python3.11/site-packages/keras/src/layers/core/dense.py:87: UserWarning: Do not pass an `input_shape`/`input_dim` argument to a layer. When using Sequential models, prefer using an `Input(shape)` object as the first layer in the model instead.\n",
      "  super().__init__(activity_regularizer=activity_regularizer, **kwargs)\n"
     ]
    },
    {
     "name": "stdout",
     "output_type": "stream",
     "text": [
      "9484/9484 - 14s - 1ms/step - accuracy: 0.6850 - loss: 0.5938 - recall: 0.6869 - val_accuracy: 0.7286 - val_loss: 0.5594 - val_recall: 0.7079\n",
      "Epoch 2/5\n",
      "9484/9484 - 13s - 1ms/step - accuracy: 0.6949 - loss: 0.5826 - recall: 0.6922 - val_accuracy: 0.7150 - val_loss: 0.5650 - val_recall: 0.7287\n",
      "Epoch 3/5\n",
      "9484/9484 - 13s - 1ms/step - accuracy: 0.6962 - loss: 0.5804 - recall: 0.6954 - val_accuracy: 0.7224 - val_loss: 0.5690 - val_recall: 0.7253\n",
      "Epoch 4/5\n",
      "9484/9484 - 12s - 1ms/step - accuracy: 0.6977 - loss: 0.5791 - recall: 0.6943 - val_accuracy: 0.7267 - val_loss: 0.5567 - val_recall: 0.7199\n",
      "Epoch 5/5\n",
      "9484/9484 - 12s - 1ms/step - accuracy: 0.6977 - loss: 0.5779 - recall: 0.6948 - val_accuracy: 0.7131 - val_loss: 0.5851 - val_recall: 0.7390\n",
      "\u001b[1m1359/1359\u001b[0m \u001b[32m━━━━━━━━━━━━━━━━━━━━\u001b[0m\u001b[37m\u001b[0m \u001b[1m1s\u001b[0m 615us/step\n",
      "Training model with parameters: {'optimizer': 'adam', 'num_units': 64, 'num_layers': 2, 'epochs': 5, 'dropout': 0.5, 'batch_size': 64, 'activation': 'relu'}\n",
      "Epoch 1/5\n"
     ]
    },
    {
     "name": "stderr",
     "output_type": "stream",
     "text": [
      "/home/yuri/anaconda3/envs/hlt/lib/python3.11/site-packages/keras/src/layers/core/dense.py:87: UserWarning: Do not pass an `input_shape`/`input_dim` argument to a layer. When using Sequential models, prefer using an `Input(shape)` object as the first layer in the model instead.\n",
      "  super().__init__(activity_regularizer=activity_regularizer, **kwargs)\n"
     ]
    },
    {
     "name": "stdout",
     "output_type": "stream",
     "text": [
      "9484/9484 - 15s - 2ms/step - accuracy: 0.6911 - loss: 0.5857 - recall: 0.6911 - val_accuracy: 0.7153 - val_loss: 0.5784 - val_recall: 0.7282\n",
      "Epoch 2/5\n",
      "9484/9484 - 13s - 1ms/step - accuracy: 0.6981 - loss: 0.5770 - recall: 0.6972 - val_accuracy: 0.7097 - val_loss: 0.5607 - val_recall: 0.7388\n",
      "Epoch 3/5\n",
      "9484/9484 - 14s - 1ms/step - accuracy: 0.7004 - loss: 0.5740 - recall: 0.7002 - val_accuracy: 0.7111 - val_loss: 0.5824 - val_recall: 0.7438\n",
      "Epoch 4/5\n",
      "9484/9484 - 14s - 1ms/step - accuracy: 0.7016 - loss: 0.5724 - recall: 0.6989 - val_accuracy: 0.7198 - val_loss: 0.5555 - val_recall: 0.7361\n",
      "Epoch 5/5\n",
      "9484/9484 - 13s - 1ms/step - accuracy: 0.7026 - loss: 0.5711 - recall: 0.7006 - val_accuracy: 0.7165 - val_loss: 0.5867 - val_recall: 0.7468\n",
      "\u001b[1m1359/1359\u001b[0m \u001b[32m━━━━━━━━━━━━━━━━━━━━\u001b[0m\u001b[37m\u001b[0m \u001b[1m1s\u001b[0m 565us/step\n"
     ]
    }
   ],
   "source": [
    "# oversample = RandomOverSampler(sampling_strategy='minority', random_state=42)\n",
    "# oversampled_X, oversampled_y = oversample.fit_resample(X_tr, y_tr)\n",
    "# oversampled_X = oversampled_X.reset_index(drop=True)\n",
    "# oversampled_Y = oversampled_y.reset_index(drop=True)\n",
    "\n",
    "param_list = list(ParameterSampler(param_grid, n_iter=8, random_state=42))\n",
    "\n",
    "for params in param_list:\n",
    "    print(f\"Training model with parameters: {params}\")\n",
    "    model = build_model(params['num_layers'], params['num_units'], params['optimizer'], params['activation'])\n",
    "    history = model.fit(\n",
    "        oversampled_X, oversampled_y, \n",
    "        validation_data=(X_vl, y_vl), \n",
    "        epochs=params['epochs'], \n",
    "        batch_size=params['batch_size'],\n",
    "        verbose=2,\n",
    "        # callbacks=[early_stopping]\n",
    "    )\n",
    "    val_pred = model.predict(X_vl)\n",
    "    val_pred = (val_pred > 0.5).astype(int)\n",
    "    # write metrics and params in a file\n",
    "    with open('model_eval.txt', 'a') as f:\n",
    "        f.write(f\"Parameters: {params}\\n\")\n",
    "        f.write(classification_report(y_vl, val_pred))\n",
    "        f.write('\\n\\n')\n",
    "        f.write('\\n\\n')\n"
   ]
  }
 ],
 "metadata": {
  "kernelspec": {
   "display_name": "hlt",
   "language": "python",
   "name": "python3"
  },
  "language_info": {
   "codemirror_mode": {
    "name": "ipython",
    "version": 3
   },
   "file_extension": ".py",
   "mimetype": "text/x-python",
   "name": "python",
   "nbconvert_exporter": "python",
   "pygments_lexer": "ipython3",
   "version": "3.11.5"
  }
 },
 "nbformat": 4,
 "nbformat_minor": 2
}
