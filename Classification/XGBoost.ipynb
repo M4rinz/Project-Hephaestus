{
 "cells": [
  {
   "cell_type": "markdown",
   "metadata": {},
   "source": [
    "**TODO**: \n",
    "- [x] improve progress bar\n",
    "- [] remove early races?\n",
    "- [x] migliora splitting di tr/vl (correggere validation che include test)\n",
    "- [x] introduce `race_country == nationality`\n",
    "- [x] recompute `is_tarmac`\n",
    "- [] can we reorder seasons from colder to warmer? does it make sense?\n",
    "- [] try different sampling strategy\n",
    "- [x] use GPU (hopefully speeds up grid search)\n",
    "- [] retrain model using all the development set\n",
    "- [] decide the important metrics (probaly f1 and precision/recall of winners)\n",
    "- [] study hyperparameter of XGB\n",
    "- [] grid search for FBT (it is not giving good results)\n",
    "- [] compare with normal tree\n",
    "- [] compute metrics of FBT\n",
    "- [] refactor this notebook\n",
    "- [] how does the prediction changes changing one input (explainability)"
   ]
  },
  {
   "cell_type": "markdown",
   "metadata": {},
   "source": [
    "# CREATING THE DATASET"
   ]
  },
  {
   "cell_type": "code",
   "execution_count": 1,
   "metadata": {},
   "outputs": [],
   "source": [
    "# As always we start by importing the necessary libraries\n",
    "# and loading the data we will be working with. (at this point I'm importing stuff just for the fun of it)\n",
    "import sys\n",
    "import os\n",
    "sys.path.append(os.path.abspath(os.path.join('..')))\n",
    "\n",
    "import pandas as pd\n",
    "import numpy as np\n",
    "import matplotlib.pyplot as plt\n",
    "import seaborn as sns\n",
    "\n",
    "from utility.classification_utility import *\n",
    "\n",
    "# we define a random state to make the results reproducible\n",
    "RANDOM_STATE = 42\n",
    "RUN_SLOW_STUFF = True\n",
    "\n",
    "cyc = '../dataset/cyclists_cleaned.csv'\n",
    "races = '../dataset/races_cleaned.csv'\n",
    "\n",
    "full_df = get_merged_dataset(cyc, races)\n",
    "full_df = define_target(full_df) "
   ]
  },
  {
   "cell_type": "code",
   "execution_count": 2,
   "metadata": {},
   "outputs": [
    {
     "name": "stdout",
     "output_type": "stream",
     "text": [
      "points: 0\n",
      "position: 0\n",
      "average_speed: 0\n",
      "stamina_index: 137267\n"
     ]
    }
   ],
   "source": [
    "#full_df = define_target(full_df)\n",
    "full_df[['points', 'position', 'average_speed', 'stamina_index']]\n",
    "print('points:', full_df['points'].isna().sum())\n",
    "print('position:',full_df['position'].isna().sum())\n",
    "print('average_speed:',full_df['average_speed'].isna().sum())\n",
    "print('stamina_index:',full_df['stamina_index'].isna().sum())"
   ]
  },
  {
   "cell_type": "code",
   "execution_count": 3,
   "metadata": {},
   "outputs": [
    {
     "data": {
      "text/plain": [
       "Index(['_url_rac', 'name_rac', 'stage', 'stage_type', 'points', 'uci_points',\n",
       "       'length', 'climb_total', 'profile', 'startlist_quality', 'date',\n",
       "       'position', 'cyclist', 'cyclist_age_rac', 'is_tarmac', 'delta', 'time',\n",
       "       'time_seconds', 'average_speed', 'steepness', 'season', 'is_staged',\n",
       "       'race_country', 'norm_points', 'age_performance_index',\n",
       "       'quality_adjusted_points', 'normalized_length', 'normalized_quality',\n",
       "       'normalized_steepness', 'normalized_time', 'stamina_index', '_url_cyc',\n",
       "       'name_cyc', 'birth_year', 'weight', 'height', 'nationality', 'bmi',\n",
       "       'race_count', 'experience_level', 'total_points', 'victories_by_points',\n",
       "       'avg_points_per_race', 'average_position', 'avg_speed_cyclist',\n",
       "       'cyclist_age_cyc', 'mean_stamina_index', 'target'],\n",
       "      dtype='object')"
      ]
     },
     "execution_count": 3,
     "metadata": {},
     "output_type": "execute_result"
    }
   ],
   "source": [
    "full_df.columns"
   ]
  },
  {
   "cell_type": "code",
   "execution_count": 4,
   "metadata": {},
   "outputs": [
    {
     "name": "stdout",
     "output_type": "stream",
     "text": [
      "100.00%  \n"
     ]
    }
   ],
   "source": [
    "full_df = recompute_metrics(full_df,\n",
    "                  avg_points_per_race_D=-1,\n",
    "                  average_position_D=-1,\n",
    "                  avg_speed_cyclist_D=-1,\n",
    "                  mean_stamina_index=-1,\n",
    "                  total_points_D=-1,\n",
    "                  missing_value_policy='mean')"
   ]
  },
  {
   "cell_type": "code",
   "execution_count": 5,
   "metadata": {},
   "outputs": [],
   "source": [
    "full_df = define_target(full_df)"
   ]
  },
  {
   "cell_type": "markdown",
   "metadata": {},
   "source": [
    "## Let's see if everything seems reasonable"
   ]
  },
  {
   "cell_type": "code",
   "execution_count": 6,
   "metadata": {},
   "outputs": [
    {
     "data": {
      "text/html": [
       "<div>\n",
       "<style scoped>\n",
       "    .dataframe tbody tr th:only-of-type {\n",
       "        vertical-align: middle;\n",
       "    }\n",
       "\n",
       "    .dataframe tbody tr th {\n",
       "        vertical-align: top;\n",
       "    }\n",
       "\n",
       "    .dataframe thead th {\n",
       "        text-align: right;\n",
       "    }\n",
       "</style>\n",
       "<table border=\"1\" class=\"dataframe\">\n",
       "  <thead>\n",
       "    <tr style=\"text-align: right;\">\n",
       "      <th></th>\n",
       "      <th>_url_rac</th>\n",
       "      <th>cyclist</th>\n",
       "      <th>points</th>\n",
       "      <th>total_points</th>\n",
       "      <th>date</th>\n",
       "      <th>position</th>\n",
       "      <th>avg_points_per_race</th>\n",
       "    </tr>\n",
       "  </thead>\n",
       "  <tbody>\n",
       "    <tr>\n",
       "      <th>449815</th>\n",
       "      <td>strade-bianche/2019/result</td>\n",
       "      <td>tadej-pogacar</td>\n",
       "      <td>5.0</td>\n",
       "      <td>-1.0</td>\n",
       "      <td>2019-03-09</td>\n",
       "      <td>29</td>\n",
       "      <td>-1.000000</td>\n",
       "    </tr>\n",
       "    <tr>\n",
       "      <th>453134</th>\n",
       "      <td>itzulia-basque-country/2019/stage-2</td>\n",
       "      <td>tadej-pogacar</td>\n",
       "      <td>2.0</td>\n",
       "      <td>5.0</td>\n",
       "      <td>2019-04-09</td>\n",
       "      <td>8</td>\n",
       "      <td>5.000000</td>\n",
       "    </tr>\n",
       "    <tr>\n",
       "      <th>453339</th>\n",
       "      <td>itzulia-basque-country/2019/stage-3</td>\n",
       "      <td>tadej-pogacar</td>\n",
       "      <td>0.0</td>\n",
       "      <td>7.0</td>\n",
       "      <td>2019-04-10</td>\n",
       "      <td>77</td>\n",
       "      <td>3.500000</td>\n",
       "    </tr>\n",
       "    <tr>\n",
       "      <th>453386</th>\n",
       "      <td>itzulia-basque-country/2019/stage-5</td>\n",
       "      <td>tadej-pogacar</td>\n",
       "      <td>10.0</td>\n",
       "      <td>7.0</td>\n",
       "      <td>2019-04-12</td>\n",
       "      <td>4</td>\n",
       "      <td>2.333333</td>\n",
       "    </tr>\n",
       "    <tr>\n",
       "      <th>453568</th>\n",
       "      <td>itzulia-basque-country/2019/stage-6</td>\n",
       "      <td>tadej-pogacar</td>\n",
       "      <td>10.0</td>\n",
       "      <td>17.0</td>\n",
       "      <td>2019-04-13</td>\n",
       "      <td>4</td>\n",
       "      <td>4.250000</td>\n",
       "    </tr>\n",
       "    <tr>\n",
       "      <th>...</th>\n",
       "      <td>...</td>\n",
       "      <td>...</td>\n",
       "      <td>...</td>\n",
       "      <td>...</td>\n",
       "      <td>...</td>\n",
       "      <td>...</td>\n",
       "      <td>...</td>\n",
       "    </tr>\n",
       "    <tr>\n",
       "      <th>522371</th>\n",
       "      <td>tour-de-france/2023/stage-16</td>\n",
       "      <td>tadej-pogacar</td>\n",
       "      <td>70.0</td>\n",
       "      <td>5178.0</td>\n",
       "      <td>2023-07-18</td>\n",
       "      <td>1</td>\n",
       "      <td>35.958333</td>\n",
       "    </tr>\n",
       "    <tr>\n",
       "      <th>522399</th>\n",
       "      <td>tour-de-france/2023/stage-17</td>\n",
       "      <td>tadej-pogacar</td>\n",
       "      <td>0.0</td>\n",
       "      <td>5248.0</td>\n",
       "      <td>2023-07-19</td>\n",
       "      <td>21</td>\n",
       "      <td>36.193103</td>\n",
       "    </tr>\n",
       "    <tr>\n",
       "      <th>522631</th>\n",
       "      <td>tour-de-france/2023/stage-18</td>\n",
       "      <td>tadej-pogacar</td>\n",
       "      <td>0.0</td>\n",
       "      <td>5248.0</td>\n",
       "      <td>2023-07-20</td>\n",
       "      <td>25</td>\n",
       "      <td>35.945205</td>\n",
       "    </tr>\n",
       "    <tr>\n",
       "      <th>522749</th>\n",
       "      <td>tour-de-france/2023/stage-19</td>\n",
       "      <td>tadej-pogacar</td>\n",
       "      <td>0.0</td>\n",
       "      <td>5248.0</td>\n",
       "      <td>2023-07-21</td>\n",
       "      <td>41</td>\n",
       "      <td>35.700680</td>\n",
       "    </tr>\n",
       "    <tr>\n",
       "      <th>522948</th>\n",
       "      <td>tour-de-france/2023/stage-20</td>\n",
       "      <td>tadej-pogacar</td>\n",
       "      <td>100.0</td>\n",
       "      <td>5248.0</td>\n",
       "      <td>2023-07-22</td>\n",
       "      <td>0</td>\n",
       "      <td>35.459459</td>\n",
       "    </tr>\n",
       "  </tbody>\n",
       "</table>\n",
       "<p>149 rows × 7 columns</p>\n",
       "</div>"
      ],
      "text/plain": [
       "                                   _url_rac        cyclist  points  \\\n",
       "449815           strade-bianche/2019/result  tadej-pogacar     5.0   \n",
       "453134  itzulia-basque-country/2019/stage-2  tadej-pogacar     2.0   \n",
       "453339  itzulia-basque-country/2019/stage-3  tadej-pogacar     0.0   \n",
       "453386  itzulia-basque-country/2019/stage-5  tadej-pogacar    10.0   \n",
       "453568  itzulia-basque-country/2019/stage-6  tadej-pogacar    10.0   \n",
       "...                                     ...            ...     ...   \n",
       "522371         tour-de-france/2023/stage-16  tadej-pogacar    70.0   \n",
       "522399         tour-de-france/2023/stage-17  tadej-pogacar     0.0   \n",
       "522631         tour-de-france/2023/stage-18  tadej-pogacar     0.0   \n",
       "522749         tour-de-france/2023/stage-19  tadej-pogacar     0.0   \n",
       "522948         tour-de-france/2023/stage-20  tadej-pogacar   100.0   \n",
       "\n",
       "        total_points        date  position  avg_points_per_race  \n",
       "449815          -1.0  2019-03-09        29            -1.000000  \n",
       "453134           5.0  2019-04-09         8             5.000000  \n",
       "453339           7.0  2019-04-10        77             3.500000  \n",
       "453386           7.0  2019-04-12         4             2.333333  \n",
       "453568          17.0  2019-04-13         4             4.250000  \n",
       "...              ...         ...       ...                  ...  \n",
       "522371        5178.0  2023-07-18         1            35.958333  \n",
       "522399        5248.0  2023-07-19        21            36.193103  \n",
       "522631        5248.0  2023-07-20        25            35.945205  \n",
       "522749        5248.0  2023-07-21        41            35.700680  \n",
       "522948        5248.0  2023-07-22         0            35.459459  \n",
       "\n",
       "[149 rows x 7 columns]"
      ]
     },
     "execution_count": 6,
     "metadata": {},
     "output_type": "execute_result"
    }
   ],
   "source": [
    "stef = full_df[full_df['cyclist'] == 'tadej-pogacar']\n",
    "stef_sorted = stef.sort_values(by='date')\n",
    "stef_sorted[['_url_rac', 'cyclist', 'points', 'total_points', 'date', 'position', 'avg_points_per_race']]"
   ]
  },
  {
   "cell_type": "code",
   "execution_count": 7,
   "metadata": {},
   "outputs": [
    {
     "data": {
      "image/png": "[encoded data removed]",
      "text/plain": [
       "<Figure size 640x480 with 1 Axes>"
      ]
     },
     "metadata": {},
     "output_type": "display_data"
    }
   ],
   "source": [
    "total_points = list(stef_sorted['avg_points_per_race'])\n",
    "plt.plot(stef_sorted['date'], total_points)\n",
    "plt.xlabel('Date')\n",
    "plt.ylabel('Total Points')\n",
    "plt.title('Average Points Over Time for Tadej Pogačar')\n",
    "plt.xticks(rotation=45)\n",
    "plt.grid(True)\n",
    "plt.show()"
   ]
  },
  {
   "cell_type": "code",
   "execution_count": 8,
   "metadata": {},
   "outputs": [
    {
     "data": {
      "text/html": [
       "<div>\n",
       "<style scoped>\n",
       "    .dataframe tbody tr th:only-of-type {\n",
       "        vertical-align: middle;\n",
       "    }\n",
       "\n",
       "    .dataframe tbody tr th {\n",
       "        vertical-align: top;\n",
       "    }\n",
       "\n",
       "    .dataframe thead th {\n",
       "        text-align: right;\n",
       "    }\n",
       "</style>\n",
       "<table border=\"1\" class=\"dataframe\">\n",
       "  <thead>\n",
       "    <tr style=\"text-align: right;\">\n",
       "      <th></th>\n",
       "      <th>position</th>\n",
       "      <th>target</th>\n",
       "    </tr>\n",
       "  </thead>\n",
       "  <tbody>\n",
       "    <tr>\n",
       "      <th>0</th>\n",
       "      <td>29</td>\n",
       "      <td>False</td>\n",
       "    </tr>\n",
       "    <tr>\n",
       "      <th>1</th>\n",
       "      <td>15</td>\n",
       "      <td>True</td>\n",
       "    </tr>\n",
       "    <tr>\n",
       "      <th>2</th>\n",
       "      <td>16</td>\n",
       "      <td>True</td>\n",
       "    </tr>\n",
       "    <tr>\n",
       "      <th>3</th>\n",
       "      <td>17</td>\n",
       "      <td>True</td>\n",
       "    </tr>\n",
       "    <tr>\n",
       "      <th>4</th>\n",
       "      <td>18</td>\n",
       "      <td>True</td>\n",
       "    </tr>\n",
       "    <tr>\n",
       "      <th>...</th>\n",
       "      <td>...</td>\n",
       "      <td>...</td>\n",
       "    </tr>\n",
       "    <tr>\n",
       "      <th>523068</th>\n",
       "      <td>15</td>\n",
       "      <td>True</td>\n",
       "    </tr>\n",
       "    <tr>\n",
       "      <th>523069</th>\n",
       "      <td>16</td>\n",
       "      <td>True</td>\n",
       "    </tr>\n",
       "    <tr>\n",
       "      <th>523070</th>\n",
       "      <td>17</td>\n",
       "      <td>True</td>\n",
       "    </tr>\n",
       "    <tr>\n",
       "      <th>523071</th>\n",
       "      <td>8</td>\n",
       "      <td>True</td>\n",
       "    </tr>\n",
       "    <tr>\n",
       "      <th>523072</th>\n",
       "      <td>42</td>\n",
       "      <td>False</td>\n",
       "    </tr>\n",
       "  </tbody>\n",
       "</table>\n",
       "<p>523073 rows × 2 columns</p>\n",
       "</div>"
      ],
      "text/plain": [
       "        position  target\n",
       "0             29   False\n",
       "1             15    True\n",
       "2             16    True\n",
       "3             17    True\n",
       "4             18    True\n",
       "...          ...     ...\n",
       "523068        15    True\n",
       "523069        16    True\n",
       "523070        17    True\n",
       "523071         8    True\n",
       "523072        42   False\n",
       "\n",
       "[523073 rows x 2 columns]"
      ]
     },
     "execution_count": 8,
     "metadata": {},
     "output_type": "execute_result"
    }
   ],
   "source": [
    "full_df[['position', 'target']]"
   ]
  },
  {
   "cell_type": "markdown",
   "metadata": {},
   "source": [
    "## Prepare dataset for XGB (other models may have different preparaton)"
   ]
  },
  {
   "cell_type": "code",
   "execution_count": 9,
   "metadata": {},
   "outputs": [
    {
     "name": "stdout",
     "output_type": "stream",
     "text": [
      "1970-02-28 2018-10-13\n",
      "2019-02-26 2021-10-09\n",
      "2022-02-21 2023-07-29\n",
      "Training data: (449164, 19) i.e. 85.87 %\n",
      "Validation data: (43480, 19) i.e. 8.31 %\n",
      "Test data: (30429, 19) i.e. 5.82 %\n",
      "Percentage of positive samples in training data: 0.1767795281901488\n",
      "Percentage of positive samples in validation data: 0.14344526218951242\n"
     ]
    },
    {
     "name": "stderr",
     "output_type": "stream",
     "text": [
      "/tmp/ipykernel_1589/1981730520.py:32: UserWarning: Boolean Series key will be reindexed to match DataFrame index.\n",
      "  val_data = dataset[dataset['date'] >= '2019-01-01'][dataset['date'] < '2022-01-01']\n"
     ]
    }
   ],
   "source": [
    "'race_country' == 'nationality'\n",
    "'experience_level' # to encode\n",
    "'is_tarmac' # recompute as int (0, 1) for explainability\n",
    "'season', # explainability can't handle categorical data\n",
    "\n",
    "dataset = full_df.copy()\n",
    "\n",
    "dataset['is_tarmac'] = dataset['is_tarmac'].astype(int)\n",
    "dataset['experience_level'] = dataset['experience_level'].apply(lambda x: EXPERIENCE_LEVELS.index(x))\n",
    "dataset['home_game'] = dataset.apply(lambda x: 1 if x['race_country'] == x['nationality'] else 0, axis=1)\n",
    "\n",
    "TO_USE_COLS = [\n",
    "    # over time\n",
    "    'total_points', 'avg_points_per_race', \n",
    "    'average_position', 'avg_speed_cyclist', 'mean_stamina_index',\n",
    "    'race_count',\n",
    "    # race related\n",
    "    'uci_points', 'length', 'climb_total', 'profile', \n",
    "    'startlist_quality', 'cyclist_age_rac', 'steepness', \n",
    "    'is_tarmac',\n",
    "    # cyclist related\n",
    "    'weight', 'height', 'bmi',\n",
    "    'experience_level', 'home_game',\n",
    "]\n",
    "\n",
    "# TRAINING VALIDATION TEST SPLIT\n",
    "tr_data = dataset[dataset['date'] < '2019-01-01']\n",
    "print(tr_data['date'].min(), tr_data['date'].max())\n",
    "tr_out = tr_data['target']\n",
    "tr_data = tr_data[TO_USE_COLS]\n",
    "\n",
    "val_data = dataset[dataset['date'] >= '2019-01-01'][dataset['date'] < '2022-01-01']\n",
    "print(val_data['date'].min(), val_data['date'].max())\n",
    "val_out = val_data['target']\n",
    "val_data = val_data[TO_USE_COLS]\n",
    "\n",
    "ts_data = dataset[dataset['date'] >= '2022-01-01']\n",
    "print(ts_data['date'].min(), ts_data['date'].max())\n",
    "ts_out = ts_data['target']\n",
    "ts_data = ts_data[TO_USE_COLS]\n",
    "\n",
    "print('Training data:', tr_data.shape, 'i.e.', f'{(tr_data.shape[0] / full_df.shape[0])*100:.2f}', '%')\n",
    "print('Validation data:', val_data.shape, 'i.e.', f'{(val_data.shape[0] / full_df.shape[0])*100:.2f}', '%')\n",
    "print('Test data:', ts_data.shape, 'i.e.', f'{(ts_data.shape[0] / full_df.shape[0])*100:.2f}', '%')\n",
    "\n",
    "print(f'Percentage of positive samples in training data: {tr_out.mean()}')\n",
    "print(f'Percentage of positive samples in validation data: {val_out.mean()}')"
   ]
  },
  {
   "cell_type": "markdown",
   "metadata": {},
   "source": [
    "# XGB grid search"
   ]
  },
  {
   "cell_type": "markdown",
   "metadata": {},
   "source": [
    "## GPU"
   ]
  },
  {
   "cell_type": "code",
   "execution_count": 10,
   "metadata": {},
   "outputs": [
    {
     "name": "stderr",
     "output_type": "stream",
     "text": [
      "100%|\u001b[32m██████████\u001b[0m| 55/55 [02:05<00:00,  2.29s/it]"
     ]
    },
    {
     "name": "stdout",
     "output_type": "stream",
     "text": [
      "Best score: 0.7051\n",
      "Best parameters: (400, 0.1)\n"
     ]
    },
    {
     "name": "stderr",
     "output_type": "stream",
     "text": [
      "\n"
     ]
    }
   ],
   "source": [
    "from random import shuffle\n",
    "from xgboost import XGBClassifier # XGBoost classifier\n",
    "import xgboost as xgb\n",
    "from itertools import product #for grid search\n",
    "from tqdm import tqdm # for progress bar\n",
    "from sklearn.metrics import classification_report, f1_score # for evaluation\n",
    "from imblearn.over_sampling import RandomOverSampler # for oversampling\n",
    "def f1_macro(x, y):     # for our evaluation\n",
    "    return f1_score(x, y, average='macro')\n",
    "\n",
    "oversample = RandomOverSampler(sampling_strategy='minority', random_state=42)\n",
    "tr_data, tr_out = oversample.fit_resample(tr_data, tr_out)\n",
    "tr_data = tr_data.reset_index(drop=True)\n",
    "tr_out = tr_out.reset_index(drop=True)\n",
    "\n",
    "dtrain = xgb.DMatrix(tr_data, label=tr_out, enable_categorical=True)\n",
    "#Xy = xgb.QuantileDMatrix(tr_data, label=tr_out, enable_categorical=True)\n",
    "dval = xgb.DMatrix(val_data, enable_categorical=True)\n",
    "\n",
    "N_estimators = [30, 40, 50, 60, 70, 80, 90, 100, 200, 300, 400]\n",
    "Learning_rate = [0.01, 0.05, 0.1, 0.15, 0.2]\n",
    "hyperparameters = list(product(N_estimators, Learning_rate))\n",
    "shuffle(hyperparameters)\n",
    "\n",
    "best_score = 0\n",
    "best_params = None\n",
    "\n",
    "for n_estimators, learning_rate in tqdm(hyperparameters, total=len(hyperparameters), colour='green', smoothing=0.4):\n",
    "    params = {\n",
    "        'eta': learning_rate, \n",
    "        'objective': 'binary:logistic', \n",
    "        #'n_estimators': n_estimators,\n",
    "        'device': 'cuda',\n",
    "        'tree_method': 'hist',\n",
    "        }\n",
    "    model = xgb.train(params, dtrain, num_boost_round=n_estimators)\n",
    "    val_pred = model.predict(dval)\n",
    "    val_pred = (val_pred > 0.5).astype(int)\n",
    "    score = f1_macro(val_out, val_pred)\n",
    "    if score > best_score:\n",
    "        best_score = score\n",
    "        best_params = (n_estimators, learning_rate)\n",
    "\n",
    "print(f'Best score: {best_score:.4f}')\n",
    "print(f'Best parameters: {best_params}')"
   ]
  },
  {
   "cell_type": "markdown",
   "metadata": {},
   "source": [
    "## CPU"
   ]
  },
  {
   "cell_type": "code",
   "execution_count": 11,
   "metadata": {},
   "outputs": [
    {
     "name": "stderr",
     "output_type": "stream",
     "text": [
      "  0%|\u001b[32m          \u001b[0m| 0/55 [00:00<?, ?it/s]/home/d.borghini/miniconda3/envs/dm/lib/python3.12/site-packages/xgboost/core.py:158: UserWarning: [13:19:01] WARNING: /workspace/src/common/error_msg.cc:58: Falling back to prediction using DMatrix due to mismatched devices. This might lead to higher memory usage and slower performance. XGBoost is running on: cuda:0, while the input data is on: cpu.\n",
      "Potential solutions:\n",
      "- Use a data structure that matches the device ordinal in the booster.\n",
      "- Set the device for booster before call to inplace_predict.\n",
      "\n",
      "This warning will only be shown once.\n",
      "\n",
      "  warnings.warn(smsg, UserWarning)\n",
      "100%|\u001b[32m██████████\u001b[0m| 55/55 [02:35<00:00,  2.83s/it]\n"
     ]
    },
    {
     "name": "stdout",
     "output_type": "stream",
     "text": [
      "val f1-score: 0.7046674267895487\n",
      "              precision    recall  f1-score   support\n",
      "\n",
      "       False       0.94      0.84      0.89     37243\n",
      "        True       0.42      0.69      0.52      6237\n",
      "\n",
      "    accuracy                           0.82     43480\n",
      "   macro avg       0.68      0.76      0.70     43480\n",
      "weighted avg       0.87      0.82      0.84     43480\n",
      "\n",
      "Best hyperparameters: (400, 0.15)\n",
      "Best score: 0.7046674267895487\n"
     ]
    }
   ],
   "source": [
    "if False:\n",
    "    from random import shuffle\n",
    "    from xgboost import XGBClassifier # XGBoost classifier\n",
    "    import xgboost as xgb\n",
    "    from itertools import product #for grid search\n",
    "    from tqdm import tqdm # for progress bar\n",
    "    from sklearn.metrics import classification_report, f1_score # for evaluation\n",
    "\n",
    "    from imblearn.over_sampling import RandomOverSampler # for oversampling\n",
    "    f1_macro = lambda x, y: f1_score(x, y, average='macro') # for our evaluation\n",
    "\n",
    "    oversample = RandomOverSampler(sampling_strategy='minority', random_state=42)\n",
    "    tr_data, tr_out = oversample.fit_resample(tr_data, tr_out)\n",
    "    tr_data = tr_data.reset_index(drop=True)\n",
    "    tr_out = tr_out.reset_index(drop=True)\n",
    "\n",
    "    # Hyperparameters\n",
    "    N_estimators = [30, 40, 50, 60, 70, 80, 90, 100, 200, 300, 400]\n",
    "    # N_estimators = [200]\n",
    "    Learning_rate = [0.01, 0.05, 0.1, 0.15, 0.2]\n",
    "    # Learning_rate = [0.1]\n",
    "    # Shuffle hyperparameters to have a more accurate progress bar\n",
    "    hyperparameters = list(product(N_estimators, Learning_rate))\n",
    "    shuffle(hyperparameters)\n",
    "\n",
    "    # Grid search\n",
    "    best_score = 0\n",
    "    best_params = None\n",
    "    for n_estimators, learning_rate in tqdm(hyperparameters, total=len(hyperparameters), colour='green', smoothing=0.4):\n",
    "        xgb_model = XGBClassifier(\n",
    "            n_estimators=n_estimators, \n",
    "            learning_rate=learning_rate, \n",
    "            n_jobs=-1, \n",
    "            random_state=42,\n",
    "            objective='binary:logistic',\n",
    "        )\n",
    "        xgb_model.fit(tr_data, tr_out)\n",
    "        val_pred = xgb_model.predict(val_data)\n",
    "        score = f1_macro(val_out, val_pred)\n",
    "        if score > best_score:\n",
    "            best_score = score\n",
    "            best_params = (n_estimators, learning_rate)\n",
    "\n",
    "    # Train the model with the best hyperparameters\n",
    "    n_estimators, learning_rate = best_params\n",
    "    xgb_model = XGBClassifier(\n",
    "        n_estimators=n_estimators, \n",
    "        learning_rate=learning_rate, \n",
    "        n_jobs=-1, \n",
    "        random_state=42,\n",
    "        objective='binary:logistic',\n",
    "        device='cuda'\n",
    "    )\n",
    "    xgb_model.fit(tr_data, tr_out)\n",
    "\n",
    "    # Predict\n",
    "    val_pred = xgb_model.predict(val_data)\n",
    "    print(f'val f1-score: {f1_macro(val_out, val_pred)}')\n",
    "    print(classification_report(val_out, val_pred))\n",
    "    print(f'Best hyperparameters: {best_params}')\n",
    "    print(f'Best score: {best_score}')"
   ]
  },
  {
   "cell_type": "markdown",
   "metadata": {},
   "source": [
    "# Paper explainability (XGBoostTreeApproximator)"
   ]
  },
  {
   "cell_type": "code",
   "execution_count": 12,
   "metadata": {},
   "outputs": [
    {
     "name": "stdout",
     "output_type": "stream",
     "text": [
      "['/home/d.borghini/miniconda3/envs/dm/lib/python312.zip', '/home/d.borghini/miniconda3/envs/dm/lib/python3.12', '/home/d.borghini/miniconda3/envs/dm/lib/python3.12/lib-dynload', '', '/home/d.borghini/miniconda3/envs/dm/lib/python3.12/site-packages', '/home/d.borghini/miniconda3/envs/dm/lib/python3.12/site-packages/setuptools/_vendor', '/home/d.borghini/Documents/GitHub/Project-Hephaestus', '/home/d.borghini/Documents/GitHub/XGBoostTreeApproximator']\n"
     ]
    }
   ],
   "source": [
    "sys.path.append(os.path.abspath(os.path.join('../../XGBoostTreeApproximator'))) # find the repo of FBT\n",
    "# add to requirements.txt\n",
    "# pyod-2.0.3\n",
    "# numba-0.60.0\n",
    "# llvmlite-0.43.0\n",
    "print(sys.path)\n",
    "from FBT import *"
   ]
  },
  {
   "cell_type": "code",
   "execution_count": 13,
   "metadata": {},
   "outputs": [
    {
     "name": "stderr",
     "output_type": "stream",
     "text": [
      "<>:5: SyntaxWarning: invalid escape sequence '\\D'\n",
      "<>:6: SyntaxWarning: invalid escape sequence '\\D'\n",
      "<>:5: SyntaxWarning: invalid escape sequence '\\D'\n",
      "<>:6: SyntaxWarning: invalid escape sequence '\\D'\n",
      "/tmp/ipykernel_1589/1301015955.py:5: SyntaxWarning: invalid escape sequence '\\D'\n",
      "  feature_regex = re.compile('\\D+(?P<node_index>\\d+):\\[(?P<feature>[^<]+)<(?P<value>[^\\]]+)\\D+(?P<left>\\d+)\\D+(?P<right>\\d+)\\D+(?P<missing>\\d+)')\n",
      "/tmp/ipykernel_1589/1301015955.py:6: SyntaxWarning: invalid escape sequence '\\D'\n",
      "  leaf_regex = re.compile('\\D+(?P<node_index>\\d+)[^\\=]+=(?P<prediction>.+)')\n"
     ]
    }
   ],
   "source": [
    "import re\n",
    "type(tr_data)\n",
    "strings_ = xgb_model._Booster.get_dump()\n",
    "#                                  indice                colonna       <   valore               \n",
    "feature_regex = re.compile('\\D+(?P<node_index>\\d+):\\[(?P<feature>[^<]+)<(?P<value>[^\\]]+)\\D+(?P<left>\\d+)\\D+(?P<right>\\d+)\\D+(?P<missing>\\d+)')\n",
    "leaf_regex = re.compile('\\D+(?P<node_index>\\d+)[^\\=]+=(?P<prediction>.+)')\n",
    "trees = []\n",
    "#print('strings:', strings_[0])\n",
    "# for tree_string in strings_:\n",
    "#         nodes = [feature_regex.search('t' + node).groupdict() if '[' in node else leaf_regex.search('t' +node).groupdict() for node in tree_string.split('\\n')[:-1]]\n",
    "#         trees.append(nodes)\n",
    "tree_string = strings_[0]\n",
    "for node in tree_string.split('\\n')[:-1]:\n",
    "        break\n",
    "        print('node:', node)\n",
    "        if '[' in node:\n",
    "                print('feature:', feature_regex.search('t' + node).groupdict())\n",
    "        else:\n",
    "                print('leaf:', leaf_regex.search('t' +node).groupdict())"
   ]
  },
  {
   "cell_type": "code",
   "execution_count": 18,
   "metadata": {},
   "outputs": [
    {
     "name": "stdout",
     "output_type": "stream",
     "text": [
      "Start pruning\n",
      "Pruned forest training set AUC: 1.0\n",
      "Create conjunction set from training data instances\n",
      "Number of conjunctions created from data: 289\n",
      "Create complete conjunction set\n",
      "Size at iteration 2: 1001\n",
      "Size at iteration 3: 1001\n",
      "Size at iteration 4: 1001\n",
      "Size at iteration 5: 1001\n",
      "Size at iteration 6: 1001\n",
      "Size at iteration 7: 1001\n",
      "Size at iteration 8: 1001\n",
      "Size at iteration 9: 1001\n",
      "Size at iteration 10: 1001\n",
      "Size at iteration 11: 1001\n",
      "Start ordering conjunction set in a tree structure\n",
      "Construction of tree has been completed\n"
     ]
    }
   ],
   "source": [
    "# for this exacution I've actually executed on the vlidation set\n",
    "# it is taking very long to complete (in 15 min is at the first step of the alg (the prining))\n",
    "# FOr this the explainability will be probably done on a reaaly small subset of the dataset\n",
    "# It gave an error XD\n",
    "fbt = FBT(max_depth=6,max_number_of_conjunctions=1000,min_forest_size=10,pruning_method='auc')\n",
    "expl_data = tr_data.merge(tr_out, left_index=True, right_index=True)\n",
    "#print(expl_data)\n",
    "expl_data = expl_data.dropna()\n",
    "expl_data = expl_data.sample(n=400).reset_index(drop=True)\n",
    "expl_data['target'] = expl_data['target'].astype(int)\n",
    "fbt.fit(expl_data,TO_USE_COLS,'target',xgb_model)"
   ]
  },
  {
   "cell_type": "code",
   "execution_count": 23,
   "metadata": {},
   "outputs": [
    {
     "name": "stdout",
     "output_type": "stream",
     "text": [
      "predictions: [1, 1, 1, 1, 1, 1, 1, 1, 1, 1]\n",
      "target     : [1, 1, 1, 1, 1, 1, 1, 1, 1, 1]\n",
      "percentage of 0: 0.055\n"
     ]
    }
   ],
   "source": [
    "predictions = fbt.predict(expl_data[TO_USE_COLS][10:20])\n",
    "print('predictions:', list(predictions))\n",
    "print('target     :', list(expl_data['target'][10:20]))\n",
    "print('percentage of 0:', np.mean(expl_data['target'] == 0))"
   ]
  },
  {
   "cell_type": "code",
   "execution_count": 24,
   "metadata": {},
   "outputs": [
    {
     "name": "stdout",
     "output_type": "stream",
     "text": [
      "classified as : 1 while truth is 1\n",
      "decisions:\n",
      "uci_points < 21.0\n",
      "is_tarmac >= 1.0\n",
      "average_position < 64.375\n",
      "average_position >= 48.6982765\n",
      "startlist_quality < 1101.0\n",
      "cyclist_age_rac < 27.0\n",
      "labels: [0.33703226 0.66296774]\n"
     ]
    }
   ],
   "source": [
    "l = fbt.get_decision_paths(expl_data[TO_USE_COLS])\n",
    "pred = fbt.predict(expl_data[TO_USE_COLS])\n",
    "i = 103\n",
    "print(f'classified as : {pred[i]} while truth is {expl_data[\"target\"][i]}')\n",
    "print('decisions:')\n",
    "for d in l[i]:\n",
    "    print(d)"
   ]
  },
  {
   "cell_type": "code",
   "execution_count": 25,
   "metadata": {},
   "outputs": [
    {
     "name": "stdout",
     "output_type": "stream",
     "text": [
      "f1-score: 0.21074873059604854\n",
      "              precision    recall  f1-score   support\n",
      "\n",
      "       False       0.99      0.08      0.15     37243\n",
      "        True       0.15      1.00      0.27      6237\n",
      "\n",
      "    accuracy                           0.21     43480\n",
      "   macro avg       0.57      0.54      0.21     43480\n",
      "weighted avg       0.87      0.21      0.17     43480\n",
      "\n"
     ]
    }
   ],
   "source": [
    "pred = fbt.predict(val_data)\n",
    "print(f'f1-score: {f1_macro(val_out, pred)}')\n",
    "print(classification_report(val_out, pred))"
   ]
  },
  {
   "cell_type": "code",
   "execution_count": null,
   "metadata": {},
   "outputs": [],
   "source": []
  }
 ],
 "metadata": {
  "kernelspec": {
   "display_name": "DM-env",
   "language": "python",
   "name": "python3"
  },
  "language_info": {
   "codemirror_mode": {
    "name": "ipython",
    "version": 3
   },
   "file_extension": ".py",
   "mimetype": "text/x-python",
   "name": "python",
   "nbconvert_exporter": "python",
   "pygments_lexer": "ipython3",
   "version": "3.12.6"
  }
 },
 "nbformat": 4,
 "nbformat_minor": 2
}
