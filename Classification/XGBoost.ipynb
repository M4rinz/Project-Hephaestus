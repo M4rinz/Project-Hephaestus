{
 "cells": [
  {
   "cell_type": "markdown",
   "metadata": {},
   "source": [
    "**TODO**: \n",
    "- [x] improve progress bar\n",
    "- [x] remove early races?\n",
    "- [x] migliora splitting di tr/vl (correggere validation che include test)\n",
    "- [x] introduce `race_country == nationality`\n",
    "- [x] recompute `is_tarmac`\n",
    "- [] can we reorder seasons from colder to warmer? does it make sense?\n",
    "- [] try different sampling strategy\n",
    "- [x] use GPU (hopefully speeds up grid search)\n",
    "- [] retrain model using all the development set\n",
    "- [] decide the important metrics (probaly f1 and precision/recall of winners)\n",
    "- [] study hyperparameter of XGB\n",
    "- [] grid search for FBT (it is not giving good results)\n",
    "- [] compare with normal tree\n",
    "- [] compute metrics of FBT\n",
    "- [] refactor this notebook\n",
    "- [] how does the prediction changes changing one input (explainability)"
   ]
  },
  {
   "cell_type": "markdown",
   "metadata": {},
   "source": [
    "# CREATING THE DATASET"
   ]
  },
  {
   "cell_type": "code",
   "execution_count": 2,
   "metadata": {},
   "outputs": [],
   "source": [
    "# As always we start by importing the necessary libraries\n",
    "# and loading the data we will be working with. (at this point I'm importing stuff just for the fun of it)\n",
    "import sys\n",
    "import os\n",
    "sys.path.append(os.path.abspath(os.path.join('..')))\n",
    "\n",
    "import pandas as pd\n",
    "import numpy as np\n",
    "import matplotlib.pyplot as plt\n",
    "import seaborn as sns\n",
    "\n",
    "from utility.classification_utility import *\n",
    "\n",
    "# we define a random state to make the results reproducible\n",
    "RANDOM_STATE = 42\n",
    "RUN_SLOW_STUFF = True\n",
    "\n",
    "cyc = '../dataset/cyclists_cleaned.csv'\n",
    "races = '../dataset/races_cleaned.csv'\n",
    "\n",
    "full_df = get_merged_dataset(cyc, races)\n",
    "full_df = define_target(full_df) "
   ]
  },
  {
   "cell_type": "code",
   "execution_count": 3,
   "metadata": {},
   "outputs": [
    {
     "name": "stdout",
     "output_type": "stream",
     "text": [
      "points: 0\n",
      "position: 0\n",
      "average_speed: 0\n",
      "stamina_index: 137267\n"
     ]
    }
   ],
   "source": [
    "#full_df = define_target(full_df)\n",
    "full_df[['points', 'position', 'average_speed', 'stamina_index']]\n",
    "print('points:', full_df['points'].isna().sum())\n",
    "print('position:',full_df['position'].isna().sum())\n",
    "print('average_speed:',full_df['average_speed'].isna().sum())\n",
    "print('stamina_index:',full_df['stamina_index'].isna().sum())"
   ]
  },
  {
   "cell_type": "code",
   "execution_count": 4,
   "metadata": {},
   "outputs": [
    {
     "data": {
      "text/plain": [
       "Index(['_url_rac', 'name_rac', 'stage', 'stage_type', 'points', 'length',\n",
       "       'climb_total', 'profile', 'startlist_quality', 'date', 'position',\n",
       "       'cyclist', 'cyclist_age_rac', 'is_tarmac', 'delta', 'time',\n",
       "       'time_seconds', 'average_speed', 'steepness', 'season', 'is_staged',\n",
       "       'race_country', 'age_performance_index', 'quality_adjusted_points',\n",
       "       'stamina_index', 'birth_year', 'weight', 'height', 'nationality', 'bmi',\n",
       "       'race_count', 'experience_level', 'total_points', 'avg_points_per_race',\n",
       "       'average_position', 'avg_speed_cyclist', 'cyclist_age_cyc',\n",
       "       'mean_stamina_index', 'target'],\n",
       "      dtype='object')"
      ]
     },
     "execution_count": 4,
     "metadata": {},
     "output_type": "execute_result"
    }
   ],
   "source": [
    "full_df.columns"
   ]
  },
  {
   "cell_type": "code",
   "execution_count": 5,
   "metadata": {},
   "outputs": [
    {
     "name": "stdout",
     "output_type": "stream",
     "text": [
      "100.00%  \n"
     ]
    }
   ],
   "source": [
    "full_df = recompute_metrics(full_df,\n",
    "                  avg_points_per_race_D=-1,\n",
    "                  average_position_D=-1,\n",
    "                  avg_speed_cyclist_D=-1,\n",
    "                  mean_stamina_index_D=-1,\n",
    "                  total_points_D=-1,\n",
    "                  elapsed_from_last_race_D=-1,\n",
    "                  missing_value_policy='mean')"
   ]
  },
  {
   "cell_type": "code",
   "execution_count": 6,
   "metadata": {},
   "outputs": [],
   "source": [
    "full_df = define_target(full_df)"
   ]
  },
  {
   "cell_type": "markdown",
   "metadata": {},
   "source": [
    "## Let's see if everything seems reasonable"
   ]
  },
  {
   "cell_type": "code",
   "execution_count": 7,
   "metadata": {},
   "outputs": [
    {
     "data": {
      "text/html": [
       "<div>\n",
       "<style scoped>\n",
       "    .dataframe tbody tr th:only-of-type {\n",
       "        vertical-align: middle;\n",
       "    }\n",
       "\n",
       "    .dataframe tbody tr th {\n",
       "        vertical-align: top;\n",
       "    }\n",
       "\n",
       "    .dataframe thead th {\n",
       "        text-align: right;\n",
       "    }\n",
       "</style>\n",
       "<table border=\"1\" class=\"dataframe\">\n",
       "  <thead>\n",
       "    <tr style=\"text-align: right;\">\n",
       "      <th></th>\n",
       "      <th>_url_rac</th>\n",
       "      <th>cyclist</th>\n",
       "      <th>points</th>\n",
       "      <th>total_points</th>\n",
       "      <th>date</th>\n",
       "      <th>elapsed_from_last</th>\n",
       "      <th>position</th>\n",
       "      <th>avg_points_per_race</th>\n",
       "    </tr>\n",
       "  </thead>\n",
       "  <tbody>\n",
       "    <tr>\n",
       "      <th>464678</th>\n",
       "      <td>vuelta-a-espana/2019/stage-16</td>\n",
       "      <td>tadej-pogacar</td>\n",
       "      <td>2.0</td>\n",
       "      <td>264.0</td>\n",
       "      <td>2019-09-09</td>\n",
       "      <td>1.0</td>\n",
       "      <td>13</td>\n",
       "      <td>13.200000</td>\n",
       "    </tr>\n",
       "    <tr>\n",
       "      <th>464847</th>\n",
       "      <td>vuelta-a-espana/2019/stage-17</td>\n",
       "      <td>tadej-pogacar</td>\n",
       "      <td>0.0</td>\n",
       "      <td>266.0</td>\n",
       "      <td>2019-09-11</td>\n",
       "      <td>2.0</td>\n",
       "      <td>30</td>\n",
       "      <td>12.666667</td>\n",
       "    </tr>\n",
       "    <tr>\n",
       "      <th>464940</th>\n",
       "      <td>vuelta-a-espana/2019/stage-18</td>\n",
       "      <td>tadej-pogacar</td>\n",
       "      <td>8.0</td>\n",
       "      <td>266.0</td>\n",
       "      <td>2019-09-12</td>\n",
       "      <td>1.0</td>\n",
       "      <td>8</td>\n",
       "      <td>12.090909</td>\n",
       "    </tr>\n",
       "    <tr>\n",
       "      <th>465103</th>\n",
       "      <td>vuelta-a-espana/2019/stage-19</td>\n",
       "      <td>tadej-pogacar</td>\n",
       "      <td>10.0</td>\n",
       "      <td>274.0</td>\n",
       "      <td>2019-09-13</td>\n",
       "      <td>1.0</td>\n",
       "      <td>7</td>\n",
       "      <td>11.913043</td>\n",
       "    </tr>\n",
       "    <tr>\n",
       "      <th>465368</th>\n",
       "      <td>vuelta-a-espana/2019/stage-20</td>\n",
       "      <td>tadej-pogacar</td>\n",
       "      <td>80.0</td>\n",
       "      <td>284.0</td>\n",
       "      <td>2019-09-14</td>\n",
       "      <td>1.0</td>\n",
       "      <td>0</td>\n",
       "      <td>11.833333</td>\n",
       "    </tr>\n",
       "    <tr>\n",
       "      <th>465487</th>\n",
       "      <td>vuelta-a-espana/2019/stage-21</td>\n",
       "      <td>tadej-pogacar</td>\n",
       "      <td>0.0</td>\n",
       "      <td>364.0</td>\n",
       "      <td>2019-09-15</td>\n",
       "      <td>1.0</td>\n",
       "      <td>24</td>\n",
       "      <td>14.560000</td>\n",
       "    </tr>\n",
       "    <tr>\n",
       "      <th>465746</th>\n",
       "      <td>world-championship/2019/result</td>\n",
       "      <td>tadej-pogacar</td>\n",
       "      <td>34.0</td>\n",
       "      <td>364.0</td>\n",
       "      <td>2019-09-29</td>\n",
       "      <td>14.0</td>\n",
       "      <td>17</td>\n",
       "      <td>14.000000</td>\n",
       "    </tr>\n",
       "    <tr>\n",
       "      <th>465953</th>\n",
       "      <td>uae-tour/2020/stage-1</td>\n",
       "      <td>tadej-pogacar</td>\n",
       "      <td>0.0</td>\n",
       "      <td>398.0</td>\n",
       "      <td>2020-02-23</td>\n",
       "      <td>147.0</td>\n",
       "      <td>24</td>\n",
       "      <td>14.740741</td>\n",
       "    </tr>\n",
       "    <tr>\n",
       "      <th>466023</th>\n",
       "      <td>uae-tour/2020/stage-2</td>\n",
       "      <td>tadej-pogacar</td>\n",
       "      <td>2.0</td>\n",
       "      <td>398.0</td>\n",
       "      <td>2020-02-24</td>\n",
       "      <td>1.0</td>\n",
       "      <td>8</td>\n",
       "      <td>14.214286</td>\n",
       "    </tr>\n",
       "    <tr>\n",
       "      <th>466268</th>\n",
       "      <td>uae-tour/2020/stage-3</td>\n",
       "      <td>tadej-pogacar</td>\n",
       "      <td>30.0</td>\n",
       "      <td>400.0</td>\n",
       "      <td>2020-02-25</td>\n",
       "      <td>1.0</td>\n",
       "      <td>1</td>\n",
       "      <td>13.793103</td>\n",
       "    </tr>\n",
       "  </tbody>\n",
       "</table>\n",
       "</div>"
      ],
      "text/plain": [
       "                              _url_rac        cyclist  points  total_points  \\\n",
       "464678   vuelta-a-espana/2019/stage-16  tadej-pogacar     2.0         264.0   \n",
       "464847   vuelta-a-espana/2019/stage-17  tadej-pogacar     0.0         266.0   \n",
       "464940   vuelta-a-espana/2019/stage-18  tadej-pogacar     8.0         266.0   \n",
       "465103   vuelta-a-espana/2019/stage-19  tadej-pogacar    10.0         274.0   \n",
       "465368   vuelta-a-espana/2019/stage-20  tadej-pogacar    80.0         284.0   \n",
       "465487   vuelta-a-espana/2019/stage-21  tadej-pogacar     0.0         364.0   \n",
       "465746  world-championship/2019/result  tadej-pogacar    34.0         364.0   \n",
       "465953           uae-tour/2020/stage-1  tadej-pogacar     0.0         398.0   \n",
       "466023           uae-tour/2020/stage-2  tadej-pogacar     2.0         398.0   \n",
       "466268           uae-tour/2020/stage-3  tadej-pogacar    30.0         400.0   \n",
       "\n",
       "              date  elapsed_from_last  position  avg_points_per_race  \n",
       "464678  2019-09-09                1.0        13            13.200000  \n",
       "464847  2019-09-11                2.0        30            12.666667  \n",
       "464940  2019-09-12                1.0         8            12.090909  \n",
       "465103  2019-09-13                1.0         7            11.913043  \n",
       "465368  2019-09-14                1.0         0            11.833333  \n",
       "465487  2019-09-15                1.0        24            14.560000  \n",
       "465746  2019-09-29               14.0        17            14.000000  \n",
       "465953  2020-02-23              147.0        24            14.740741  \n",
       "466023  2020-02-24                1.0         8            14.214286  \n",
       "466268  2020-02-25                1.0         1            13.793103  "
      ]
     },
     "execution_count": 7,
     "metadata": {},
     "output_type": "execute_result"
    }
   ],
   "source": [
    "stef = full_df[full_df['cyclist'] == 'tadej-pogacar']\n",
    "math_ = full_df[full_df['cyclist'] == 'mathieu-van-der-poel']\n",
    "math_ = math_.sort_values(by='date')\n",
    "stef_sorted = stef.sort_values(by='date')\n",
    "stef_sorted[['_url_rac', 'cyclist', 'points', 'total_points', 'date', 'elapsed_from_last', 'position', 'avg_points_per_race']][20:30]"
   ]
  },
  {
   "cell_type": "code",
   "execution_count": 8,
   "metadata": {},
   "outputs": [],
   "source": [
    "list(set(list(stef_sorted['date']) + list(math_['date']))).sort()"
   ]
  },
  {
   "cell_type": "code",
   "execution_count": 9,
   "metadata": {},
   "outputs": [
    {
     "name": "stderr",
     "output_type": "stream",
     "text": [
      "100%|██████████| 193/193 [00:00<00:00, 2998.65it/s]\n"
     ]
    },
    {
     "data": {
      "image/png": "[encoded data removed]",
      "text/plain": [
       "<Figure size 640x480 with 1 Axes>"
      ]
     },
     "metadata": {},
     "output_type": "display_data"
    }
   ],
   "source": [
    "from tqdm import tqdm\n",
    "\n",
    "\n",
    "total_points_tad = [0]\n",
    "total_points_math = [0]\n",
    "dates = list(stef_sorted['date']) + list(math_['date'])\n",
    "dates = list(set(dates))\n",
    "dates.sort()\n",
    "for date in tqdm(dates):\n",
    "    if date not in list(stef_sorted['date']):\n",
    "        total_points_tad.append(total_points_tad[-1])\n",
    "    else:\n",
    "        total_points_tad.append(stef_sorted[stef_sorted['date'] == date]['total_points'].values[0])\n",
    "\n",
    "    if date not in list(math_['date']):\n",
    "        total_points_math.append(total_points_math[-1])\n",
    "    else:\n",
    "        total_points_math.append(math_[math_['date'] == date]['total_points'].values[0])\n",
    "\n",
    "total_points_math.remove(0)\n",
    "total_points_tad.remove(0)\n",
    "plt.plot(dates, total_points_math, label='Mathieu van der Poel')\n",
    "plt.plot(dates, total_points_tad, label='Tadej Pogačar')\n",
    "plt.xlabel('Date')\n",
    "plt.ylabel('Total Points')\n",
    "plt.title('Average Points Over Time for Tadej Pogačar')\n",
    "plt.xticks(rotation=45)\n",
    "plt.grid(True)\n",
    "plt.legend()\n",
    "plt.xticks(dates[::10])\n",
    "plt.show()"
   ]
  },
  {
   "cell_type": "code",
   "execution_count": 10,
   "metadata": {},
   "outputs": [
    {
     "name": "stdout",
     "output_type": "stream",
     "text": [
      "Empty DataFrame\n",
      "Columns: [_url_rac, name_rac, stage, stage_type, points, length, climb_total, profile, startlist_quality, date, position, cyclist, cyclist_age_rac, is_tarmac, delta, time, time_seconds, average_speed, steepness, season, is_staged, race_country, age_performance_index, quality_adjusted_points, stamina_index, birth_year, weight, height, nationality, bmi, race_count, experience_level, total_points, avg_points_per_race, average_position, avg_speed_cyclist, cyclist_age_cyc, mean_stamina_index, target, elapsed_from_last]\n",
      "Index: []\n",
      "\n",
      "[0 rows x 40 columns]\n"
     ]
    }
   ],
   "source": [
    "setzu = full_df[full_df['cyclist'] == 'mattia-setzu']\n",
    "print(setzu)"
   ]
  },
  {
   "cell_type": "markdown",
   "metadata": {},
   "source": [
    "this gives an error, looks like some of the stronger cyclist of our age are not in the dataset..."
   ]
  },
  {
   "cell_type": "code",
   "execution_count": 11,
   "metadata": {},
   "outputs": [
    {
     "data": {
      "text/html": [
       "<div>\n",
       "<style scoped>\n",
       "    .dataframe tbody tr th:only-of-type {\n",
       "        vertical-align: middle;\n",
       "    }\n",
       "\n",
       "    .dataframe tbody tr th {\n",
       "        vertical-align: top;\n",
       "    }\n",
       "\n",
       "    .dataframe thead th {\n",
       "        text-align: right;\n",
       "    }\n",
       "</style>\n",
       "<table border=\"1\" class=\"dataframe\">\n",
       "  <thead>\n",
       "    <tr style=\"text-align: right;\">\n",
       "      <th></th>\n",
       "      <th>position</th>\n",
       "      <th>target</th>\n",
       "    </tr>\n",
       "  </thead>\n",
       "  <tbody>\n",
       "    <tr>\n",
       "      <th>0</th>\n",
       "      <td>29</td>\n",
       "      <td>False</td>\n",
       "    </tr>\n",
       "    <tr>\n",
       "      <th>1</th>\n",
       "      <td>15</td>\n",
       "      <td>True</td>\n",
       "    </tr>\n",
       "    <tr>\n",
       "      <th>2</th>\n",
       "      <td>16</td>\n",
       "      <td>True</td>\n",
       "    </tr>\n",
       "    <tr>\n",
       "      <th>3</th>\n",
       "      <td>17</td>\n",
       "      <td>True</td>\n",
       "    </tr>\n",
       "    <tr>\n",
       "      <th>4</th>\n",
       "      <td>18</td>\n",
       "      <td>True</td>\n",
       "    </tr>\n",
       "    <tr>\n",
       "      <th>...</th>\n",
       "      <td>...</td>\n",
       "      <td>...</td>\n",
       "    </tr>\n",
       "    <tr>\n",
       "      <th>523068</th>\n",
       "      <td>15</td>\n",
       "      <td>True</td>\n",
       "    </tr>\n",
       "    <tr>\n",
       "      <th>523069</th>\n",
       "      <td>16</td>\n",
       "      <td>True</td>\n",
       "    </tr>\n",
       "    <tr>\n",
       "      <th>523070</th>\n",
       "      <td>17</td>\n",
       "      <td>True</td>\n",
       "    </tr>\n",
       "    <tr>\n",
       "      <th>523071</th>\n",
       "      <td>8</td>\n",
       "      <td>True</td>\n",
       "    </tr>\n",
       "    <tr>\n",
       "      <th>523072</th>\n",
       "      <td>42</td>\n",
       "      <td>False</td>\n",
       "    </tr>\n",
       "  </tbody>\n",
       "</table>\n",
       "<p>523073 rows × 2 columns</p>\n",
       "</div>"
      ],
      "text/plain": [
       "        position  target\n",
       "0             29   False\n",
       "1             15    True\n",
       "2             16    True\n",
       "3             17    True\n",
       "4             18    True\n",
       "...          ...     ...\n",
       "523068        15    True\n",
       "523069        16    True\n",
       "523070        17    True\n",
       "523071         8    True\n",
       "523072        42   False\n",
       "\n",
       "[523073 rows x 2 columns]"
      ]
     },
     "execution_count": 11,
     "metadata": {},
     "output_type": "execute_result"
    }
   ],
   "source": [
    "full_df[['position', 'target']]"
   ]
  },
  {
   "cell_type": "markdown",
   "metadata": {},
   "source": [
    "## Prepare dataset for XGB (other models may have different preparaton)"
   ]
  },
  {
   "cell_type": "code",
   "execution_count": 12,
   "metadata": {},
   "outputs": [
    {
     "name": "stdout",
     "output_type": "stream",
     "text": [
      "1996-03-02 2018-10-13\n",
      "2019-02-26 2021-10-09\n",
      "2022-02-21 2023-07-29\n",
      "Training data: (355140, 18) i.e. 82.77 %\n",
      "Validation data: (43480, 18) i.e. 10.13 %\n",
      "Test data: (30429, 18) i.e. 7.09 %\n",
      "Percentage of positive samples in training data: 0.14546939235231177\n",
      "Percentage of positive samples in validation data: 0.14344526218951242\n"
     ]
    }
   ],
   "source": [
    "'race_country' == 'nationality'\n",
    "'experience_level' # to encode\n",
    "'is_tarmac' # recompute as int (0, 1) for explainability\n",
    "'season', # explainability can't handle categorical data\n",
    "\n",
    "dataset = full_df.copy()\n",
    "\n",
    "dataset['is_tarmac'] = dataset['is_tarmac'].astype(int)\n",
    "dataset['experience_level'] = dataset['experience_level'].apply(lambda x: EXPERIENCE_LEVELS.index(x))\n",
    "dataset['home_game'] = dataset.apply(lambda x: 1 if x['race_country'] == x['nationality'] else 0, axis=1)\n",
    "\n",
    "TO_USE_COLS = [\n",
    "    # over time\n",
    "    'total_points', 'avg_points_per_race', \n",
    "    'average_position', 'avg_speed_cyclist', 'mean_stamina_index',\n",
    "    'race_count',\n",
    "    # race related\n",
    "    'length', 'climb_total', 'profile', \n",
    "    'startlist_quality', 'cyclist_age_rac', 'steepness', \n",
    "    'is_tarmac',\n",
    "    # cyclist related\n",
    "    'weight', 'height', 'bmi',\n",
    "    'experience_level', 'home_game',\n",
    "]\n",
    "\n",
    "# TRAINING VALIDATION TEST SPLIT\n",
    "tr_data = dataset[(dataset['date'] < '2019-01-01') & (dataset['date'] >= '1996-01-01')]\n",
    "print(tr_data['date'].min(), tr_data['date'].max())\n",
    "tr_out = tr_data['target']\n",
    "tr_data = tr_data[TO_USE_COLS]\n",
    "\n",
    "val_data = dataset[(dataset['date'] >= '2019-01-01') & (dataset['date'] < '2022-01-01')]\n",
    "print(val_data['date'].min(), val_data['date'].max())\n",
    "val_out = val_data['target']\n",
    "val_data = val_data[TO_USE_COLS]\n",
    "\n",
    "ts_data = dataset[dataset['date'] >= '2022-01-01']\n",
    "print(ts_data['date'].min(), ts_data['date'].max())\n",
    "ts_out = ts_data['target']\n",
    "ts_data = ts_data[TO_USE_COLS]\n",
    "\n",
    "tot = full_df[full_df['date'] >= '1996-01-01'].shape[0]\n",
    "print('Training data:', tr_data.shape, 'i.e.', f'{(tr_data.shape[0] / tot)*100:.2f}', '%')\n",
    "print('Validation data:', val_data.shape, 'i.e.', f'{(val_data.shape[0] / tot)*100:.2f}', '%')\n",
    "print('Test data:', ts_data.shape, 'i.e.', f'{(ts_data.shape[0] / tot)*100:.2f}', '%')\n",
    "\n",
    "print(f'Percentage of positive samples in training data: {tr_out.mean()}')\n",
    "print(f'Percentage of positive samples in validation data: {val_out.mean()}')"
   ]
  },
  {
   "cell_type": "markdown",
   "metadata": {},
   "source": [
    "# XGB grid search"
   ]
  },
  {
   "cell_type": "markdown",
   "metadata": {},
   "source": [
    "## GPU"
   ]
  },
  {
   "cell_type": "code",
   "execution_count": null,
   "metadata": {},
   "outputs": [
    {
     "name": "stderr",
     "output_type": "stream",
     "text": [
      "100%|\u001b[32m██████████\u001b[0m| 900/900 [1:34:53<00:00,  6.33s/it]"
     ]
    },
    {
     "name": "stdout",
     "output_type": "stream",
     "text": [
      "Best score: 0.6746\n",
      "Best parameters: {'n_estimators': 800, 'learning_rate': 0.1, 'lambda_reg': 5, 'early_stop': 50, 'max_depth': 9, 'score': {'False': {'precision': 0.9170782944416056, 'recall': 0.867411325618237, 'f1-score': 0.8915536298279264, 'support': 37243.0}, 'True': {'precision': 0.401744608674582, 'recall': 0.5316658649991983, 'f1-score': 0.45766337726864953, 'support': 6237.0}, 'accuracy': 0.8192502299908003, 'macro avg': {'precision': 0.6594114515580938, 'recall': 0.6995385953087176, 'f1-score': 0.6746085035482879, 'support': 43480.0}, 'weighted avg': {'precision': 0.8431561187716671, 'recall': 0.8192502299908003, 'f1-score': 0.8293141287880873, 'support': 43480.0}}}\n"
     ]
    },
    {
     "name": "stderr",
     "output_type": "stream",
     "text": [
      "\n"
     ]
    }
   ],
   "source": [
    "import json # for saving hyperparameters and results\n",
    "from random import shuffle\n",
    "from time import sleep\n",
    "import xgboost as xgb # for the model\n",
    "from itertools import product #for grid search\n",
    "from tqdm import tqdm # for progress bar\n",
    "from sklearn.metrics import classification_report, f1_score # for evaluation\n",
    "from imblearn.over_sampling import RandomOverSampler # for oversampling\n",
    "def f1_macro(x, y):     # for our evaluation\n",
    "    return f1_score(x, y, average='macro')\n",
    "\n",
    "oversample = RandomOverSampler(sampling_strategy='minority', random_state=42)\n",
    "tr_data, tr_out = oversample.fit_resample(tr_data, tr_out)\n",
    "tr_data = tr_data.reset_index(drop=True)\n",
    "tr_out = tr_out.reset_index(drop=True)\n",
    "\n",
    "dtrain = xgb.DMatrix(tr_data, label=tr_out, enable_categorical=True)\n",
    "dval = xgb.DMatrix(val_data, label=val_out, enable_categorical=True)\n",
    "dval_no_label = xgb.DMatrix(val_data, enable_categorical=True)\n",
    "\n",
    "N_estimators = [200, 300, 400, 600, 800]\n",
    "Learning_rate = [0.05, 0.1, 0.15, 0.2]\n",
    "Lambda_reg = [0.1, 0.5, 1, 2, 5]\n",
    "Early_stopping_rounds = [10, 30, 50]\n",
    "Max_depth = [3, 5, 9]\n",
    "hyperparameters = list(product(N_estimators, Learning_rate, Lambda_reg, Early_stopping_rounds, Max_depth))\n",
    "shuffle(hyperparameters)\n",
    "\n",
    "best_score = 0\n",
    "best_params = None\n",
    "hyperparameterStore = []\n",
    "runs = 0\n",
    "\n",
    "with open('./XGB_hyperparameters.json', 'r') as f:\n",
    "    hyperparameterStore = json.load(f)\n",
    "\n",
    "for n_estimators, learning_rate, lambda_reg, early_stop, max_depth in tqdm(hyperparameters, total=len(hyperparameters), colour='green', smoothing=0):\n",
    "    params = {\n",
    "        'eta': learning_rate, \n",
    "        'reg_lambda': lambda_reg,\n",
    "        'max_depth': max_depth,\n",
    "        'objective': 'binary:logistic',\n",
    "        'device': 'cuda',\n",
    "        'tree_method': 'hist',\n",
    "        'seed': RANDOM_STATE,\n",
    "        'verbosity': 0,\n",
    "        }\n",
    "    model = xgb.train(\n",
    "        params, \n",
    "        dtrain, \n",
    "        num_boost_round=n_estimators,\n",
    "        evals=[(dtrain, 'train'), (dval, 'val')],\n",
    "        early_stopping_rounds=early_stop,\n",
    "        verbose_eval=False\n",
    "    )\n",
    "    val_pred = model.predict(dval_no_label)\n",
    "    val_pred = (val_pred > 0.5).astype(int)\n",
    "    score = f1_macro(val_out, val_pred)\n",
    "    param_run = {'n_estimators': n_estimators, \n",
    "                'learning_rate': learning_rate, \n",
    "                'lambda_reg': lambda_reg,\n",
    "                'early_stop': early_stop, \n",
    "                'max_depth': max_depth,\n",
    "                'score': classification_report(val_out, val_pred, output_dict=True),\n",
    "                }\n",
    "    hyperparameterStore.append(param_run)\n",
    "    if score > best_score:\n",
    "        best_score = score\n",
    "        best_params = param_run\n",
    "        # save results up to now\n",
    "        with open('./XGB_hyperparameters.json', 'w') as f:\n",
    "            f.write(json.dumps(hyperparameterStore, indent=4))\n",
    "    runs += 1\n",
    "    if runs == 20:\n",
    "        runs = 0\n",
    "        sleep(2) # to avoid destroying my computer\n",
    "\n",
    "print(f'Best score: {best_score:.4f}')\n",
    "print(f'Best parameters: {best_params}')"
   ]
  },
  {
   "cell_type": "markdown",
   "metadata": {},
   "source": [
    "## CPU"
   ]
  },
  {
   "cell_type": "code",
   "execution_count": 13,
   "metadata": {},
   "outputs": [
    {
     "name": "stderr",
     "output_type": "stream",
     "text": [
      "100%|\u001b[32m██████████\u001b[0m| 1/1 [00:13<00:00, 13.15s/it]\n",
      "/home/d.borghini/miniconda3/envs/dm/lib/python3.12/site-packages/xgboost/core.py:158: UserWarning: [18:39:50] WARNING: /workspace/src/context.cc:43: No visible GPU is found, setting device to CPU.\n",
      "  warnings.warn(smsg, UserWarning)\n",
      "/home/d.borghini/miniconda3/envs/dm/lib/python3.12/site-packages/xgboost/core.py:158: UserWarning: [18:39:50] WARNING: /workspace/src/context.cc:196: XGBoost is not compiled with CUDA support.\n",
      "  warnings.warn(smsg, UserWarning)\n"
     ]
    },
    {
     "name": "stdout",
     "output_type": "stream",
     "text": [
      "val f1-score: 0.6348663061063695\n",
      "              precision    recall  f1-score   support\n",
      "\n",
      "       False       0.94      0.74      0.83     37243\n",
      "        True       0.32      0.73      0.44      6237\n",
      "\n",
      "    accuracy                           0.74     43480\n",
      "   macro avg       0.63      0.73      0.63     43480\n",
      "weighted avg       0.85      0.74      0.77     43480\n",
      "\n",
      "Best hyperparameters: (200, 0.1)\n",
      "Best score: 0.6348663061063695\n"
     ]
    }
   ],
   "source": [
    "if False:\n",
    "    from random import shuffle\n",
    "    from xgboost import XGBClassifier # XGBoost classifier\n",
    "    import xgboost as xgb\n",
    "    from itertools import product #for grid search\n",
    "    from tqdm import tqdm # for progress bar\n",
    "    from sklearn.metrics import classification_report, f1_score # for evaluation\n",
    "\n",
    "    from imblearn.over_sampling import RandomOverSampler # for oversampling\n",
    "    f1_macro = lambda x, y: f1_score(x, y, average='macro') # for our evaluation\n",
    "\n",
    "    oversample = RandomOverSampler(sampling_strategy='minority', random_state=42)\n",
    "    tr_data, tr_out = oversample.fit_resample(tr_data, tr_out)\n",
    "    tr_data = tr_data.reset_index(drop=True)\n",
    "    tr_out = tr_out.reset_index(drop=True)\n",
    "\n",
    "    # Hyperparameters\n",
    "    N_estimators = [30, 40, 50, 60, 70, 80, 90, 100, 200, 300, 400]\n",
    "    N_estimators = [200]\n",
    "    Learning_rate = [0.01, 0.05, 0.1, 0.15, 0.2]\n",
    "    Learning_rate = [0.1]\n",
    "    # Shuffle hyperparameters to have a more accurate progress bar\n",
    "    hyperparameters = list(product(N_estimators, Learning_rate))\n",
    "    shuffle(hyperparameters)\n",
    "\n",
    "    # Grid search\n",
    "    best_score = 0\n",
    "    best_params = None\n",
    "    for n_estimators, learning_rate in tqdm(hyperparameters, total=len(hyperparameters), colour='green', smoothing=0.4):\n",
    "        xgb_model = XGBClassifier(\n",
    "            n_estimators=n_estimators, \n",
    "            learning_rate=learning_rate, \n",
    "            n_jobs=-1, \n",
    "            random_state=42,\n",
    "            objective='binary:logistic',\n",
    "        )\n",
    "        xgb_model.fit(tr_data, tr_out)\n",
    "        val_pred = xgb_model.predict(val_data)\n",
    "        score = f1_macro(val_out, val_pred)\n",
    "        if score > best_score:\n",
    "            best_score = score\n",
    "            best_params = (n_estimators, learning_rate)\n",
    "\n",
    "    # Train the model with the best hyperparameters\n",
    "    n_estimators, learning_rate = best_params\n",
    "    xgb_model = XGBClassifier(\n",
    "        n_estimators=n_estimators, \n",
    "        learning_rate=learning_rate, \n",
    "        n_jobs=-1, \n",
    "        random_state=42,\n",
    "        objective='binary:logistic',\n",
    "    )\n",
    "    xgb_model.fit(tr_data, tr_out)\n",
    "\n",
    "    # Predict\n",
    "    val_pred = xgb_model.predict(val_data)\n",
    "    print(f'val f1-score: {f1_macro(val_out, val_pred)}')\n",
    "    print(classification_report(val_out, val_pred))\n",
    "    print(f'Best hyperparameters: {best_params}')\n",
    "    print(f'Best score: {best_score}')"
   ]
  },
  {
   "cell_type": "markdown",
   "metadata": {},
   "source": [
    "# Paper explainability (XGBoostTreeApproximator)"
   ]
  },
  {
   "cell_type": "code",
   "execution_count": 15,
   "metadata": {},
   "outputs": [],
   "source": [
    "sys.path.append(os.path.abspath(os.path.join('../../XGBoostTreeApproximator'))) # find the repo of FBT\n",
    "# add to requirements.txt\n",
    "# pyod-2.0.3\n",
    "# numba-0.60.0\n",
    "# llvmlite-0.43.0\n",
    "from FBT import *"
   ]
  },
  {
   "cell_type": "code",
   "execution_count": 13,
   "metadata": {},
   "outputs": [
    {
     "name": "stderr",
     "output_type": "stream",
     "text": [
      "<>:5: SyntaxWarning: invalid escape sequence '\\D'\n",
      "<>:6: SyntaxWarning: invalid escape sequence '\\D'\n",
      "<>:5: SyntaxWarning: invalid escape sequence '\\D'\n",
      "<>:6: SyntaxWarning: invalid escape sequence '\\D'\n",
      "/tmp/ipykernel_1589/1301015955.py:5: SyntaxWarning: invalid escape sequence '\\D'\n",
      "  feature_regex = re.compile('\\D+(?P<node_index>\\d+):\\[(?P<feature>[^<]+)<(?P<value>[^\\]]+)\\D+(?P<left>\\d+)\\D+(?P<right>\\d+)\\D+(?P<missing>\\d+)')\n",
      "/tmp/ipykernel_1589/1301015955.py:6: SyntaxWarning: invalid escape sequence '\\D'\n",
      "  leaf_regex = re.compile('\\D+(?P<node_index>\\d+)[^\\=]+=(?P<prediction>.+)')\n"
     ]
    }
   ],
   "source": [
    "import re\n",
    "type(tr_data)\n",
    "strings_ = xgb_model._Booster.get_dump()\n",
    "#                                  indice                colonna       <   valore               \n",
    "feature_regex = re.compile('\\D+(?P<node_index>\\d+):\\[(?P<feature>[^<]+)<(?P<value>[^\\]]+)\\D+(?P<left>\\d+)\\D+(?P<right>\\d+)\\D+(?P<missing>\\d+)')\n",
    "leaf_regex = re.compile('\\D+(?P<node_index>\\d+)[^\\=]+=(?P<prediction>.+)')\n",
    "trees = []\n",
    "#print('strings:', strings_[0])\n",
    "# for tree_string in strings_:\n",
    "#         nodes = [feature_regex.search('t' + node).groupdict() if '[' in node else leaf_regex.search('t' +node).groupdict() for node in tree_string.split('\\n')[:-1]]\n",
    "#         trees.append(nodes)\n",
    "tree_string = strings_[0]\n",
    "for node in tree_string.split('\\n')[:-1]:\n",
    "        break\n",
    "        print('node:', node)\n",
    "        if '[' in node:\n",
    "                print('feature:', feature_regex.search('t' + node).groupdict())\n",
    "        else:\n",
    "                print('leaf:', leaf_regex.search('t' +node).groupdict())"
   ]
  },
  {
   "cell_type": "code",
   "execution_count": 16,
   "metadata": {},
   "outputs": [
    {
     "name": "stdout",
     "output_type": "stream",
     "text": [
      "Start pruning\n",
      "Pruned forest training set AUC: 0.93626875\n",
      "Create conjunction set from training data instances\n",
      "Number of conjunctions created from data: 399\n",
      "Create complete conjunction set\n",
      "Size at iteration 2: 1001\n",
      "Size at iteration 3: 1001\n",
      "Size at iteration 4: 1001\n",
      "Size at iteration 5: 1002\n",
      "Size at iteration 6: 1001\n",
      "Size at iteration 7: 1001\n",
      "Size at iteration 8: 1001\n",
      "Size at iteration 9: 1001\n",
      "Size at iteration 10: 1001\n",
      "Size at iteration 11: 1001\n",
      "Size at iteration 12: 1001\n",
      "Size at iteration 13: 1001\n",
      "Size at iteration 14: 1001\n",
      "Size at iteration 15: 1001\n",
      "Size at iteration 16: 1001\n",
      "Size at iteration 17: 1001\n",
      "Size at iteration 18: 1001\n",
      "Size at iteration 19: 1001\n",
      "Size at iteration 20: 1001\n",
      "Size at iteration 21: 1001\n",
      "Size at iteration 22: 1001\n",
      "Size at iteration 23: 1001\n",
      "Size at iteration 24: 1001\n",
      "Size at iteration 25: 1001\n",
      "Size at iteration 26: 1001\n",
      "Size at iteration 27: 1001\n",
      "Size at iteration 28: 1001\n",
      "Size at iteration 29: 1001\n",
      "Size at iteration 30: 1001\n",
      "Size at iteration 31: 1001\n",
      "Size at iteration 32: 1001\n",
      "Size at iteration 33: 1001\n",
      "Size at iteration 34: 1001\n",
      "Size at iteration 35: 1001\n",
      "Size at iteration 36: 1001\n",
      "Size at iteration 37: 1001\n",
      "Size at iteration 38: 1001\n",
      "Size at iteration 39: 1001\n",
      "Size at iteration 40: 1001\n",
      "Size at iteration 41: 1001\n",
      "Size at iteration 42: 1001\n",
      "Size at iteration 43: 1001\n",
      "Size at iteration 44: 1001\n",
      "Size at iteration 45: 1001\n",
      "Size at iteration 46: 1001\n",
      "Size at iteration 47: 1001\n",
      "Size at iteration 48: 1001\n",
      "Size at iteration 49: 1001\n",
      "Size at iteration 50: 1001\n",
      "Size at iteration 51: 1001\n",
      "Size at iteration 52: 1001\n",
      "Size at iteration 53: 1001\n",
      "Size at iteration 54: 1001\n",
      "Size at iteration 55: 1001\n",
      "Size at iteration 56: 1001\n",
      "Size at iteration 57: 1001\n",
      "Size at iteration 58: 1001\n",
      "Size at iteration 59: 1001\n",
      "Size at iteration 60: 1001\n",
      "Start ordering conjunction set in a tree structure\n",
      "Construction of tree has been completed\n"
     ]
    }
   ],
   "source": [
    "# For this execution I've actually executed on the validation set\n",
    "# it is taking very long to complete (in 15 min it's at the first step of the algorithm the pruning)\n",
    "# For this the explainability will be probably done on a realy small subset of the dataset\n",
    "# It gave an error XD\n",
    "fbt = FBT(max_depth=6,max_number_of_conjunctions=1000,min_forest_size=10,pruning_method='auc')\n",
    "expl_data = tr_data.merge(tr_out, left_index=True, right_index=True)\n",
    "#print(expl_data)\n",
    "expl_data = expl_data.dropna()\n",
    "expl_data = expl_data.sample(n=400).reset_index(drop=True)\n",
    "expl_data['target'] = expl_data['target'].astype(int)\n",
    "fbt.fit(expl_data,TO_USE_COLS,'target',xgb_model)"
   ]
  },
  {
   "cell_type": "code",
   "execution_count": 17,
   "metadata": {},
   "outputs": [
    {
     "name": "stdout",
     "output_type": "stream",
     "text": [
      "predictions: [0, 1, 1, 0, 1, 0, 1, 1, 1, 0]\n",
      "target     : [0, 1, 1, 0, 0, 0, 0, 0, 0, 0]\n",
      "percentage of 0: 0.525\n"
     ]
    }
   ],
   "source": [
    "predictions = fbt.predict(expl_data[TO_USE_COLS][10:20])\n",
    "print('predictions:', list(predictions))\n",
    "print('target     :', list(expl_data['target'][10:20]))\n",
    "print('percentage of 0:', np.mean(expl_data['target'] == 0))"
   ]
  },
  {
   "cell_type": "code",
   "execution_count": 18,
   "metadata": {},
   "outputs": [
    {
     "name": "stdout",
     "output_type": "stream",
     "text": [
      "classified as : 1 while truth is 0\n",
      "decisions:\n",
      "avg_points_per_race >= 2.68041229\n",
      "bmi < 21.1068783\n",
      "startlist_quality >= 844.0\n",
      "startlist_quality >= 859.0\n",
      "bmi < 20.5714283\n",
      "avg_points_per_race < 10.0\n",
      "labels: [0.49367202 0.50632798]\n"
     ]
    }
   ],
   "source": [
    "l = fbt.get_decision_paths(expl_data[TO_USE_COLS])\n",
    "pred = fbt.predict(expl_data[TO_USE_COLS])\n",
    "i = 103\n",
    "print(f'classified as : {pred[i]} while truth is {expl_data[\"target\"][i]}')\n",
    "print('decisions:')\n",
    "for d in l[i]:\n",
    "    print(d)"
   ]
  },
  {
   "cell_type": "code",
   "execution_count": 19,
   "metadata": {},
   "outputs": [
    {
     "name": "stdout",
     "output_type": "stream",
     "text": [
      "f1-score: 0.5748268844707896\n",
      "              precision    recall  f1-score   support\n",
      "\n",
      "       False       0.92      0.67      0.78     37243\n",
      "        True       0.26      0.67      0.37      6237\n",
      "\n",
      "    accuracy                           0.67     43480\n",
      "   macro avg       0.59      0.67      0.57     43480\n",
      "weighted avg       0.83      0.67      0.72     43480\n",
      "\n"
     ]
    }
   ],
   "source": [
    "pred = fbt.predict(val_data)\n",
    "print(f'f1-score: {f1_macro(val_out, pred)}')\n",
    "print(classification_report(val_out, pred))"
   ]
  },
  {
   "cell_type": "code",
   "execution_count": null,
   "metadata": {},
   "outputs": [],
   "source": []
  }
 ],
 "metadata": {
  "kernelspec": {
   "display_name": "dm",
   "language": "python",
   "name": "python3"
  },
  "language_info": {
   "codemirror_mode": {
    "name": "ipython",
    "version": 3
   },
   "file_extension": ".py",
   "mimetype": "text/x-python",
   "name": "python",
   "nbconvert_exporter": "python",
   "pygments_lexer": "ipython3",
   "version": "3.12.5"
  }
 },
 "nbformat": 4,
 "nbformat_minor": 2
}
