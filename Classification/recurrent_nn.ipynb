{
 "cells": [
  {
   "cell_type": "markdown",
   "metadata": {},
   "source": [
    "# Recurrent Neural Networks"
   ]
  },
  {
   "cell_type": "markdown",
   "metadata": {},
   "source": [
    "The 4th task is about classification *on tabular data*. What if the approach was wrong? What would happen if we changed the nature of the data?\n",
    "\n",
    "This notebook revolves around using models for time series to tackle the classification task of the Data Mining project. However, these models shouldn't be compared with those that make use of tabular data, as the validation set will be different, and the data it uses is inherently different. Is still part of task 4 in a sense...\n",
    "\n",
    "Maybe I'll write a better introduction for this, for now let's move on."
   ]
  },
  {
   "cell_type": "markdown",
   "metadata": {},
   "source": [
    "## Autoreload\n",
    "\n",
    "Autoreload allows the notebook to dynamically load code: if we update some helper functions *outside* of the notebook, we do not need to reload the notebook."
   ]
  },
  {
   "cell_type": "code",
   "execution_count": 1,
   "metadata": {},
   "outputs": [],
   "source": [
    "%load_ext autoreload\n",
    "%autoreload 2"
   ]
  },
  {
   "cell_type": "markdown",
   "metadata": {},
   "source": [
    "## Imports"
   ]
  },
  {
   "cell_type": "markdown",
   "metadata": {},
   "source": [
    "As usual, we import all the packages and stuff"
   ]
  },
  {
   "cell_type": "code",
   "execution_count": 2,
   "metadata": {},
   "outputs": [],
   "source": [
    "import procyclingstats as pcs\n",
    "# Base libraries\n",
    "import os\n",
    "import sys\n",
    "# Basic data manipulation libraries\n",
    "import numpy as np\n",
    "import pandas as pd\n",
    "import itertools\n",
    "# Plotting libraries\n",
    "import matplotlib.pyplot as plt\n",
    "import seaborn as sns\n",
    "\n",
    "\n",
    "# Otherwise nothing will be found\n",
    "sys.path.append(os.path.abspath(os.path.join('..')))"
   ]
  },
  {
   "cell_type": "markdown",
   "metadata": {},
   "source": [
    "Import from our own utilities"
   ]
  },
  {
   "cell_type": "code",
   "execution_count": 3,
   "metadata": {},
   "outputs": [],
   "source": [
    "from utility.classification_utility import get_merged_dataset"
   ]
  },
  {
   "cell_type": "markdown",
   "metadata": {},
   "source": [
    "Other constants, global variables"
   ]
  },
  {
   "cell_type": "code",
   "execution_count": 4,
   "metadata": {},
   "outputs": [],
   "source": [
    "IMAGES_DIR = os.path.join('Images', 'Clustering_imgs', 'recurrent_models_imgs')\n",
    "\n",
    "RACES_URL = os.path.join('..', 'dataset', 'races_cleaned.csv')\n",
    "CYCLISTS_URL = os.path.join('..', 'dataset', 'cyclists_cleaned.csv')\n",
    "\n",
    "# we define a random state to make the results reproducible\n",
    "RANDOM_STATE = 42\n",
    "RUN_SLOW_STUFF = False"
   ]
  },
  {
   "cell_type": "markdown",
   "metadata": {},
   "source": [
    "## Dataset Creation"
   ]
  },
  {
   "cell_type": "markdown",
   "metadata": {},
   "source": [
    "As said, the creation of the dataset is not trivial at all."
   ]
  },
  {
   "cell_type": "code",
   "execution_count": 5,
   "metadata": {},
   "outputs": [
    {
     "data": {
      "text/plain": [
       "(523073, 38)"
      ]
     },
     "execution_count": 5,
     "metadata": {},
     "output_type": "execute_result"
    }
   ],
   "source": [
    "merged = get_merged_dataset(cyclists=CYCLISTS_URL, races=RACES_URL)\n",
    "merged.shape"
   ]
  },
  {
   "cell_type": "markdown",
   "metadata": {},
   "source": [
    "Let's convert some datatypes into time-related datatypes of NumPy and Pandas"
   ]
  },
  {
   "cell_type": "code",
   "execution_count": 6,
   "metadata": {},
   "outputs": [],
   "source": [
    "merged['date'] = merged['date'].astype('datetime64[s]')\n",
    "merged['delta'] = merged['delta'].astype('timedelta64[s]')\n",
    "merged['time'] = merged['time'].astype('timedelta64[s]')"
   ]
  },
  {
   "cell_type": "markdown",
   "metadata": {},
   "source": [
    "Now we can remove some more columns:\n",
    "- `time_seconds`: is just the conversion of the `time` column from string into the n° of seconds (int). With the `timedelta64[s]` datatype, this is not necessary\n",
    "- `cyclist_age_cyc`: is just `2024 - birth_year` (2024 because it was created last year)"
   ]
  },
  {
   "cell_type": "code",
   "execution_count": 7,
   "metadata": {},
   "outputs": [],
   "source": [
    "merged.drop(columns=['time_seconds', 'cyclist_age_cyc'], inplace=True)"
   ]
  },
  {
   "cell_type": "code",
   "execution_count": 8,
   "metadata": {},
   "outputs": [
    {
     "data": {
      "text/plain": [
       "Index(['_url_rac', 'name_rac', 'stage', 'stage_type', 'points', 'length',\n",
       "       'climb_total', 'profile', 'startlist_quality', 'date', 'position',\n",
       "       'cyclist', 'cyclist_age_rac', 'is_tarmac', 'delta', 'time',\n",
       "       'average_speed', 'steepness', 'season', 'is_staged', 'race_country',\n",
       "       'age_performance_index', 'quality_adjusted_points', 'stamina_index',\n",
       "       'weight', 'height', 'nationality', 'bmi', 'race_count',\n",
       "       'experience_level', 'total_points', 'avg_points_per_race',\n",
       "       'average_position', 'avg_speed_cyclist', 'cyclist_age_cyc',\n",
       "       'mean_stamina_index'],\n",
       "      dtype='object')"
      ]
     },
     "execution_count": 8,
     "metadata": {},
     "output_type": "execute_result"
    }
   ],
   "source": [
    "merged.columns\n"
   ]
  },
  {
   "cell_type": "code",
   "execution_count": 9,
   "metadata": {},
   "outputs": [
    {
     "data": {
      "text/html": [
       "<div>\n",
       "<style scoped>\n",
       "    .dataframe tbody tr th:only-of-type {\n",
       "        vertical-align: middle;\n",
       "    }\n",
       "\n",
       "    .dataframe tbody tr th {\n",
       "        vertical-align: top;\n",
       "    }\n",
       "\n",
       "    .dataframe thead th {\n",
       "        text-align: right;\n",
       "    }\n",
       "</style>\n",
       "<table border=\"1\" class=\"dataframe\">\n",
       "  <thead>\n",
       "    <tr style=\"text-align: right;\">\n",
       "      <th></th>\n",
       "      <th>_url_rac</th>\n",
       "      <th>name_rac</th>\n",
       "      <th>stage</th>\n",
       "      <th>stage_type</th>\n",
       "      <th>points</th>\n",
       "      <th>length</th>\n",
       "      <th>climb_total</th>\n",
       "      <th>profile</th>\n",
       "      <th>startlist_quality</th>\n",
       "      <th>date</th>\n",
       "      <th>...</th>\n",
       "      <th>nationality</th>\n",
       "      <th>bmi</th>\n",
       "      <th>race_count</th>\n",
       "      <th>experience_level</th>\n",
       "      <th>total_points</th>\n",
       "      <th>avg_points_per_race</th>\n",
       "      <th>average_position</th>\n",
       "      <th>avg_speed_cyclist</th>\n",
       "      <th>cyclist_age_cyc</th>\n",
       "      <th>mean_stamina_index</th>\n",
       "    </tr>\n",
       "  </thead>\n",
       "  <tbody>\n",
       "    <tr>\n",
       "      <th>285</th>\n",
       "      <td>volta-a-catalunya/1999/prologue</td>\n",
       "      <td>Volta Ciclista a Catalunya</td>\n",
       "      <td>prologue</td>\n",
       "      <td>RR</td>\n",
       "      <td>0.0</td>\n",
       "      <td>8100.0</td>\n",
       "      <td>NaN</td>\n",
       "      <td>NaN</td>\n",
       "      <td>804</td>\n",
       "      <td>1999-06-17</td>\n",
       "      <td>...</td>\n",
       "      <td>Italy</td>\n",
       "      <td>21.555947</td>\n",
       "      <td>373.0</td>\n",
       "      <td>pro</td>\n",
       "      <td>9807.0</td>\n",
       "      <td>26.292225</td>\n",
       "      <td>47.636842</td>\n",
       "      <td>11.017329</td>\n",
       "      <td>57.0</td>\n",
       "      <td>17.545851</td>\n",
       "    </tr>\n",
       "    <tr>\n",
       "      <th>1436</th>\n",
       "      <td>milano-sanremo/2004/result</td>\n",
       "      <td>Milano-Sanremo</td>\n",
       "      <td>NaN</td>\n",
       "      <td>RR</td>\n",
       "      <td>5.0</td>\n",
       "      <td>294000.0</td>\n",
       "      <td>NaN</td>\n",
       "      <td>NaN</td>\n",
       "      <td>1400</td>\n",
       "      <td>2004-03-20</td>\n",
       "      <td>...</td>\n",
       "      <td>Italy</td>\n",
       "      <td>21.555947</td>\n",
       "      <td>373.0</td>\n",
       "      <td>pro</td>\n",
       "      <td>9807.0</td>\n",
       "      <td>26.292225</td>\n",
       "      <td>47.636842</td>\n",
       "      <td>11.017329</td>\n",
       "      <td>57.0</td>\n",
       "      <td>17.545851</td>\n",
       "    </tr>\n",
       "    <tr>\n",
       "      <th>2502</th>\n",
       "      <td>giro-d-italia/1999/stage-8</td>\n",
       "      <td>Giro d'Italia</td>\n",
       "      <td>stage-8</td>\n",
       "      <td>RR</td>\n",
       "      <td>0.0</td>\n",
       "      <td>253000.0</td>\n",
       "      <td>NaN</td>\n",
       "      <td>5.0</td>\n",
       "      <td>1057</td>\n",
       "      <td>1999-05-22</td>\n",
       "      <td>...</td>\n",
       "      <td>Italy</td>\n",
       "      <td>21.555947</td>\n",
       "      <td>373.0</td>\n",
       "      <td>pro</td>\n",
       "      <td>9807.0</td>\n",
       "      <td>26.292225</td>\n",
       "      <td>47.636842</td>\n",
       "      <td>11.017329</td>\n",
       "      <td>57.0</td>\n",
       "      <td>17.545851</td>\n",
       "    </tr>\n",
       "    <tr>\n",
       "      <th>3151</th>\n",
       "      <td>tirreno-adriatico/2005/stage-6</td>\n",
       "      <td>Tirreno-Adriatico</td>\n",
       "      <td>stage-6</td>\n",
       "      <td>RR</td>\n",
       "      <td>4.0</td>\n",
       "      <td>164000.0</td>\n",
       "      <td>NaN</td>\n",
       "      <td>1.0</td>\n",
       "      <td>1040</td>\n",
       "      <td>2005-03-14</td>\n",
       "      <td>...</td>\n",
       "      <td>Italy</td>\n",
       "      <td>21.555947</td>\n",
       "      <td>373.0</td>\n",
       "      <td>pro</td>\n",
       "      <td>9807.0</td>\n",
       "      <td>26.292225</td>\n",
       "      <td>47.636842</td>\n",
       "      <td>11.017329</td>\n",
       "      <td>57.0</td>\n",
       "      <td>17.545851</td>\n",
       "    </tr>\n",
       "    <tr>\n",
       "      <th>4753</th>\n",
       "      <td>tirreno-adriatico/1999/stage-4</td>\n",
       "      <td>Tirreno-Adriatico</td>\n",
       "      <td>stage-4</td>\n",
       "      <td>RR</td>\n",
       "      <td>0.0</td>\n",
       "      <td>197000.0</td>\n",
       "      <td>NaN</td>\n",
       "      <td>NaN</td>\n",
       "      <td>1150</td>\n",
       "      <td>1999-03-13</td>\n",
       "      <td>...</td>\n",
       "      <td>Italy</td>\n",
       "      <td>21.555947</td>\n",
       "      <td>373.0</td>\n",
       "      <td>pro</td>\n",
       "      <td>9807.0</td>\n",
       "      <td>26.292225</td>\n",
       "      <td>47.636842</td>\n",
       "      <td>11.017329</td>\n",
       "      <td>57.0</td>\n",
       "      <td>17.545851</td>\n",
       "    </tr>\n",
       "    <tr>\n",
       "      <th>...</th>\n",
       "      <td>...</td>\n",
       "      <td>...</td>\n",
       "      <td>...</td>\n",
       "      <td>...</td>\n",
       "      <td>...</td>\n",
       "      <td>...</td>\n",
       "      <td>...</td>\n",
       "      <td>...</td>\n",
       "      <td>...</td>\n",
       "      <td>...</td>\n",
       "      <td>...</td>\n",
       "      <td>...</td>\n",
       "      <td>...</td>\n",
       "      <td>...</td>\n",
       "      <td>...</td>\n",
       "      <td>...</td>\n",
       "      <td>...</td>\n",
       "      <td>...</td>\n",
       "      <td>...</td>\n",
       "      <td>...</td>\n",
       "      <td>...</td>\n",
       "    </tr>\n",
       "    <tr>\n",
       "      <th>519003</th>\n",
       "      <td>giro-d-italia/1996/stage-10</td>\n",
       "      <td>Giro d'Italia</td>\n",
       "      <td>stage-10</td>\n",
       "      <td>RR</td>\n",
       "      <td>0.0</td>\n",
       "      <td>164000.0</td>\n",
       "      <td>NaN</td>\n",
       "      <td>2.0</td>\n",
       "      <td>1034</td>\n",
       "      <td>1996-05-28</td>\n",
       "      <td>...</td>\n",
       "      <td>Italy</td>\n",
       "      <td>21.555947</td>\n",
       "      <td>373.0</td>\n",
       "      <td>pro</td>\n",
       "      <td>9807.0</td>\n",
       "      <td>26.292225</td>\n",
       "      <td>47.636842</td>\n",
       "      <td>11.017329</td>\n",
       "      <td>57.0</td>\n",
       "      <td>17.545851</td>\n",
       "    </tr>\n",
       "    <tr>\n",
       "      <th>519948</th>\n",
       "      <td>milano-sanremo/1996/result</td>\n",
       "      <td>Milano-Sanremo</td>\n",
       "      <td>NaN</td>\n",
       "      <td>RR</td>\n",
       "      <td>80.0</td>\n",
       "      <td>294000.0</td>\n",
       "      <td>NaN</td>\n",
       "      <td>NaN</td>\n",
       "      <td>1580</td>\n",
       "      <td>1996-03-23</td>\n",
       "      <td>...</td>\n",
       "      <td>Italy</td>\n",
       "      <td>21.555947</td>\n",
       "      <td>373.0</td>\n",
       "      <td>pro</td>\n",
       "      <td>9807.0</td>\n",
       "      <td>26.292225</td>\n",
       "      <td>47.636842</td>\n",
       "      <td>11.017329</td>\n",
       "      <td>57.0</td>\n",
       "      <td>17.545851</td>\n",
       "    </tr>\n",
       "    <tr>\n",
       "      <th>520116</th>\n",
       "      <td>tirreno-adriatico/2003/stage-1</td>\n",
       "      <td>Tirreno-Adriatico</td>\n",
       "      <td>stage-1</td>\n",
       "      <td>RR</td>\n",
       "      <td>50.0</td>\n",
       "      <td>178000.0</td>\n",
       "      <td>NaN</td>\n",
       "      <td>NaN</td>\n",
       "      <td>882</td>\n",
       "      <td>2003-03-13</td>\n",
       "      <td>...</td>\n",
       "      <td>Italy</td>\n",
       "      <td>21.555947</td>\n",
       "      <td>373.0</td>\n",
       "      <td>pro</td>\n",
       "      <td>9807.0</td>\n",
       "      <td>26.292225</td>\n",
       "      <td>47.636842</td>\n",
       "      <td>11.017329</td>\n",
       "      <td>57.0</td>\n",
       "      <td>17.545851</td>\n",
       "    </tr>\n",
       "    <tr>\n",
       "      <th>520274</th>\n",
       "      <td>paris-nice/1993/stage-1</td>\n",
       "      <td>Paris - Nice</td>\n",
       "      <td>stage-1</td>\n",
       "      <td>RR</td>\n",
       "      <td>50.0</td>\n",
       "      <td>208500.0</td>\n",
       "      <td>NaN</td>\n",
       "      <td>NaN</td>\n",
       "      <td>1182</td>\n",
       "      <td>1993-03-08</td>\n",
       "      <td>...</td>\n",
       "      <td>Italy</td>\n",
       "      <td>21.555947</td>\n",
       "      <td>373.0</td>\n",
       "      <td>pro</td>\n",
       "      <td>9807.0</td>\n",
       "      <td>26.292225</td>\n",
       "      <td>47.636842</td>\n",
       "      <td>11.017329</td>\n",
       "      <td>57.0</td>\n",
       "      <td>17.545851</td>\n",
       "    </tr>\n",
       "    <tr>\n",
       "      <th>520570</th>\n",
       "      <td>tour-de-romandie/1999/stage-2</td>\n",
       "      <td>Tour de Romandie</td>\n",
       "      <td>stage-2</td>\n",
       "      <td>RR</td>\n",
       "      <td>0.0</td>\n",
       "      <td>171300.0</td>\n",
       "      <td>NaN</td>\n",
       "      <td>NaN</td>\n",
       "      <td>893</td>\n",
       "      <td>1999-05-06</td>\n",
       "      <td>...</td>\n",
       "      <td>Italy</td>\n",
       "      <td>21.555947</td>\n",
       "      <td>373.0</td>\n",
       "      <td>pro</td>\n",
       "      <td>9807.0</td>\n",
       "      <td>26.292225</td>\n",
       "      <td>47.636842</td>\n",
       "      <td>11.017329</td>\n",
       "      <td>57.0</td>\n",
       "      <td>17.545851</td>\n",
       "    </tr>\n",
       "  </tbody>\n",
       "</table>\n",
       "<p>344 rows × 36 columns</p>\n",
       "</div>"
      ],
      "text/plain": [
       "                               _url_rac                    name_rac     stage  \\\n",
       "285     volta-a-catalunya/1999/prologue  Volta Ciclista a Catalunya  prologue   \n",
       "1436         milano-sanremo/2004/result              Milano-Sanremo       NaN   \n",
       "2502         giro-d-italia/1999/stage-8               Giro d'Italia   stage-8   \n",
       "3151     tirreno-adriatico/2005/stage-6           Tirreno-Adriatico   stage-6   \n",
       "4753     tirreno-adriatico/1999/stage-4           Tirreno-Adriatico   stage-4   \n",
       "...                                 ...                         ...       ...   \n",
       "519003      giro-d-italia/1996/stage-10               Giro d'Italia  stage-10   \n",
       "519948       milano-sanremo/1996/result              Milano-Sanremo       NaN   \n",
       "520116   tirreno-adriatico/2003/stage-1           Tirreno-Adriatico   stage-1   \n",
       "520274          paris-nice/1993/stage-1                Paris - Nice   stage-1   \n",
       "520570    tour-de-romandie/1999/stage-2            Tour de Romandie   stage-2   \n",
       "\n",
       "       stage_type  points    length  climb_total  profile  startlist_quality  \\\n",
       "285            RR     0.0    8100.0          NaN      NaN                804   \n",
       "1436           RR     5.0  294000.0          NaN      NaN               1400   \n",
       "2502           RR     0.0  253000.0          NaN      5.0               1057   \n",
       "3151           RR     4.0  164000.0          NaN      1.0               1040   \n",
       "4753           RR     0.0  197000.0          NaN      NaN               1150   \n",
       "...           ...     ...       ...          ...      ...                ...   \n",
       "519003         RR     0.0  164000.0          NaN      2.0               1034   \n",
       "519948         RR    80.0  294000.0          NaN      NaN               1580   \n",
       "520116         RR    50.0  178000.0          NaN      NaN                882   \n",
       "520274         RR    50.0  208500.0          NaN      NaN               1182   \n",
       "520570         RR     0.0  171300.0          NaN      NaN                893   \n",
       "\n",
       "             date  ...  nationality        bmi  race_count  experience_level  \\\n",
       "285    1999-06-17  ...        Italy  21.555947       373.0               pro   \n",
       "1436   2004-03-20  ...        Italy  21.555947       373.0               pro   \n",
       "2502   1999-05-22  ...        Italy  21.555947       373.0               pro   \n",
       "3151   2005-03-14  ...        Italy  21.555947       373.0               pro   \n",
       "4753   1999-03-13  ...        Italy  21.555947       373.0               pro   \n",
       "...           ...  ...          ...        ...         ...               ...   \n",
       "519003 1996-05-28  ...        Italy  21.555947       373.0               pro   \n",
       "519948 1996-03-23  ...        Italy  21.555947       373.0               pro   \n",
       "520116 2003-03-13  ...        Italy  21.555947       373.0               pro   \n",
       "520274 1993-03-08  ...        Italy  21.555947       373.0               pro   \n",
       "520570 1999-05-06  ...        Italy  21.555947       373.0               pro   \n",
       "\n",
       "       total_points avg_points_per_race  average_position  avg_speed_cyclist  \\\n",
       "285          9807.0           26.292225         47.636842          11.017329   \n",
       "1436         9807.0           26.292225         47.636842          11.017329   \n",
       "2502         9807.0           26.292225         47.636842          11.017329   \n",
       "3151         9807.0           26.292225         47.636842          11.017329   \n",
       "4753         9807.0           26.292225         47.636842          11.017329   \n",
       "...             ...                 ...               ...                ...   \n",
       "519003       9807.0           26.292225         47.636842          11.017329   \n",
       "519948       9807.0           26.292225         47.636842          11.017329   \n",
       "520116       9807.0           26.292225         47.636842          11.017329   \n",
       "520274       9807.0           26.292225         47.636842          11.017329   \n",
       "520570       9807.0           26.292225         47.636842          11.017329   \n",
       "\n",
       "        cyclist_age_cyc  mean_stamina_index  \n",
       "285                57.0           17.545851  \n",
       "1436               57.0           17.545851  \n",
       "2502               57.0           17.545851  \n",
       "3151               57.0           17.545851  \n",
       "4753               57.0           17.545851  \n",
       "...                 ...                 ...  \n",
       "519003             57.0           17.545851  \n",
       "519948             57.0           17.545851  \n",
       "520116             57.0           17.545851  \n",
       "520274             57.0           17.545851  \n",
       "520570             57.0           17.545851  \n",
       "\n",
       "[344 rows x 36 columns]"
      ]
     },
     "execution_count": 9,
     "metadata": {},
     "output_type": "execute_result"
    }
   ],
   "source": [
    "cipollini_df = merged[merged['cyclist'] == 'mario-cipollini']\n",
    "cipollini_df"
   ]
  },
  {
   "cell_type": "code",
   "execution_count": 39,
   "metadata": {},
   "outputs": [
    {
     "data": {
      "text/plain": [
       "285       57.0\n",
       "1436      57.0\n",
       "2502      57.0\n",
       "3151      57.0\n",
       "4753      57.0\n",
       "          ... \n",
       "519003    57.0\n",
       "519948    57.0\n",
       "520116    57.0\n",
       "520274    57.0\n",
       "520570    57.0\n",
       "Name: cyclist_age_cyc, Length: 344, dtype: float64"
      ]
     },
     "execution_count": 39,
     "metadata": {},
     "output_type": "execute_result"
    }
   ],
   "source": [
    "cipollini_df['cyclist_age_cyc']"
   ]
  },
  {
   "cell_type": "code",
   "execution_count": 42,
   "metadata": {},
   "outputs": [
    {
     "data": {
      "text/plain": [
       "array([32., 37., 38., 30., 31., 35., 29., 34., 28., 33., 25., 36., 24.,\n",
       "       26., 23., 27.])"
      ]
     },
     "execution_count": 42,
     "metadata": {},
     "output_type": "execute_result"
    }
   ],
   "source": [
    "cipollini_df['cyclist_age_rac'].unique()"
   ]
  },
  {
   "cell_type": "code",
   "execution_count": null,
   "metadata": {},
   "outputs": [],
   "source": []
  }
 ],
 "metadata": {
  "kernelspec": {
   "display_name": "DM-env",
   "language": "python",
   "name": "python3"
  },
  "language_info": {
   "codemirror_mode": {
    "name": "ipython",
    "version": 3
   },
   "file_extension": ".py",
   "mimetype": "text/x-python",
   "name": "python",
   "nbconvert_exporter": "python",
   "pygments_lexer": "ipython3",
   "version": "3.12.6"
  }
 },
 "nbformat": 4,
 "nbformat_minor": 2
}
