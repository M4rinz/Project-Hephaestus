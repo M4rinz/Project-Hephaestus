{
 "cells": [
  {
   "cell_type": "markdown",
   "metadata": {},
   "source": [
    "# Recurrent Neural Networks"
   ]
  },
  {
   "cell_type": "markdown",
   "metadata": {},
   "source": [
    "The 4th task is about classification *on tabular data*. What if the approach was wrong? What would happen if we changed the nature of the data?\n",
    "\n",
    "This notebook revolves around using models for time series to tackle the classification task of the Data Mining project. However, these models shouldn't be compared with those that make use of tabular data, as the validation set will be different, and the data it uses is inherently different. Is still part of task 4 in a sense...\n",
    "\n",
    "Maybe I'll write a better introduction for this, for now let's move on."
   ]
  },
  {
   "cell_type": "markdown",
   "metadata": {},
   "source": [
    "## Autoreload\n",
    "\n",
    "Autoreload allows the notebook to dynamically load code: if we update some helper functions *outside* of the notebook, we do not need to reload the notebook."
   ]
  },
  {
   "cell_type": "code",
   "execution_count": 1,
   "metadata": {},
   "outputs": [],
   "source": [
    "%load_ext autoreload\n",
    "%autoreload 2"
   ]
  },
  {
   "cell_type": "markdown",
   "metadata": {},
   "source": [
    "## Imports"
   ]
  },
  {
   "cell_type": "markdown",
   "metadata": {},
   "source": [
    "As usual, we import all the packages and stuff"
   ]
  },
  {
   "cell_type": "code",
   "execution_count": 2,
   "metadata": {},
   "outputs": [],
   "source": [
    "import procyclingstats as pcs\n",
    "# Base libraries\n",
    "import os\n",
    "import sys\n",
    "# Basic data manipulation libraries\n",
    "import numpy as np\n",
    "import pandas as pd\n",
    "import itertools\n",
    "# Plotting libraries\n",
    "import matplotlib.pyplot as plt\n",
    "import seaborn as sns\n",
    "\n",
    "\n",
    "# Otherwise nothing will be found\n",
    "sys.path.append(os.path.abspath(os.path.join('..')))"
   ]
  },
  {
   "cell_type": "markdown",
   "metadata": {},
   "source": [
    "Import from our own utilities"
   ]
  },
  {
   "cell_type": "code",
   "execution_count": 3,
   "metadata": {},
   "outputs": [],
   "source": [
    "from utility.classification_utility import make_dataset_for_RNN_classification, TO_NOT_USE_COLS, TO_REMOVE_COLS"
   ]
  },
  {
   "cell_type": "markdown",
   "metadata": {},
   "source": [
    "Other constants, global variables"
   ]
  },
  {
   "cell_type": "code",
   "execution_count": 4,
   "metadata": {},
   "outputs": [],
   "source": [
    "IMAGES_DIR = os.path.join('Images', 'Clustering_imgs', 'recurrent_models_imgs')\n",
    "\n",
    "RACES_URL = os.path.join('..', 'dataset', 'races_cleaned.csv')\n",
    "CYCLISTS_URL = os.path.join('..', 'dataset', 'cyclists_cleaned.csv')\n",
    "\n",
    "# we define a random state to make the results reproducible\n",
    "RANDOM_STATE = 42\n",
    "RUN_SLOW_STUFF = False"
   ]
  },
  {
   "cell_type": "markdown",
   "metadata": {},
   "source": [
    "## Dataset Creation"
   ]
  },
  {
   "cell_type": "markdown",
   "metadata": {},
   "source": [
    "As said, the creation of the dataset is not trivial at all."
   ]
  },
  {
   "cell_type": "code",
   "execution_count": 5,
   "metadata": {},
   "outputs": [
    {
     "data": {
      "text/plain": [
       "(523073, 39)"
      ]
     },
     "execution_count": 5,
     "metadata": {},
     "output_type": "execute_result"
    }
   ],
   "source": [
    "merged = make_dataset_for_RNN_classification(cyclists_url=CYCLISTS_URL, races_url=RACES_URL)\n",
    "merged.shape"
   ]
  },
  {
   "cell_type": "markdown",
   "metadata": {},
   "source": [
    "The cell above takes a long time to run. That's because there's a lot going on"
   ]
  },
  {
   "cell_type": "markdown",
   "metadata": {},
   "source": [
    "The `make_dataset_for_RNN_classification` removes some more columns:\n",
    "- `time_seconds`: is just the conversion of the `time` column from string into the n° of seconds (int). With the `timedelta64[s]` datatype, this is not necessary\n",
    "- `cyclist_age_cyc`: is just `2024 - birth_year` (2024 because it was created last year)"
   ]
  },
  {
   "cell_type": "code",
   "execution_count": 21,
   "metadata": {},
   "outputs": [
    {
     "data": {
      "text/html": [
       "<div>\n",
       "<style scoped>\n",
       "    .dataframe tbody tr th:only-of-type {\n",
       "        vertical-align: middle;\n",
       "    }\n",
       "\n",
       "    .dataframe tbody tr th {\n",
       "        vertical-align: top;\n",
       "    }\n",
       "\n",
       "    .dataframe thead th {\n",
       "        text-align: right;\n",
       "    }\n",
       "</style>\n",
       "<table border=\"1\" class=\"dataframe\">\n",
       "  <thead>\n",
       "    <tr style=\"text-align: right;\">\n",
       "      <th></th>\n",
       "      <th></th>\n",
       "      <th>_url_rac</th>\n",
       "      <th>name_rac</th>\n",
       "      <th>stage</th>\n",
       "      <th>stage_type</th>\n",
       "      <th>points</th>\n",
       "      <th>uci_points</th>\n",
       "      <th>length</th>\n",
       "      <th>climb_total</th>\n",
       "      <th>profile</th>\n",
       "      <th>startlist_quality</th>\n",
       "      <th>...</th>\n",
       "      <th>partecipants_number</th>\n",
       "      <th>target</th>\n",
       "      <th>delta_shifted</th>\n",
       "      <th>stamina_index_shifted</th>\n",
       "      <th>time_shifted</th>\n",
       "      <th>age_performance_index_shifted</th>\n",
       "      <th>points_shifted</th>\n",
       "      <th>average_speed_shifted</th>\n",
       "      <th>target_shifted</th>\n",
       "      <th>position_shifted</th>\n",
       "    </tr>\n",
       "    <tr>\n",
       "      <th>cyclist</th>\n",
       "      <th></th>\n",
       "      <th></th>\n",
       "      <th></th>\n",
       "      <th></th>\n",
       "      <th></th>\n",
       "      <th></th>\n",
       "      <th></th>\n",
       "      <th></th>\n",
       "      <th></th>\n",
       "      <th></th>\n",
       "      <th></th>\n",
       "      <th></th>\n",
       "      <th></th>\n",
       "      <th></th>\n",
       "      <th></th>\n",
       "      <th></th>\n",
       "      <th></th>\n",
       "      <th></th>\n",
       "      <th></th>\n",
       "      <th></th>\n",
       "      <th></th>\n",
       "      <th></th>\n",
       "    </tr>\n",
       "  </thead>\n",
       "  <tbody>\n",
       "    <tr>\n",
       "      <th rowspan=\"5\" valign=\"top\">aad-van-den-hoek</th>\n",
       "      <th>72148</th>\n",
       "      <td>tour-de-suisse/1975/stage-9b</td>\n",
       "      <td>Tour de Suisse</td>\n",
       "      <td>stage-9b</td>\n",
       "      <td>ITT</td>\n",
       "      <td>7.0</td>\n",
       "      <td>0.0</td>\n",
       "      <td>20400.0</td>\n",
       "      <td>NaN</td>\n",
       "      <td>NaN</td>\n",
       "      <td>549</td>\n",
       "      <td>...</td>\n",
       "      <td>6</td>\n",
       "      <td>True</td>\n",
       "      <td>NaT</td>\n",
       "      <td>NaN</td>\n",
       "      <td>NaT</td>\n",
       "      <td>NaN</td>\n",
       "      <td>NaN</td>\n",
       "      <td>NaN</td>\n",
       "      <td>NaN</td>\n",
       "      <td>NaN</td>\n",
       "    </tr>\n",
       "    <tr>\n",
       "      <th>398199</th>\n",
       "      <td>paris-nice/1976/prologue</td>\n",
       "      <td>Paris - Nice</td>\n",
       "      <td>prologue</td>\n",
       "      <td>RR</td>\n",
       "      <td>0.0</td>\n",
       "      <td>0.0</td>\n",
       "      <td>6500.0</td>\n",
       "      <td>NaN</td>\n",
       "      <td>NaN</td>\n",
       "      <td>779</td>\n",
       "      <td>...</td>\n",
       "      <td>15</td>\n",
       "      <td>True</td>\n",
       "      <td>0 days 00:01:27</td>\n",
       "      <td>NaN</td>\n",
       "      <td>0 days 00:28:18</td>\n",
       "      <td>-21.241584</td>\n",
       "      <td>7.0</td>\n",
       "      <td>12.014134</td>\n",
       "      <td>True</td>\n",
       "      <td>5.0</td>\n",
       "    </tr>\n",
       "    <tr>\n",
       "      <th>408882</th>\n",
       "      <td>omloop-het-nieuwsblad/1977/result</td>\n",
       "      <td>Omloop Het Nieuwsblad ME</td>\n",
       "      <td>NaN</td>\n",
       "      <td>RR</td>\n",
       "      <td>0.0</td>\n",
       "      <td>0.0</td>\n",
       "      <td>201000.0</td>\n",
       "      <td>NaN</td>\n",
       "      <td>NaN</td>\n",
       "      <td>595</td>\n",
       "      <td>...</td>\n",
       "      <td>38</td>\n",
       "      <td>False</td>\n",
       "      <td>0 days 00:00:24</td>\n",
       "      <td>NaN</td>\n",
       "      <td>0 days 00:08:56</td>\n",
       "      <td>NaN</td>\n",
       "      <td>0.0</td>\n",
       "      <td>12.126866</td>\n",
       "      <td>True</td>\n",
       "      <td>14.0</td>\n",
       "    </tr>\n",
       "    <tr>\n",
       "      <th>441142</th>\n",
       "      <td>omloop-het-nieuwsblad/1978/result</td>\n",
       "      <td>Omloop Het Nieuwsblad ME</td>\n",
       "      <td>NaN</td>\n",
       "      <td>RR</td>\n",
       "      <td>0.0</td>\n",
       "      <td>0.0</td>\n",
       "      <td>218000.0</td>\n",
       "      <td>NaN</td>\n",
       "      <td>NaN</td>\n",
       "      <td>493</td>\n",
       "      <td>...</td>\n",
       "      <td>31</td>\n",
       "      <td>False</td>\n",
       "      <td>0 days 00:09:25</td>\n",
       "      <td>NaN</td>\n",
       "      <td>0 days 04:50:25</td>\n",
       "      <td>NaN</td>\n",
       "      <td>0.0</td>\n",
       "      <td>11.535151</td>\n",
       "      <td>False</td>\n",
       "      <td>37.0</td>\n",
       "    </tr>\n",
       "    <tr>\n",
       "      <th>56937</th>\n",
       "      <td>tour-de-france/1978/prologue</td>\n",
       "      <td>Tour de France</td>\n",
       "      <td>prologue</td>\n",
       "      <td>RR</td>\n",
       "      <td>0.0</td>\n",
       "      <td>0.0</td>\n",
       "      <td>5200.0</td>\n",
       "      <td>27.0</td>\n",
       "      <td>1.0</td>\n",
       "      <td>1241</td>\n",
       "      <td>...</td>\n",
       "      <td>110</td>\n",
       "      <td>False</td>\n",
       "      <td>0 days 00:04:00</td>\n",
       "      <td>NaN</td>\n",
       "      <td>0 days 05:11:30</td>\n",
       "      <td>NaN</td>\n",
       "      <td>0.0</td>\n",
       "      <td>11.663991</td>\n",
       "      <td>False</td>\n",
       "      <td>26.0</td>\n",
       "    </tr>\n",
       "  </tbody>\n",
       "</table>\n",
       "<p>5 rows × 39 columns</p>\n",
       "</div>"
      ],
      "text/plain": [
       "                                                  _url_rac  \\\n",
       "cyclist                                                      \n",
       "aad-van-den-hoek 72148        tour-de-suisse/1975/stage-9b   \n",
       "                 398199           paris-nice/1976/prologue   \n",
       "                 408882  omloop-het-nieuwsblad/1977/result   \n",
       "                 441142  omloop-het-nieuwsblad/1978/result   \n",
       "                 56937        tour-de-france/1978/prologue   \n",
       "\n",
       "                                         name_rac     stage stage_type  \\\n",
       "cyclist                                                                  \n",
       "aad-van-den-hoek 72148             Tour de Suisse  stage-9b        ITT   \n",
       "                 398199              Paris - Nice  prologue         RR   \n",
       "                 408882  Omloop Het Nieuwsblad ME       NaN         RR   \n",
       "                 441142  Omloop Het Nieuwsblad ME       NaN         RR   \n",
       "                 56937             Tour de France  prologue         RR   \n",
       "\n",
       "                         points  uci_points    length  climb_total  profile  \\\n",
       "cyclist                                                                       \n",
       "aad-van-den-hoek 72148      7.0         0.0   20400.0          NaN      NaN   \n",
       "                 398199     0.0         0.0    6500.0          NaN      NaN   \n",
       "                 408882     0.0         0.0  201000.0          NaN      NaN   \n",
       "                 441142     0.0         0.0  218000.0          NaN      NaN   \n",
       "                 56937      0.0         0.0    5200.0         27.0      1.0   \n",
       "\n",
       "                         startlist_quality  ... partecipants_number  target  \\\n",
       "cyclist                                     ...                               \n",
       "aad-van-den-hoek 72148                 549  ...                   6    True   \n",
       "                 398199                779  ...                  15    True   \n",
       "                 408882                595  ...                  38   False   \n",
       "                 441142                493  ...                  31   False   \n",
       "                 56937                1241  ...                 110   False   \n",
       "\n",
       "                          delta_shifted  stamina_index_shifted  \\\n",
       "cyclist                                                          \n",
       "aad-van-den-hoek 72148              NaT                    NaN   \n",
       "                 398199 0 days 00:01:27                    NaN   \n",
       "                 408882 0 days 00:00:24                    NaN   \n",
       "                 441142 0 days 00:09:25                    NaN   \n",
       "                 56937  0 days 00:04:00                    NaN   \n",
       "\n",
       "                           time_shifted age_performance_index_shifted  \\\n",
       "cyclist                                                                 \n",
       "aad-van-den-hoek 72148              NaT                           NaN   \n",
       "                 398199 0 days 00:28:18                    -21.241584   \n",
       "                 408882 0 days 00:08:56                           NaN   \n",
       "                 441142 0 days 04:50:25                           NaN   \n",
       "                 56937  0 days 05:11:30                           NaN   \n",
       "\n",
       "                         points_shifted  average_speed_shifted  \\\n",
       "cyclist                                                          \n",
       "aad-van-den-hoek 72148              NaN                    NaN   \n",
       "                 398199             7.0              12.014134   \n",
       "                 408882             0.0              12.126866   \n",
       "                 441142             0.0              11.535151   \n",
       "                 56937              0.0              11.663991   \n",
       "\n",
       "                         target_shifted  position_shifted  \n",
       "cyclist                                                    \n",
       "aad-van-den-hoek 72148              NaN               NaN  \n",
       "                 398199            True               5.0  \n",
       "                 408882            True              14.0  \n",
       "                 441142           False              37.0  \n",
       "                 56937            False              26.0  \n",
       "\n",
       "[5 rows x 39 columns]"
      ]
     },
     "execution_count": 21,
     "metadata": {},
     "output_type": "execute_result"
    }
   ],
   "source": [
    "merged.head()"
   ]
  },
  {
   "cell_type": "markdown",
   "metadata": {},
   "source": [
    "We notice that the `cyclist` column has now become an index. In fact the `make_dataset_for_RNN_classification`\n",
    "- **Groups** the rows by cyclist, in order to put together the records of the same cyclist, to create time series of the cyclists\n",
    "- **Sorts** the rows by date, inside each group\n",
    "- **Shifts** some columns"
   ]
  },
  {
   "cell_type": "markdown",
   "metadata": {},
   "source": [
    "Let's check that all dates are sorted"
   ]
  },
  {
   "cell_type": "code",
   "execution_count": 42,
   "metadata": {},
   "outputs": [
    {
     "name": "stdout",
     "output_type": "stream",
     "text": [
      "All dates are sorted\n"
     ]
    }
   ],
   "source": [
    "all_sorted = True\n",
    "for cyclist in merged.index.levels[0]:\n",
    "\ttruth = merged.loc[cyclist, 'date'].is_monotonic_increasing\n",
    "\tif not truth:\n",
    "\t\tprint(f\"For {cyclist}, dates are not sorted\")\n",
    "\t\tall_sorted = False\n",
    "\n",
    "if all_sorted:\n",
    "\tprint(\"All dates are sorted\")"
   ]
  },
  {
   "cell_type": "markdown",
   "metadata": {},
   "source": [
    "A few more words on the columns shifting.\n",
    "\n",
    "For the tabular data models we can't use some of the columns' values, we can just use the past values to compute the current prediction. For example, we can't use the current value for the `position` feature to predict if the cyclist is in the top 20, but we can use all the past values as we see fit.\n",
    "\n",
    "In the exploration, we identified features such as `average_position` that make use of these \"forbidden values\", as they make use of all the data available. Thus, they have to be computed for each timestep. For example, each record of a cyclist has the `average_position` value it had at the point of his career that corresponds to this record, excluding the current `position` value.\n",
    "\n",
    "In this way, classifiers based on tabular data can make use of these weird features.\n",
    "\n",
    "Well, for sequence models we don't need these summarizations. We leave it to the model to use all the values of the sequence seen so far, for its training, sa it sees fit. The only thing we have to make sure is to not use the current one. Hence the column shifting."
   ]
  },
  {
   "cell_type": "markdown",
   "metadata": {},
   "source": [
    "Let's check that the shift is successful"
   ]
  },
  {
   "cell_type": "code",
   "execution_count": 63,
   "metadata": {},
   "outputs": [
    {
     "name": "stdout",
     "output_type": "stream",
     "text": [
      "All columns are shifted correctly\n"
     ]
    }
   ],
   "source": [
    "def inefficient_comparer(l1:pd.Series, l2:pd.Series) -> bool:\n",
    "\tfor i, j in zip(l1, l2):\n",
    "\t\tif (pd.isna(i) and pd.isna(j)) or i == j:\n",
    "\t\t\tcontinue\n",
    "\t\telse:\n",
    "\t\t\treturn False\n",
    "\treturn True\n",
    "\n",
    "all_shifted_correctly = True\n",
    "for cyclist in merged.index.levels[0]:\n",
    "\tfor col in set(TO_NOT_USE_COLS) - {'time_seconds'}:\n",
    "\t\tl1 = merged.loc[cyclist, col][:-1].reset_index(drop=True)\n",
    "\t\tl2 = merged.loc[cyclist, f\"{col}_shifted\"][1:].reset_index(drop=True)\n",
    "\t\ttruth = inefficient_comparer(l1, l2)\n",
    "\t\tif not truth:\n",
    "\t\t\tprint(f\"For {cyclist}, {col} and {col}_shifted are not shifted correctly\")\n",
    "\t\t\tall_shifted_correctly = False\n",
    "\n",
    "if all_shifted_correctly:\n",
    "\tprint(\"All columns are shifted correctly\")"
   ]
  },
  {
   "cell_type": "code",
   "execution_count": 35,
   "metadata": {},
   "outputs": [
    {
     "data": {
      "text/plain": [
       "Index(['_url_rac', 'name_rac', 'stage', 'stage_type', 'points', 'uci_points',\n",
       "       'length', 'climb_total', 'profile', 'startlist_quality', 'date',\n",
       "       'position', 'cyclist_age_rac', 'is_tarmac', 'delta', 'time',\n",
       "       'average_speed', 'steepness', 'season', 'is_staged', 'race_country',\n",
       "       'age_performance_index', 'quality_adjusted_points', 'stamina_index',\n",
       "       'birth_year', 'weight', 'height', 'nationality', 'bmi',\n",
       "       'partecipants_number', 'target', 'delta_shifted',\n",
       "       'stamina_index_shifted', 'time_shifted',\n",
       "       'age_performance_index_shifted', 'points_shifted',\n",
       "       'average_speed_shifted', 'target_shifted', 'position_shifted'],\n",
       "      dtype='object')"
      ]
     },
     "execution_count": 35,
     "metadata": {},
     "output_type": "execute_result"
    }
   ],
   "source": [
    "merged.columns"
   ]
  },
  {
   "cell_type": "markdown",
   "metadata": {},
   "source": [
    "There are a sh*t ton of columns now. I don't like it, but it is what it is."
   ]
  },
  {
   "cell_type": "markdown",
   "metadata": {},
   "source": [
    "Un ripasso, per me:\n",
    "- Da **buttare di sicuro**\n",
    "\t- `_url_rac`, \n",
    "- Da **buttare forse**:\n",
    "\t- `stamina_index`, `stamina_index_shifted`, `bmi`, `age_performance_index`, `age_performance_index_shifted`, in quanto funzioni delle altre features\n",
    "\t- `name_rac`, `stage`\n",
    "\t- `is_tarmac` per piacere\n",
    "- Da **non usare per allenare le RNN**:\n",
    "\t- `delta`, `stamina_index`, `points`, `uci_points`, `average_speed`, `position`, `time`"
   ]
  },
  {
   "cell_type": "code",
   "execution_count": 69,
   "metadata": {},
   "outputs": [
    {
     "data": {
      "text/plain": [
       "array(['Switzerland', 'France', 'Belgium', 'Spain', 'Italy',\n",
       "       'Netherlands', nan, 'UAE', 'Canada'], dtype=object)"
      ]
     },
     "execution_count": 69,
     "metadata": {},
     "output_type": "execute_result"
    }
   ],
   "source": [
    "merged['race_country'].unique()"
   ]
  },
  {
   "cell_type": "markdown",
   "metadata": {},
   "source": [
    "---"
   ]
  },
  {
   "cell_type": "code",
   "execution_count": 7,
   "metadata": {},
   "outputs": [],
   "source": [
    "from utility.classification_utility import TO_RECOMPUTE_COLS, TO_NOT_USE_COLS, TO_KEEP_UNCHANGED_COLS\n"
   ]
  }
 ],
 "metadata": {
  "kernelspec": {
   "display_name": "DM-env",
   "language": "python",
   "name": "python3"
  },
  "language_info": {
   "codemirror_mode": {
    "name": "ipython",
    "version": 3
   },
   "file_extension": ".py",
   "mimetype": "text/x-python",
   "name": "python",
   "nbconvert_exporter": "python",
   "pygments_lexer": "ipython3",
   "version": "3.12.6"
  }
 },
 "nbformat": 4,
 "nbformat_minor": 2
}
