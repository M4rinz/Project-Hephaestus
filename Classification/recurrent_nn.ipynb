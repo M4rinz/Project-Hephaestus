{
 "cells": [
  {
   "cell_type": "markdown",
   "metadata": {},
   "source": [
    "# Recurrent Neural Networks"
   ]
  },
  {
   "cell_type": "markdown",
   "metadata": {},
   "source": [
    "The 4th task is about classification *on tabular data*. What if the approach was wrong? What would happen if we changed the nature of the data?\n",
    "\n",
    "This notebook revolves around using models for time series to tackle the classification task of the Data Mining project. However, these models shouldn't be compared with those that make use of tabular data, as the validation set will be different, and the data it uses is inherently different. Is still part of task 4 in a sense...\n",
    "\n",
    "Maybe I'll write a better introduction for this, for now let's move on."
   ]
  },
  {
   "cell_type": "markdown",
   "metadata": {},
   "source": [
    "## Autoreload\n",
    "\n",
    "Autoreload allows the notebook to dynamically load code: if we update some helper functions *outside* of the notebook, we do not need to reload the notebook."
   ]
  },
  {
   "cell_type": "code",
   "execution_count": 1,
   "metadata": {},
   "outputs": [],
   "source": [
    "%load_ext autoreload\n",
    "%autoreload 2"
   ]
  },
  {
   "cell_type": "markdown",
   "metadata": {},
   "source": [
    "## Imports"
   ]
  },
  {
   "cell_type": "markdown",
   "metadata": {},
   "source": [
    "As usual, we import all the packages and stuff"
   ]
  },
  {
   "cell_type": "code",
   "execution_count": 2,
   "metadata": {},
   "outputs": [],
   "source": [
    "import procyclingstats as pcs\n",
    "# Base libraries\n",
    "import os\n",
    "import sys\n",
    "# Basic data manipulation libraries\n",
    "import numpy as np\n",
    "import pandas as pd\n",
    "import itertools\n",
    "# Plotting libraries\n",
    "import matplotlib.pyplot as plt\n",
    "import seaborn as sns\n",
    "import tqdm\n",
    "\n",
    "\n",
    "# Otherwise nothing will be found\n",
    "sys.path.append(os.path.abspath(os.path.join('..')))"
   ]
  },
  {
   "cell_type": "markdown",
   "metadata": {},
   "source": [
    "Import from our own utilities"
   ]
  },
  {
   "cell_type": "code",
   "execution_count": 3,
   "metadata": {},
   "outputs": [],
   "source": [
    "from utility.classification_utility import make_dataset_for_RNN_classification, shift_columns_for_RNN, TO_NOT_USE_COLS, TO_REMOVE_COLS"
   ]
  },
  {
   "cell_type": "markdown",
   "metadata": {},
   "source": [
    "Other constants, global variables"
   ]
  },
  {
   "cell_type": "code",
   "execution_count": 4,
   "metadata": {},
   "outputs": [],
   "source": [
    "IMAGES_DIR = os.path.join('Images', 'Clustering_imgs', 'recurrent_models_imgs')\n",
    "\n",
    "RACES_URL = os.path.join('..', 'dataset', 'races_cleaned.csv')\n",
    "CYCLISTS_URL = os.path.join('..', 'dataset', 'cyclists_cleaned.csv')\n",
    "\n",
    "# we define a random state to make the results reproducible\n",
    "RANDOM_STATE = 42\n",
    "RUN_SLOW_STUFF = False\n",
    "RUN_PAINFULLY_SLOW_STUFF = False\n",
    "\n",
    "VAL_PROPORTION = 0.1"
   ]
  },
  {
   "cell_type": "markdown",
   "metadata": {},
   "source": [
    "## Dataset Creation"
   ]
  },
  {
   "cell_type": "markdown",
   "metadata": {},
   "source": [
    "As said, the creation of the dataset is not trivial at all."
   ]
  },
  {
   "cell_type": "code",
   "execution_count": 5,
   "metadata": {},
   "outputs": [
    {
     "data": {
      "text/plain": [
       "(523073, 30)"
      ]
     },
     "execution_count": 5,
     "metadata": {},
     "output_type": "execute_result"
    }
   ],
   "source": [
    "merged = make_dataset_for_RNN_classification(cyclists_path=CYCLISTS_URL, races_path=RACES_URL)\n",
    "merged.shape"
   ]
  },
  {
   "cell_type": "markdown",
   "metadata": {},
   "source": [
    "The cell above takes a long time to run. That's because there's a lot going on"
   ]
  },
  {
   "cell_type": "markdown",
   "metadata": {},
   "source": [
    "The `make_dataset_for_RNN_classification` removes some more columns:\n",
    "- `time_seconds`: is just the conversion of the `time` column from string into the n° of seconds (int). With the `timedelta64[s]` datatype, this is not necessary\n",
    "- `cyclist_age_cyc`: is just `2024 - birth_year` (2024 because it was created last year)"
   ]
  },
  {
   "cell_type": "code",
   "execution_count": 6,
   "metadata": {},
   "outputs": [
    {
     "data": {
      "text/html": [
       "<div>\n",
       "<style scoped>\n",
       "    .dataframe tbody tr th:only-of-type {\n",
       "        vertical-align: middle;\n",
       "    }\n",
       "\n",
       "    .dataframe tbody tr th {\n",
       "        vertical-align: top;\n",
       "    }\n",
       "\n",
       "    .dataframe thead th {\n",
       "        text-align: right;\n",
       "    }\n",
       "</style>\n",
       "<table border=\"1\" class=\"dataframe\">\n",
       "  <thead>\n",
       "    <tr style=\"text-align: right;\">\n",
       "      <th></th>\n",
       "      <th></th>\n",
       "      <th>_url_rac</th>\n",
       "      <th>name_rac</th>\n",
       "      <th>stage</th>\n",
       "      <th>stage_type</th>\n",
       "      <th>points</th>\n",
       "      <th>uci_points</th>\n",
       "      <th>length</th>\n",
       "      <th>climb_total</th>\n",
       "      <th>profile</th>\n",
       "      <th>startlist_quality</th>\n",
       "      <th>...</th>\n",
       "      <th>race_country</th>\n",
       "      <th>age_performance_index</th>\n",
       "      <th>stamina_index</th>\n",
       "      <th>birth_year</th>\n",
       "      <th>weight</th>\n",
       "      <th>height</th>\n",
       "      <th>nationality</th>\n",
       "      <th>bmi</th>\n",
       "      <th>partecipants_number</th>\n",
       "      <th>target</th>\n",
       "    </tr>\n",
       "    <tr>\n",
       "      <th>cyclist</th>\n",
       "      <th></th>\n",
       "      <th></th>\n",
       "      <th></th>\n",
       "      <th></th>\n",
       "      <th></th>\n",
       "      <th></th>\n",
       "      <th></th>\n",
       "      <th></th>\n",
       "      <th></th>\n",
       "      <th></th>\n",
       "      <th></th>\n",
       "      <th></th>\n",
       "      <th></th>\n",
       "      <th></th>\n",
       "      <th></th>\n",
       "      <th></th>\n",
       "      <th></th>\n",
       "      <th></th>\n",
       "      <th></th>\n",
       "      <th></th>\n",
       "      <th></th>\n",
       "      <th></th>\n",
       "    </tr>\n",
       "  </thead>\n",
       "  <tbody>\n",
       "    <tr>\n",
       "      <th rowspan=\"5\" valign=\"top\">aad-van-den-hoek</th>\n",
       "      <th>72148</th>\n",
       "      <td>tour-de-suisse/1975/stage-9b</td>\n",
       "      <td>Tour de Suisse</td>\n",
       "      <td>stage-9b</td>\n",
       "      <td>ITT</td>\n",
       "      <td>7.0</td>\n",
       "      <td>0.0</td>\n",
       "      <td>20400.0</td>\n",
       "      <td>NaN</td>\n",
       "      <td>NaN</td>\n",
       "      <td>549</td>\n",
       "      <td>...</td>\n",
       "      <td>Switzerland</td>\n",
       "      <td>-21.241584</td>\n",
       "      <td>NaN</td>\n",
       "      <td>1951.0</td>\n",
       "      <td>77.0</td>\n",
       "      <td>186.0</td>\n",
       "      <td>Netherlands</td>\n",
       "      <td>22.256908</td>\n",
       "      <td>6</td>\n",
       "      <td>True</td>\n",
       "    </tr>\n",
       "    <tr>\n",
       "      <th>398199</th>\n",
       "      <td>paris-nice/1976/prologue</td>\n",
       "      <td>Paris - Nice</td>\n",
       "      <td>prologue</td>\n",
       "      <td>RR</td>\n",
       "      <td>0.0</td>\n",
       "      <td>0.0</td>\n",
       "      <td>6500.0</td>\n",
       "      <td>NaN</td>\n",
       "      <td>NaN</td>\n",
       "      <td>779</td>\n",
       "      <td>...</td>\n",
       "      <td>France</td>\n",
       "      <td>NaN</td>\n",
       "      <td>NaN</td>\n",
       "      <td>1951.0</td>\n",
       "      <td>77.0</td>\n",
       "      <td>186.0</td>\n",
       "      <td>Netherlands</td>\n",
       "      <td>22.256908</td>\n",
       "      <td>15</td>\n",
       "      <td>True</td>\n",
       "    </tr>\n",
       "    <tr>\n",
       "      <th>408882</th>\n",
       "      <td>omloop-het-nieuwsblad/1977/result</td>\n",
       "      <td>Omloop Het Nieuwsblad ME</td>\n",
       "      <td>NaN</td>\n",
       "      <td>RR</td>\n",
       "      <td>0.0</td>\n",
       "      <td>0.0</td>\n",
       "      <td>201000.0</td>\n",
       "      <td>NaN</td>\n",
       "      <td>NaN</td>\n",
       "      <td>595</td>\n",
       "      <td>...</td>\n",
       "      <td>Belgium</td>\n",
       "      <td>NaN</td>\n",
       "      <td>NaN</td>\n",
       "      <td>1951.0</td>\n",
       "      <td>77.0</td>\n",
       "      <td>186.0</td>\n",
       "      <td>Netherlands</td>\n",
       "      <td>22.256908</td>\n",
       "      <td>38</td>\n",
       "      <td>False</td>\n",
       "    </tr>\n",
       "    <tr>\n",
       "      <th>441142</th>\n",
       "      <td>omloop-het-nieuwsblad/1978/result</td>\n",
       "      <td>Omloop Het Nieuwsblad ME</td>\n",
       "      <td>NaN</td>\n",
       "      <td>RR</td>\n",
       "      <td>0.0</td>\n",
       "      <td>0.0</td>\n",
       "      <td>218000.0</td>\n",
       "      <td>NaN</td>\n",
       "      <td>NaN</td>\n",
       "      <td>493</td>\n",
       "      <td>...</td>\n",
       "      <td>Belgium</td>\n",
       "      <td>NaN</td>\n",
       "      <td>NaN</td>\n",
       "      <td>1951.0</td>\n",
       "      <td>77.0</td>\n",
       "      <td>186.0</td>\n",
       "      <td>Netherlands</td>\n",
       "      <td>22.256908</td>\n",
       "      <td>31</td>\n",
       "      <td>False</td>\n",
       "    </tr>\n",
       "    <tr>\n",
       "      <th>56937</th>\n",
       "      <td>tour-de-france/1978/prologue</td>\n",
       "      <td>Tour de France</td>\n",
       "      <td>prologue</td>\n",
       "      <td>RR</td>\n",
       "      <td>0.0</td>\n",
       "      <td>0.0</td>\n",
       "      <td>5200.0</td>\n",
       "      <td>27.0</td>\n",
       "      <td>1.0</td>\n",
       "      <td>1241</td>\n",
       "      <td>...</td>\n",
       "      <td>France</td>\n",
       "      <td>NaN</td>\n",
       "      <td>0.242968</td>\n",
       "      <td>1951.0</td>\n",
       "      <td>77.0</td>\n",
       "      <td>186.0</td>\n",
       "      <td>Netherlands</td>\n",
       "      <td>22.256908</td>\n",
       "      <td>110</td>\n",
       "      <td>False</td>\n",
       "    </tr>\n",
       "  </tbody>\n",
       "</table>\n",
       "<p>5 rows × 30 columns</p>\n",
       "</div>"
      ],
      "text/plain": [
       "                                                  _url_rac  \\\n",
       "cyclist                                                      \n",
       "aad-van-den-hoek 72148        tour-de-suisse/1975/stage-9b   \n",
       "                 398199           paris-nice/1976/prologue   \n",
       "                 408882  omloop-het-nieuwsblad/1977/result   \n",
       "                 441142  omloop-het-nieuwsblad/1978/result   \n",
       "                 56937        tour-de-france/1978/prologue   \n",
       "\n",
       "                                         name_rac     stage stage_type  \\\n",
       "cyclist                                                                  \n",
       "aad-van-den-hoek 72148             Tour de Suisse  stage-9b        ITT   \n",
       "                 398199              Paris - Nice  prologue         RR   \n",
       "                 408882  Omloop Het Nieuwsblad ME       NaN         RR   \n",
       "                 441142  Omloop Het Nieuwsblad ME       NaN         RR   \n",
       "                 56937             Tour de France  prologue         RR   \n",
       "\n",
       "                         points  uci_points    length  climb_total  profile  \\\n",
       "cyclist                                                                       \n",
       "aad-van-den-hoek 72148      7.0         0.0   20400.0          NaN      NaN   \n",
       "                 398199     0.0         0.0    6500.0          NaN      NaN   \n",
       "                 408882     0.0         0.0  201000.0          NaN      NaN   \n",
       "                 441142     0.0         0.0  218000.0          NaN      NaN   \n",
       "                 56937      0.0         0.0    5200.0         27.0      1.0   \n",
       "\n",
       "                         startlist_quality  ... race_country  \\\n",
       "cyclist                                     ...                \n",
       "aad-van-den-hoek 72148                 549  ...  Switzerland   \n",
       "                 398199                779  ...       France   \n",
       "                 408882                595  ...      Belgium   \n",
       "                 441142                493  ...      Belgium   \n",
       "                 56937                1241  ...       France   \n",
       "\n",
       "                         age_performance_index  stamina_index  birth_year  \\\n",
       "cyclist                                                                     \n",
       "aad-van-den-hoek 72148              -21.241584            NaN      1951.0   \n",
       "                 398199                    NaN            NaN      1951.0   \n",
       "                 408882                    NaN            NaN      1951.0   \n",
       "                 441142                    NaN            NaN      1951.0   \n",
       "                 56937                     NaN       0.242968      1951.0   \n",
       "\n",
       "                        weight height  nationality        bmi  \\\n",
       "cyclist                                                         \n",
       "aad-van-den-hoek 72148    77.0  186.0  Netherlands  22.256908   \n",
       "                 398199   77.0  186.0  Netherlands  22.256908   \n",
       "                 408882   77.0  186.0  Netherlands  22.256908   \n",
       "                 441142   77.0  186.0  Netherlands  22.256908   \n",
       "                 56937    77.0  186.0  Netherlands  22.256908   \n",
       "\n",
       "                         partecipants_number  target  \n",
       "cyclist                                               \n",
       "aad-van-den-hoek 72148                     6    True  \n",
       "                 398199                   15    True  \n",
       "                 408882                   38   False  \n",
       "                 441142                   31   False  \n",
       "                 56937                   110   False  \n",
       "\n",
       "[5 rows x 30 columns]"
      ]
     },
     "execution_count": 6,
     "metadata": {},
     "output_type": "execute_result"
    }
   ],
   "source": [
    "merged.head()"
   ]
  },
  {
   "cell_type": "markdown",
   "metadata": {},
   "source": [
    "We notice that the `cyclist` column has now become an index. In fact the `make_dataset_for_RNN_classification`\n",
    "- **Groups** the rows by cyclist, in order to put together the records of the same cyclist, to create time series of the cyclists\n",
    "- **Sorts** the rows by date, inside each group\n",
    "- ~~**Shifts** some columns~~ (not now)"
   ]
  },
  {
   "cell_type": "markdown",
   "metadata": {},
   "source": [
    "Let's check that all dates are sorted"
   ]
  },
  {
   "cell_type": "code",
   "execution_count": 7,
   "metadata": {},
   "outputs": [
    {
     "name": "stdout",
     "output_type": "stream",
     "text": [
      "All dates are sorted\n"
     ]
    }
   ],
   "source": [
    "all_sorted = True\n",
    "for cyclist in merged.index.levels[0]:\n",
    "\ttruth = merged.loc[cyclist, 'date'].is_monotonic_increasing\n",
    "\tif not truth:\n",
    "\t\tprint(f\"For {cyclist}, dates are not sorted\")\n",
    "\t\tall_sorted = False\n",
    "\n",
    "if all_sorted:\n",
    "\tprint(\"All dates are sorted\")"
   ]
  },
  {
   "cell_type": "code",
   "execution_count": 8,
   "metadata": {},
   "outputs": [
    {
     "data": {
      "text/plain": [
       "Index(['_url_rac', 'name_rac', 'stage', 'stage_type', 'points', 'uci_points',\n",
       "       'length', 'climb_total', 'profile', 'startlist_quality', 'date',\n",
       "       'position', 'cyclist_age_rac', 'is_tarmac', 'delta', 'time',\n",
       "       'average_speed', 'steepness', 'season', 'is_staged', 'race_country',\n",
       "       'age_performance_index', 'stamina_index', 'birth_year', 'weight',\n",
       "       'height', 'nationality', 'bmi', 'partecipants_number', 'target'],\n",
       "      dtype='object')"
      ]
     },
     "execution_count": 8,
     "metadata": {},
     "output_type": "execute_result"
    }
   ],
   "source": [
    "merged.columns"
   ]
  },
  {
   "cell_type": "markdown",
   "metadata": {},
   "source": [
    "There are a sh*t ton of columns now. And we're not even done yet. I don't like it, but it is what it is."
   ]
  },
  {
   "cell_type": "markdown",
   "metadata": {},
   "source": [
    "### Data Selection"
   ]
  },
  {
   "cell_type": "markdown",
   "metadata": {},
   "source": [
    "Un ripasso, per me ([x] vuol dire che l'ho messa):\n",
    "- Da **buttare di sicuro**\n",
    "  - `_url_rac`, \n",
    "  - `quality_adjusted_points` se già non viene rimossa. \n",
    "  - `age_performance_index`, `age_performance_index_shifted`la RNN sarà più intelligente di una moltiplicazione. E poi sta feature mi ha rotto i cosiddetti\n",
    "  - `is_tarmac` per piacere\t\n",
    "  - `birth_year`, perché tanto un ciclista che ha NaN come `cyclist_age` ha sicuramente anche NaN come `birth_year`, ma il viceversa è falso. Ovvero, mantenendo `cyclist_age_rac` manteniamo le stesse informazioni di `birth_year` e anche qualcosa in più\n",
    "- Da **tenere di sicuro**:\n",
    "  - [x] `length`, `climb_total`, `startlist_quality`, `cyclist_age_rac`, `steepness`, `weigth`, `heigth`, `partecipants_number`\n",
    "  - [x] `delta_shifted`, `time_shifted`, `position_shifted`, `points_shifted`, `average_speed_shifted`\n",
    "- Da **buttare forse**:\n",
    "  - `stamina_index`, `stamina_index_shifted`, `bmi`, in quanto funzioni delle altre features\n",
    "  - `name_rac`, `stage`\n",
    "  - `date` Probabilmente è solo un indice. Possiamo estrarre l'anno forse?\n",
    "- Da **non usare per allenare le RNN**:\n",
    "  - `delta`, `stamina_index`, `points`, `uci_points`, `average_speed`, `position`, `time`\n",
    "  - `target` (ovviamente)\n",
    "- Da **one-hot encodeare forse**:\n",
    "  - [x] `race_country` (8 valori e nan)\n",
    "  - [] `name_rac` (27 valori). Se si codifica questa possiamo evitare di codificare quella prima\n",
    "  - [] `season` (4 valori)\n",
    "  - [x] `nationality` (73 valori!!!)\n",
    "  - [x] `stage_type` (2 valori), forse non è una gran feature\n",
    "- Da **one-hot encodeare di sicuro**:\n",
    "  - [x] `profile` (5 valori e nan)\n",
    "  - [x] `is_staged` (2 valori)"
   ]
  },
  {
   "cell_type": "markdown",
   "metadata": {},
   "source": [
    "Well, something can be done."
   ]
  },
  {
   "cell_type": "code",
   "execution_count": 9,
   "metadata": {},
   "outputs": [],
   "source": [
    "merged['is_staged'] = merged['is_staged'].astype(float)\n",
    "# We encode the NaNs in the profile as -1\n",
    "merged['profile'] = merged['profile'].astype(float).fillna(-1)\n",
    "# Rename the stage_type column to is_ITT\n",
    "merged.rename(columns={'stage_type': 'is_ITT'}, inplace=True)\n",
    "merged['is_ITT'] = merged['is_ITT'].apply(lambda x: 1. if x == 'ITT' else 0.)"
   ]
  },
  {
   "cell_type": "code",
   "execution_count": 10,
   "metadata": {},
   "outputs": [],
   "source": [
    "TO_USE_COLS = [\n",
    "\t## race related\n",
    "\t'length', 'climb_total', 'steepness',\n",
    "\t'startlist_quality', 'partecipants_number',\n",
    "\t'cyclist_age_rac',\n",
    "\t'profile', 'is_staged',\n",
    "\t'is_ITT', # not sure about keeping this\n",
    "\t## cyclist related\n",
    "\t'weigth', 'heigth',\n",
    "\t## the shifted features\n",
    "\t'delta_shifted', 'time_shifted',\n",
    "\t'position_shifted', 'average_speed_shifted',\n",
    "\t'points_shifted',\n",
    "\t## maybe encode\n",
    "\t'nationality', 'race_country',\n",
    "\t#'name_rac', We'll use this feature for further manipulations\n",
    "]"
   ]
  },
  {
   "cell_type": "markdown",
   "metadata": {},
   "source": [
    "### Isolationg Training set and Development set"
   ]
  },
  {
   "cell_type": "markdown",
   "metadata": {},
   "source": [
    "Before we do anything else, let's isolate the test set. Altrimenti il Micheli arriva e ci picchia."
   ]
  },
  {
   "cell_type": "code",
   "execution_count": 11,
   "metadata": {},
   "outputs": [
    {
     "data": {
      "text/plain": [
       "cyclist                 \n",
       "aad-van-den-hoek  72148     False\n",
       "                  398199    False\n",
       "                  408882    False\n",
       "                  441142    False\n",
       "                  56937     False\n",
       "                            ...  \n",
       "zoran-klemencic   456303    False\n",
       "                  206264    False\n",
       "                  270468    False\n",
       "                  347100    False\n",
       "zsolt-der         303113    False\n",
       "Name: date, Length: 523073, dtype: bool"
      ]
     },
     "execution_count": 11,
     "metadata": {},
     "output_type": "execute_result"
    }
   ],
   "source": [
    "merged['date'] >= '2022-01-01'"
   ]
  },
  {
   "cell_type": "code",
   "execution_count": 12,
   "metadata": {},
   "outputs": [
    {
     "name": "stdout",
     "output_type": "stream",
     "text": [
      "Dev  set earlier date: 1970-02-28 00:00:00, latest date: 2021-10-09 00:00:00\n",
      "Test set earlier date: 2022-02-21 00:00:00, latest date: 2023-07-29 00:00:00\n",
      "\n",
      "Dev  set shape: (492644, 30), i.e. 94.18% of the data\n",
      "Test set shape:  (30429, 30), i.e.  5.82% of the data\n",
      "\n",
      "In terms of actual samples, there are 5764 time series in the Dev set, i.e. 94.91% of the total\n",
      "In terms of actual samples, there are 1006 time series in the Test set, i.e. 16.57% of the total\n",
      "(Keep in mind that the data doesn't overlap, but the cyclists do)\n"
     ]
    }
   ],
   "source": [
    "dev_data = merged[merged['date'] < '2022-01-01']\n",
    "ts_data = merged[merged['date'] >= '2022-01-01']\n",
    "\n",
    "# Not very useful in this context\n",
    "print(f\"Dev  set earlier date: {dev_data['date'].min()}, latest date: {dev_data['date'].max()}\")\n",
    "print(f\"Test set earlier date: {ts_data['date'].min()}, latest date: {ts_data['date'].max()}\")\n",
    "print()\n",
    "print(f\"Dev  set shape: {dev_data.shape}, i.e. {100*dev_data.shape[0]/merged.shape[0]:>5.2f}% of the data\") \n",
    "print(f\"Test set shape:  {ts_data.shape}, i.e. {100*ts_data.shape[0]/merged.shape[0]:>5.2f}% of the data\")\n",
    "print()\n",
    "print(f\"In terms of actual samples, there are {dev_data.index.get_level_values(0).nunique()} time series in the Dev set, i.e. {100*dev_data.index.get_level_values(0).nunique()/merged.index.get_level_values(0).nunique():>5.2f}% of the total\")\n",
    "print(f\"In terms of actual samples, there are {ts_data.index.get_level_values(0).nunique()} time series in the Test set, i.e. {100*ts_data.index.get_level_values(0).nunique()/merged.index.get_level_values(0).nunique():>5.2f}% of the total\")\n",
    "print(\"(Keep in mind that the data doesn't overlap, but the cyclists do)\")"
   ]
  },
  {
   "cell_type": "markdown",
   "metadata": {},
   "source": [
    "In this split is almost certain that some cyclists appear both in the training and in the test set, but with different data. Again, it is what it is. What's important is to respect the golden rule, otherwise Micheli arrives and steals all of our Buccellato"
   ]
  },
  {
   "cell_type": "markdown",
   "metadata": {},
   "source": [
    "### Columns shifting"
   ]
  },
  {
   "cell_type": "markdown",
   "metadata": {},
   "source": [
    "Now that we've isolated training, validation and test set we can **shift** columns"
   ]
  },
  {
   "cell_type": "code",
   "execution_count": 13,
   "metadata": {},
   "outputs": [
    {
     "name": "stdout",
     "output_type": "stream",
     "text": [
      "Columns added: {'points_shifted', 'delta_shifted', 'average_speed_shifted', 'stamina_index_shifted', 'position_shifted', 'age_performance_index_shifted', 'target_shifted', 'time_shifted'}\n"
     ]
    }
   ],
   "source": [
    "prev_columns = dev_data.columns\n",
    "dev_data = shift_columns_for_RNN(dev_data)\n",
    "new_columns = dev_data.columns\n",
    "print(f\"Columns added: {set(new_columns) - set(prev_columns)}\")"
   ]
  },
  {
   "cell_type": "markdown",
   "metadata": {},
   "source": [
    "A few more words on the columns shifting.\n",
    "\n",
    "For the tabular data models we can't use some of the columns' values, we can just use the past values to compute the current prediction. For example, we can't use the current value for the `position` feature to predict if the cyclist is in the top 20, but we can use all the past values as we see fit.\n",
    "\n",
    "In the exploration, we identified features such as `average_position` that make use of these \"forbidden values\", as they make use of all the data available. Thus, they have to be computed for each timestep. For example, each record of a cyclist has the `average_position` value it had at the point of his career that corresponds to this record, excluding the current `position` value.\n",
    "\n",
    "In this way, classifiers based on tabular data can make use of these weird features.\n",
    "\n",
    "Well, for sequence models we don't need these summarizations. We leave it to the model to use all the values of the sequence seen so far, for its training, sa it sees fit. The only thing we have to make sure is to not use the current one. Hence the column shifting."
   ]
  },
  {
   "cell_type": "markdown",
   "metadata": {},
   "source": [
    "Let's check that the shift is successful"
   ]
  },
  {
   "cell_type": "code",
   "execution_count": 14,
   "metadata": {},
   "outputs": [
    {
     "data": {
      "text/html": [
       "<div>\n",
       "<style scoped>\n",
       "    .dataframe tbody tr th:only-of-type {\n",
       "        vertical-align: middle;\n",
       "    }\n",
       "\n",
       "    .dataframe tbody tr th {\n",
       "        vertical-align: top;\n",
       "    }\n",
       "\n",
       "    .dataframe thead th {\n",
       "        text-align: right;\n",
       "    }\n",
       "</style>\n",
       "<table border=\"1\" class=\"dataframe\">\n",
       "  <thead>\n",
       "    <tr style=\"text-align: right;\">\n",
       "      <th></th>\n",
       "      <th></th>\n",
       "      <th>_url_rac</th>\n",
       "      <th>name_rac</th>\n",
       "      <th>stage</th>\n",
       "      <th>is_ITT</th>\n",
       "      <th>points</th>\n",
       "      <th>uci_points</th>\n",
       "      <th>length</th>\n",
       "      <th>climb_total</th>\n",
       "      <th>profile</th>\n",
       "      <th>startlist_quality</th>\n",
       "      <th>...</th>\n",
       "      <th>race_country</th>\n",
       "      <th>age_performance_index</th>\n",
       "      <th>stamina_index</th>\n",
       "      <th>birth_year</th>\n",
       "      <th>weight</th>\n",
       "      <th>height</th>\n",
       "      <th>nationality</th>\n",
       "      <th>bmi</th>\n",
       "      <th>partecipants_number</th>\n",
       "      <th>target</th>\n",
       "    </tr>\n",
       "    <tr>\n",
       "      <th>cyclist</th>\n",
       "      <th></th>\n",
       "      <th></th>\n",
       "      <th></th>\n",
       "      <th></th>\n",
       "      <th></th>\n",
       "      <th></th>\n",
       "      <th></th>\n",
       "      <th></th>\n",
       "      <th></th>\n",
       "      <th></th>\n",
       "      <th></th>\n",
       "      <th></th>\n",
       "      <th></th>\n",
       "      <th></th>\n",
       "      <th></th>\n",
       "      <th></th>\n",
       "      <th></th>\n",
       "      <th></th>\n",
       "      <th></th>\n",
       "      <th></th>\n",
       "      <th></th>\n",
       "      <th></th>\n",
       "    </tr>\n",
       "  </thead>\n",
       "  <tbody>\n",
       "    <tr>\n",
       "      <th rowspan=\"5\" valign=\"top\">aad-van-den-hoek</th>\n",
       "      <th>72148</th>\n",
       "      <td>tour-de-suisse/1975/stage-9b</td>\n",
       "      <td>Tour de Suisse</td>\n",
       "      <td>stage-9b</td>\n",
       "      <td>1.0</td>\n",
       "      <td>7.0</td>\n",
       "      <td>0.0</td>\n",
       "      <td>20400.0</td>\n",
       "      <td>NaN</td>\n",
       "      <td>-1.0</td>\n",
       "      <td>549</td>\n",
       "      <td>...</td>\n",
       "      <td>Switzerland</td>\n",
       "      <td>-21.241584</td>\n",
       "      <td>NaN</td>\n",
       "      <td>1951.0</td>\n",
       "      <td>77.0</td>\n",
       "      <td>186.0</td>\n",
       "      <td>Netherlands</td>\n",
       "      <td>22.256908</td>\n",
       "      <td>6</td>\n",
       "      <td>True</td>\n",
       "    </tr>\n",
       "    <tr>\n",
       "      <th>398199</th>\n",
       "      <td>paris-nice/1976/prologue</td>\n",
       "      <td>Paris - Nice</td>\n",
       "      <td>prologue</td>\n",
       "      <td>0.0</td>\n",
       "      <td>0.0</td>\n",
       "      <td>0.0</td>\n",
       "      <td>6500.0</td>\n",
       "      <td>NaN</td>\n",
       "      <td>-1.0</td>\n",
       "      <td>779</td>\n",
       "      <td>...</td>\n",
       "      <td>France</td>\n",
       "      <td>NaN</td>\n",
       "      <td>NaN</td>\n",
       "      <td>1951.0</td>\n",
       "      <td>77.0</td>\n",
       "      <td>186.0</td>\n",
       "      <td>Netherlands</td>\n",
       "      <td>22.256908</td>\n",
       "      <td>15</td>\n",
       "      <td>True</td>\n",
       "    </tr>\n",
       "    <tr>\n",
       "      <th>408882</th>\n",
       "      <td>omloop-het-nieuwsblad/1977/result</td>\n",
       "      <td>Omloop Het Nieuwsblad ME</td>\n",
       "      <td>NaN</td>\n",
       "      <td>0.0</td>\n",
       "      <td>0.0</td>\n",
       "      <td>0.0</td>\n",
       "      <td>201000.0</td>\n",
       "      <td>NaN</td>\n",
       "      <td>-1.0</td>\n",
       "      <td>595</td>\n",
       "      <td>...</td>\n",
       "      <td>Belgium</td>\n",
       "      <td>NaN</td>\n",
       "      <td>NaN</td>\n",
       "      <td>1951.0</td>\n",
       "      <td>77.0</td>\n",
       "      <td>186.0</td>\n",
       "      <td>Netherlands</td>\n",
       "      <td>22.256908</td>\n",
       "      <td>38</td>\n",
       "      <td>False</td>\n",
       "    </tr>\n",
       "    <tr>\n",
       "      <th>441142</th>\n",
       "      <td>omloop-het-nieuwsblad/1978/result</td>\n",
       "      <td>Omloop Het Nieuwsblad ME</td>\n",
       "      <td>NaN</td>\n",
       "      <td>0.0</td>\n",
       "      <td>0.0</td>\n",
       "      <td>0.0</td>\n",
       "      <td>218000.0</td>\n",
       "      <td>NaN</td>\n",
       "      <td>-1.0</td>\n",
       "      <td>493</td>\n",
       "      <td>...</td>\n",
       "      <td>Belgium</td>\n",
       "      <td>NaN</td>\n",
       "      <td>NaN</td>\n",
       "      <td>1951.0</td>\n",
       "      <td>77.0</td>\n",
       "      <td>186.0</td>\n",
       "      <td>Netherlands</td>\n",
       "      <td>22.256908</td>\n",
       "      <td>31</td>\n",
       "      <td>False</td>\n",
       "    </tr>\n",
       "    <tr>\n",
       "      <th>56937</th>\n",
       "      <td>tour-de-france/1978/prologue</td>\n",
       "      <td>Tour de France</td>\n",
       "      <td>prologue</td>\n",
       "      <td>0.0</td>\n",
       "      <td>0.0</td>\n",
       "      <td>0.0</td>\n",
       "      <td>5200.0</td>\n",
       "      <td>27.0</td>\n",
       "      <td>1.0</td>\n",
       "      <td>1241</td>\n",
       "      <td>...</td>\n",
       "      <td>France</td>\n",
       "      <td>NaN</td>\n",
       "      <td>0.242968</td>\n",
       "      <td>1951.0</td>\n",
       "      <td>77.0</td>\n",
       "      <td>186.0</td>\n",
       "      <td>Netherlands</td>\n",
       "      <td>22.256908</td>\n",
       "      <td>110</td>\n",
       "      <td>False</td>\n",
       "    </tr>\n",
       "    <tr>\n",
       "      <th>...</th>\n",
       "      <th>...</th>\n",
       "      <td>...</td>\n",
       "      <td>...</td>\n",
       "      <td>...</td>\n",
       "      <td>...</td>\n",
       "      <td>...</td>\n",
       "      <td>...</td>\n",
       "      <td>...</td>\n",
       "      <td>...</td>\n",
       "      <td>...</td>\n",
       "      <td>...</td>\n",
       "      <td>...</td>\n",
       "      <td>...</td>\n",
       "      <td>...</td>\n",
       "      <td>...</td>\n",
       "      <td>...</td>\n",
       "      <td>...</td>\n",
       "      <td>...</td>\n",
       "      <td>...</td>\n",
       "      <td>...</td>\n",
       "      <td>...</td>\n",
       "      <td>...</td>\n",
       "    </tr>\n",
       "    <tr>\n",
       "      <th rowspan=\"4\" valign=\"top\">zoran-klemencic</th>\n",
       "      <th>456303</th>\n",
       "      <td>giro-d-italia/2004/stage-10</td>\n",
       "      <td>Giro d'Italia</td>\n",
       "      <td>stage-10</td>\n",
       "      <td>0.0</td>\n",
       "      <td>0.0</td>\n",
       "      <td>0.0</td>\n",
       "      <td>146000.0</td>\n",
       "      <td>2215.0</td>\n",
       "      <td>2.0</td>\n",
       "      <td>621</td>\n",
       "      <td>...</td>\n",
       "      <td>Italy</td>\n",
       "      <td>NaN</td>\n",
       "      <td>5.872502</td>\n",
       "      <td>1976.0</td>\n",
       "      <td>69.0</td>\n",
       "      <td>182.0</td>\n",
       "      <td>Slovenia</td>\n",
       "      <td>20.830818</td>\n",
       "      <td>152</td>\n",
       "      <td>False</td>\n",
       "    </tr>\n",
       "    <tr>\n",
       "      <th>206264</th>\n",
       "      <td>giro-d-italia/2004/stage-11</td>\n",
       "      <td>Giro d'Italia</td>\n",
       "      <td>stage-11</td>\n",
       "      <td>0.0</td>\n",
       "      <td>0.0</td>\n",
       "      <td>0.0</td>\n",
       "      <td>228000.0</td>\n",
       "      <td>2401.0</td>\n",
       "      <td>2.0</td>\n",
       "      <td>621</td>\n",
       "      <td>...</td>\n",
       "      <td>Italy</td>\n",
       "      <td>NaN</td>\n",
       "      <td>8.906158</td>\n",
       "      <td>1976.0</td>\n",
       "      <td>69.0</td>\n",
       "      <td>182.0</td>\n",
       "      <td>Slovenia</td>\n",
       "      <td>20.830818</td>\n",
       "      <td>152</td>\n",
       "      <td>False</td>\n",
       "    </tr>\n",
       "    <tr>\n",
       "      <th>270468</th>\n",
       "      <td>giro-d-italia/2004/stage-12</td>\n",
       "      <td>Giro d'Italia</td>\n",
       "      <td>stage-12</td>\n",
       "      <td>0.0</td>\n",
       "      <td>25.0</td>\n",
       "      <td>0.0</td>\n",
       "      <td>210000.0</td>\n",
       "      <td>171.0</td>\n",
       "      <td>1.0</td>\n",
       "      <td>621</td>\n",
       "      <td>...</td>\n",
       "      <td>Italy</td>\n",
       "      <td>8.622713</td>\n",
       "      <td>13.808851</td>\n",
       "      <td>1976.0</td>\n",
       "      <td>69.0</td>\n",
       "      <td>182.0</td>\n",
       "      <td>Slovenia</td>\n",
       "      <td>20.830818</td>\n",
       "      <td>151</td>\n",
       "      <td>True</td>\n",
       "    </tr>\n",
       "    <tr>\n",
       "      <th>347100</th>\n",
       "      <td>giro-d-italia/2004/stage-13</td>\n",
       "      <td>Giro d'Italia</td>\n",
       "      <td>stage-13</td>\n",
       "      <td>1.0</td>\n",
       "      <td>0.0</td>\n",
       "      <td>0.0</td>\n",
       "      <td>52000.0</td>\n",
       "      <td>753.0</td>\n",
       "      <td>2.0</td>\n",
       "      <td>621</td>\n",
       "      <td>...</td>\n",
       "      <td>Italy</td>\n",
       "      <td>NaN</td>\n",
       "      <td>2.101149</td>\n",
       "      <td>1976.0</td>\n",
       "      <td>69.0</td>\n",
       "      <td>182.0</td>\n",
       "      <td>Slovenia</td>\n",
       "      <td>20.830818</td>\n",
       "      <td>151</td>\n",
       "      <td>False</td>\n",
       "    </tr>\n",
       "    <tr>\n",
       "      <th>zsolt-der</th>\n",
       "      <th>303113</th>\n",
       "      <td>world-championship/2010/result</td>\n",
       "      <td>World Championships - Road Race</td>\n",
       "      <td>NaN</td>\n",
       "      <td>0.0</td>\n",
       "      <td>15.0</td>\n",
       "      <td>0.0</td>\n",
       "      <td>262700.0</td>\n",
       "      <td>2492.0</td>\n",
       "      <td>-1.0</td>\n",
       "      <td>1307</td>\n",
       "      <td>...</td>\n",
       "      <td>NaN</td>\n",
       "      <td>-9.496032</td>\n",
       "      <td>10.176088</td>\n",
       "      <td>1983.0</td>\n",
       "      <td>NaN</td>\n",
       "      <td>NaN</td>\n",
       "      <td>Hungary</td>\n",
       "      <td>NaN</td>\n",
       "      <td>99</td>\n",
       "      <td>False</td>\n",
       "    </tr>\n",
       "  </tbody>\n",
       "</table>\n",
       "<p>523073 rows × 30 columns</p>\n",
       "</div>"
      ],
      "text/plain": [
       "                                                  _url_rac  \\\n",
       "cyclist                                                      \n",
       "aad-van-den-hoek 72148        tour-de-suisse/1975/stage-9b   \n",
       "                 398199           paris-nice/1976/prologue   \n",
       "                 408882  omloop-het-nieuwsblad/1977/result   \n",
       "                 441142  omloop-het-nieuwsblad/1978/result   \n",
       "                 56937        tour-de-france/1978/prologue   \n",
       "...                                                    ...   \n",
       "zoran-klemencic  456303        giro-d-italia/2004/stage-10   \n",
       "                 206264        giro-d-italia/2004/stage-11   \n",
       "                 270468        giro-d-italia/2004/stage-12   \n",
       "                 347100        giro-d-italia/2004/stage-13   \n",
       "zsolt-der        303113     world-championship/2010/result   \n",
       "\n",
       "                                                name_rac     stage  is_ITT  \\\n",
       "cyclist                                                                      \n",
       "aad-van-den-hoek 72148                    Tour de Suisse  stage-9b     1.0   \n",
       "                 398199                     Paris - Nice  prologue     0.0   \n",
       "                 408882         Omloop Het Nieuwsblad ME       NaN     0.0   \n",
       "                 441142         Omloop Het Nieuwsblad ME       NaN     0.0   \n",
       "                 56937                    Tour de France  prologue     0.0   \n",
       "...                                                  ...       ...     ...   \n",
       "zoran-klemencic  456303                    Giro d'Italia  stage-10     0.0   \n",
       "                 206264                    Giro d'Italia  stage-11     0.0   \n",
       "                 270468                    Giro d'Italia  stage-12     0.0   \n",
       "                 347100                    Giro d'Italia  stage-13     1.0   \n",
       "zsolt-der        303113  World Championships - Road Race       NaN     0.0   \n",
       "\n",
       "                         points  uci_points    length  climb_total  profile  \\\n",
       "cyclist                                                                       \n",
       "aad-van-den-hoek 72148      7.0         0.0   20400.0          NaN     -1.0   \n",
       "                 398199     0.0         0.0    6500.0          NaN     -1.0   \n",
       "                 408882     0.0         0.0  201000.0          NaN     -1.0   \n",
       "                 441142     0.0         0.0  218000.0          NaN     -1.0   \n",
       "                 56937      0.0         0.0    5200.0         27.0      1.0   \n",
       "...                         ...         ...       ...          ...      ...   \n",
       "zoran-klemencic  456303     0.0         0.0  146000.0       2215.0      2.0   \n",
       "                 206264     0.0         0.0  228000.0       2401.0      2.0   \n",
       "                 270468    25.0         0.0  210000.0        171.0      1.0   \n",
       "                 347100     0.0         0.0   52000.0        753.0      2.0   \n",
       "zsolt-der        303113    15.0         0.0  262700.0       2492.0     -1.0   \n",
       "\n",
       "                         startlist_quality  ... race_country  \\\n",
       "cyclist                                     ...                \n",
       "aad-van-den-hoek 72148                 549  ...  Switzerland   \n",
       "                 398199                779  ...       France   \n",
       "                 408882                595  ...      Belgium   \n",
       "                 441142                493  ...      Belgium   \n",
       "                 56937                1241  ...       France   \n",
       "...                                    ...  ...          ...   \n",
       "zoran-klemencic  456303                621  ...        Italy   \n",
       "                 206264                621  ...        Italy   \n",
       "                 270468                621  ...        Italy   \n",
       "                 347100                621  ...        Italy   \n",
       "zsolt-der        303113               1307  ...          NaN   \n",
       "\n",
       "                         age_performance_index  stamina_index  birth_year  \\\n",
       "cyclist                                                                     \n",
       "aad-van-den-hoek 72148              -21.241584            NaN      1951.0   \n",
       "                 398199                    NaN            NaN      1951.0   \n",
       "                 408882                    NaN            NaN      1951.0   \n",
       "                 441142                    NaN            NaN      1951.0   \n",
       "                 56937                     NaN       0.242968      1951.0   \n",
       "...                                        ...            ...         ...   \n",
       "zoran-klemencic  456303                    NaN       5.872502      1976.0   \n",
       "                 206264                    NaN       8.906158      1976.0   \n",
       "                 270468               8.622713      13.808851      1976.0   \n",
       "                 347100                    NaN       2.101149      1976.0   \n",
       "zsolt-der        303113              -9.496032      10.176088      1983.0   \n",
       "\n",
       "                        weight height  nationality        bmi  \\\n",
       "cyclist                                                         \n",
       "aad-van-den-hoek 72148    77.0  186.0  Netherlands  22.256908   \n",
       "                 398199   77.0  186.0  Netherlands  22.256908   \n",
       "                 408882   77.0  186.0  Netherlands  22.256908   \n",
       "                 441142   77.0  186.0  Netherlands  22.256908   \n",
       "                 56937    77.0  186.0  Netherlands  22.256908   \n",
       "...                        ...    ...          ...        ...   \n",
       "zoran-klemencic  456303   69.0  182.0     Slovenia  20.830818   \n",
       "                 206264   69.0  182.0     Slovenia  20.830818   \n",
       "                 270468   69.0  182.0     Slovenia  20.830818   \n",
       "                 347100   69.0  182.0     Slovenia  20.830818   \n",
       "zsolt-der        303113    NaN    NaN      Hungary        NaN   \n",
       "\n",
       "                         partecipants_number  target  \n",
       "cyclist                                               \n",
       "aad-van-den-hoek 72148                     6    True  \n",
       "                 398199                   15    True  \n",
       "                 408882                   38   False  \n",
       "                 441142                   31   False  \n",
       "                 56937                   110   False  \n",
       "...                                      ...     ...  \n",
       "zoran-klemencic  456303                  152   False  \n",
       "                 206264                  152   False  \n",
       "                 270468                  151    True  \n",
       "                 347100                  151   False  \n",
       "zsolt-der        303113                   99   False  \n",
       "\n",
       "[523073 rows x 30 columns]"
      ]
     },
     "execution_count": 14,
     "metadata": {},
     "output_type": "execute_result"
    }
   ],
   "source": [
    "merged"
   ]
  },
  {
   "cell_type": "code",
   "execution_count": null,
   "metadata": {},
   "outputs": [
    {
     "name": "stderr",
     "output_type": "stream",
     "text": [
      "100%|██████████| 492644/492644 [41:47<00:00, 196.49it/s] "
     ]
    },
    {
     "name": "stdout",
     "output_type": "stream",
     "text": [
      "All columns are shifted correctly\n"
     ]
    },
    {
     "name": "stderr",
     "output_type": "stream",
     "text": [
      "\n"
     ]
    }
   ],
   "source": [
    "def inefficient_comparer(l1:pd.Series, l2:pd.Series) -> bool:\n",
    "\t\"\"\"Compares two series (inefficiently).\n",
    "\tUnfortunately this is needed to take into account the NaNs\n",
    "\tas `np.nan == np.nan` is False\"\"\"\n",
    "\tfor i, j in zip(l1, l2):\n",
    "\t\tif (pd.isna(i) and pd.isna(j)) or i == j:\n",
    "\t\t\tcontinue\n",
    "\t\telse:\n",
    "\t\t\treturn False\n",
    "\treturn True\n",
    "\n",
    "#Wrong!\n",
    "def inefficient_comparer_mk2(l1: pd.Series, l2: pd.Series) -> bool:\n",
    "    \"\"\"Compares two series efficiently, taking NaNs into account.\"\"\"\n",
    "    return l1.astype(str).equals(l2.astype(str)) or (pd.isna(l1) & pd.isna(l2)).all()\n",
    "\n",
    "# I swear it wasn't this slow I don't know what happened\n",
    "# Trust me don't run this\n",
    "if RUN_SLOW_STUFF and RUN_PAINFULLY_SLOW_STUFF:\n",
    "\tall_shifted_correctly = True\n",
    "\tfor cyclist in tqdm.tqdm(dev_data.index.get_level_values(0)):\n",
    "\t\tfor col in set(TO_NOT_USE_COLS) - {'time_seconds'}:\n",
    "\t\t\tl1 = dev_data.loc[cyclist, col][:-1].reset_index(drop=True)\n",
    "\t\t\tl2 = dev_data.loc[cyclist, f\"{col}_shifted\"][1:].reset_index(drop=True)\n",
    "\t\t\ttruth = inefficient_comparer(l1, l2)\n",
    "\t\t\tif not truth:\n",
    "\t\t\t\tprint(f\"For {cyclist}, {col} and {col}_shifted are not shifted correctly\")\n",
    "\t\t\t\tall_shifted_correctly = False\n",
    "\n",
    "\tif all_shifted_correctly:\n",
    "\t\tprint(\"All columns are shifted correctly\")"
   ]
  },
  {
   "cell_type": "markdown",
   "metadata": {},
   "source": [
    "### Isolating the Validation set"
   ]
  },
  {
   "cell_type": "markdown",
   "metadata": {},
   "source": [
    "We need a validation set to tune our precious hyperparameters. Since our data is time series data, it is only natural that we choose some cyclists as validation data.\n",
    "\n",
    "I'm lazy and poor, I have an Nvidia GPU but don't tell anyone. On the other hand, data is plentiful. Therefore I just hold out some of the data for validation. No K-folds, no fancy stuff. Via su che sono quelle facce. Dai, non fatemi sentire in colpa.\n",
    "\n",
    "We randomly select a portion of the development set data, uniformly over the `birth_years` of the cyclists. We do this because we want to be \"translation invariant\". I mean, we want our recurrent models to capture a behaviour that generalizes over time. The assumption being that cyclism is cyclism, regardless of the year."
   ]
  },
  {
   "cell_type": "code",
   "execution_count": 16,
   "metadata": {},
   "outputs": [
    {
     "data": {
      "text/html": [
       "<div>\n",
       "<style scoped>\n",
       "    .dataframe tbody tr th:only-of-type {\n",
       "        vertical-align: middle;\n",
       "    }\n",
       "\n",
       "    .dataframe tbody tr th {\n",
       "        vertical-align: top;\n",
       "    }\n",
       "\n",
       "    .dataframe thead th {\n",
       "        text-align: right;\n",
       "    }\n",
       "</style>\n",
       "<table border=\"1\" class=\"dataframe\">\n",
       "  <thead>\n",
       "    <tr style=\"text-align: right;\">\n",
       "      <th></th>\n",
       "      <th>unique</th>\n",
       "      <th>count</th>\n",
       "    </tr>\n",
       "    <tr>\n",
       "      <th>birth_year_bin</th>\n",
       "      <th></th>\n",
       "      <th></th>\n",
       "    </tr>\n",
       "  </thead>\n",
       "  <tbody>\n",
       "    <tr>\n",
       "      <th>[1933, 1938)</th>\n",
       "      <td>[aldo-moser, hans-junkermann, jaak-de-boever, ...</td>\n",
       "      <td>8</td>\n",
       "    </tr>\n",
       "    <tr>\n",
       "      <th>[1938, 1943)</th>\n",
       "      <td>[adriano-passuello, albert-hitchen, albert-van...</td>\n",
       "      <td>74</td>\n",
       "    </tr>\n",
       "    <tr>\n",
       "      <th>[1943, 1948)</th>\n",
       "      <td>[adriano-pella, agustin-tamames, aime-delaere,...</td>\n",
       "      <td>232</td>\n",
       "    </tr>\n",
       "    <tr>\n",
       "      <th>[1948, 1953)</th>\n",
       "      <td>[aad-van-den-hoek, abelardo-rios, adri-jos-sch...</td>\n",
       "      <td>287</td>\n",
       "    </tr>\n",
       "    <tr>\n",
       "      <th>[1953, 1958)</th>\n",
       "      <td>[ad-prinsen, ad-van-peer, adelino-teixeira, ad...</td>\n",
       "      <td>383</td>\n",
       "    </tr>\n",
       "    <tr>\n",
       "      <th>[1958, 1963)</th>\n",
       "      <td>[acacio-da-silva, ad-wijnands, adriano-baffi, ...</td>\n",
       "      <td>574</td>\n",
       "    </tr>\n",
       "    <tr>\n",
       "      <th>[1963, 1968)</th>\n",
       "      <td>[abelardo-rondon, adrian-timmis, adrie-kools, ...</td>\n",
       "      <td>601</td>\n",
       "    </tr>\n",
       "    <tr>\n",
       "      <th>[1968, 1973)</th>\n",
       "      <td>[aart-vierhouten, abraham-olano-manzano, agust...</td>\n",
       "      <td>608</td>\n",
       "    </tr>\n",
       "    <tr>\n",
       "      <th>[1973, 1978)</th>\n",
       "      <td>[addy-engels, adrian-palomares, aitor-gonzalez...</td>\n",
       "      <td>637</td>\n",
       "    </tr>\n",
       "    <tr>\n",
       "      <th>[1978, 1983)</th>\n",
       "      <td>[aaron-olsen, adam-hansen, adolfo-garcia-quesa...</td>\n",
       "      <td>638</td>\n",
       "    </tr>\n",
       "    <tr>\n",
       "      <th>[1983, 1988)</th>\n",
       "      <td>[aaron-kemps, adrian-saez-de-arregi, adriano-a...</td>\n",
       "      <td>599</td>\n",
       "    </tr>\n",
       "    <tr>\n",
       "      <th>[1988, 1993)</th>\n",
       "      <td>[aaron-gate, adam-blythe, adam-phelan, adam-st...</td>\n",
       "      <td>524</td>\n",
       "    </tr>\n",
       "    <tr>\n",
       "      <th>[1993, 1998)</th>\n",
       "      <td>[aaron-verwilst, adam-de-vos, adam-roberge, ad...</td>\n",
       "      <td>447</td>\n",
       "    </tr>\n",
       "    <tr>\n",
       "      <th>[1998, 2003)</th>\n",
       "      <td>[aaron-van-poucke, abner-gonzalez-rivera, albe...</td>\n",
       "      <td>141</td>\n",
       "    </tr>\n",
       "  </tbody>\n",
       "</table>\n",
       "</div>"
      ],
      "text/plain": [
       "                                                           unique  count\n",
       "birth_year_bin                                                          \n",
       "[1933, 1938)    [aldo-moser, hans-junkermann, jaak-de-boever, ...      8\n",
       "[1938, 1943)    [adriano-passuello, albert-hitchen, albert-van...     74\n",
       "[1943, 1948)    [adriano-pella, agustin-tamames, aime-delaere,...    232\n",
       "[1948, 1953)    [aad-van-den-hoek, abelardo-rios, adri-jos-sch...    287\n",
       "[1953, 1958)    [ad-prinsen, ad-van-peer, adelino-teixeira, ad...    383\n",
       "[1958, 1963)    [acacio-da-silva, ad-wijnands, adriano-baffi, ...    574\n",
       "[1963, 1968)    [abelardo-rondon, adrian-timmis, adrie-kools, ...    601\n",
       "[1968, 1973)    [aart-vierhouten, abraham-olano-manzano, agust...    608\n",
       "[1973, 1978)    [addy-engels, adrian-palomares, aitor-gonzalez...    637\n",
       "[1978, 1983)    [aaron-olsen, adam-hansen, adolfo-garcia-quesa...    638\n",
       "[1983, 1988)    [aaron-kemps, adrian-saez-de-arregi, adriano-a...    599\n",
       "[1988, 1993)    [aaron-gate, adam-blythe, adam-phelan, adam-st...    524\n",
       "[1993, 1998)    [aaron-verwilst, adam-de-vos, adam-roberge, ad...    447\n",
       "[1998, 2003)    [aaron-van-poucke, abner-gonzalez-rivera, albe...    141"
      ]
     },
     "execution_count": 16,
     "metadata": {},
     "output_type": "execute_result"
    }
   ],
   "source": [
    "# We create a simple df with all the cyclists and their birth year in an overcomplicated way\n",
    "dev_cyc_and_date = dev_data.groupby('cyclist')['birth_year'].first()\n",
    "dev_cyc_and_date = dev_cyc_and_date.to_frame().reset_index()\n",
    "# We bin the birth years, to sample inside the bins \n",
    "# (sampling over the birth years individually woudln't work, as there are only a few cyclists born in the same year)\n",
    "dev_cyc_and_date['birth_year_bin'] = pd.cut(dev_cyc_and_date['birth_year'], bins=range(int(dev_cyc_and_date['birth_year'].min()), int(dev_cyc_and_date['birth_year'].max() + 5), 5), right=False)\n",
    "dev_cyc_and_date.groupby('birth_year_bin', observed=True)['cyclist'].agg(['unique','count'])"
   ]
  },
  {
   "cell_type": "markdown",
   "metadata": {},
   "source": [
    "We finally sample *the cyclists* (we can index on the cyclists in fact)"
   ]
  },
  {
   "cell_type": "code",
   "execution_count": 17,
   "metadata": {},
   "outputs": [],
   "source": [
    "# Sometimes I'm stunned of how convoluted Pandas can be\n",
    "sampled_val_cyclists = dev_cyc_and_date.groupby('birth_year_bin', observed=True)['cyclist'].apply(lambda x: x.sample(frac=VAL_PROPORTION, random_state=RANDOM_STATE)).values"
   ]
  },
  {
   "cell_type": "markdown",
   "metadata": {},
   "source": [
    "Let's visually compare the n° of sampled cyclists over their birth years"
   ]
  },
  {
   "cell_type": "code",
   "execution_count": 18,
   "metadata": {},
   "outputs": [
    {
     "data": {
      "image/png": "[encoded data removed]",
      "text/plain": [
       "<Figure size 1000x600 with 1 Axes>"
      ]
     },
     "metadata": {},
     "output_type": "display_data"
    }
   ],
   "source": [
    "plt.figure(figsize=(10, 6))\n",
    "\n",
    "dev_counts = dev_cyc_and_date['birth_year'].value_counts().sort_index()\n",
    "# Rendiamoci conto...\n",
    "val_counts = dev_data.loc[sampled_val_cyclists].groupby('cyclist')['birth_year'].apply(lambda x: np.unique(x)[0]).value_counts().sort_index()\n",
    "\n",
    "plt.plot(dev_counts, marker='o', color='red', alpha=0.7, label='Dev data')\n",
    "plt.plot(val_counts, marker='o', color='blue', alpha=0.7, label='Val data')\n",
    "\n",
    "for x, y in dev_counts.items():\n",
    "\tplt.annotate(f'{y}', (x, y), textcoords=\"offset points\", xytext=(0,6), ha='center', fontsize=8, color='red')\n",
    "\n",
    "for x, y in val_counts.items():\n",
    "\tplt.annotate(f'{y}', (x, y), textcoords=\"offset points\", xytext=(0,8), ha='center', fontsize=8, color='blue')\n",
    "\n",
    "plt.xlabel('Birth Year')\n",
    "plt.ylabel('Frequency')\n",
    "plt.yscale('log')\n",
    "plt.title('Frequency of each birth year in the Dev and Val Sets', fontsize=14)\n",
    "plt.legend()\n",
    "\n",
    "plt.tight_layout()\n",
    "plt.show()"
   ]
  },
  {
   "cell_type": "markdown",
   "metadata": {},
   "source": [
    "Looks really good. Very homogeneous. The blue curve is kind of a scaled version of the red one, which is what we wanted.\n",
    "\n",
    "Now let's create the training and validation data"
   ]
  },
  {
   "cell_type": "code",
   "execution_count": 19,
   "metadata": {},
   "outputs": [],
   "source": [
    "val_data = dev_data.loc[sampled_val_cyclists]\n",
    "tr_data = dev_data.drop(val_data.index)"
   ]
  },
  {
   "cell_type": "markdown",
   "metadata": {},
   "source": [
    "Did everything go well?"
   ]
  },
  {
   "cell_type": "code",
   "execution_count": 20,
   "metadata": {},
   "outputs": [
    {
     "data": {
      "text/plain": [
       "True"
      ]
     },
     "execution_count": 20,
     "metadata": {},
     "output_type": "execute_result"
    }
   ],
   "source": [
    "set(tr_data.index.get_level_values(0).unique()) | set(val_data.index.get_level_values(0).unique()) == set(dev_data.index.get_level_values(0).unique())"
   ]
  },
  {
   "cell_type": "code",
   "execution_count": 21,
   "metadata": {},
   "outputs": [
    {
     "name": "stdout",
     "output_type": "stream",
     "text": [
      "Training set shape: (444492, 38), i.e. 90.23% of the data\n",
      "Validation set shape: (48152, 38), i.e.  9.77% of the data\n",
      "\n",
      "In terms of actual samples, there are 5189 time series in the Training set, i.e. 90.02% of the total\n",
      "In terms of actual samples, there are 575 time series in the Validation set, i.e.  9.98% of the total\n"
     ]
    }
   ],
   "source": [
    "print(f\"Training set shape: {tr_data.shape}, i.e. {100*tr_data.shape[0]/dev_data.shape[0]:>5.2f}% of the data\")\n",
    "print(f\"Validation set shape: {val_data.shape}, i.e. {100*val_data.shape[0]/dev_data.shape[0]:>5.2f}% of the data\")\n",
    "print()\n",
    "print(f\"In terms of actual samples, there are {tr_data.index.get_level_values(0).nunique()} time series in the Training set, i.e. {100*tr_data.index.get_level_values(0).nunique()/dev_data.index.get_level_values(0).nunique():>5.2f}% of the total\")\n",
    "print(f\"In terms of actual samples, there are {val_data.index.get_level_values(0).nunique()} time series in the Validation set, i.e. {100*val_data.index.get_level_values(0).nunique()/dev_data.index.get_level_values(0).nunique():>5.2f}% of the total\")"
   ]
  },
  {
   "cell_type": "markdown",
   "metadata": {},
   "source": [
    "Precisely what we wanted."
   ]
  }
 ],
 "metadata": {
  "kernelspec": {
   "display_name": "DM-env",
   "language": "python",
   "name": "python3"
  },
  "language_info": {
   "codemirror_mode": {
    "name": "ipython",
    "version": 3
   },
   "file_extension": ".py",
   "mimetype": "text/x-python",
   "name": "python",
   "nbconvert_exporter": "python",
   "pygments_lexer": "ipython3",
   "version": "3.12.6"
  }
 },
 "nbformat": 4,
 "nbformat_minor": 2
}
