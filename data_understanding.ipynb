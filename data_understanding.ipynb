{
 "cells": [
  {
   "cell_type": "markdown",
   "metadata": {},
   "source": [
    "## Autoreload\n",
    "\n",
    "Autoreload allows the notebook to dynamically load code: if we update some helper functions *outside* of the notebook, we do not need to reload the notebook."
   ]
  },
  {
   "cell_type": "code",
   "execution_count": 2,
   "metadata": {},
   "outputs": [
    {
     "name": "stdout",
     "output_type": "stream",
     "text": [
      "The autoreload extension is already loaded. To reload it, use:\n",
      "  %reload_ext autoreload\n"
     ]
    }
   ],
   "source": [
    "%load_ext autoreload\n",
    "%autoreload 2"
   ]
  },
  {
   "cell_type": "markdown",
   "metadata": {},
   "source": [
    "## Imports"
   ]
  },
  {
   "cell_type": "code",
   "execution_count": 3,
   "metadata": {},
   "outputs": [],
   "source": [
    "import numpy as np\n",
    "import pandas as pd\n",
    "import matplotlib.pyplot as plt\n",
    "import seaborn as sns\n",
    "\n",
    "import re\n",
    "\n",
    "import os\n",
    "import sys\n",
    "sys.path.append('../dataset/')\n",
    "\n",
    "from utility import data_understanding"
   ]
  },
  {
   "cell_type": "code",
   "execution_count": 4,
   "metadata": {},
   "outputs": [],
   "source": [
    "cyclist_df = pd.read_csv(os.path.join('dataset','cyclists.csv'))\n",
    "races_df = pd.read_csv(os.path.join('dataset','races.csv'))"
   ]
  },
  {
   "cell_type": "markdown",
   "metadata": {},
   "source": [
    "## Exploration"
   ]
  },
  {
   "cell_type": "markdown",
   "metadata": {},
   "source": [
    "We begin with a preliminary exploration of the two datasets.\n",
    "\n",
    "### Cyclists"
   ]
  },
  {
   "cell_type": "code",
   "execution_count": 5,
   "metadata": {},
   "outputs": [
    {
     "data": {
      "text/plain": [
       "(6134, 6)"
      ]
     },
     "execution_count": 5,
     "metadata": {},
     "output_type": "execute_result"
    }
   ],
   "source": [
    "cyclist_df.shape"
   ]
  },
  {
   "cell_type": "code",
   "execution_count": 6,
   "metadata": {},
   "outputs": [
    {
     "data": {
      "text/html": [
       "<div>\n",
       "<style scoped>\n",
       "    .dataframe tbody tr th:only-of-type {\n",
       "        vertical-align: middle;\n",
       "    }\n",
       "\n",
       "    .dataframe tbody tr th {\n",
       "        vertical-align: top;\n",
       "    }\n",
       "\n",
       "    .dataframe thead th {\n",
       "        text-align: right;\n",
       "    }\n",
       "</style>\n",
       "<table border=\"1\" class=\"dataframe\">\n",
       "  <thead>\n",
       "    <tr style=\"text-align: right;\">\n",
       "      <th></th>\n",
       "      <th>_url</th>\n",
       "      <th>name</th>\n",
       "      <th>birth_year</th>\n",
       "      <th>weight</th>\n",
       "      <th>height</th>\n",
       "      <th>nationality</th>\n",
       "    </tr>\n",
       "  </thead>\n",
       "  <tbody>\n",
       "    <tr>\n",
       "      <th>0</th>\n",
       "      <td>bruno-surra</td>\n",
       "      <td>Bruno  Surra</td>\n",
       "      <td>1964.0</td>\n",
       "      <td>NaN</td>\n",
       "      <td>NaN</td>\n",
       "      <td>Italy</td>\n",
       "    </tr>\n",
       "    <tr>\n",
       "      <th>1</th>\n",
       "      <td>gerard-rue</td>\n",
       "      <td>Gérard  Rué</td>\n",
       "      <td>1965.0</td>\n",
       "      <td>74.0</td>\n",
       "      <td>182.0</td>\n",
       "      <td>France</td>\n",
       "    </tr>\n",
       "    <tr>\n",
       "      <th>2</th>\n",
       "      <td>jan-maas</td>\n",
       "      <td>Jan  Maas</td>\n",
       "      <td>1996.0</td>\n",
       "      <td>69.0</td>\n",
       "      <td>189.0</td>\n",
       "      <td>Netherlands</td>\n",
       "    </tr>\n",
       "    <tr>\n",
       "      <th>3</th>\n",
       "      <td>nathan-van-hooydonck</td>\n",
       "      <td>Nathan Van Hooydonck</td>\n",
       "      <td>1995.0</td>\n",
       "      <td>78.0</td>\n",
       "      <td>192.0</td>\n",
       "      <td>Belgium</td>\n",
       "    </tr>\n",
       "    <tr>\n",
       "      <th>4</th>\n",
       "      <td>jose-felix-parra</td>\n",
       "      <td>José Félix  Parra</td>\n",
       "      <td>1997.0</td>\n",
       "      <td>55.0</td>\n",
       "      <td>171.0</td>\n",
       "      <td>Spain</td>\n",
       "    </tr>\n",
       "  </tbody>\n",
       "</table>\n",
       "</div>"
      ],
      "text/plain": [
       "                   _url                  name  birth_year  weight  height  \\\n",
       "0           bruno-surra          Bruno  Surra      1964.0     NaN     NaN   \n",
       "1            gerard-rue           Gérard  Rué      1965.0    74.0   182.0   \n",
       "2              jan-maas             Jan  Maas      1996.0    69.0   189.0   \n",
       "3  nathan-van-hooydonck  Nathan Van Hooydonck      1995.0    78.0   192.0   \n",
       "4      jose-felix-parra     José Félix  Parra      1997.0    55.0   171.0   \n",
       "\n",
       "   nationality  \n",
       "0        Italy  \n",
       "1       France  \n",
       "2  Netherlands  \n",
       "3      Belgium  \n",
       "4        Spain  "
      ]
     },
     "execution_count": 6,
     "metadata": {},
     "output_type": "execute_result"
    }
   ],
   "source": [
    "cyclist_df.head()"
   ]
  },
  {
   "cell_type": "code",
   "execution_count": 7,
   "metadata": {},
   "outputs": [
    {
     "name": "stdout",
     "output_type": "stream",
     "text": [
      "<class 'pandas.core.frame.DataFrame'>\n",
      "RangeIndex: 6134 entries, 0 to 6133\n",
      "Data columns (total 6 columns):\n",
      " #   Column       Non-Null Count  Dtype  \n",
      "---  ------       --------------  -----  \n",
      " 0   _url         6134 non-null   object \n",
      " 1   name         6134 non-null   object \n",
      " 2   birth_year   6121 non-null   float64\n",
      " 3   weight       3078 non-null   float64\n",
      " 4   height       3143 non-null   float64\n",
      " 5   nationality  6133 non-null   object \n",
      "dtypes: float64(3), object(3)\n",
      "memory usage: 287.7+ KB\n"
     ]
    }
   ],
   "source": [
    "cyclist_df.info()"
   ]
  },
  {
   "cell_type": "markdown",
   "metadata": {},
   "source": [
    "We can see that there are missing values. Specifically, a lot of cyclists don't have their height and/or weight indicated. \n",
    "But first, let's check duplicates."
   ]
  },
  {
   "cell_type": "markdown",
   "metadata": {},
   "source": [
    "#### Consistency\n",
    "\n",
    "Some datatypes have to be converted"
   ]
  },
  {
   "cell_type": "code",
   "execution_count": null,
   "metadata": {},
   "outputs": [],
   "source": [
    "cyclist_df[\"birth_year\"] = pd.to_numeric(cyclist_df[\"birth_year\"], errors='coerce').astype('Int64')\n",
    "\n",
    "cyclist_df.dtypes"
   ]
  },
  {
   "cell_type": "markdown",
   "metadata": {},
   "source": [
    "Let's also process the strings"
   ]
  },
  {
   "cell_type": "code",
   "execution_count": null,
   "metadata": {},
   "outputs": [],
   "source": [
    "cyclist_df[\"name\"] = cyclist_df[\"name\"].apply(lambda nome: ' '.join(nome.split()))"
   ]
  },
  {
   "cell_type": "markdown",
   "metadata": {},
   "source": [
    "#### Duplicates\n",
    "\n",
    "First, a general check."
   ]
  },
  {
   "cell_type": "code",
   "execution_count": null,
   "metadata": {},
   "outputs": [
    {
     "name": "stdout",
     "output_type": "stream",
     "text": [
      "Number of duplicate rows: 0\n"
     ]
    }
   ],
   "source": [
    "duplicates = cyclist_df.duplicated().sum()\n",
    "print(f\"Number of duplicate rows: {duplicates}\")"
   ]
  },
  {
   "cell_type": "markdown",
   "metadata": {},
   "source": [
    "To really find duplicates the values that it makes sense to check are the cyclists' names and identifiers"
   ]
  },
  {
   "cell_type": "code",
   "execution_count": null,
   "metadata": {},
   "outputs": [],
   "source": [
    "cyclist_df[cyclist_df[\"_url\"].duplicated(keep=\"first\")]"
   ]
  },
  {
   "cell_type": "markdown",
   "metadata": {},
   "source": [
    "No duplicate URLs (i.e. identifiers). There are homonyms though, so one shoud be aware of this."
   ]
  },
  {
   "cell_type": "code",
   "execution_count": null,
   "metadata": {},
   "outputs": [
    {
     "data": {
      "text/html": [
       "<div>\n",
       "<style scoped>\n",
       "    .dataframe tbody tr th:only-of-type {\n",
       "        vertical-align: middle;\n",
       "    }\n",
       "\n",
       "    .dataframe tbody tr th {\n",
       "        vertical-align: top;\n",
       "    }\n",
       "\n",
       "    .dataframe thead th {\n",
       "        text-align: right;\n",
       "    }\n",
       "</style>\n",
       "<table border=\"1\" class=\"dataframe\">\n",
       "  <thead>\n",
       "    <tr style=\"text-align: right;\">\n",
       "      <th></th>\n",
       "      <th>_url</th>\n",
       "      <th>name</th>\n",
       "      <th>birth_year</th>\n",
       "      <th>weight</th>\n",
       "      <th>height</th>\n",
       "      <th>nationality</th>\n",
       "    </tr>\n",
       "  </thead>\n",
       "  <tbody>\n",
       "    <tr>\n",
       "      <th>347</th>\n",
       "      <td>andrea-peron-1</td>\n",
       "      <td>Andrea Peron</td>\n",
       "      <td>1971</td>\n",
       "      <td>70.0</td>\n",
       "      <td>183.0</td>\n",
       "      <td>Italy</td>\n",
       "    </tr>\n",
       "    <tr>\n",
       "      <th>1745</th>\n",
       "      <td>roman-kreuziger-sr</td>\n",
       "      <td>Roman Kreuziger</td>\n",
       "      <td>1965</td>\n",
       "      <td>NaN</td>\n",
       "      <td>NaN</td>\n",
       "      <td>Czech Republic</td>\n",
       "    </tr>\n",
       "    <tr>\n",
       "      <th>2235</th>\n",
       "      <td>alessandro-pozzi2</td>\n",
       "      <td>Alessandro Pozzi</td>\n",
       "      <td>1969</td>\n",
       "      <td>NaN</td>\n",
       "      <td>NaN</td>\n",
       "      <td>Italy</td>\n",
       "    </tr>\n",
       "    <tr>\n",
       "      <th>2601</th>\n",
       "      <td>roman-kreuziger</td>\n",
       "      <td>Roman Kreuziger</td>\n",
       "      <td>1986</td>\n",
       "      <td>65.0</td>\n",
       "      <td>183.0</td>\n",
       "      <td>Czech Republic</td>\n",
       "    </tr>\n",
       "    <tr>\n",
       "      <th>2682</th>\n",
       "      <td>andrea-peron</td>\n",
       "      <td>Andrea Peron</td>\n",
       "      <td>1988</td>\n",
       "      <td>70.0</td>\n",
       "      <td>178.0</td>\n",
       "      <td>Italy</td>\n",
       "    </tr>\n",
       "    <tr>\n",
       "      <th>2862</th>\n",
       "      <td>antonio-cabello-baena</td>\n",
       "      <td>Antonio Cabello</td>\n",
       "      <td>1990</td>\n",
       "      <td>67.0</td>\n",
       "      <td>179.0</td>\n",
       "      <td>Spain</td>\n",
       "    </tr>\n",
       "    <tr>\n",
       "      <th>2939</th>\n",
       "      <td>jesus-lopez23</td>\n",
       "      <td>Jesús López</td>\n",
       "      <td>1955</td>\n",
       "      <td>NaN</td>\n",
       "      <td>NaN</td>\n",
       "      <td>Spain</td>\n",
       "    </tr>\n",
       "    <tr>\n",
       "      <th>2953</th>\n",
       "      <td>alberto-fernandez-sainz</td>\n",
       "      <td>Alberto Fernández</td>\n",
       "      <td>1981</td>\n",
       "      <td>NaN</td>\n",
       "      <td>NaN</td>\n",
       "      <td>Spain</td>\n",
       "    </tr>\n",
       "    <tr>\n",
       "      <th>3238</th>\n",
       "      <td>antonio-cabello</td>\n",
       "      <td>Antonio Cabello</td>\n",
       "      <td>1956</td>\n",
       "      <td>NaN</td>\n",
       "      <td>NaN</td>\n",
       "      <td>Spain</td>\n",
       "    </tr>\n",
       "    <tr>\n",
       "      <th>4917</th>\n",
       "      <td>sergio-dominguez-rodriguez</td>\n",
       "      <td>Sergio Domínguez</td>\n",
       "      <td>1979</td>\n",
       "      <td>NaN</td>\n",
       "      <td>NaN</td>\n",
       "      <td>Spain</td>\n",
       "    </tr>\n",
       "    <tr>\n",
       "      <th>4919</th>\n",
       "      <td>sergio-dominguez-munoz</td>\n",
       "      <td>Sergio Domínguez</td>\n",
       "      <td>1986</td>\n",
       "      <td>NaN</td>\n",
       "      <td>NaN</td>\n",
       "      <td>Spain</td>\n",
       "    </tr>\n",
       "    <tr>\n",
       "      <th>5040</th>\n",
       "      <td>jesus-lopez-carril</td>\n",
       "      <td>Jesús López</td>\n",
       "      <td>1949</td>\n",
       "      <td>NaN</td>\n",
       "      <td>NaN</td>\n",
       "      <td>Spain</td>\n",
       "    </tr>\n",
       "    <tr>\n",
       "      <th>5720</th>\n",
       "      <td>alberto-fernandez-blanco</td>\n",
       "      <td>Alberto Fernández</td>\n",
       "      <td>1955</td>\n",
       "      <td>NaN</td>\n",
       "      <td>NaN</td>\n",
       "      <td>Spain</td>\n",
       "    </tr>\n",
       "    <tr>\n",
       "      <th>5722</th>\n",
       "      <td>alessandro-pozzi</td>\n",
       "      <td>Alessandro Pozzi</td>\n",
       "      <td>1954</td>\n",
       "      <td>NaN</td>\n",
       "      <td>NaN</td>\n",
       "      <td>Italy</td>\n",
       "    </tr>\n",
       "  </tbody>\n",
       "</table>\n",
       "</div>"
      ],
      "text/plain": [
       "                            _url               name  birth_year  weight  \\\n",
       "347               andrea-peron-1       Andrea Peron        1971    70.0   \n",
       "1745          roman-kreuziger-sr    Roman Kreuziger        1965     NaN   \n",
       "2235           alessandro-pozzi2   Alessandro Pozzi        1969     NaN   \n",
       "2601             roman-kreuziger    Roman Kreuziger        1986    65.0   \n",
       "2682                andrea-peron       Andrea Peron        1988    70.0   \n",
       "2862       antonio-cabello-baena    Antonio Cabello        1990    67.0   \n",
       "2939               jesus-lopez23        Jesús López        1955     NaN   \n",
       "2953     alberto-fernandez-sainz  Alberto Fernández        1981     NaN   \n",
       "3238             antonio-cabello    Antonio Cabello        1956     NaN   \n",
       "4917  sergio-dominguez-rodriguez   Sergio Domínguez        1979     NaN   \n",
       "4919      sergio-dominguez-munoz   Sergio Domínguez        1986     NaN   \n",
       "5040          jesus-lopez-carril        Jesús López        1949     NaN   \n",
       "5720    alberto-fernandez-blanco  Alberto Fernández        1955     NaN   \n",
       "5722            alessandro-pozzi   Alessandro Pozzi        1954     NaN   \n",
       "\n",
       "      height     nationality  \n",
       "347    183.0           Italy  \n",
       "1745     NaN  Czech Republic  \n",
       "2235     NaN           Italy  \n",
       "2601   183.0  Czech Republic  \n",
       "2682   178.0           Italy  \n",
       "2862   179.0           Spain  \n",
       "2939     NaN           Spain  \n",
       "2953     NaN           Spain  \n",
       "3238     NaN           Spain  \n",
       "4917     NaN           Spain  \n",
       "4919     NaN           Spain  \n",
       "5040     NaN           Spain  \n",
       "5720     NaN           Spain  \n",
       "5722     NaN           Italy  "
      ]
     },
     "metadata": {},
     "output_type": "display_data"
    }
   ],
   "source": [
    "cyclist_df[cyclist_df[\"name\"].duplicated(keep=False)]"
   ]
  },
  {
   "cell_type": "markdown",
   "metadata": {},
   "source": [
    "Upon manual checking, all these cyclists exist, therefore there are no duplicated rows. Let's get back to checking the missing values\n",
    "\n",
    "#### Missing Data"
   ]
  },
  {
   "cell_type": "code",
   "execution_count": 8,
   "metadata": {},
   "outputs": [
    {
     "name": "stdout",
     "output_type": "stream",
     "text": [
      "There are 0 null values in the _url column, i.e. 0.00% are missing\n",
      "There are 0 null values in the name column, i.e. 0.00% are missing\n",
      "There are 13 null values in the birth_year column, i.e. 0.21% are missing\n",
      "There are 3056 null values in the weight column, i.e. 49.82% are missing\n",
      "There are 2991 null values in the height column, i.e. 48.76% are missing\n",
      "There are 1 null values in the nationality column, i.e. 0.02% are missing\n"
     ]
    }
   ],
   "source": [
    "n_rows = cyclist_df.shape[0]\n",
    "for col in cyclist_df.columns:\n",
    "    print(f\"There are {n_rows - cyclist_df[col].count()} null values in the {col} column, i.e. {100*(n_rows - cyclist_df[col].count())/n_rows:.2f}% are missing\")"
   ]
  },
  {
   "cell_type": "markdown",
   "metadata": {},
   "source": [
    "Do cyclists that don't have a weight assigned at least have an height, or vice versa?"
   ]
  },
  {
   "cell_type": "code",
   "execution_count": 9,
   "metadata": {},
   "outputs": [
    {
     "name": "stdout",
     "output_type": "stream",
     "text": [
      "Number of rows missing both weight and height: 2984\n",
      "Number of rows missing either weight or height: 3063\n"
     ]
    }
   ],
   "source": [
    "# Count the number of rows missing both weight and height\n",
    "missing_weight_height_count = cyclist_df[cyclist_df['weight'].isna() & cyclist_df['height'].isna()].shape[0]\n",
    "print(f\"Number of rows missing both weight and height: {missing_weight_height_count}\")\n",
    "missing_weight_or_height_count = cyclist_df[cyclist_df['weight'].isna() | cyclist_df['height'].isna()].shape[0]\n",
    "print(f\"Number of rows missing either weight or height: {missing_weight_or_height_count}\")"
   ]
  },
  {
   "cell_type": "markdown",
   "metadata": {},
   "source": [
    "Almost none. This means using a regressor would be critical\n",
    "Of all these cyclists, how many don't have a weight nor an height nor a birth year?"
   ]
  },
  {
   "cell_type": "code",
   "execution_count": 1,
   "metadata": {},
   "outputs": [
    {
     "ename": "NameError",
     "evalue": "name 'cyclist_df' is not defined",
     "output_type": "error",
     "traceback": [
      "\u001b[0;31m---------------------------------------------------------------------------\u001b[0m",
      "\u001b[0;31mNameError\u001b[0m                                 Traceback (most recent call last)",
      "Cell \u001b[0;32mIn[1], line 2\u001b[0m\n\u001b[1;32m      1\u001b[0m \u001b[38;5;66;03m# .all(axis=1) is basically doing an AND along the columns. So we `.sum()` a Pandas series of length `cyclist_df.shape[0]`\u001b[39;00m\n\u001b[0;32m----> 2\u001b[0m with_no_info \u001b[38;5;241m=\u001b[39m cyclist_df[[\u001b[38;5;124m'\u001b[39m\u001b[38;5;124mbirth_year\u001b[39m\u001b[38;5;124m'\u001b[39m, \u001b[38;5;124m'\u001b[39m\u001b[38;5;124mweight\u001b[39m\u001b[38;5;124m'\u001b[39m, \u001b[38;5;124m'\u001b[39m\u001b[38;5;124mheight\u001b[39m\u001b[38;5;124m'\u001b[39m]]\u001b[38;5;241m.\u001b[39misna()\u001b[38;5;241m.\u001b[39mall(axis\u001b[38;5;241m=\u001b[39m\u001b[38;5;241m1\u001b[39m)\n\u001b[1;32m      3\u001b[0m \u001b[38;5;28mprint\u001b[39m(\u001b[38;5;124mf\u001b[39m\u001b[38;5;124m\"\u001b[39m\u001b[38;5;124mThere are \u001b[39m\u001b[38;5;132;01m{\u001b[39;00mwith_no_info\u001b[38;5;241m.\u001b[39msum()\u001b[38;5;132;01m}\u001b[39;00m\u001b[38;5;124m cyclists without birth_year, weight, height\u001b[39m\u001b[38;5;124m\"\u001b[39m)\n\u001b[1;32m      4\u001b[0m \u001b[38;5;28mprint\u001b[39m(\u001b[38;5;124m\"\u001b[39m\u001b[38;5;124mAnd they are:\u001b[39m\u001b[38;5;124m\"\u001b[39m)\n",
      "\u001b[0;31mNameError\u001b[0m: name 'cyclist_df' is not defined"
     ]
    }
   ],
   "source": [
    "# .all(axis=1) is basically doing an AND along the columns. So we `.sum()` a Pandas series of length `cyclist_df.shape[0]`\n",
    "with_no_info = cyclist_df[['birth_year', 'weight', 'height']].isna().all(axis=1)\n",
    "print(f\"There are {with_no_info.sum()} cyclists without birth_year, weight, height\")\n",
    "print(\"And they are:\")\n",
    "for _, row in cyclist_df[with_no_info].iterrows():\n",
    "    print(f\"_url: {row['_url']:<20} name: {row['name']:<20} nationality: {row['nationality']}\")"
   ]
  },
  {
   "cell_type": "markdown",
   "metadata": {},
   "source": [
    "### Races"
   ]
  },
  {
   "cell_type": "code",
   "execution_count": null,
   "metadata": {},
   "outputs": [],
   "source": [
    "races_df.shape"
   ]
  },
  {
   "cell_type": "code",
   "execution_count": null,
   "metadata": {},
   "outputs": [
    {
     "data": {
      "text/html": [
       "<div>\n",
       "<style scoped>\n",
       "    .dataframe tbody tr th:only-of-type {\n",
       "        vertical-align: middle;\n",
       "    }\n",
       "\n",
       "    .dataframe tbody tr th {\n",
       "        vertical-align: top;\n",
       "    }\n",
       "\n",
       "    .dataframe thead th {\n",
       "        text-align: right;\n",
       "    }\n",
       "</style>\n",
       "<table border=\"1\" class=\"dataframe\">\n",
       "  <thead>\n",
       "    <tr style=\"text-align: right;\">\n",
       "      <th></th>\n",
       "      <th>_url</th>\n",
       "      <th>name</th>\n",
       "      <th>points</th>\n",
       "      <th>uci_points</th>\n",
       "      <th>length</th>\n",
       "      <th>climb_total</th>\n",
       "      <th>profile</th>\n",
       "      <th>startlist_quality</th>\n",
       "      <th>average_temperature</th>\n",
       "      <th>date</th>\n",
       "      <th>position</th>\n",
       "      <th>cyclist</th>\n",
       "      <th>cyclist_age</th>\n",
       "      <th>is_tarmac</th>\n",
       "      <th>is_cobbled</th>\n",
       "      <th>is_gravel</th>\n",
       "      <th>cyclist_team</th>\n",
       "      <th>delta</th>\n",
       "    </tr>\n",
       "  </thead>\n",
       "  <tbody>\n",
       "    <tr>\n",
       "      <th>0</th>\n",
       "      <td>tour-de-france/1978/stage-6</td>\n",
       "      <td>Tour de France</td>\n",
       "      <td>100.0</td>\n",
       "      <td>NaN</td>\n",
       "      <td>162000.0</td>\n",
       "      <td>1101.0</td>\n",
       "      <td>1.0</td>\n",
       "      <td>1241</td>\n",
       "      <td>NaN</td>\n",
       "      <td>1978-07-05 04:02:24</td>\n",
       "      <td>0</td>\n",
       "      <td>sean-kelly</td>\n",
       "      <td>22.0</td>\n",
       "      <td>True</td>\n",
       "      <td>False</td>\n",
       "      <td>False</td>\n",
       "      <td>vini-ricordi-pinarello-sidermec-1986</td>\n",
       "      <td>0.0</td>\n",
       "    </tr>\n",
       "    <tr>\n",
       "      <th>1</th>\n",
       "      <td>tour-de-france/1978/stage-6</td>\n",
       "      <td>Tour de France</td>\n",
       "      <td>100.0</td>\n",
       "      <td>NaN</td>\n",
       "      <td>162000.0</td>\n",
       "      <td>1101.0</td>\n",
       "      <td>1.0</td>\n",
       "      <td>1241</td>\n",
       "      <td>NaN</td>\n",
       "      <td>1978-07-05 04:02:24</td>\n",
       "      <td>1</td>\n",
       "      <td>gerrie-knetemann</td>\n",
       "      <td>27.0</td>\n",
       "      <td>True</td>\n",
       "      <td>False</td>\n",
       "      <td>False</td>\n",
       "      <td>norway-1987</td>\n",
       "      <td>0.0</td>\n",
       "    </tr>\n",
       "    <tr>\n",
       "      <th>2</th>\n",
       "      <td>tour-de-france/1978/stage-6</td>\n",
       "      <td>Tour de France</td>\n",
       "      <td>100.0</td>\n",
       "      <td>NaN</td>\n",
       "      <td>162000.0</td>\n",
       "      <td>1101.0</td>\n",
       "      <td>1.0</td>\n",
       "      <td>1241</td>\n",
       "      <td>NaN</td>\n",
       "      <td>1978-07-05 04:02:24</td>\n",
       "      <td>2</td>\n",
       "      <td>rene-bittinger</td>\n",
       "      <td>24.0</td>\n",
       "      <td>True</td>\n",
       "      <td>False</td>\n",
       "      <td>False</td>\n",
       "      <td>NaN</td>\n",
       "      <td>0.0</td>\n",
       "    </tr>\n",
       "    <tr>\n",
       "      <th>3</th>\n",
       "      <td>tour-de-france/1978/stage-6</td>\n",
       "      <td>Tour de France</td>\n",
       "      <td>100.0</td>\n",
       "      <td>NaN</td>\n",
       "      <td>162000.0</td>\n",
       "      <td>1101.0</td>\n",
       "      <td>1.0</td>\n",
       "      <td>1241</td>\n",
       "      <td>NaN</td>\n",
       "      <td>1978-07-05 04:02:24</td>\n",
       "      <td>3</td>\n",
       "      <td>joseph-bruyere</td>\n",
       "      <td>30.0</td>\n",
       "      <td>True</td>\n",
       "      <td>False</td>\n",
       "      <td>False</td>\n",
       "      <td>navigare-blue-storm-1993</td>\n",
       "      <td>0.0</td>\n",
       "    </tr>\n",
       "    <tr>\n",
       "      <th>4</th>\n",
       "      <td>tour-de-france/1978/stage-6</td>\n",
       "      <td>Tour de France</td>\n",
       "      <td>100.0</td>\n",
       "      <td>NaN</td>\n",
       "      <td>162000.0</td>\n",
       "      <td>1101.0</td>\n",
       "      <td>1.0</td>\n",
       "      <td>1241</td>\n",
       "      <td>NaN</td>\n",
       "      <td>1978-07-05 04:02:24</td>\n",
       "      <td>4</td>\n",
       "      <td>sven-ake-nilsson</td>\n",
       "      <td>27.0</td>\n",
       "      <td>True</td>\n",
       "      <td>False</td>\n",
       "      <td>False</td>\n",
       "      <td>spain-1991</td>\n",
       "      <td>0.0</td>\n",
       "    </tr>\n",
       "  </tbody>\n",
       "</table>\n",
       "</div>"
      ],
      "text/plain": [
       "                          _url            name  points  uci_points    length  \\\n",
       "0  tour-de-france/1978/stage-6  Tour de France   100.0         NaN  162000.0   \n",
       "1  tour-de-france/1978/stage-6  Tour de France   100.0         NaN  162000.0   \n",
       "2  tour-de-france/1978/stage-6  Tour de France   100.0         NaN  162000.0   \n",
       "3  tour-de-france/1978/stage-6  Tour de France   100.0         NaN  162000.0   \n",
       "4  tour-de-france/1978/stage-6  Tour de France   100.0         NaN  162000.0   \n",
       "\n",
       "   climb_total  profile  startlist_quality  average_temperature  \\\n",
       "0       1101.0      1.0               1241                  NaN   \n",
       "1       1101.0      1.0               1241                  NaN   \n",
       "2       1101.0      1.0               1241                  NaN   \n",
       "3       1101.0      1.0               1241                  NaN   \n",
       "4       1101.0      1.0               1241                  NaN   \n",
       "\n",
       "                  date  position           cyclist  cyclist_age  is_tarmac  \\\n",
       "0  1978-07-05 04:02:24         0        sean-kelly         22.0       True   \n",
       "1  1978-07-05 04:02:24         1  gerrie-knetemann         27.0       True   \n",
       "2  1978-07-05 04:02:24         2    rene-bittinger         24.0       True   \n",
       "3  1978-07-05 04:02:24         3    joseph-bruyere         30.0       True   \n",
       "4  1978-07-05 04:02:24         4  sven-ake-nilsson         27.0       True   \n",
       "\n",
       "   is_cobbled  is_gravel                          cyclist_team  delta  \n",
       "0       False      False  vini-ricordi-pinarello-sidermec-1986    0.0  \n",
       "1       False      False                           norway-1987    0.0  \n",
       "2       False      False                                   NaN    0.0  \n",
       "3       False      False              navigare-blue-storm-1993    0.0  \n",
       "4       False      False                            spain-1991    0.0  "
      ]
     },
     "metadata": {},
     "output_type": "display_data"
    }
   ],
   "source": [
    "races_df.head()"
   ]
  },
  {
   "cell_type": "markdown",
   "metadata": {},
   "source": [
    "Looks like we don't have to reformat names."
   ]
  },
  {
   "cell_type": "code",
   "execution_count": null,
   "metadata": {},
   "outputs": [
    {
     "name": "stdout",
     "output_type": "stream",
     "text": [
      "There are 0 null values in the _url column, i.e. 0.00% are missing\n",
      "There are 0 null values in the name column, i.e. 0.00% are missing\n",
      "There are 477 null values in the points column, i.e. 0.08% are missing\n",
      "There are 338779 null values in the uci_points column, i.e. 57.43% are missing\n",
      "There are 0 null values in the length column, i.e. 0.00% are missing\n",
      "There are 147045 null values in the climb_total column, i.e. 24.93% are missing\n",
      "There are 148194 null values in the profile column, i.e. 25.12% are missing\n",
      "There are 0 null values in the startlist_quality column, i.e. 0.00% are missing\n",
      "There are 559932 null values in the average_temperature column, i.e. 94.93% are missing\n",
      "There are 0 null values in the date column, i.e. 0.00% are missing\n",
      "There are 0 null values in the position column, i.e. 0.00% are missing\n",
      "There are 0 null values in the cyclist column, i.e. 0.00% are missing\n",
      "There are 113 null values in the cyclist_age column, i.e. 0.02% are missing\n",
      "There are 0 null values in the is_tarmac column, i.e. 0.00% are missing\n",
      "There are 0 null values in the is_cobbled column, i.e. 0.00% are missing\n",
      "There are 0 null values in the is_gravel column, i.e. 0.00% are missing\n",
      "There are 159161 null values in the cyclist_team column, i.e. 26.98% are missing\n",
      "There are 0 null values in the delta column, i.e. 0.00% are missing\n"
     ]
    }
   ],
   "source": [
    "n_rows = races_df.shape[0]\n",
    "for col in races_df.columns:\n",
    "    print(f\"There are {n_rows - races_df[col].count()} null values in the {col} column, i.e. {100*(n_rows - races_df[col].count())/n_rows:.2f}% are missing\")"
   ]
  },
  {
   "cell_type": "code",
   "execution_count": null,
   "metadata": {},
   "outputs": [
    {
     "name": "stdout",
     "output_type": "stream",
     "text": [
      "<class 'pandas.core.frame.DataFrame'>\n",
      "RangeIndex: 589865 entries, 0 to 589864\n",
      "Data columns (total 18 columns):\n",
      " #   Column               Non-Null Count   Dtype  \n",
      "---  ------               --------------   -----  \n",
      " 0   _url                 589865 non-null  object \n",
      " 1   name                 589865 non-null  object \n",
      " 2   points               589388 non-null  float64\n",
      " 3   uci_points           251086 non-null  float64\n",
      " 4   length               589865 non-null  float64\n",
      " 5   climb_total          442820 non-null  float64\n",
      " 6   profile              441671 non-null  float64\n",
      " 7   startlist_quality    589865 non-null  int64  \n",
      " 8   average_temperature  29933 non-null   float64\n",
      " 9   date                 589865 non-null  object \n",
      " 10  position             589865 non-null  int64  \n",
      " 11  cyclist              589865 non-null  object \n",
      " 12  cyclist_age          589752 non-null  float64\n",
      " 13  is_tarmac            589865 non-null  bool   \n",
      " 14  is_cobbled           589865 non-null  bool   \n",
      " 15  is_gravel            589865 non-null  bool   \n",
      " 16  cyclist_team         430704 non-null  object \n",
      " 17  delta                589865 non-null  float64\n",
      "dtypes: bool(3), float64(8), int64(2), object(5)\n",
      "memory usage: 69.2+ MB\n"
     ]
    }
   ],
   "source": [
    "races_df.info()"
   ]
  },
  {
   "cell_type": "code",
   "execution_count": null,
   "metadata": {},
   "outputs": [
    {
     "name": "stdout",
     "output_type": "stream",
     "text": [
      "There are 10 columns with numeric attributes.\n",
      "\t They are: ['points', 'uci_points', 'length', 'climb_total', 'profile', 'startlist_quality', 'average_temperature', 'position', 'cyclist_age', 'delta']\n",
      "\n",
      "There are 8 non-numeric attributes.\n",
      "\t They are: ['_url', 'name', 'date', 'cyclist', 'is_tarmac', 'is_cobbled', 'is_gravel', 'cyclist_team']\n"
     ]
    }
   ],
   "source": [
    "print(f\"There are {len(races_df.select_dtypes(include=\"number\").columns)} columns with numeric attributes.\")\n",
    "print(f\"\\t They are: {[col for col in races_df.select_dtypes(include=\"number\").columns]}\\n\")\n",
    "print(f\"There are {len(races_df.select_dtypes(exclude=\"number\").columns)} non-numeric attributes.\")\n",
    "print(f\"\\t They are: {[col for col in races_df.select_dtypes(exclude=\"number\")]}\")"
   ]
  },
  {
   "cell_type": "markdown",
   "metadata": {},
   "source": [
    "Uci points are assigned to less than half of the performances.\n",
    "Average temperature is almost nonexistent in the dataset.\n",
    "Before delving into more accurate analysis the data, let's check its consistency"
   ]
  },
  {
   "cell_type": "markdown",
   "metadata": {},
   "source": [
    "#### Consistency checks"
   ]
  },
  {
   "cell_type": "markdown",
   "metadata": {},
   "source": [
    "Let's check the naming convention"
   ]
  },
  {
   "cell_type": "code",
   "execution_count": null,
   "metadata": {},
   "outputs": [
    {
     "ename": "",
     "evalue": "",
     "output_type": "error",
     "traceback": [
      "\u001b[1;31mRunning cells with 'hlt (Python 3.11.5)' requires the ipykernel package.\n",
      "\u001b[1;31mRun the following command to install 'ipykernel' into the Python environment. \n",
      "\u001b[1;31mCommand: 'conda install -n hlt ipykernel --update-deps --force-reinstall'"
     ]
    }
   ],
   "source": [
    "pattern = r\"([a-z0-9-]+)/\\d{4}/(prologue|result|stage-\\d)\"\n",
    "all(races_df['_url'].apply(lambda url: bool(re.match(pattern,url))))"
   ]
  },
  {
   "cell_type": "markdown",
   "metadata": {},
   "source": [
    "All URLs can be described with this pattern... it'd be nice to have the stage as a different attribute."
   ]
  },
  {
   "cell_type": "code",
   "execution_count": null,
   "metadata": {},
   "outputs": [
    {
     "ename": "",
     "evalue": "",
     "output_type": "error",
     "traceback": [
      "\u001b[1;31mRunning cells with 'hlt (Python 3.11.5)' requires the ipykernel package.\n",
      "\u001b[1;31mRun the following command to install 'ipykernel' into the Python environment. \n",
      "\u001b[1;31mCommand: 'conda install -n hlt ipykernel --update-deps --force-reinstall'"
     ]
    }
   ],
   "source": [
    "def extract_name_stage(url:str,\n",
    "              pattern:str=r\"([a-z0-9-]+)/\\d{4}/(prologue|result|stage-\\d)\") -> str:\n",
    "    match = re.match(pattern,url)\n",
    "    if match:\n",
    "        return f\"{match.group(1)}_{match.group(2)}\"\n",
    "    else:\n",
    "        return None\n",
    "\n",
    "\n",
    "races_df_copy = pd.DataFrame.copy(races_df)\n",
    "\n",
    "races_df[\"name_stage\"] = races_df_copy[\"_url\"].apply(extract_name_stage)"
   ]
  },
  {
   "cell_type": "markdown",
   "metadata": {},
   "source": [
    "With this, our exploration can be more insightful!"
   ]
  },
  {
   "cell_type": "markdown",
   "metadata": {},
   "source": [
    "Aside the straightforward considerations, `delta` seems to be set everywhere. Is it true or is it just all zeros?"
   ]
  },
  {
   "cell_type": "code",
   "execution_count": null,
   "metadata": {},
   "outputs": [],
   "source": [
    "tot_zero_delta = races_df[(races_df['position'] > 0) & (races_df['delta'] == 0)].shape[0]\n",
    "print('Number of records with position > 0 and delta = 0', tot_zero_delta)\n",
    "print(f'Percentage of times delta was not recorded: {tot_zero_delta / races_df.shape[0] * 100:.2f}%')"
   ]
  },
  {
   "cell_type": "markdown",
   "metadata": {},
   "source": [
    "A lot of $0.0$. We cannot be sure if these are just NaNs under disguise or if the calculations/conversions the delta faced to come into this dataset were just not precise enough. During a photo-finish, we usually encounter deltas that go well under the first decimal digit. <br>\n",
    "What about the `is_x` attribute? First, we aggregate over the stages and get its unique values for each group"
   ]
  },
  {
   "cell_type": "code",
   "execution_count": null,
   "metadata": {},
   "outputs": [],
   "source": [
    "terrain_grouped_data = races_df.groupby('name_stage').agg({'is_tarmac': 'unique',\n",
    "                                                                'is_cobbled': 'unique',\n",
    "                                                                'is_gravel': 'unique'})\n",
    "terrain_grouped_data"
   ]
  },
  {
   "cell_type": "markdown",
   "metadata": {},
   "source": [
    "Now, let us also look if the `is_x` attribute has analogous problems to `delta`."
   ]
  },
  {
   "cell_type": "code",
   "execution_count": null,
   "metadata": {},
   "outputs": [],
   "source": [
    "tot_unsigned_terrain = terrain_grouped_data[\n",
    "    (terrain_grouped_data['is_tarmac'] == False) & \n",
    "    (terrain_grouped_data['is_cobbled'] == False) &\n",
    "    (terrain_grouped_data['is_gravel'] == False)\n",
    "    ].shape[0]\n",
    "print('Total of times terrain was not recorded', tot_unsigned_terrain)\n",
    "print(f'Percentage of times terrain was not recorded: {tot_unsigned_terrain / races_df.shape[0] * 100:.2f}%')\n",
    "\n",
    "tot_mixed_terrain = terrain_grouped_data[\n",
    "    (\n",
    "        (terrain_grouped_data['is_gravel'] == True) +\n",
    "        (terrain_grouped_data['is_tarmac'] == True) +\n",
    "        (terrain_grouped_data['is_cobbled'] == True)\n",
    "    ) > 1\n",
    "    ].shape[0]\n",
    "print('Total of times mixed terrain was recorded', tot_mixed_terrain)\n",
    "print(f'Percentage of times mixed terrain was recorded: {tot_mixed_terrain / terrain_grouped_data.shape[0] * 100:.2f}%')"
   ]
  },
  {
   "cell_type": "markdown",
   "metadata": {},
   "source": [
    "As it looks like, there are no races with mixed terrain and some races have no terrain recorded. This may indicate that either the races were ran over another type of terrain, not indicated by the actual attributes, or that there was an error in recording them. Let's see how they are distributed. "
   ]
  },
  {
   "cell_type": "code",
   "execution_count": null,
   "metadata": {},
   "outputs": [],
   "source": [
    "def count_n_terrains(terrain:str) -> int:\n",
    "    try:\n",
    "        n = terrain_grouped_data[f'is_{terrain}'].apply(lambda lista: lista[0]).sum()\n",
    "        return n\n",
    "    except KeyError:\n",
    "        print(f\"terrain value {terrain} is invalid.\")\n",
    "        print(\"Only options are 'tarmac', 'cobbled', 'gravel'\")\n",
    "\n",
    "for terrain in ['tarmac', 'cobbled','gravel']:\n",
    "    print(f'Out of {terrain_grouped_data.shape[0]} (unique) \"atomic competitions\", {count_n_terrains(terrain)} have {terrain}')"
   ]
  },
  {
   "cell_type": "markdown",
   "metadata": {},
   "source": [
    "...Did we miss something?"
   ]
  },
  {
   "cell_type": "code",
   "execution_count": null,
   "metadata": {},
   "outputs": [
    {
     "name": "stdout",
     "output_type": "stream",
     "text": [
      "In the big dataframe, out of 589865, 536042 have tarmac\n",
      "In the big dataframe, out of 589865, 0 have cobbled\n",
      "In the big dataframe, out of 589865, 0 have gravel\n"
     ]
    }
   ],
   "source": [
    "for terrain in ['tarmac', 'cobbled','gravel']:\n",
    "    n = races_df[f'is_{terrain}'].sum()\n",
    "    print(f\"In the big dataframe, out of {races_df.shape[0]}, {n} have {terrain}\")"
   ]
  },
  {
   "cell_type": "markdown",
   "metadata": {},
   "source": [
    "#### Duplicates"
   ]
  },
  {
   "cell_type": "markdown",
   "metadata": {},
   "source": [
    "Are all the races distinct?"
   ]
  },
  {
   "cell_type": "code",
   "execution_count": null,
   "metadata": {},
   "outputs": [
    {
     "ename": "",
     "evalue": "",
     "output_type": "error",
     "traceback": [
      "\u001b[1;31mRunning cells with 'hlt (Python 3.11.5)' requires the ipykernel package.\n",
      "\u001b[1;31mRun the following command to install 'ipykernel' into the Python environment. \n",
      "\u001b[1;31mCommand: 'conda install -n hlt ipykernel --update-deps --force-reinstall'"
     ]
    }
   ],
   "source": [
    "race_names = np.sort(races_df['name'].unique())\n",
    "for race in race_names:\n",
    "    print(race)"
   ]
  },
  {
   "cell_type": "markdown",
   "metadata": {},
   "source": [
    "Upon a first look, there a lot of suspected duplicates. With the `check_if_same` function we can check if two slightly different names actually correspond to the same race, by comparing the first part of the associated `_url` "
   ]
  },
  {
   "cell_type": "code",
   "execution_count": null,
   "metadata": {},
   "outputs": [],
   "source": [
    "# Initialize a list to store pairs of races that are actually the same\n",
    "same_races = []\n",
    "\n",
    "# Iterate through all pairs of race names\n",
    "for i in range(len(race_names)):\n",
    "    for j in range(i + 1, len(race_names)):\n",
    "        race1 = race_names[i]\n",
    "        race2 = race_names[j]\n",
    "        # Use the check_if_same function to compare the races\n",
    "        try:\n",
    "            same = check_if_same(race1, race2)[0]\n",
    "            if same:\n",
    "                same_races.append((race1, race2))\n",
    "        except TypeError:\n",
    "            print(f\"Caught error at races {race_names[i]} and {race_names[j]}\")\n",
    "        \n",
    "\n",
    "# Print the pairs of races that are actually the same\n",
    "for race1, race2 in same_races:\n",
    "    print(f\"The races '{race1}' and '{race2}' are actually the same.\")"
   ]
  },
  {
   "cell_type": "code",
   "execution_count": null,
   "metadata": {},
   "outputs": [],
   "source": [
    "print(f\"Allegedly, there are {len(same_races)/2} races that are the same, out of {len(race_names)} possible\")"
   ]
  },
  {
   "cell_type": "markdown",
   "metadata": {},
   "source": [
    "It looks like many races are the same, but they changed name between years. To have the confirmation, one should check the data more carefully considering multiple sources, of course."
   ]
  },
  {
   "cell_type": "code",
   "execution_count": null,
   "metadata": {},
   "outputs": [
    {
     "data": {
      "text/plain": [
       "name\n",
       "Amstel Gold Race                      [amstel-gold-race/2018/result, amstel-gold-rac...\n",
       "Clasica Ciclista San Sebastian        [san-sebastian/2016/result, san-sebastian/2006...\n",
       "Clásica Ciclista San Sebastian                              [san-sebastian/2017/result]\n",
       "Clásica Ciclista San Sebastián        [san-sebastian/2019/result, san-sebastian/1990...\n",
       "Clásica San Sebastián                 [san-sebastian/1981/result, san-sebastian/1982...\n",
       "                                                            ...                        \n",
       "Vuelta Ciclista al País Vasco         [itzulia-basque-country/2012/stage-1, itzulia-...\n",
       "Vuelta a España                       [vuelta-a-espana/2016/stage-14, vuelta-a-espan...\n",
       "Vuelta al País Vasco                  [itzulia-basque-country/2007/stage-3, itzulia-...\n",
       "World Championships - Road Race       [world-championship/1996/result, world-champio...\n",
       "World Championships ME - Road Race    [world-championship/2002/result, world-champio...\n",
       "Name: _url, Length: 61, dtype: object"
      ]
     },
     "metadata": {},
     "output_type": "display_data"
    }
   ],
   "source": [
    "races_df.groupby(\"name\")['_url'].unique()#.iloc[1]"
   ]
  },
  {
   "cell_type": "markdown",
   "metadata": {},
   "source": [
    "Indeed, for different urls, they are signed with different (although very similar) names albeit being the same race."
   ]
  },
  {
   "cell_type": "markdown",
   "metadata": {},
   "source": [
    "#### Missing Data"
   ]
  },
  {
   "cell_type": "markdown",
   "metadata": {},
   "source": [
    "We noted that Uci points are assigned to less than half of the performances and average temperature is almost nonexistent in the dataset."
   ]
  },
  {
   "cell_type": "code",
   "execution_count": null,
   "metadata": {},
   "outputs": [
    {
     "ename": "",
     "evalue": "",
     "output_type": "error",
     "traceback": [
      "\u001b[1;31mRunning cells with 'hlt (Python 3.11.5)' requires the ipykernel package.\n",
      "\u001b[1;31mRun the following command to install 'ipykernel' into the Python environment. \n",
      "\u001b[1;31mCommand: 'conda install -n hlt ipykernel --update-deps --force-reinstall'"
     ]
    }
   ],
   "source": [
    "n_rows = races_df.shape[0]\n",
    "for col in races_df.columns:\n",
    "    print(f\"There are {n_rows - races_df[col].count()} null values in the {col} column, i.e. {100*(n_rows - races_df[col].count())/n_rows:.2f}% are missing\")"
   ]
  },
  {
   "cell_type": "markdown",
   "metadata": {},
   "source": [
    "Missing values are quite a lot. Maybe some can be integrated from other sources. Who knows..."
   ]
  },
  {
   "cell_type": "markdown",
   "metadata": {},
   "source": [
    "# Analysis"
   ]
  },
  {
   "cell_type": "markdown",
   "metadata": {},
   "source": [
    "How many unique races are there?"
   ]
  },
  {
   "cell_type": "code",
   "execution_count": null,
   "metadata": {},
   "outputs": [
    {
     "ename": "",
     "evalue": "",
     "output_type": "error",
     "traceback": [
      "\u001b[1;31mRunning cells with 'hlt (Python 3.11.5)' requires the ipykernel package.\n",
      "\u001b[1;31mRun the following command to install 'ipykernel' into the Python environment. \n",
      "\u001b[1;31mCommand: 'conda install -n hlt ipykernel --update-deps --force-reinstall'"
     ]
    }
   ],
   "source": [
    "print(f\"Number of unique races: {races_df.shape[0]}\")"
   ]
  },
  {
   "cell_type": "markdown",
   "metadata": {},
   "source": [
    "Let's see if all the cyclist ages are defined at \"race time\" or are static"
   ]
  },
  {
   "cell_type": "code",
   "execution_count": null,
   "metadata": {},
   "outputs": [
    {
     "data": {
      "text/plain": [
       "cyclist           cyclist_age\n",
       "aad-van-den-hoek  24.0            1\n",
       "                  25.0            1\n",
       "                  26.0            1\n",
       "                  27.0           24\n",
       "                  28.0            1\n",
       "                                 ..\n",
       "zoran-klemencic   24.0           14\n",
       "                  25.0           14\n",
       "                  26.0           34\n",
       "                  28.0           14\n",
       "zsolt-der         27.0            1\n",
       "Length: 29871, dtype: int64"
      ]
     },
     "metadata": {},
     "output_type": "display_data"
    }
   ],
   "source": [
    "terrain_grouped_data.groupby(['cyclist','cyclist_age']).size()"
   ]
  },
  {
   "cell_type": "markdown",
   "metadata": {},
   "source": [
    "How about the profiles? Remember: it's a categorical value indicating increasing difficulty: flat, hilly, mountainous, high mountains"
   ]
  },
  {
   "cell_type": "code",
   "execution_count": null,
   "metadata": {},
   "outputs": [
    {
     "data": {
      "image/png": "[encoded data removed]",
      "text/plain": [
       "<Figure size 1600x800 with 2 Axes>"
      ]
     },
     "metadata": {},
     "output_type": "display_data"
    }
   ],
   "source": [
    "import matplotlib.pyplot as plt\n",
    "\n",
    "# Drop rows with NaN values in 'profile' column\n",
    "dt_cyclism_profile = cyclist_df.dropna(subset=['profile'])\n",
    "\n",
    "# Count the occurrences of each profile type\n",
    "profile_counts = dt_cyclism_profile['profile'].value_counts()\n",
    "\n",
    "# Create a figure with two subplots\n",
    "fig, axs = plt.subplots(1, 2, figsize=(16, 8))\n",
    "\n",
    "# Plot the pie chart\n",
    "axs[0].pie(profile_counts, labels=profile_counts.index, autopct='%1.1f%%', startangle=140)\n",
    "axs[0].set_title('Distribution of Profiles')\n",
    "\n",
    "# Plot the bar chart\n",
    "axs[1].bar(profile_counts.index, profile_counts.values)\n",
    "axs[1].set_title('Count of Profiles')\n",
    "axs[1].set_xlabel('Profile Type')\n",
    "axs[1].set_ylabel('Count')\n",
    "\n",
    "plt.tight_layout()\n",
    "plt.show()"
   ]
  },
  {
   "cell_type": "markdown",
   "metadata": {},
   "source": [
    "Weird! A fifth *secret* profile. Let's check the average temperature"
   ]
  },
  {
   "cell_type": "code",
   "execution_count": null,
   "metadata": {},
   "outputs": [],
   "source": [
    "# Drop rows with NaN values in 'average_temperature' column\n",
    "dt_cyclism_temp = cyclist_df.dropna(subset=['average_temperature'])\n",
    "\n",
    "# Plot the histogram\n",
    "plt.figure(figsize=(10, 6))\n",
    "plt.hist(dt_cyclism_temp['average_temperature'], bins=25, edgecolor='black')\n",
    "plt.title('Distribution of Average Temperature')\n",
    "plt.xlabel('Average Temperature')\n",
    "plt.ylabel('Frequency')\n",
    "plt.show()"
   ]
  },
  {
   "cell_type": "markdown",
   "metadata": {},
   "source": [
    "Are these Kelvin? Probably not. Fahrenheit? No way. It's surely Celsius. <br>\n",
    "Is there a correlation between these two distributions? Let's make a scatter plot "
   ]
  },
  {
   "cell_type": "code",
   "execution_count": null,
   "metadata": {},
   "outputs": [
    {
     "data": {
      "image/png": "[encoded data removed]",
      "text/plain": [
       "<Figure size 1000x600 with 1 Axes>"
      ]
     },
     "metadata": {},
     "output_type": "display_data"
    }
   ],
   "source": [
    "# Drop rows with NaN values in 'profile' and 'average_temperature' columns\n",
    "dt_cyclism_profile_temp = cyclist_df.dropna(subset=['profile', 'average_temperature'])\n",
    "\n",
    "# Create a scatter plot\n",
    "plt.figure(figsize=(10, 6))\n",
    "plt.scatter(dt_cyclism_profile_temp['profile'], dt_cyclism_profile_temp['average_temperature'], alpha=0.5)\n",
    "plt.title('Relationship between Profile and Average Temperature')\n",
    "plt.xlabel('Profile')\n",
    "plt.ylabel('Average Temperature')\n",
    "plt.show()"
   ]
  },
  {
   "cell_type": "markdown",
   "metadata": {},
   "source": [
    "Looks like not. Weird, we expected a higher terrain would mean lower average temperatures. <br>\n",
    "Let's check how the points are distributed."
   ]
  },
  {
   "cell_type": "code",
   "execution_count": null,
   "metadata": {},
   "outputs": [],
   "source": [
    "dt_points = pd.DataFrame.copy(races_df)\n",
    "dt_points = dt_points[['name_stage', 'points']]\n",
    "print(dt_points.shape)\n",
    "print(dt_points.head())"
   ]
  },
  {
   "cell_type": "markdown",
   "metadata": {},
   "source": [
    "Now plot it"
   ]
  },
  {
   "cell_type": "code",
   "execution_count": null,
   "metadata": {},
   "outputs": [],
   "source": [
    "# Plot the histogram for the distribution of points\n",
    "plt.figure(figsize=(10, 6))\n",
    "plt.hist(dt_points['points'], bins=200, edgecolor='black')\n",
    "plt.title('Distribution of Points')\n",
    "plt.xlabel('Points')\n",
    "plt.ylabel('Frequency')\n",
    "plt.show()"
   ]
  },
  {
   "cell_type": "markdown",
   "metadata": {},
   "source": [
    "Let's check the top races"
   ]
  },
  {
   "cell_type": "code",
   "execution_count": null,
   "metadata": {},
   "outputs": [],
   "source": [
    "# Sort the dt_points DataFrame by the 'points' column in descending order\n",
    "top_races = dt_points.sort_values(by='points', ascending=False)\n",
    "\n",
    "# Display the top races\n",
    "print(top_races.head(10))"
   ]
  },
  {
   "cell_type": "markdown",
   "metadata": {},
   "source": []
  },
  {
   "cell_type": "markdown",
   "metadata": {},
   "source": [
    "Let's see how the lengths are distributed"
   ]
  },
  {
   "cell_type": "code",
   "execution_count": null,
   "metadata": {},
   "outputs": [
    {
     "name": "stderr",
     "output_type": "stream",
     "text": [
      "/home/yuri/anaconda3/lib/python3.11/site-packages/seaborn/_oldcore.py:1498: FutureWarning: is_categorical_dtype is deprecated and will be removed in a future version. Use isinstance(dtype, CategoricalDtype) instead\n",
      "  if pd.api.types.is_categorical_dtype(vector):\n",
      "/home/yuri/anaconda3/lib/python3.11/site-packages/seaborn/_oldcore.py:1119: FutureWarning: use_inf_as_na option is deprecated and will be removed in a future version. Convert inf values to NaN before operating instead.\n",
      "  with pd.option_context('mode.use_inf_as_na', True):\n"
     ]
    },
    {
     "data": {
      "text/plain": [
       "<seaborn.axisgrid.FacetGrid at 0x7d1646c82e90>"
      ]
     },
     "metadata": {},
     "output_type": "display_data"
    },
    {
     "data": {
      "image/png": "[encoded data removed]",
      "text/plain": [
       "<Figure size 660x600 with 1 Axes>"
      ]
     },
     "metadata": {},
     "output_type": "display_data"
    }
   ],
   "source": [
    "aggregated_stages = races_df.groupby('_url').agg({'length':'first'}).reset_index()\n",
    "\n",
    "sns.displot(aggregated_stages,\n",
    "                x='length',\n",
    "                kind='hist',\n",
    "                aspect=1.1,\n",
    "                height=6\n",
    ")"
   ]
  },
  {
   "cell_type": "markdown",
   "metadata": {},
   "source": [
    "Some races are set to be of length 0... we'll have to impute some data."
   ]
  },
  {
   "cell_type": "markdown",
   "metadata": {},
   "source": [
    "What about the total distance to climb? Let's plot an histogram"
   ]
  },
  {
   "cell_type": "code",
   "execution_count": null,
   "metadata": {},
   "outputs": [
    {
     "name": "stderr",
     "output_type": "stream",
     "text": [
      "/home/yuri/anaconda3/lib/python3.11/site-packages/seaborn/_oldcore.py:1498: FutureWarning: is_categorical_dtype is deprecated and will be removed in a future version. Use isinstance(dtype, CategoricalDtype) instead\n",
      "  if pd.api.types.is_categorical_dtype(vector):\n",
      "/home/yuri/anaconda3/lib/python3.11/site-packages/seaborn/_oldcore.py:1119: FutureWarning: use_inf_as_na option is deprecated and will be removed in a future version. Convert inf values to NaN before operating instead.\n",
      "  with pd.option_context('mode.use_inf_as_na', True):\n"
     ]
    },
    {
     "data": {
      "text/plain": [
       "<seaborn.axisgrid.FacetGrid at 0x7d1648835210>"
      ]
     },
     "metadata": {},
     "output_type": "display_data"
    },
    {
     "data": {
      "image/png": "[encoded data removed]",
      "text/plain": [
       "<Figure size 660x600 with 1 Axes>"
      ]
     },
     "metadata": {},
     "output_type": "display_data"
    }
   ],
   "source": [
    "aggregated_stages = races_df.groupby('_url').agg({'climb_total':'first'}).reset_index()\n",
    "\n",
    "sns.displot(aggregated_stages,\n",
    "                x='climb_total',\n",
    "                kind='hist',\n",
    "                aspect=1.1,\n",
    "                height=6\n",
    ")"
   ]
  },
  {
   "cell_type": "markdown",
   "metadata": {},
   "source": [
    "Here, a lot of them are 0. As for the `delta` attribute, we may not know if these are missing values or just really flat races. Maybe, we can do some checks at a later moment."
   ]
  },
  {
   "cell_type": "markdown",
   "metadata": {},
   "source": [
    "Let's check some correlations"
   ]
  },
  {
   "cell_type": "code",
   "execution_count": null,
   "metadata": {},
   "outputs": [
    {
     "data": {
      "text/html": [
       "<div>\n",
       "<style scoped>\n",
       "    .dataframe tbody tr th:only-of-type {\n",
       "        vertical-align: middle;\n",
       "    }\n",
       "\n",
       "    .dataframe tbody tr th {\n",
       "        vertical-align: top;\n",
       "    }\n",
       "\n",
       "    .dataframe thead th {\n",
       "        text-align: right;\n",
       "    }\n",
       "</style>\n",
       "<table border=\"1\" class=\"dataframe\">\n",
       "  <thead>\n",
       "    <tr style=\"text-align: right;\">\n",
       "      <th></th>\n",
       "      <th>points</th>\n",
       "      <th>uci_points</th>\n",
       "      <th>length</th>\n",
       "      <th>climb_total</th>\n",
       "      <th>profile</th>\n",
       "      <th>startlist_quality</th>\n",
       "      <th>average_temperature</th>\n",
       "      <th>position</th>\n",
       "      <th>cyclist_age</th>\n",
       "      <th>delta</th>\n",
       "      <th>correlation_type</th>\n",
       "    </tr>\n",
       "  </thead>\n",
       "  <tbody>\n",
       "    <tr>\n",
       "      <th>points</th>\n",
       "      <td>1.000000</td>\n",
       "      <td>0.486830</td>\n",
       "      <td>0.283637</td>\n",
       "      <td>0.044915</td>\n",
       "      <td>-0.097831</td>\n",
       "      <td>0.387373</td>\n",
       "      <td>0.153829</td>\n",
       "      <td>0.011531</td>\n",
       "      <td>-0.005476</td>\n",
       "      <td>0.068592</td>\n",
       "      <td>kendall</td>\n",
       "    </tr>\n",
       "    <tr>\n",
       "      <th>uci_points</th>\n",
       "      <td>0.486830</td>\n",
       "      <td>1.000000</td>\n",
       "      <td>0.098587</td>\n",
       "      <td>0.046858</td>\n",
       "      <td>-0.000465</td>\n",
       "      <td>0.007000</td>\n",
       "      <td>0.066502</td>\n",
       "      <td>-0.023719</td>\n",
       "      <td>0.007526</td>\n",
       "      <td>0.070373</td>\n",
       "      <td>kendall</td>\n",
       "    </tr>\n",
       "    <tr>\n",
       "      <th>length</th>\n",
       "      <td>0.283637</td>\n",
       "      <td>0.098587</td>\n",
       "      <td>1.000000</td>\n",
       "      <td>0.285099</td>\n",
       "      <td>0.017441</td>\n",
       "      <td>0.064082</td>\n",
       "      <td>-0.095313</td>\n",
       "      <td>-0.015373</td>\n",
       "      <td>-0.002381</td>\n",
       "      <td>0.029217</td>\n",
       "      <td>kendall</td>\n",
       "    </tr>\n",
       "    <tr>\n",
       "      <th>climb_total</th>\n",
       "      <td>0.044915</td>\n",
       "      <td>0.046858</td>\n",
       "      <td>0.285099</td>\n",
       "      <td>1.000000</td>\n",
       "      <td>0.578126</td>\n",
       "      <td>0.009066</td>\n",
       "      <td>-0.079710</td>\n",
       "      <td>-0.023858</td>\n",
       "      <td>0.005533</td>\n",
       "      <td>0.356194</td>\n",
       "      <td>kendall</td>\n",
       "    </tr>\n",
       "    <tr>\n",
       "      <th>profile</th>\n",
       "      <td>-0.097831</td>\n",
       "      <td>-0.000465</td>\n",
       "      <td>0.017441</td>\n",
       "      <td>0.578126</td>\n",
       "      <td>1.000000</td>\n",
       "      <td>-0.092412</td>\n",
       "      <td>-0.020977</td>\n",
       "      <td>-0.018424</td>\n",
       "      <td>0.005635</td>\n",
       "      <td>0.420183</td>\n",
       "      <td>kendall</td>\n",
       "    </tr>\n",
       "    <tr>\n",
       "      <th>startlist_quality</th>\n",
       "      <td>0.387373</td>\n",
       "      <td>0.007000</td>\n",
       "      <td>0.064082</td>\n",
       "      <td>0.009066</td>\n",
       "      <td>-0.092412</td>\n",
       "      <td>1.000000</td>\n",
       "      <td>0.218390</td>\n",
       "      <td>0.097527</td>\n",
       "      <td>0.033589</td>\n",
       "      <td>0.032290</td>\n",
       "      <td>kendall</td>\n",
       "    </tr>\n",
       "    <tr>\n",
       "      <th>average_temperature</th>\n",
       "      <td>0.153829</td>\n",
       "      <td>0.066502</td>\n",
       "      <td>-0.095313</td>\n",
       "      <td>-0.079710</td>\n",
       "      <td>-0.020977</td>\n",
       "      <td>0.218390</td>\n",
       "      <td>1.000000</td>\n",
       "      <td>0.015593</td>\n",
       "      <td>0.033887</td>\n",
       "      <td>0.023630</td>\n",
       "      <td>kendall</td>\n",
       "    </tr>\n",
       "    <tr>\n",
       "      <th>position</th>\n",
       "      <td>0.011531</td>\n",
       "      <td>-0.023719</td>\n",
       "      <td>-0.015373</td>\n",
       "      <td>-0.023858</td>\n",
       "      <td>-0.018424</td>\n",
       "      <td>0.097527</td>\n",
       "      <td>0.015593</td>\n",
       "      <td>1.000000</td>\n",
       "      <td>0.006378</td>\n",
       "      <td>0.296542</td>\n",
       "      <td>kendall</td>\n",
       "    </tr>\n",
       "    <tr>\n",
       "      <th>cyclist_age</th>\n",
       "      <td>-0.005476</td>\n",
       "      <td>0.007526</td>\n",
       "      <td>-0.002381</td>\n",
       "      <td>0.005533</td>\n",
       "      <td>0.005635</td>\n",
       "      <td>0.033589</td>\n",
       "      <td>0.033887</td>\n",
       "      <td>0.006378</td>\n",
       "      <td>1.000000</td>\n",
       "      <td>-0.002685</td>\n",
       "      <td>kendall</td>\n",
       "    </tr>\n",
       "    <tr>\n",
       "      <th>delta</th>\n",
       "      <td>0.068592</td>\n",
       "      <td>0.070373</td>\n",
       "      <td>0.029217</td>\n",
       "      <td>0.356194</td>\n",
       "      <td>0.420183</td>\n",
       "      <td>0.032290</td>\n",
       "      <td>0.023630</td>\n",
       "      <td>0.296542</td>\n",
       "      <td>-0.002685</td>\n",
       "      <td>1.000000</td>\n",
       "      <td>kendall</td>\n",
       "    </tr>\n",
       "    <tr>\n",
       "      <th>points</th>\n",
       "      <td>1.000000</td>\n",
       "      <td>0.856051</td>\n",
       "      <td>0.406921</td>\n",
       "      <td>0.110904</td>\n",
       "      <td>-0.106535</td>\n",
       "      <td>0.170652</td>\n",
       "      <td>-0.119733</td>\n",
       "      <td>-0.079777</td>\n",
       "      <td>-0.014525</td>\n",
       "      <td>0.005707</td>\n",
       "      <td>pearson</td>\n",
       "    </tr>\n",
       "    <tr>\n",
       "      <th>uci_points</th>\n",
       "      <td>0.856051</td>\n",
       "      <td>1.000000</td>\n",
       "      <td>0.261808</td>\n",
       "      <td>0.091693</td>\n",
       "      <td>-0.071257</td>\n",
       "      <td>-0.014024</td>\n",
       "      <td>-0.185166</td>\n",
       "      <td>-0.083119</td>\n",
       "      <td>-0.004159</td>\n",
       "      <td>0.018881</td>\n",
       "      <td>pearson</td>\n",
       "    </tr>\n",
       "    <tr>\n",
       "      <th>length</th>\n",
       "      <td>0.406921</td>\n",
       "      <td>0.261808</td>\n",
       "      <td>1.000000</td>\n",
       "      <td>0.520616</td>\n",
       "      <td>0.088873</td>\n",
       "      <td>0.073952</td>\n",
       "      <td>-0.070199</td>\n",
       "      <td>-0.012024</td>\n",
       "      <td>0.003442</td>\n",
       "      <td>0.092850</td>\n",
       "      <td>pearson</td>\n",
       "    </tr>\n",
       "    <tr>\n",
       "      <th>climb_total</th>\n",
       "      <td>0.110904</td>\n",
       "      <td>0.091693</td>\n",
       "      <td>0.520616</td>\n",
       "      <td>1.000000</td>\n",
       "      <td>0.708374</td>\n",
       "      <td>0.041969</td>\n",
       "      <td>-0.128367</td>\n",
       "      <td>-0.040156</td>\n",
       "      <td>0.007315</td>\n",
       "      <td>0.371062</td>\n",
       "      <td>pearson</td>\n",
       "    </tr>\n",
       "    <tr>\n",
       "      <th>profile</th>\n",
       "      <td>-0.106535</td>\n",
       "      <td>-0.071257</td>\n",
       "      <td>0.088873</td>\n",
       "      <td>0.708374</td>\n",
       "      <td>1.000000</td>\n",
       "      <td>-0.087865</td>\n",
       "      <td>-0.001292</td>\n",
       "      <td>-0.025425</td>\n",
       "      <td>0.008635</td>\n",
       "      <td>0.360759</td>\n",
       "      <td>pearson</td>\n",
       "    </tr>\n",
       "    <tr>\n",
       "      <th>startlist_quality</th>\n",
       "      <td>0.170652</td>\n",
       "      <td>-0.014024</td>\n",
       "      <td>0.073952</td>\n",
       "      <td>0.041969</td>\n",
       "      <td>-0.087865</td>\n",
       "      <td>1.000000</td>\n",
       "      <td>0.363821</td>\n",
       "      <td>0.147667</td>\n",
       "      <td>0.039392</td>\n",
       "      <td>0.045315</td>\n",
       "      <td>pearson</td>\n",
       "    </tr>\n",
       "    <tr>\n",
       "      <th>average_temperature</th>\n",
       "      <td>-0.119733</td>\n",
       "      <td>-0.185166</td>\n",
       "      <td>-0.070199</td>\n",
       "      <td>-0.128367</td>\n",
       "      <td>-0.001292</td>\n",
       "      <td>0.363821</td>\n",
       "      <td>1.000000</td>\n",
       "      <td>0.022707</td>\n",
       "      <td>0.040716</td>\n",
       "      <td>0.056668</td>\n",
       "      <td>pearson</td>\n",
       "    </tr>\n",
       "    <tr>\n",
       "      <th>position</th>\n",
       "      <td>-0.079777</td>\n",
       "      <td>-0.083119</td>\n",
       "      <td>-0.012024</td>\n",
       "      <td>-0.040156</td>\n",
       "      <td>-0.025425</td>\n",
       "      <td>0.147667</td>\n",
       "      <td>0.022707</td>\n",
       "      <td>1.000000</td>\n",
       "      <td>0.011984</td>\n",
       "      <td>0.272020</td>\n",
       "      <td>pearson</td>\n",
       "    </tr>\n",
       "    <tr>\n",
       "      <th>cyclist_age</th>\n",
       "      <td>-0.014525</td>\n",
       "      <td>-0.004159</td>\n",
       "      <td>0.003442</td>\n",
       "      <td>0.007315</td>\n",
       "      <td>0.008635</td>\n",
       "      <td>0.039392</td>\n",
       "      <td>0.040716</td>\n",
       "      <td>0.011984</td>\n",
       "      <td>1.000000</td>\n",
       "      <td>0.000995</td>\n",
       "      <td>pearson</td>\n",
       "    </tr>\n",
       "    <tr>\n",
       "      <th>delta</th>\n",
       "      <td>0.005707</td>\n",
       "      <td>0.018881</td>\n",
       "      <td>0.092850</td>\n",
       "      <td>0.371062</td>\n",
       "      <td>0.360759</td>\n",
       "      <td>0.045315</td>\n",
       "      <td>0.056668</td>\n",
       "      <td>0.272020</td>\n",
       "      <td>0.000995</td>\n",
       "      <td>1.000000</td>\n",
       "      <td>pearson</td>\n",
       "    </tr>\n",
       "    <tr>\n",
       "      <th>points</th>\n",
       "      <td>1.000000</td>\n",
       "      <td>0.536878</td>\n",
       "      <td>0.366900</td>\n",
       "      <td>0.056693</td>\n",
       "      <td>-0.120791</td>\n",
       "      <td>0.498615</td>\n",
       "      <td>0.190969</td>\n",
       "      <td>0.015360</td>\n",
       "      <td>-0.007194</td>\n",
       "      <td>0.091542</td>\n",
       "      <td>spearman</td>\n",
       "    </tr>\n",
       "    <tr>\n",
       "      <th>uci_points</th>\n",
       "      <td>0.536878</td>\n",
       "      <td>1.000000</td>\n",
       "      <td>0.137716</td>\n",
       "      <td>0.065214</td>\n",
       "      <td>0.000485</td>\n",
       "      <td>0.008186</td>\n",
       "      <td>0.084022</td>\n",
       "      <td>-0.033446</td>\n",
       "      <td>0.010222</td>\n",
       "      <td>0.098352</td>\n",
       "      <td>spearman</td>\n",
       "    </tr>\n",
       "    <tr>\n",
       "      <th>length</th>\n",
       "      <td>0.366900</td>\n",
       "      <td>0.137716</td>\n",
       "      <td>1.000000</td>\n",
       "      <td>0.407585</td>\n",
       "      <td>0.030906</td>\n",
       "      <td>0.095439</td>\n",
       "      <td>-0.135195</td>\n",
       "      <td>-0.023251</td>\n",
       "      <td>-0.003394</td>\n",
       "      <td>0.036094</td>\n",
       "      <td>spearman</td>\n",
       "    </tr>\n",
       "    <tr>\n",
       "      <th>climb_total</th>\n",
       "      <td>0.056693</td>\n",
       "      <td>0.065214</td>\n",
       "      <td>0.407585</td>\n",
       "      <td>1.000000</td>\n",
       "      <td>0.725782</td>\n",
       "      <td>0.012301</td>\n",
       "      <td>-0.119940</td>\n",
       "      <td>-0.035654</td>\n",
       "      <td>0.008018</td>\n",
       "      <td>0.515133</td>\n",
       "      <td>spearman</td>\n",
       "    </tr>\n",
       "    <tr>\n",
       "      <th>profile</th>\n",
       "      <td>-0.120791</td>\n",
       "      <td>0.000485</td>\n",
       "      <td>0.030906</td>\n",
       "      <td>0.725782</td>\n",
       "      <td>1.000000</td>\n",
       "      <td>-0.126398</td>\n",
       "      <td>-0.033631</td>\n",
       "      <td>-0.024964</td>\n",
       "      <td>0.007414</td>\n",
       "      <td>0.547277</td>\n",
       "      <td>spearman</td>\n",
       "    </tr>\n",
       "    <tr>\n",
       "      <th>startlist_quality</th>\n",
       "      <td>0.498615</td>\n",
       "      <td>0.008186</td>\n",
       "      <td>0.095439</td>\n",
       "      <td>0.012301</td>\n",
       "      <td>-0.126398</td>\n",
       "      <td>1.000000</td>\n",
       "      <td>0.308675</td>\n",
       "      <td>0.144739</td>\n",
       "      <td>0.048926</td>\n",
       "      <td>0.047456</td>\n",
       "      <td>spearman</td>\n",
       "    </tr>\n",
       "    <tr>\n",
       "      <th>average_temperature</th>\n",
       "      <td>0.190969</td>\n",
       "      <td>0.084022</td>\n",
       "      <td>-0.135195</td>\n",
       "      <td>-0.119940</td>\n",
       "      <td>-0.033631</td>\n",
       "      <td>0.308675</td>\n",
       "      <td>1.000000</td>\n",
       "      <td>0.022949</td>\n",
       "      <td>0.048218</td>\n",
       "      <td>0.035127</td>\n",
       "      <td>spearman</td>\n",
       "    </tr>\n",
       "    <tr>\n",
       "      <th>position</th>\n",
       "      <td>0.015360</td>\n",
       "      <td>-0.033446</td>\n",
       "      <td>-0.023251</td>\n",
       "      <td>-0.035654</td>\n",
       "      <td>-0.024964</td>\n",
       "      <td>0.144739</td>\n",
       "      <td>0.022949</td>\n",
       "      <td>1.000000</td>\n",
       "      <td>0.008884</td>\n",
       "      <td>0.425427</td>\n",
       "      <td>spearman</td>\n",
       "    </tr>\n",
       "    <tr>\n",
       "      <th>cyclist_age</th>\n",
       "      <td>-0.007194</td>\n",
       "      <td>0.010222</td>\n",
       "      <td>-0.003394</td>\n",
       "      <td>0.008018</td>\n",
       "      <td>0.007414</td>\n",
       "      <td>0.048926</td>\n",
       "      <td>0.048218</td>\n",
       "      <td>0.008884</td>\n",
       "      <td>1.000000</td>\n",
       "      <td>-0.003843</td>\n",
       "      <td>spearman</td>\n",
       "    </tr>\n",
       "    <tr>\n",
       "      <th>delta</th>\n",
       "      <td>0.091542</td>\n",
       "      <td>0.098352</td>\n",
       "      <td>0.036094</td>\n",
       "      <td>0.515133</td>\n",
       "      <td>0.547277</td>\n",
       "      <td>0.047456</td>\n",
       "      <td>0.035127</td>\n",
       "      <td>0.425427</td>\n",
       "      <td>-0.003843</td>\n",
       "      <td>1.000000</td>\n",
       "      <td>spearman</td>\n",
       "    </tr>\n",
       "  </tbody>\n",
       "</table>\n",
       "</div>"
      ],
      "text/plain": [
       "                       points  uci_points    length  climb_total   profile  \\\n",
       "points               1.000000    0.486830  0.283637     0.044915 -0.097831   \n",
       "uci_points           0.486830    1.000000  0.098587     0.046858 -0.000465   \n",
       "length               0.283637    0.098587  1.000000     0.285099  0.017441   \n",
       "climb_total          0.044915    0.046858  0.285099     1.000000  0.578126   \n",
       "profile             -0.097831   -0.000465  0.017441     0.578126  1.000000   \n",
       "startlist_quality    0.387373    0.007000  0.064082     0.009066 -0.092412   \n",
       "average_temperature  0.153829    0.066502 -0.095313    -0.079710 -0.020977   \n",
       "position             0.011531   -0.023719 -0.015373    -0.023858 -0.018424   \n",
       "cyclist_age         -0.005476    0.007526 -0.002381     0.005533  0.005635   \n",
       "delta                0.068592    0.070373  0.029217     0.356194  0.420183   \n",
       "points               1.000000    0.856051  0.406921     0.110904 -0.106535   \n",
       "uci_points           0.856051    1.000000  0.261808     0.091693 -0.071257   \n",
       "length               0.406921    0.261808  1.000000     0.520616  0.088873   \n",
       "climb_total          0.110904    0.091693  0.520616     1.000000  0.708374   \n",
       "profile             -0.106535   -0.071257  0.088873     0.708374  1.000000   \n",
       "startlist_quality    0.170652   -0.014024  0.073952     0.041969 -0.087865   \n",
       "average_temperature -0.119733   -0.185166 -0.070199    -0.128367 -0.001292   \n",
       "position            -0.079777   -0.083119 -0.012024    -0.040156 -0.025425   \n",
       "cyclist_age         -0.014525   -0.004159  0.003442     0.007315  0.008635   \n",
       "delta                0.005707    0.018881  0.092850     0.371062  0.360759   \n",
       "points               1.000000    0.536878  0.366900     0.056693 -0.120791   \n",
       "uci_points           0.536878    1.000000  0.137716     0.065214  0.000485   \n",
       "length               0.366900    0.137716  1.000000     0.407585  0.030906   \n",
       "climb_total          0.056693    0.065214  0.407585     1.000000  0.725782   \n",
       "profile             -0.120791    0.000485  0.030906     0.725782  1.000000   \n",
       "startlist_quality    0.498615    0.008186  0.095439     0.012301 -0.126398   \n",
       "average_temperature  0.190969    0.084022 -0.135195    -0.119940 -0.033631   \n",
       "position             0.015360   -0.033446 -0.023251    -0.035654 -0.024964   \n",
       "cyclist_age         -0.007194    0.010222 -0.003394     0.008018  0.007414   \n",
       "delta                0.091542    0.098352  0.036094     0.515133  0.547277   \n",
       "\n",
       "                     startlist_quality  average_temperature  position  \\\n",
       "points                        0.387373             0.153829  0.011531   \n",
       "uci_points                    0.007000             0.066502 -0.023719   \n",
       "length                        0.064082            -0.095313 -0.015373   \n",
       "climb_total                   0.009066            -0.079710 -0.023858   \n",
       "profile                      -0.092412            -0.020977 -0.018424   \n",
       "startlist_quality             1.000000             0.218390  0.097527   \n",
       "average_temperature           0.218390             1.000000  0.015593   \n",
       "position                      0.097527             0.015593  1.000000   \n",
       "cyclist_age                   0.033589             0.033887  0.006378   \n",
       "delta                         0.032290             0.023630  0.296542   \n",
       "points                        0.170652            -0.119733 -0.079777   \n",
       "uci_points                   -0.014024            -0.185166 -0.083119   \n",
       "length                        0.073952            -0.070199 -0.012024   \n",
       "climb_total                   0.041969            -0.128367 -0.040156   \n",
       "profile                      -0.087865            -0.001292 -0.025425   \n",
       "startlist_quality             1.000000             0.363821  0.147667   \n",
       "average_temperature           0.363821             1.000000  0.022707   \n",
       "position                      0.147667             0.022707  1.000000   \n",
       "cyclist_age                   0.039392             0.040716  0.011984   \n",
       "delta                         0.045315             0.056668  0.272020   \n",
       "points                        0.498615             0.190969  0.015360   \n",
       "uci_points                    0.008186             0.084022 -0.033446   \n",
       "length                        0.095439            -0.135195 -0.023251   \n",
       "climb_total                   0.012301            -0.119940 -0.035654   \n",
       "profile                      -0.126398            -0.033631 -0.024964   \n",
       "startlist_quality             1.000000             0.308675  0.144739   \n",
       "average_temperature           0.308675             1.000000  0.022949   \n",
       "position                      0.144739             0.022949  1.000000   \n",
       "cyclist_age                   0.048926             0.048218  0.008884   \n",
       "delta                         0.047456             0.035127  0.425427   \n",
       "\n",
       "                     cyclist_age     delta correlation_type  \n",
       "points                 -0.005476  0.068592          kendall  \n",
       "uci_points              0.007526  0.070373          kendall  \n",
       "length                 -0.002381  0.029217          kendall  \n",
       "climb_total             0.005533  0.356194          kendall  \n",
       "profile                 0.005635  0.420183          kendall  \n",
       "startlist_quality       0.033589  0.032290          kendall  \n",
       "average_temperature     0.033887  0.023630          kendall  \n",
       "position                0.006378  0.296542          kendall  \n",
       "cyclist_age             1.000000 -0.002685          kendall  \n",
       "delta                  -0.002685  1.000000          kendall  \n",
       "points                 -0.014525  0.005707          pearson  \n",
       "uci_points             -0.004159  0.018881          pearson  \n",
       "length                  0.003442  0.092850          pearson  \n",
       "climb_total             0.007315  0.371062          pearson  \n",
       "profile                 0.008635  0.360759          pearson  \n",
       "startlist_quality       0.039392  0.045315          pearson  \n",
       "average_temperature     0.040716  0.056668          pearson  \n",
       "position                0.011984  0.272020          pearson  \n",
       "cyclist_age             1.000000  0.000995          pearson  \n",
       "delta                   0.000995  1.000000          pearson  \n",
       "points                 -0.007194  0.091542         spearman  \n",
       "uci_points              0.010222  0.098352         spearman  \n",
       "length                 -0.003394  0.036094         spearman  \n",
       "climb_total             0.008018  0.515133         spearman  \n",
       "profile                 0.007414  0.547277         spearman  \n",
       "startlist_quality       0.048926  0.047456         spearman  \n",
       "average_temperature     0.048218  0.035127         spearman  \n",
       "position                0.008884  0.425427         spearman  \n",
       "cyclist_age             1.000000 -0.003843         spearman  \n",
       "delta                  -0.003843  1.000000         spearman  "
      ]
     },
     "metadata": {},
     "output_type": "display_data"
    }
   ],
   "source": [
    "normalized_dataset, normalization_scalers_dataset = center_and_scale(races_df)\n",
    "corr = correlations(normalized_dataset)\n",
    "corr"
   ]
  },
  {
   "cell_type": "code",
   "execution_count": null,
   "metadata": {},
   "outputs": [
    {
     "name": "stderr",
     "output_type": "stream",
     "text": [
      "/home/yuri/anaconda3/lib/python3.11/site-packages/seaborn/_oldcore.py:1498: FutureWarning: is_categorical_dtype is deprecated and will be removed in a future version. Use isinstance(dtype, CategoricalDtype) instead\n",
      "  if pd.api.types.is_categorical_dtype(vector):\n"
     ]
    },
    {
     "data": {
      "text/plain": [
       "<seaborn.axisgrid.FacetGrid at 0x7d1645f246d0>"
      ]
     },
     "metadata": {},
     "output_type": "display_data"
    },
    {
     "data": {
      "image/png": "[encoded data removed]",
      "text/plain": [
       "<Figure size 1200x400 with 6 Axes>"
      ]
     },
     "metadata": {},
     "output_type": "display_data"
    }
   ],
   "source": [
    "g = sns.FacetGrid(corr, col=\"correlation_type\", col_wrap=3, height=4)\n",
    "g.map_dataframe(lambda data, color: sns.heatmap(data[data.columns[:-1]]))"
   ]
  },
  {
   "cell_type": "markdown",
   "metadata": {},
   "source": [
    "Now let's talk a bit about cyclists."
   ]
  },
  {
   "cell_type": "code",
   "execution_count": null,
   "metadata": {},
   "outputs": [
    {
     "data": {
      "text/html": [
       "<div>\n",
       "<style scoped>\n",
       "    .dataframe tbody tr th:only-of-type {\n",
       "        vertical-align: middle;\n",
       "    }\n",
       "\n",
       "    .dataframe tbody tr th {\n",
       "        vertical-align: top;\n",
       "    }\n",
       "\n",
       "    .dataframe thead th {\n",
       "        text-align: right;\n",
       "    }\n",
       "</style>\n",
       "<table border=\"1\" class=\"dataframe\">\n",
       "  <thead>\n",
       "    <tr style=\"text-align: right;\">\n",
       "      <th></th>\n",
       "      <th>birth_year</th>\n",
       "      <th>weight</th>\n",
       "      <th>height</th>\n",
       "    </tr>\n",
       "  </thead>\n",
       "  <tbody>\n",
       "    <tr>\n",
       "      <th>mean</th>\n",
       "      <td>1974.071884</td>\n",
       "      <td>68.658739</td>\n",
       "      <td>179.815145</td>\n",
       "    </tr>\n",
       "    <tr>\n",
       "      <th>std</th>\n",
       "      <td>15.535834</td>\n",
       "      <td>6.348183</td>\n",
       "      <td>6.443447</td>\n",
       "    </tr>\n",
       "    <tr>\n",
       "      <th>min</th>\n",
       "      <td>1933.000000</td>\n",
       "      <td>48.000000</td>\n",
       "      <td>154.000000</td>\n",
       "    </tr>\n",
       "    <tr>\n",
       "      <th>25%</th>\n",
       "      <td>1962.000000</td>\n",
       "      <td>64.000000</td>\n",
       "      <td>175.000000</td>\n",
       "    </tr>\n",
       "    <tr>\n",
       "      <th>50%</th>\n",
       "      <td>1974.000000</td>\n",
       "      <td>69.000000</td>\n",
       "      <td>180.000000</td>\n",
       "    </tr>\n",
       "    <tr>\n",
       "      <th>75%</th>\n",
       "      <td>1987.000000</td>\n",
       "      <td>73.000000</td>\n",
       "      <td>184.000000</td>\n",
       "    </tr>\n",
       "    <tr>\n",
       "      <th>max</th>\n",
       "      <td>2004.000000</td>\n",
       "      <td>94.000000</td>\n",
       "      <td>204.000000</td>\n",
       "    </tr>\n",
       "  </tbody>\n",
       "</table>\n",
       "</div>"
      ],
      "text/plain": [
       "       birth_year     weight      height\n",
       "mean  1974.071884  68.658739  179.815145\n",
       "std     15.535834   6.348183    6.443447\n",
       "min   1933.000000  48.000000  154.000000\n",
       "25%   1962.000000  64.000000  175.000000\n",
       "50%   1974.000000  69.000000  180.000000\n",
       "75%   1987.000000  73.000000  184.000000\n",
       "max   2004.000000  94.000000  204.000000"
      ]
     },
     "metadata": {},
     "output_type": "display_data"
    }
   ],
   "source": [
    "cyclist_df.describe().drop('count')"
   ]
  },
  {
   "cell_type": "markdown",
   "metadata": {},
   "source": [
    "The mean weight is higher than the average World weight (62.0 kg). It is closer to Europe and Latin America averages (70.8 kg and 67.9 kg). (https://www.ncbi.nlm.nih.gov/pmc/articles/PMC3408371/). Let's see how the nationalities are distributed..."
   ]
  },
  {
   "cell_type": "code",
   "execution_count": null,
   "metadata": {},
   "outputs": [
    {
     "data": {
      "text/plain": [
       "nationality\n",
       "Italy                 1029\n",
       "Spain                  872\n",
       "Belgium                869\n",
       "France                 741\n",
       "Netherlands            380\n",
       "                      ... \n",
       "Hongkong                 1\n",
       "Greece                   1\n",
       "Dominican Republic       1\n",
       "Azerbaijan               1\n",
       "Zimbabwe                 1\n",
       "Length: 72, dtype: int64"
      ]
     },
     "metadata": {},
     "output_type": "display_data"
    }
   ],
   "source": [
    "# Count the number of occurrences of each nationality\n",
    "nationality_counts = dt_cyclists['nationality'].value_counts()\n",
    "\n",
    "# Sort the nationalities by the number of occurrences\n",
    "sorted_nationality_counts = nationality_counts.sort_values(ascending=False)\n",
    "\n",
    "\n",
    "# Display the sorted nationalities and their counts\n",
    "# Plot the sorted nationalities and their counts\n",
    "plt.figure(figsize=(12, 8))\n",
    "sorted_nationality_counts.plot(kind='bar')\n",
    "plt.title('Number of Athletes by Nationality')\n",
    "plt.xlabel('Nationality')\n",
    "plt.ylabel('Number of Athletes')\n",
    "plt.yscale('log')\n",
    "plt.yticks([1, 3, 10, 30, 100, 300, 1000], ['1', '3', '10', '30', '100', '300', '1000'])\n",
    "plt.grid(axis='y')\n",
    "plt.xticks(rotation=90)\n",
    "plt.show()"
   ]
  },
  {
   "cell_type": "markdown",
   "metadata": {},
   "source": [
    "Who would have thought! Surely, it must be a popular sport in Europe."
   ]
  },
  {
   "cell_type": "code",
   "execution_count": null,
   "metadata": {},
   "outputs": [
    {
     "data": {
      "image/png": "[encoded data removed]",
      "text/plain": [
       "<Figure size 1000x600 with 1 Axes>"
      ]
     },
     "metadata": {},
     "output_type": "display_data"
    }
   ],
   "source": [
    "#  We can filter by nationality\n",
    "selected_nationalities = ['Italy', \n",
    "                          'France', \n",
    "                          #'United States', \n",
    "                          'Russia'\n",
    "                          ]\n",
    "selected_nationalities = None\n",
    "show_legend = True if selected_nationalities else False\n",
    "\n",
    "# Drop rows with missing values in weight or height\n",
    "dt_cyclists_clean = cyclist_df.dropna(subset=['weight', 'height'])\n",
    "\n",
    "# Filter the data to include only the selected nationalities\n",
    "if selected_nationalities:\n",
    "    dt_cyclists_clean = dt_cyclists_clean[dt_cyclists_clean['nationality'].isin(selected_nationalities)]\n",
    "\n",
    "# Create the scatter plot\n",
    "plt.figure(figsize=(10, 6))\n",
    "sns.scatterplot(data=dt_cyclists_clean, x='weight', y='height', hue='nationality', palette='tab20', legend='full')\n",
    "plt.title('Height vs Weight Colored by Nationality')\n",
    "plt.xlabel('Weight (kg)')\n",
    "plt.ylabel('Height (cm)')\n",
    "plt.legend(title='Nationality', bbox_to_anchor=(1.05, 1), loc='upper left')\n",
    "if not show_legend:\n",
    "    plt.legend([],[], frameon=False)\n",
    "plt.show()\n"
   ]
  },
  {
   "cell_type": "markdown",
   "metadata": {},
   "source": [
    "In the above plot, different colors represent different nationalities. As we can see, it looks like an harlequin. <br>\n",
    "Let's see if a box plot of the height/weight ratio gives us some insights."
   ]
  },
  {
   "cell_type": "code",
   "execution_count": null,
   "metadata": {},
   "outputs": [
    {
     "ename": "",
     "evalue": "",
     "output_type": "error",
     "traceback": [
      "\u001b[1;31mRunning cells with 'hlt (Python 3.11.5)' requires the ipykernel package.\n",
      "\u001b[1;31mRun the following command to install 'ipykernel' into the Python environment. \n",
      "\u001b[1;31mCommand: 'conda install -n hlt ipykernel --update-deps --force-reinstall'"
     ]
    }
   ],
   "source": [
    "# Calculate the ratio between height and weight\n",
    "dt_cyclists_clean.loc[:, 'height_weight_ratio'] = dt_cyclists_clean['height'] / dt_cyclists_clean['weight']\n",
    "# Calculate the average height_weight_ratio for each nationality and sort\n",
    "avg_ratio_by_nationality = dt_cyclists_clean.groupby('nationality', observed=True)['height_weight_ratio'].mean().sort_values(ascending=False)\n",
    "\n",
    "# Sort the dataframe by avg_ratio_by_nationality index\n",
    "sorted_nationalities = avg_ratio_by_nationality.index\n",
    "dt_cyclists_clean.loc[:,'nationality'] = pd.Categorical(dt_cyclists_clean['nationality'], categories=sorted_nationalities, ordered=True)\n",
    "\n",
    "# Create the boxplot\n",
    "plt.figure(figsize=(12, 8))\n",
    "sns.boxplot(data=dt_cyclists_clean.sort_values('nationality'), x='nationality', y='height_weight_ratio')\n",
    "plt.title('Height to Weight Ratio by Nationality')\n",
    "plt.xlabel('Nationality')\n",
    "plt.ylabel('Height/Weight Ratio')\n",
    "plt.xticks(rotation=90)\n",
    "plt.show()"
   ]
  },
  {
   "cell_type": "markdown",
   "metadata": {},
   "source": [
    "We can see most nationalities having about the same distributions, while a few nationalities are a bit skewed towards higher/smaller ratios. Also, as we noted before, a lot of nationalities have just one cyclist representing them."
   ]
  },
  {
   "cell_type": "markdown",
   "metadata": {},
   "source": [
    "One last interesting thing we might see is when were people born."
   ]
  },
  {
   "cell_type": "code",
   "execution_count": null,
   "metadata": {},
   "outputs": [
    {
     "data": {
      "image/png": "[encoded data removed]",
      "text/plain": [
       "<Figure size 1200x800 with 1 Axes>"
      ]
     },
     "metadata": {},
     "output_type": "display_data"
    }
   ],
   "source": [
    "# Plot the distribution of birth years\n",
    "plt.figure(figsize=(12, 8))\n",
    "sns.histplot(dt_cyclists['birth_year'].dropna(), bins=30, kde=True)\n",
    "plt.title('Distribution of Birth Years of Athletes')\n",
    "plt.xlabel('Birth Year')\n",
    "plt.ylabel('Number of Athletes')\n",
    "plt.grid(axis='y')\n",
    "plt.show()"
   ]
  },
  {
   "cell_type": "markdown",
   "metadata": {},
   "source": [
    "This does not seem all that interesting. The shape of the histogram is what it is probably because of several reasons: The \"old\" athletes indicated were the ones still alive in the year span the dataset was considering (or maybe older data is quite more difficult and expensive to gather). A similar reasoning can be done for the \"young\" athletes. <br>\n",
    "This does not mean that cyclism was not popular for people born before 1940..."
   ]
  }
 ],
 "metadata": {
  "kernelspec": {
   "display_name": "hlt",
   "language": "python",
   "name": "python3"
  },
  "language_info": {
   "codemirror_mode": {
    "name": "ipython",
    "version": 3
   },
   "file_extension": ".py",
   "mimetype": "text/x-python",
   "name": "python",
   "nbconvert_exporter": "python",
   "pygments_lexer": "ipython3",
   "version": "3.11.5"
  }
 },
 "nbformat": 4,
 "nbformat_minor": 2
}
