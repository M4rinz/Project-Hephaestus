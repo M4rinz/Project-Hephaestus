{
 "cells": [
  {
   "cell_type": "markdown",
   "metadata": {},
   "source": [
    "# Data Understanding and Feature Engineering"
   ]
  },
  {
   "cell_type": "markdown",
   "metadata": {},
   "source": [
    "This Notebook ideally follows the `data_exploration` one."
   ]
  },
  {
   "cell_type": "markdown",
   "metadata": {},
   "source": [
    "## Autoreload\n",
    "\n",
    "Autoreload allows the notebook to dynamically load code: if we update some helper functions *outside* of the notebook, we do not need to reload the notebook."
   ]
  },
  {
   "cell_type": "code",
   "execution_count": 1,
   "metadata": {},
   "outputs": [],
   "source": [
    "%load_ext autoreload\n",
    "%autoreload 2"
   ]
  },
  {
   "cell_type": "markdown",
   "metadata": {},
   "source": [
    "## Imports"
   ]
  },
  {
   "cell_type": "code",
   "execution_count": 2,
   "metadata": {},
   "outputs": [],
   "source": [
    "# Uncomment the next line and install the package, in case you don't have it in your environment\n",
    "#%pip install procyclingstats"
   ]
  },
  {
   "cell_type": "code",
   "execution_count": 3,
   "metadata": {},
   "outputs": [],
   "source": [
    "import ast\n",
    "import matplotlib.pyplot as plt\n",
    "import numpy as np\n",
    "import os\n",
    "import pandas as pd\n",
    "import procyclingstats as pcs\n",
    "import re\n",
    "import seaborn as sns\n",
    "import sys\n",
    "\n",
    "\n",
    "\n",
    "sys.path.append('../dataset/')\n",
    "sys.path.append('../utility/')\n",
    "\n",
    "from utility.data_understanding import *"
   ]
  },
  {
   "cell_type": "markdown",
   "metadata": {},
   "source": [
    "In the `data_exploration` notebook we've assessed the quality of the data, also adressing some problems that were discovered."
   ]
  },
  {
   "cell_type": "markdown",
   "metadata": {},
   "source": [
    "### Dataframes"
   ]
  },
  {
   "cell_type": "markdown",
   "metadata": {},
   "source": [
    "Motivated by the \"imputation by scraping\", we decided to retrieve data from (procyclingstats)[https://www.procyclingstats.com/index.php], which is a trusted source of data on cyclism. <br>\n",
    "The `procyclingstats` notebook details the process of web scraping and data retrieval & augmentation."
   ]
  },
  {
   "cell_type": "code",
   "execution_count": 4,
   "metadata": {},
   "outputs": [],
   "source": [
    "cyclist_df = pd.read_csv(os.path.join('dataset','cyclists_new.csv'))\n",
    "races_df = pd.read_csv(os.path.join('dataset','races_new.csv'))"
   ]
  },
  {
   "cell_type": "markdown",
   "metadata": {},
   "source": [
    "The dataframes have to be preprocessed in order to be used"
   ]
  },
  {
   "cell_type": "code",
   "execution_count": 5,
   "metadata": {},
   "outputs": [],
   "source": [
    "cyclist_df = cyclist_df.drop(columns=['Unnamed: 0'], errors='ignore')\n",
    "cyclist_df['full_history'] = cyclist_df['full_history'].apply(ast.literal_eval)"
   ]
  },
  {
   "cell_type": "code",
   "execution_count": 6,
   "metadata": {},
   "outputs": [],
   "source": [
    "races_df = races_df.drop(columns=['Unnamed: 0'], errors='ignore')"
   ]
  },
  {
   "cell_type": "code",
   "execution_count": 7,
   "metadata": {},
   "outputs": [
    {
     "data": {
      "text/html": [
       "<div>\n",
       "<style scoped>\n",
       "    .dataframe tbody tr th:only-of-type {\n",
       "        vertical-align: middle;\n",
       "    }\n",
       "\n",
       "    .dataframe tbody tr th {\n",
       "        vertical-align: top;\n",
       "    }\n",
       "\n",
       "    .dataframe thead th {\n",
       "        text-align: right;\n",
       "    }\n",
       "</style>\n",
       "<table border=\"1\" class=\"dataframe\">\n",
       "  <thead>\n",
       "    <tr style=\"text-align: right;\">\n",
       "      <th></th>\n",
       "      <th>_url</th>\n",
       "      <th>name</th>\n",
       "      <th>birth_year</th>\n",
       "      <th>weight</th>\n",
       "      <th>height</th>\n",
       "      <th>nationality</th>\n",
       "      <th>points_total</th>\n",
       "      <th>tot_seasons_attended</th>\n",
       "      <th>full_history</th>\n",
       "    </tr>\n",
       "  </thead>\n",
       "  <tbody>\n",
       "    <tr>\n",
       "      <th>0</th>\n",
       "      <td>bruno-surra</td>\n",
       "      <td>Bruno Surra</td>\n",
       "      <td>1964.0</td>\n",
       "      <td>NaN</td>\n",
       "      <td>NaN</td>\n",
       "      <td>Italy</td>\n",
       "      <td>15.0</td>\n",
       "      <td>2</td>\n",
       "      <td>[{'season': 1989, 'points': 14.0, 'rank': 828}...</td>\n",
       "    </tr>\n",
       "    <tr>\n",
       "      <th>1</th>\n",
       "      <td>gerard-rue</td>\n",
       "      <td>Gérard Rué</td>\n",
       "      <td>1965.0</td>\n",
       "      <td>74.0</td>\n",
       "      <td>182.0</td>\n",
       "      <td>France</td>\n",
       "      <td>4717.0</td>\n",
       "      <td>11</td>\n",
       "      <td>[{'season': 1997, 'points': 164.0, 'rank': 257...</td>\n",
       "    </tr>\n",
       "    <tr>\n",
       "      <th>2</th>\n",
       "      <td>jan-maas</td>\n",
       "      <td>Jan Maas</td>\n",
       "      <td>1996.0</td>\n",
       "      <td>69.0</td>\n",
       "      <td>189.0</td>\n",
       "      <td>Netherlands</td>\n",
       "      <td>315.0</td>\n",
       "      <td>10</td>\n",
       "      <td>[{'season': 2024, 'points': 30.0, 'rank': 990}...</td>\n",
       "    </tr>\n",
       "    <tr>\n",
       "      <th>3</th>\n",
       "      <td>nathan-van-hooydonck</td>\n",
       "      <td>Nathan Van Hooydonck</td>\n",
       "      <td>1995.0</td>\n",
       "      <td>78.0</td>\n",
       "      <td>192.0</td>\n",
       "      <td>Belgium</td>\n",
       "      <td>953.0</td>\n",
       "      <td>9</td>\n",
       "      <td>[{'season': 2023, 'points': 298.0, 'rank': 218...</td>\n",
       "    </tr>\n",
       "    <tr>\n",
       "      <th>4</th>\n",
       "      <td>jose-felix-parra</td>\n",
       "      <td>José Félix Parra</td>\n",
       "      <td>1997.0</td>\n",
       "      <td>55.0</td>\n",
       "      <td>171.0</td>\n",
       "      <td>Spain</td>\n",
       "      <td>459.0</td>\n",
       "      <td>5</td>\n",
       "      <td>[{'season': 2024, 'points': 197.0, 'rank': 317...</td>\n",
       "    </tr>\n",
       "  </tbody>\n",
       "</table>\n",
       "</div>"
      ],
      "text/plain": [
       "                   _url                  name  birth_year  weight  height  \\\n",
       "0           bruno-surra           Bruno Surra      1964.0     NaN     NaN   \n",
       "1            gerard-rue            Gérard Rué      1965.0    74.0   182.0   \n",
       "2              jan-maas              Jan Maas      1996.0    69.0   189.0   \n",
       "3  nathan-van-hooydonck  Nathan Van Hooydonck      1995.0    78.0   192.0   \n",
       "4      jose-felix-parra      José Félix Parra      1997.0    55.0   171.0   \n",
       "\n",
       "   nationality  points_total  tot_seasons_attended  \\\n",
       "0        Italy          15.0                     2   \n",
       "1       France        4717.0                    11   \n",
       "2  Netherlands         315.0                    10   \n",
       "3      Belgium         953.0                     9   \n",
       "4        Spain         459.0                     5   \n",
       "\n",
       "                                        full_history  \n",
       "0  [{'season': 1989, 'points': 14.0, 'rank': 828}...  \n",
       "1  [{'season': 1997, 'points': 164.0, 'rank': 257...  \n",
       "2  [{'season': 2024, 'points': 30.0, 'rank': 990}...  \n",
       "3  [{'season': 2023, 'points': 298.0, 'rank': 218...  \n",
       "4  [{'season': 2024, 'points': 197.0, 'rank': 317...  "
      ]
     },
     "execution_count": 7,
     "metadata": {},
     "output_type": "execute_result"
    }
   ],
   "source": [
    "cyclist_df.head()"
   ]
  },
  {
   "cell_type": "code",
   "execution_count": 8,
   "metadata": {},
   "outputs": [
    {
     "data": {
      "text/html": [
       "<div>\n",
       "<style scoped>\n",
       "    .dataframe tbody tr th:only-of-type {\n",
       "        vertical-align: middle;\n",
       "    }\n",
       "\n",
       "    .dataframe tbody tr th {\n",
       "        vertical-align: top;\n",
       "    }\n",
       "\n",
       "    .dataframe thead th {\n",
       "        text-align: right;\n",
       "    }\n",
       "</style>\n",
       "<table border=\"1\" class=\"dataframe\">\n",
       "  <thead>\n",
       "    <tr style=\"text-align: right;\">\n",
       "      <th></th>\n",
       "      <th>_url</th>\n",
       "      <th>name</th>\n",
       "      <th>stage_type</th>\n",
       "      <th>points</th>\n",
       "      <th>uci_points</th>\n",
       "      <th>length</th>\n",
       "      <th>climb_total</th>\n",
       "      <th>profile</th>\n",
       "      <th>startlist_quality</th>\n",
       "      <th>average_temperature</th>\n",
       "      <th>date</th>\n",
       "      <th>position</th>\n",
       "      <th>cyclist</th>\n",
       "      <th>cyclist_age</th>\n",
       "      <th>is_tarmac</th>\n",
       "      <th>is_cobbled</th>\n",
       "      <th>is_gravel</th>\n",
       "      <th>cyclist_team</th>\n",
       "      <th>delta</th>\n",
       "    </tr>\n",
       "  </thead>\n",
       "  <tbody>\n",
       "    <tr>\n",
       "      <th>0</th>\n",
       "      <td>tour-de-france/1978/stage-6</td>\n",
       "      <td>Tour de France</td>\n",
       "      <td>RR</td>\n",
       "      <td>100.0</td>\n",
       "      <td>NaN</td>\n",
       "      <td>162000.0</td>\n",
       "      <td>1101.0</td>\n",
       "      <td>1.0</td>\n",
       "      <td>1241</td>\n",
       "      <td>NaN</td>\n",
       "      <td>1978-07-05 04:02:24</td>\n",
       "      <td>0</td>\n",
       "      <td>sean-kelly</td>\n",
       "      <td>22.0</td>\n",
       "      <td>True</td>\n",
       "      <td>False</td>\n",
       "      <td>False</td>\n",
       "      <td>team/flandria-velda-lano-1978</td>\n",
       "      <td>0.0</td>\n",
       "    </tr>\n",
       "    <tr>\n",
       "      <th>1</th>\n",
       "      <td>tour-de-france/1978/stage-6</td>\n",
       "      <td>Tour de France</td>\n",
       "      <td>RR</td>\n",
       "      <td>70.0</td>\n",
       "      <td>NaN</td>\n",
       "      <td>162000.0</td>\n",
       "      <td>1101.0</td>\n",
       "      <td>1.0</td>\n",
       "      <td>1241</td>\n",
       "      <td>NaN</td>\n",
       "      <td>1978-07-05 04:02:24</td>\n",
       "      <td>1</td>\n",
       "      <td>gerrie-knetemann</td>\n",
       "      <td>27.0</td>\n",
       "      <td>True</td>\n",
       "      <td>False</td>\n",
       "      <td>False</td>\n",
       "      <td>team/ti-raleigh-mc-gregor-1978</td>\n",
       "      <td>0.0</td>\n",
       "    </tr>\n",
       "    <tr>\n",
       "      <th>2</th>\n",
       "      <td>tour-de-france/1978/stage-6</td>\n",
       "      <td>Tour de France</td>\n",
       "      <td>RR</td>\n",
       "      <td>50.0</td>\n",
       "      <td>NaN</td>\n",
       "      <td>162000.0</td>\n",
       "      <td>1101.0</td>\n",
       "      <td>1.0</td>\n",
       "      <td>1241</td>\n",
       "      <td>NaN</td>\n",
       "      <td>1978-07-05 04:02:24</td>\n",
       "      <td>2</td>\n",
       "      <td>rene-bittinger</td>\n",
       "      <td>24.0</td>\n",
       "      <td>True</td>\n",
       "      <td>False</td>\n",
       "      <td>False</td>\n",
       "      <td>team/flandria-velda-lano-1978</td>\n",
       "      <td>0.0</td>\n",
       "    </tr>\n",
       "    <tr>\n",
       "      <th>3</th>\n",
       "      <td>tour-de-france/1978/stage-6</td>\n",
       "      <td>Tour de France</td>\n",
       "      <td>RR</td>\n",
       "      <td>40.0</td>\n",
       "      <td>NaN</td>\n",
       "      <td>162000.0</td>\n",
       "      <td>1101.0</td>\n",
       "      <td>1.0</td>\n",
       "      <td>1241</td>\n",
       "      <td>NaN</td>\n",
       "      <td>1978-07-05 04:02:24</td>\n",
       "      <td>3</td>\n",
       "      <td>joseph-bruyere</td>\n",
       "      <td>30.0</td>\n",
       "      <td>True</td>\n",
       "      <td>False</td>\n",
       "      <td>False</td>\n",
       "      <td>team/c-a-1978</td>\n",
       "      <td>0.0</td>\n",
       "    </tr>\n",
       "    <tr>\n",
       "      <th>4</th>\n",
       "      <td>tour-de-france/1978/stage-6</td>\n",
       "      <td>Tour de France</td>\n",
       "      <td>RR</td>\n",
       "      <td>32.0</td>\n",
       "      <td>NaN</td>\n",
       "      <td>162000.0</td>\n",
       "      <td>1101.0</td>\n",
       "      <td>1.0</td>\n",
       "      <td>1241</td>\n",
       "      <td>NaN</td>\n",
       "      <td>1978-07-05 04:02:24</td>\n",
       "      <td>4</td>\n",
       "      <td>sven-ake-nilsson</td>\n",
       "      <td>27.0</td>\n",
       "      <td>True</td>\n",
       "      <td>False</td>\n",
       "      <td>False</td>\n",
       "      <td>team/miko-mercier-1978</td>\n",
       "      <td>0.0</td>\n",
       "    </tr>\n",
       "  </tbody>\n",
       "</table>\n",
       "</div>"
      ],
      "text/plain": [
       "                          _url            name stage_type  points  uci_points  \\\n",
       "0  tour-de-france/1978/stage-6  Tour de France         RR   100.0         NaN   \n",
       "1  tour-de-france/1978/stage-6  Tour de France         RR    70.0         NaN   \n",
       "2  tour-de-france/1978/stage-6  Tour de France         RR    50.0         NaN   \n",
       "3  tour-de-france/1978/stage-6  Tour de France         RR    40.0         NaN   \n",
       "4  tour-de-france/1978/stage-6  Tour de France         RR    32.0         NaN   \n",
       "\n",
       "     length  climb_total  profile  startlist_quality  average_temperature  \\\n",
       "0  162000.0       1101.0      1.0               1241                  NaN   \n",
       "1  162000.0       1101.0      1.0               1241                  NaN   \n",
       "2  162000.0       1101.0      1.0               1241                  NaN   \n",
       "3  162000.0       1101.0      1.0               1241                  NaN   \n",
       "4  162000.0       1101.0      1.0               1241                  NaN   \n",
       "\n",
       "                  date  position           cyclist  cyclist_age  is_tarmac  \\\n",
       "0  1978-07-05 04:02:24         0        sean-kelly         22.0       True   \n",
       "1  1978-07-05 04:02:24         1  gerrie-knetemann         27.0       True   \n",
       "2  1978-07-05 04:02:24         2    rene-bittinger         24.0       True   \n",
       "3  1978-07-05 04:02:24         3    joseph-bruyere         30.0       True   \n",
       "4  1978-07-05 04:02:24         4  sven-ake-nilsson         27.0       True   \n",
       "\n",
       "   is_cobbled  is_gravel                    cyclist_team  delta  \n",
       "0       False      False   team/flandria-velda-lano-1978    0.0  \n",
       "1       False      False  team/ti-raleigh-mc-gregor-1978    0.0  \n",
       "2       False      False   team/flandria-velda-lano-1978    0.0  \n",
       "3       False      False                   team/c-a-1978    0.0  \n",
       "4       False      False          team/miko-mercier-1978    0.0  "
      ]
     },
     "execution_count": 8,
     "metadata": {},
     "output_type": "execute_result"
    }
   ],
   "source": [
    "races_df.head()"
   ]
  },
  {
   "cell_type": "markdown",
   "metadata": {},
   "source": [
    "## Added features"
   ]
  },
  {
   "cell_type": "markdown",
   "metadata": {},
   "source": [
    "Let's discuss feature augmentation and feature engineering"
   ]
  },
  {
   "cell_type": "markdown",
   "metadata": {},
   "source": [
    "### Added features (scraping)"
   ]
  },
  {
   "cell_type": "markdown",
   "metadata": {},
   "source": [
    "We decided to add the following features, obtained by scraping the website:\n",
    "\n",
    "For the `cyclists` dataset:\n",
    "- `full_history`: the rider’s points per season history, obtained by reading the *PCS Ranking position per season* table \n",
    "- `points_total`: the rider's points accumulated throughout his career, obtained by summing the values in the aforementioned table\n",
    "- `tot_season_attended`: the number of seasons ran by the cyclist\n",
    "We decided not to use these features for now, because the data they contain comes from many cyclism disciplines, whereas the data at our disposal only includes road races.\n",
    "\n",
    "For the `races` dataset:\n",
    "- `stage_type`: can be RR (Road Race), ITT (Individual Time Trial), TTT (Team Time Trial). Obtained from the stage's webpage"
   ]
  },
  {
   "cell_type": "markdown",
   "metadata": {},
   "source": [
    "The following changes were made, w.r.t. the original `races` dataset:\n",
    "- The column `name` now has a unique identifier for each race. Races with identical `_url` prefix are the same race, but in the original dataset they might have been referred with multiple names\n",
    "- The values in the `points` and `uci_points` column  are now those coming from the website. In the original dataset the (UCI) points were those of the first runner-up \n",
    "- The values in the `cyclist_team` column are now those coming from the website. "
   ]
  },
  {
   "cell_type": "code",
   "execution_count": 9,
   "metadata": {},
   "outputs": [
    {
     "data": {
      "text/html": [
       "<div>\n",
       "<style scoped>\n",
       "    .dataframe tbody tr th:only-of-type {\n",
       "        vertical-align: middle;\n",
       "    }\n",
       "\n",
       "    .dataframe tbody tr th {\n",
       "        vertical-align: top;\n",
       "    }\n",
       "\n",
       "    .dataframe thead th {\n",
       "        text-align: right;\n",
       "    }\n",
       "</style>\n",
       "<table border=\"1\" class=\"dataframe\">\n",
       "  <thead>\n",
       "    <tr style=\"text-align: right;\">\n",
       "      <th></th>\n",
       "      <th>_url</th>\n",
       "      <th>name</th>\n",
       "      <th>birth_year</th>\n",
       "      <th>weight</th>\n",
       "      <th>height</th>\n",
       "      <th>nationality</th>\n",
       "    </tr>\n",
       "  </thead>\n",
       "  <tbody>\n",
       "    <tr>\n",
       "      <th>0</th>\n",
       "      <td>bruno-surra</td>\n",
       "      <td>Bruno Surra</td>\n",
       "      <td>1964.0</td>\n",
       "      <td>NaN</td>\n",
       "      <td>NaN</td>\n",
       "      <td>Italy</td>\n",
       "    </tr>\n",
       "    <tr>\n",
       "      <th>1</th>\n",
       "      <td>gerard-rue</td>\n",
       "      <td>Gérard Rué</td>\n",
       "      <td>1965.0</td>\n",
       "      <td>74.0</td>\n",
       "      <td>182.0</td>\n",
       "      <td>France</td>\n",
       "    </tr>\n",
       "    <tr>\n",
       "      <th>2</th>\n",
       "      <td>jan-maas</td>\n",
       "      <td>Jan Maas</td>\n",
       "      <td>1996.0</td>\n",
       "      <td>69.0</td>\n",
       "      <td>189.0</td>\n",
       "      <td>Netherlands</td>\n",
       "    </tr>\n",
       "    <tr>\n",
       "      <th>3</th>\n",
       "      <td>nathan-van-hooydonck</td>\n",
       "      <td>Nathan Van Hooydonck</td>\n",
       "      <td>1995.0</td>\n",
       "      <td>78.0</td>\n",
       "      <td>192.0</td>\n",
       "      <td>Belgium</td>\n",
       "    </tr>\n",
       "    <tr>\n",
       "      <th>4</th>\n",
       "      <td>jose-felix-parra</td>\n",
       "      <td>José Félix Parra</td>\n",
       "      <td>1997.0</td>\n",
       "      <td>55.0</td>\n",
       "      <td>171.0</td>\n",
       "      <td>Spain</td>\n",
       "    </tr>\n",
       "  </tbody>\n",
       "</table>\n",
       "</div>"
      ],
      "text/plain": [
       "                   _url                  name  birth_year  weight  height  \\\n",
       "0           bruno-surra           Bruno Surra      1964.0     NaN     NaN   \n",
       "1            gerard-rue            Gérard Rué      1965.0    74.0   182.0   \n",
       "2              jan-maas              Jan Maas      1996.0    69.0   189.0   \n",
       "3  nathan-van-hooydonck  Nathan Van Hooydonck      1995.0    78.0   192.0   \n",
       "4      jose-felix-parra      José Félix Parra      1997.0    55.0   171.0   \n",
       "\n",
       "   nationality  \n",
       "0        Italy  \n",
       "1       France  \n",
       "2  Netherlands  \n",
       "3      Belgium  \n",
       "4        Spain  "
      ]
     },
     "execution_count": 9,
     "metadata": {},
     "output_type": "execute_result"
    }
   ],
   "source": [
    "cyclist_df = cyclist_df.drop(columns=['points_total', 'tot_seasons_attended','full_history'], errors='ignore')\n",
    "cyclist_df.head()"
   ]
  },
  {
   "cell_type": "markdown",
   "metadata": {},
   "source": [
    "### Other added features (races)"
   ]
  },
  {
   "cell_type": "markdown",
   "metadata": {},
   "source": [
    "By comparing the values with the website, we noticed that the `date` column includes the date of the competition and the time the cyclist took to complete the race. So we disentangle such values."
   ]
  },
  {
   "cell_type": "code",
   "execution_count": 10,
   "metadata": {},
   "outputs": [],
   "source": [
    "races_df['time'] = races_df['date'].apply(lambda string: string.split(' ')[1])\n",
    "races_df['date'] = races_df['date'].apply(lambda string: string.split(' ')[0])"
   ]
  },
  {
   "cell_type": "markdown",
   "metadata": {},
   "source": [
    "Another feature is the ratio between the vertical meters and the length of the stage, in percentage. This is a \"climb density\", or steepness."
   ]
  },
  {
   "cell_type": "code",
   "execution_count": 11,
   "metadata": {},
   "outputs": [],
   "source": [
    "races_df['steepness'] = 100*races_df['climb_total']/races_df['length']"
   ]
  },
  {
   "cell_type": "markdown",
   "metadata": {},
   "source": [
    "We also add the season in which a race is ran, by looking at the date."
   ]
  },
  {
   "cell_type": "code",
   "execution_count": 12,
   "metadata": {},
   "outputs": [],
   "source": [
    "# 0: winter, 1: spring, 2: summer, 3: fall\n",
    "races_df['season'] = races_df['date'].apply(lambda data: (int(data.split('-')[1])//3)%4)"
   ]
  },
  {
   "cell_type": "markdown",
   "metadata": {},
   "source": [
    "**TODO** Le gare hanno un certo ordine! Sarebbe figo trovarlo..."
   ]
  },
  {
   "cell_type": "markdown",
   "metadata": {},
   "source": [
    "Some competitions are composed of multiple stages, each of which is ran in a different day. One example of this is the Giro d'Italia. Some other are ran in a single stage (that takes a single day), one example being the Ronde van Vlaanedren."
   ]
  },
  {
   "cell_type": "code",
   "execution_count": 13,
   "metadata": {},
   "outputs": [],
   "source": [
    "races_df['is_staged'] = races_df['_url'].apply(lambda race_url: bool(re.match(r\"[a-z0-9-]+/\\d{4}/(prologue|stage-\\d)\",race_url)))"
   ]
  },
  {
   "cell_type": "code",
   "execution_count": 14,
   "metadata": {},
   "outputs": [
    {
     "name": "stdout",
     "output_type": "stream",
     "text": [
      "Non-staged races: ['amstel-gold-race' 'dwars-door-vlaanderen' 'e3-harelbeke' 'gp-montreal'\n",
      " 'gp-quebec' 'il-lombardia' 'la-fleche-wallone' 'liege-bastogne-liege'\n",
      " 'milano-sanremo' 'omloop-het-nieuwsblad' 'paris-roubaix'\n",
      " 'ronde-van-vlaanderen' 'san-sebastian' 'strade-bianche'\n",
      " 'world-championship']\n",
      "\n",
      "Staged races: ['dauphine' 'giro-d-italia' 'gran-camino' 'itzulia-basque-country'\n",
      " 'paris-nice' 'tirreno-adriatico' 'tour-de-france' 'tour-de-romandie'\n",
      " 'tour-de-suisse' 'uae-tour' 'volta-a-catalunya' 'vuelta-a-espana']\n"
     ]
    }
   ],
   "source": [
    "gare_non_tappe = np.unique([gara.split('/')[0] for gara in races_df.loc[races_df['is_staged'] == False,'_url'].unique()])\n",
    "gare_tappe = np.unique([gara.split('/')[0] for gara in races_df.loc[races_df['is_staged'],'_url'].unique()])\n",
    "\n",
    "print(f\"Non-staged races: {gare_non_tappe}\")\n",
    "print()\n",
    "print(f\"Staged races: {gare_tappe}\")"
   ]
  },
  {
   "cell_type": "markdown",
   "metadata": {},
   "source": [
    "Some competitions take place in the same location each year, while others change location each year."
   ]
  },
  {
   "cell_type": "code",
   "execution_count": 15,
   "metadata": {},
   "outputs": [],
   "source": [
    "# Mmm I don't know how to do this... Domain knowledge?"
   ]
  },
  {
   "cell_type": "markdown",
   "metadata": {},
   "source": [
    "Another trivial yet interesting feature is the country in which the competition is held. It's domain knowledge, summarized in the following dictionary.\n",
    "\n",
    "**OSS**: This dictionary, and the following cells that create the `race_country` column, use the values of the `name` column in the `races_new.csv` file! "
   ]
  },
  {
   "cell_type": "code",
   "execution_count": 26,
   "metadata": {},
   "outputs": [],
   "source": [
    "# For this dictionary I use the names in the races_new.csv format!\n",
    "country_competition_dict = {\n",
    "    'France' : ['Tour de France', \n",
    "                'Paris - Nice',\n",
    "                'Criterium du Dauphiné',\n",
    "                'Paris - Roubaix'],\n",
    "    'Spain' : ['La Vuelta ciclista a España',\n",
    "                'Volta Ciclista a Catalunya',\n",
    "                'Gran Camiño',\n",
    "                'Itzulia Basque Country',\n",
    "                'Clasica Ciclista San Sebastian'],\n",
    "    'Italy' : ['Tirreno-Adriatico', \n",
    "               'Milano-Sanremo',\n",
    "               \"Giro d'Italia\",\n",
    "               'Monte Paschi Eroica', \n",
    "               'Giro di Lombardia'],\n",
    "    'Belgium' : ['Ronde van Vlaanderen - Tour des Flandres ME',\n",
    "                 'La Flèche Wallonne',\n",
    "                 'E3 BinckBank Classic',\n",
    "                 'Liège - Bastogne - Liège',\n",
    "                 'Dwars door België / À travers la Belgique',\n",
    "                 'Omloop Het Nieuwsblad ME'\n",
    "                 ],\n",
    "    'Netherlands' :['Amstel Gold Race'],\n",
    "    'Switzerland' : ['Tour de Suisse',\n",
    "                     'Tour de Romandie'],\n",
    "    'UAE' : ['UAE Tour'],\n",
    "    'Canada' : ['Grand Prix Cycliste de Quebec', \n",
    "                'Grand Prix Cycliste de Montréal']\n",
    "    # 'World Championships - Road Race' doesn't take place in a fixed country\n",
    "}"
   ]
  },
  {
   "cell_type": "code",
   "execution_count": 21,
   "metadata": {},
   "outputs": [],
   "source": [
    "def coutry_returner(race_name:str,\n",
    "        countries_races_dict:dict[str,list[str]] = country_competition_dict) -> str:\n",
    "    for country, names_list in countries_races_dict.items():\n",
    "        if race_name in names_list:\n",
    "            return country\n",
    "    return np.nan\n",
    "\n",
    "races_df['race_country'] = races_df['name'].apply(coutry_returner)"
   ]
  },
  {
   "cell_type": "markdown",
   "metadata": {},
   "source": [
    "Now, we'll try to infer some value regarding the performance of each individual cyclist at a given age. \n",
    "We try to compute an age performance index: it will assign greater values based on the points and the oldness of the cyclist at a given race."
   ]
  },
  {
   "cell_type": "code",
   "execution_count": null,
   "metadata": {},
   "outputs": [],
   "source": [
    "# First, we normalize the scores\n",
    "races_df['norm_points'] = races_df.groupby('race_id')['points'].transform(\n",
    "    lambda x: (x - x.mean()) / x.std()\n",
    ")\n",
    "# Then, we multiply by age\n",
    "races_df['age_performance_index'] = races_df['norm_points'] * races_df['cyclist_age']"
   ]
  },
  {
   "cell_type": "markdown",
   "metadata": {},
   "source": [
    "Now, we are going to do the same process for the `startlist_quality`. By engineering this feature, we may infer a set of points to assign to each race that is more nuanced towards the expertise of the cyclists that will participate in it."
   ]
  },
  {
   "cell_type": "code",
   "execution_count": null,
   "metadata": {},
   "outputs": [],
   "source": [
    "races_df['quality_adjusted_points'] = races_df['norm_points'] * races_df['startlist_quality']"
   ]
  },
  {
   "cell_type": "markdown",
   "metadata": {},
   "source": [
    "Now we'll define a feature to better determine a stamina indicator for each race. We want to take into account any factor that might indicate the need of a better stamina."
   ]
  },
  {
   "cell_type": "code",
   "execution_count": null,
   "metadata": {},
   "outputs": [],
   "source": [
    "races_df['normalized_length'] = races_df['length'] / races_df['length'].max()\n",
    "races_df['normalized_quality'] = races_df['startlist_quality'] / races_df['startlist_quality'].max()\n",
    "races_df['normalized_steepness'] = races_df['steepness'] / races_df['steepness'].max()\n",
    "races_df['profile_adjustment'] = (races_df['profile'] - 1) / 3\n",
    "# if we manage to impute temperature would be great to have it normalized and used here. Maybe normalization should be over a bimodal? Higher on the extremes?\n",
    "# races_df['temperature_impact'] = (races_df['average_temperature'] - 20)**2 / 100 # 20 is the ideal temperature, 100 is 10^2, defines how sensitive the model is to deviations\n",
    "\n",
    "# Apply weights based on factor importance for stamina\n",
    "races_df['stamina_index'] = (\n",
    "    races_df['normalized_length'] * 0.25 +\n",
    "    races_df['normalized_quality'] * 0.25 +\n",
    "    races_df['normalized_steepness'] * 0.25 +\n",
    "    races_df['profile_adjustment'] * 0.25\n",
    "    # + races_df['temperature_impact'] * 0.25\n",
    ")\n"
   ]
  },
  {
   "cell_type": "markdown",
   "metadata": {},
   "source": [
    "### Other added features (cyclists)"
   ]
  },
  {
   "cell_type": "markdown",
   "metadata": {},
   "source": [
    "We add the BMI (body Mass Index) of each cyclist: the ratio between the weight (kilograms) and the height in square meters."
   ]
  },
  {
   "cell_type": "code",
   "execution_count": null,
   "metadata": {},
   "outputs": [],
   "source": [
    "cyclist_df['bmi'] = cyclist_df['weight']/np.square(cyclist_df['height']/100)"
   ]
  },
  {
   "cell_type": "markdown",
   "metadata": {},
   "source": [
    "Now, let's try to infer an experience level for the cyclists. We should take into account everything, but to have a relaxed yet probably closer-to-the-truth model we'll only take into account the races that the cyclists ran into."
   ]
  },
  {
   "cell_type": "code",
   "execution_count": null,
   "metadata": {},
   "outputs": [],
   "source": [
    "race_count = races_df.groupby('cyclist')['_url'].count()\n",
    "\n",
    "race_count_df = pd.DataFrame({'_url': race_count.index, 'race_count': race_count.values})\n",
    "cyclist_df = cyclist_df.merge(right=race_count_df, how='left', on='_url')\n",
    "cyclist_df['race_count'] = cyclist_df['race_count'].replace(np.nan, 0)\n",
    "\n",
    "# now with all of our complete, total, absolute domain knowledge we can define the experience levels\n",
    "experience_levels = ['beginner', 'developing', 'competitive', 'semi-pro', 'pro']\n",
    "bins = [0, 15, 50, 100, 200, float('inf')]\n",
    "\n",
    "cyclist_df['experience_level'] = pd.cut(cyclist_df['race_count'], bins=bins, labels=experience_levels, right=False)"
   ]
  },
  {
   "cell_type": "markdown",
   "metadata": {},
   "source": [
    "## Studying the (added?) features"
   ]
  },
  {
   "cell_type": "markdown",
   "metadata": {},
   "source": [
    "Let's do some data understanding with (also) the new features that we discovered!"
   ]
  },
  {
   "cell_type": "markdown",
   "metadata": {},
   "source": [
    "### `length` vs `stage_type`"
   ]
  },
  {
   "cell_type": "markdown",
   "metadata": {},
   "source": [
    "Thanks to the domain experts (prof. Setzu) we know that a stage can simply be a road race (RR) or can be a individual time trial (ITT) stage. Furthermore:\n",
    "- All staged races (e.g. Tour de France) have at least one stage that is ITT\n",
    "- A ITT differs from a RR for the fact that in the latter all cyclists start at the same time all together, while in a ITT the cyclists start cycling one after the other\n",
    "- Typically ITTs are shorter"
   ]
  },
  {
   "cell_type": "markdown",
   "metadata": {},
   "source": [
    "Let's try to see how the `stage_type` compares with the `delta`"
   ]
  },
  {
   "cell_type": "code",
   "execution_count": 41,
   "metadata": {},
   "outputs": [
    {
     "data": {
      "image/png": "[encoded data removed]",
      "text/plain": [
       "<Figure size 1500x500 with 2 Axes>"
      ]
     },
     "metadata": {},
     "output_type": "display_data"
    }
   ],
   "source": [
    "fig, ax = plt.subplots(1,2, figsize=(15,5))\n",
    "fig.suptitle('Length values vs. stage type', fontsize=18, fontweight='bold')\n",
    "\n",
    "\n",
    "sns.histplot(races_df.loc[races_df['stage_type'] == 'RR', 'length'], bins=60, kde=False, color='orange', alpha=0.7, label='Road Races', ax=ax[0])\n",
    "rr_quartiles = races_df.loc[races_df['stage_type'] == 'RR', 'length'].quantile([0.25, 0.5, 0.75])\n",
    "\n",
    "sns.histplot(races_df.loc[races_df['stage_type'] == 'ITT', 'length'], bins=20, kde=False, color='teal', alpha=0.7, label='Individual Time Trials', ax=ax[0])\n",
    "itt_quartiles = races_df.loc[races_df['stage_type'] == 'ITT', 'length'].quantile([0.25, 0.5, 0.75])\n",
    "\n",
    "# Add vertical lines for Road Races quartiles\n",
    "for q in rr_quartiles:\n",
    "    ax[0].axvline(q, linestyle='--', color=(220/255,170/255,80/255), alpha=0.9)\n",
    "\n",
    "# Add vertical lines for Individual Time Trials quartiles\n",
    "for q in itt_quartiles:\n",
    "    ax[0].axvline(q, linestyle='--', color=(65/255,145/255,145/255), alpha=0.9)\n",
    "    \n",
    "ax[0].set_title('Distribution of length values for different stage types', fontsize=14)\n",
    "ax[0].set_xlabel('Length')\n",
    "ax[0].set_ylabel('Frequency')\n",
    "ax[0].set_yscale('log')\n",
    "ax[0].legend()\n",
    "\n",
    "sns.boxplot(data=races_df, x='stage_type', y='length', ax=ax[1])\n",
    "ax[1].set_title('Boxplot of length values for different stage types', fontsize=14)\n",
    "ax[1].set_xlabel('Stage Type')\n",
    "ax[1].set_ylabel('Length')\n",
    "\n",
    "\n",
    "\n",
    "plt.tight_layout()\n",
    "plt.show()"
   ]
  },
  {
   "cell_type": "markdown",
   "metadata": {},
   "source": [
    "As we can see, the two distributions are very well separated visually, but there is some overlap, because there are short road races."
   ]
  },
  {
   "cell_type": "code",
   "execution_count": null,
   "metadata": {},
   "outputs": [
    {
     "data": {
      "text/plain": [
       "array(['Volta Ciclista a Catalunya', 'La Vuelta ciclista a España',\n",
       "       'Tour de Romandie', 'Tour de Suisse', 'Paris - Nice',\n",
       "       \"Giro d'Italia\", 'Tour de France', 'Tirreno-Adriatico',\n",
       "       'Criterium du Dauphiné', 'Itzulia Basque Country'], dtype=object)"
      ]
     },
     "execution_count": 22,
     "metadata": {},
     "output_type": "execute_result"
    }
   ],
   "source": [
    "# Not the best... To review... To do better... Maybe with the name_stage feature?\n",
    "races_df.loc[(races_df['length'] < 100000) & (races_df['stage_type'] == 'RR'), 'name'].unique()"
   ]
  },
  {
   "cell_type": "code",
   "execution_count": 29,
   "metadata": {},
   "outputs": [
    {
     "data": {
      "text/html": [
       "<div>\n",
       "<style scoped>\n",
       "    .dataframe tbody tr th:only-of-type {\n",
       "        vertical-align: middle;\n",
       "    }\n",
       "\n",
       "    .dataframe tbody tr th {\n",
       "        vertical-align: top;\n",
       "    }\n",
       "\n",
       "    .dataframe thead th {\n",
       "        text-align: right;\n",
       "    }\n",
       "</style>\n",
       "<table border=\"1\" class=\"dataframe\">\n",
       "  <thead>\n",
       "    <tr style=\"text-align: right;\">\n",
       "      <th></th>\n",
       "      <th>count</th>\n",
       "      <th>mean</th>\n",
       "      <th>std</th>\n",
       "      <th>min</th>\n",
       "      <th>25%</th>\n",
       "      <th>50%</th>\n",
       "      <th>75%</th>\n",
       "      <th>max</th>\n",
       "    </tr>\n",
       "    <tr>\n",
       "      <th>stage_type</th>\n",
       "      <th></th>\n",
       "      <th></th>\n",
       "      <th></th>\n",
       "      <th></th>\n",
       "      <th></th>\n",
       "      <th></th>\n",
       "      <th></th>\n",
       "      <th></th>\n",
       "    </tr>\n",
       "  </thead>\n",
       "  <tbody>\n",
       "    <tr>\n",
       "      <th>ITT</th>\n",
       "      <td>55804.0</td>\n",
       "      <td>29722.894058</td>\n",
       "      <td>16881.897400</td>\n",
       "      <td>3600.0</td>\n",
       "      <td>15100.0</td>\n",
       "      <td>28000.0</td>\n",
       "      <td>41200.0</td>\n",
       "      <td>87500.0</td>\n",
       "    </tr>\n",
       "    <tr>\n",
       "      <th>RR</th>\n",
       "      <td>549036.0</td>\n",
       "      <td>180734.526661</td>\n",
       "      <td>49672.396774</td>\n",
       "      <td>1000.0</td>\n",
       "      <td>161500.0</td>\n",
       "      <td>182900.0</td>\n",
       "      <td>206000.0</td>\n",
       "      <td>338000.0</td>\n",
       "    </tr>\n",
       "  </tbody>\n",
       "</table>\n",
       "</div>"
      ],
      "text/plain": [
       "               count           mean           std     min       25%       50%  \\\n",
       "stage_type                                                                      \n",
       "ITT          55804.0   29722.894058  16881.897400  3600.0   15100.0   28000.0   \n",
       "RR          549036.0  180734.526661  49672.396774  1000.0  161500.0  182900.0   \n",
       "\n",
       "                 75%       max  \n",
       "stage_type                      \n",
       "ITT          41200.0   87500.0  \n",
       "RR          206000.0  338000.0  "
      ]
     },
     "execution_count": 29,
     "metadata": {},
     "output_type": "execute_result"
    }
   ],
   "source": [
    "races_df.groupby('stage_type')['length'].describe()"
   ]
  },
  {
   "cell_type": "markdown",
   "metadata": {},
   "source": [
    "As we can see, `RR` is the majority class. \n",
    "\n",
    "The average length of a `ITT` is 29,7 Km, very close to the median, that is 28 Km. <br>\n",
    "The average length of a `RR` is 180 Km, very close to the median, that is 183 Km.\n",
    "\n",
    "We can notice that all the mass of the `ITT`'s length distribution is before the first quartile of the `RR`'s length distribution. "
   ]
  },
  {
   "cell_type": "markdown",
   "metadata": {},
   "source": [
    "**TODO**: Correlation? O qualcosa di simile? Dovrei studiarlo..."
   ]
  },
  {
   "cell_type": "code",
   "execution_count": 42,
   "metadata": {},
   "outputs": [],
   "source": [
    "# Qui ci mettiamo la correlazione o qualcosa del genere."
   ]
  },
  {
   "cell_type": "markdown",
   "metadata": {},
   "source": [
    "All in all, `length` is an excellent predictor of `stage_type`, but not a perfect one. It's ok to have the ground truth."
   ]
  },
  {
   "cell_type": "markdown",
   "metadata": {},
   "source": []
  }
 ],
 "metadata": {
  "kernelspec": {
   "display_name": "DM-env",
   "language": "python",
   "name": "python3"
  },
  "language_info": {
   "codemirror_mode": {
    "name": "ipython",
    "version": 3
   },
   "file_extension": ".py",
   "mimetype": "text/x-python",
   "name": "python",
   "nbconvert_exporter": "python",
   "pygments_lexer": "ipython3",
   "version": "3.12.6"
  }
 },
 "nbformat": 4,
 "nbformat_minor": 2
}
